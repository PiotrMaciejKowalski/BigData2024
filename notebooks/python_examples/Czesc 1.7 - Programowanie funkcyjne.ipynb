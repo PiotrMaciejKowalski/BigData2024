{
 "cells": [
  {
   "cell_type": "markdown",
   "metadata": {},
   "source": [
    "# Programowanie a analiza danych\n",
    "\n",
    "Umiejętności programowania są nieodzowne we współczesnej analizie danych. W zasadzie to mógłby być koniec tej wypowiedzi, bo jest to fakt z którym niewiele osób byłoby w stanie wejść w choćby polemikę.\n",
    "\n",
    "Dobre umiejętności z zakresu programowania są w stanie usprawnić analizowanie danych. I dlatego chce dzisiaj opowiedzieć co nie co sposobach programowania.\n",
    "\n",
    "## Co język to to samo\n",
    "\n",
    "Złośliwi na rekrutacji mówią, że naprawdę uczymy się tylko jednego języka programowania - pozostałe już głównie kopiujemy. Złośliwi by powiedzieli że w programowaniu są tak naprawdę tylko 4 akcje\n",
    "\n",
    "Tworzenie zmiennych i przenoszenie wartości\n"
   ]
  },
  {
   "cell_type": "code",
   "execution_count": 1,
   "metadata": {},
   "outputs": [],
   "source": [
    "a : int = 7"
   ]
  },
  {
   "cell_type": "code",
   "execution_count": 2,
   "metadata": {},
   "outputs": [
    {
     "data": {
      "text/plain": [
       "7"
      ]
     },
     "execution_count": 2,
     "metadata": {},
     "output_type": "execute_result"
    }
   ],
   "source": [
    "a"
   ]
  },
  {
   "cell_type": "markdown",
   "metadata": {},
   "source": [
    "Wykonywanie warunku"
   ]
  },
  {
   "cell_type": "code",
   "execution_count": 3,
   "metadata": {},
   "outputs": [
    {
     "name": "stdout",
     "output_type": "stream",
     "text": [
      "No wiecej\n"
     ]
    }
   ],
   "source": [
    "if a > 5 :\n",
    "    print('No wiecej')"
   ]
  },
  {
   "cell_type": "markdown",
   "metadata": {},
   "source": [
    "Wykonywanie pętli"
   ]
  },
  {
   "cell_type": "code",
   "execution_count": 4,
   "metadata": {},
   "outputs": [
    {
     "name": "stdout",
     "output_type": "stream",
     "text": [
      "0 jest mniejsze od 7\n",
      "1 jest mniejsze od 7\n",
      "2 jest mniejsze od 7\n",
      "3 jest mniejsze od 7\n",
      "4 jest mniejsze od 7\n",
      "5 jest mniejsze od 7\n",
      "6 jest mniejsze od 7\n"
     ]
    }
   ],
   "source": [
    "i = 0\n",
    "while i < a:\n",
    "    print('{} jest mniejsze od {}'.format(i,a))\n",
    "    i += 1"
   ]
  },
  {
   "cell_type": "markdown",
   "metadata": {},
   "source": [
    "Tworzenie i wywolywanie funkcji "
   ]
  },
  {
   "cell_type": "code",
   "execution_count": 5,
   "metadata": {},
   "outputs": [
    {
     "name": "stdout",
     "output_type": "stream",
     "text": [
      "Moj parametr to moja sprawa\n"
     ]
    }
   ],
   "source": [
    "def mojaFunkcja(parametr):\n",
    "    print('Moj parametr to {}'.format(parametr))\n",
    "    \n",
    "mojaFunkcja('moja sprawa')"
   ]
  },
  {
   "cell_type": "markdown",
   "metadata": {},
   "source": [
    "A skoro można patrzeć w ten sposób na programowanie, to tym większe znaczenie zaczyna mieć jak tego wszystkiego używamy\n",
    "\n",
    "## Paradygmaty programowania\n",
    "\n",
    "Powiemy tu sobie o paradygmatach programowania czyli *sposobie patrzenia na przepływ sterowania i wykonywanie programu komputerowego*\n",
    "\n",
    "Przykładami takich paradygmatów są \n",
    "\n",
    "* programowanie proceduralne\n",
    "* imperatywne\n",
    "* obiektowe\n",
    "* funkcyjne\n",
    "\n",
    "### Programowanie proceduralne\n",
    "\n",
    "W tym paradygmacie programowania całość kodu dzielona jest na funkcje przekształcające swoje parametry wejściowe\n",
    "\n",
    "## Programowanie imperatywne a funkcyjne czy obiektowe\n",
    "\n",
    "Najpowszechniej stosowanych paradygmatem programowanie jest paradygmat imperatywny. W ujęciu tym\n",
    "\n",
    "*Program w czasie swojego działania zmienia się poprzez zmiany wartości swoich zmiennych*\n",
    "\n",
    "Najmodniejszym jednak obecnie sposobem programowania jest tzw. programowanie funkcyjne - które postuluje trochę przeciwne podejście do całości tego zadania. Być może nie byłoby dla nas w ogóle interesujące, gdyby nie to, że jest troszeczkę współcześnie stawiane jako synonim programowania dobrego ( z jednoczesnym sugerowaniem, że programowanie imperatywne jest złe.\n",
    "\n",
    "### Co to jest to programowanie imperatywne\n",
    "\n",
    "W programowaniu tym posługujemy się zmiennymi zmieniającymi swój stan. Rozważmy taki przykład\n"
   ]
  },
  {
   "cell_type": "code",
   "execution_count": 6,
   "metadata": {},
   "outputs": [
    {
     "data": {
      "text/plain": [
       "7"
      ]
     },
     "execution_count": 6,
     "metadata": {},
     "output_type": "execute_result"
    }
   ],
   "source": [
    "a: int = 7\n",
    "a"
   ]
  },
  {
   "cell_type": "markdown",
   "metadata": {},
   "source": [
    "A potem\n"
   ]
  },
  {
   "cell_type": "code",
   "execution_count": 7,
   "metadata": {},
   "outputs": [
    {
     "data": {
      "text/plain": [
       "12"
      ]
     },
     "execution_count": 7,
     "metadata": {},
     "output_type": "execute_result"
    }
   ],
   "source": [
    "a += 5\n",
    "a"
   ]
  },
  {
   "cell_type": "markdown",
   "metadata": {},
   "source": [
    "Zmienna a zmieniła swój stan? No to znaczy, że programujemy imperatywnie. O elementach, które mogą się zmieniać w czasie działania programu mówi się że są zmiennicze (mutable). Prosty wniosek płynący o programowaniu imperatywnym jest taki, że jest to ten rodzaj programowania, który większość z nas stosuje domyślnie. Ostatnim i chyba najlepiej znanym rodzajem programowania imperatywne jest ... programowanie obiektowe. W programowaniu obiektowym zagadnienie modelowane jest przez obiekty, które komunikują się ze sobą i wzajemnie modyfikują swoje stany w przebiegu działania programu. \n"
   ]
  },
  {
   "cell_type": "code",
   "execution_count": 8,
   "metadata": {},
   "outputs": [
    {
     "name": "stdout",
     "output_type": "stream",
     "text": [
      "1\n",
      "2\n"
     ]
    }
   ],
   "source": [
    "class Obiektowe(object):\n",
    "    \n",
    "    def __init__(self):\n",
    "        self._x = 0\n",
    "        \n",
    "    def plusplus(self):\n",
    "        self._x += 1\n",
    "        \n",
    "    def printplus(self):\n",
    "        print(self._x)\n",
    "\n",
    "obiekt = Obiektowe()\n",
    "\n",
    "obiekt.plusplus()\n",
    "\n",
    "obiekt.printplus()\n",
    "\n",
    "obiekt.plusplus()\n",
    "\n",
    "obiekt.printplus()"
   ]
  },
  {
   "cell_type": "markdown",
   "metadata": {},
   "source": [
    "### I to wszystko jest złe?\n",
    "\n",
    "Nie jest tak, że programowanie imperatywne jest złe. W końcu świetnie działa od dziesięcioleci. Ale programowanie funkcyjnie posiada wiele bardzo fajnych własności, które czynią je atrakcyjnym do nauczenia się i poznanania alternatywnego sposobu wyrażania myśli. Jest miejscami trudne, ale jest również świadectwem wyższej jakości danego programisty. Sprawdza się również genialnie w analizie danych\n",
    "\n",
    "# Wprowadzenie do programowania funkcyjnego (FP)\n",
    "\n",
    "Co to znaczy programować funkcyjnie?\n",
    "\n",
    "Niektórzy mówią, że programowanie imperatywne to programowanie rzeczowników - kluczem do wszystkiego jest podmiot. Deklarujemy przedmioty i następnie je modyfikujemy. [Programowanie funkcyjnie](https://pl.wikipedia.org/wiki/Programowanie_funkcyjne) natomiast jest określanie jako programowanie czasownikami - kluczem do wszystkiego są akcje, czynności. A zadanie jest dekomponowane nie przez rzeczowniki, ale przez akcje, które należy wykonać aby osiągnąć określony efekt. Istnieją obecnie technologie, które służą właśnie programowaniu funkcyjnemu, inne z kolei mają tylko jego elementy:\n",
    "\n",
    "Języki funkcyjne to np.\n",
    "\n",
    "* Haskell - obecnie chyba najbardziej funkcyjny język programowania - cechuje się wyjątkowo dobrze napisanymi funkcyjnie elementami. Jest trudny i w efekcie prawie nikt go nie używa.\n",
    "* Scala - obecny dominator wśród języków funkcyjnych - w niektórych elementach ma składnię zbliżoną do Javy - poza tym uruchamia się na jej wirtualnej maszynie. Niektórzy mówią, że programista scali to efekt końcowy, gdzie poczwarką jest programista Javy. Scala natomiast nie ma tak dobrych cech funkcyjnych jak inne języki z tej grupy\n",
    "* Kotlin - aspirująca technologia od twórców m.in. PyCharma. Coś pośredniego między Scalą, a Haskellem. Jakościowo lepszez od Kotlina, ale dalej nie dość trudne aby zupełnie zniechęcić praktyków\n",
    "* Lisp - legendarny język programowania oparty o grupowanie nawiasami. Funkcyjny i dużo trudniejszy od Haskella - choć wcale nie uważany za lepszy od niego. Dla osób, które pragną mieć namiastkę wiedzy o tym jak programuje się w Lispie polecam legendarny komiks o ratowaniu księżniczki\n",
    "\n",
    "![Git the princess](https://assets.toggl.com/images/toggl-how-to-save-the-princess-in-8-programming-languages-0c32e93f47f3f6401913846c4c184e3e.jpg)\n",
    "\n",
    "Inne języki jak \n",
    "\n",
    "* Java,\n",
    "* C++,\n",
    "* Python,\n",
    "\n",
    "Posiadają możliwości aby przeprowadzać w nich pewne operacje funkcyjnie. Jednocześnie czyniąć inne z nich niemożliwymi. Pomimo tego, ich składnia jest rozszerza właśnie w stronę coraz lepszego wspierania konstrukcji funkcyjnych. Języki te wprowadzaja obecnie składowe takie jak\n",
    "\n",
    "* przetwarzania strumieniowe,\n",
    "* funkcje lambda, etc\n",
    "\n",
    "##  Składowe programowania funkcyjnego\n",
    "\n",
    "Powiedzmy sobie o najważniejszych kilku cechach FP abyśmy lepiej rozumieli jego działanie\n",
    "\n",
    "### Funkcje czyste\n",
    "\n",
    "Programowanie imperatywne mówi o zmieniających się wartościach, a FP żąda czego innego. Nie można więc nie zacząć od wprowadzenia pojęcia funkcji czystej. Funkcją czystą (pure function) nazwiemy funkcję, której jedynym efektem działania jest zwrócony wynik. Każdy inny efekt działania jest w FP nazywany efektem ubocznym (side-effect). Staramy się programować minimalizująć (potencjalnie do 0) efekty uboczne. \n",
    "\n",
    "Przykład?\n"
   ]
  },
  {
   "cell_type": "code",
   "execution_count": 9,
   "metadata": {},
   "outputs": [
    {
     "data": {
      "text/plain": [
       "7"
      ]
     },
     "execution_count": 9,
     "metadata": {},
     "output_type": "execute_result"
    }
   ],
   "source": [
    "def sumuj(a, b):\n",
    "    return a+b\n",
    "\n",
    "sumuj(3, 4)"
   ]
  },
  {
   "cell_type": "markdown",
   "metadata": {},
   "source": [
    "Niezależnie od tego ile razy wywołamy tę funkcję, jej efekt działania będzie dokładnie ten sam. Powyżej zdefiniowana funkcja jest zatem oczywiście funkcją czystą. Co innego funkcja poniżej:"
   ]
  },
  {
   "cell_type": "code",
   "execution_count": 10,
   "metadata": {},
   "outputs": [
    {
     "name": "stdout",
     "output_type": "stream",
     "text": [
      "Wypisujemy : Witaj efekcie uboczny\n"
     ]
    }
   ],
   "source": [
    "def wypisz(slowo):\n",
    "    print('Wypisujemy : {}'.format(slowo))\n",
    "\n",
    "wypisz('Witaj efekcie uboczny')"
   ]
  },
  {
   "cell_type": "code",
   "execution_count": 11,
   "metadata": {},
   "outputs": [
    {
     "name": "stdout",
     "output_type": "stream",
     "text": [
      "Wypisujemy : Witaj efekcie uboczny\n",
      "Wypisujemy : Witaj efekcie uboczny\n"
     ]
    }
   ],
   "source": [
    "wypisz('Witaj efekcie uboczny')\n",
    "wypisz('Witaj efekcie uboczny')"
   ]
  },
  {
   "cell_type": "markdown",
   "metadata": {},
   "source": [
    "Oprócz modyfikowania wartości składowych efektem ubocznym jest oczywiście\n",
    "\n",
    "* wypisywanie na ekranie,\n",
    "* działanie na plikach,\n",
    "* odczyt i zapis do bazy danych,\n",
    "* tworzenie wykresu,\n",
    "* wysyłanie maila, etc\n",
    "\n",
    "\n",
    "Dobre pytanie jest zatem czy możemy tak naprawdę wyeliminować efekt uboczny? W programowaniu funkcyjnym nie zależy nam jednak na usunięciu efektu ubocznego całkowicie lecz na jego minimalizowaniu oraz kontrolowaniu. Im więcej funkcji jest czystych tym lepiej wiemy, które z funkcji z efektem ubocznym należy dokładnie monitorować. Funkcje czyste są np. łatwe w testowaniu oraz pozwalają na przetwarzanie współbieżne. Dla funkcji czystych np. następujące własności są prawdziwe\n",
    "\n",
    "* Jeśli wynik działania funkcji czystej nie jest użyty - to całe program będzie działać tak samo po jej usunięciu.\n",
    "* Jeśli nie ma zależności w danych pomiędzy dwoma wywołaniami funkcji czystych - to można je zamienić nie powodując zmiany w działaniu programu,\n",
    "* Jeśli nie ma zależności w danych pomiędzy dwoma wywołaniami funkcji czystych - to można uruchomić je równolegle/współbieżnie.\n",
    "\n",
    "## Zasada zastępowalności\n",
    "\n",
    "Cechą FP ściśle związana z funkcjami czystymi jest zasada zastępowalności. Zasada ta mówi, że wywołanie funkcji z jej parametrami  można zastąpić przez wartość. Jeśli funkcja jest czysta to dla tych samych parametrów zawsze zwraca tę samą wartość. Inaczej jest np. z zapisem do pliku. Jeśli wywołasz dana funkcję zapisu 3 razy, za każdym razem otrzymasz plik z jedną linijką tekstu więcej.\n",
    "\n",
    "## Języki z funkcjami pierwszej klasy\n",
    "\n",
    "W FP naszymi narzędziami są funkcje. Nie wątpliwie wymaga to tego, aby język którego używamy miał funkcje 1 klasy. Powiemy, że tak jest jeśli funkcje mogą być traktowane jak zmienne, czyli np. można je przekazywać przez parametr. Znacząca większość obecny języków programowania posiada możliwości tworzenia zmiennych typu funkcyjnego. Nic dziwnego, gdyż protoplasta wszystkich współczesnych najpopularniejszych języków programowania C++ już nimi dysponował.\n",
    "\n",
    "## Rekurencja\n",
    "\n",
    "W FP rekurencja jest głównym dostarczycielem pętli. Ogólnie mogłoby nie być innych sposobów na zapętlenie. W ogóle spróbujcie sobie wyobrazić programowanie bez użycia instrukcji if oraz pętli. Trudne ? ... dajcie sobie jeszcze chwilkę.\n",
    "\n",
    "## Zmienne\n",
    "\n",
    "Aha, jeszcze jedno - nasze rozmowy zaczęliśmy od pokazania, że operacja i +=1 jest imperatywna, a nie funkcyjna. W programowaniu funkcyjnym każda zadeklarowana zmienna powinna być jednocześnie stała - niezmiennicza (immutable). W efekcie chcąc przejść dalej należy utworzyć kolejną zmienną pamiętającą efekt wprowadzonej zmiany."
   ]
  },
  {
   "cell_type": "code",
   "execution_count": 12,
   "metadata": {},
   "outputs": [
    {
     "name": "stdout",
     "output_type": "stream",
     "text": [
      "a 7; b 12\n"
     ]
    }
   ],
   "source": [
    "a : int = 7\n",
    "b = a + 5\n",
    "print('a {}; b {}'.format(a,b))"
   ]
  },
  {
   "cell_type": "markdown",
   "metadata": {},
   "source": [
    "# Najsłyniejsze elementy programowania funkcyjnego\n",
    "\n",
    "W Pythonie w podstawowym użyciu znajdują się dwa ważne elementy programowania funkcyjnego stosowane na codzień\n",
    "\n",
    "* zrozumiałe listy (comprehension lists)\n",
    "* domknięcia (closures)\n",
    "* funkcje lambda (bardzo słynne)\n",
    "\n",
    "## Comprehension lists\n",
    "\n",
    "Pierwsze z nich są używane do szybkich inicjalizacji większych struktur danych. Np żądaniu utworzenia wektora pierwszych 10 parzystych liczba naturalnych\n",
    "\n"
   ]
  },
  {
   "cell_type": "code",
   "execution_count": 13,
   "metadata": {},
   "outputs": [
    {
     "data": {
      "text/plain": [
       "[2, 4, 6, 8, 10, 12, 14, 16, 18, 20]"
      ]
     },
     "execution_count": 13,
     "metadata": {},
     "output_type": "execute_result"
    }
   ],
   "source": [
    "parzyste_naturalne = [2*i+2 for i in range(10)]\n",
    "parzyste_naturalne"
   ]
  },
  {
   "cell_type": "markdown",
   "metadata": {},
   "source": [
    "Albo dodatkowo z warunkowym wartościowaniem, np mające 1 w miejscu parzystych i -1 w pozostałych\n"
   ]
  },
  {
   "cell_type": "code",
   "execution_count": 14,
   "metadata": {},
   "outputs": [
    {
     "data": {
      "text/plain": [
       "[1, -1, 1, -1, 1, -1, 1, -1, 1, -1]"
      ]
     },
     "execution_count": 14,
     "metadata": {},
     "output_type": "execute_result"
    }
   ],
   "source": [
    "parzyste_to_jeden = [1 if i % 2 ==0 else -1 for i in range(10) ]\n",
    "parzyste_to_jeden"
   ]
  },
  {
   "cell_type": "markdown",
   "metadata": {},
   "source": [
    "Dostępna jest również wersja filtrująca\n"
   ]
  },
  {
   "cell_type": "code",
   "execution_count": 15,
   "metadata": {},
   "outputs": [
    {
     "data": {
      "text/plain": [
       "[2, 4, 6, 8, 10]"
      ]
     },
     "execution_count": 15,
     "metadata": {},
     "output_type": "execute_result"
    }
   ],
   "source": [
    "tylko_parzyste = [i+2 for i in range(10) if i%2==0]\n",
    "tylko_parzyste"
   ]
  },
  {
   "cell_type": "markdown",
   "metadata": {},
   "source": [
    "Dostępne są również zrozumiałe słówniki i zbiory\n"
   ]
  },
  {
   "cell_type": "code",
   "execution_count": 16,
   "metadata": {},
   "outputs": [
    {
     "data": {
      "text/plain": [
       "{0, 1, 2, 3}"
      ]
     },
     "execution_count": 16,
     "metadata": {},
     "output_type": "execute_result"
    }
   ],
   "source": [
    "zbior = {i%4 for i in range(1,600)}\n",
    "zbior"
   ]
  },
  {
   "cell_type": "code",
   "execution_count": 17,
   "metadata": {},
   "outputs": [
    {
     "data": {
      "text/plain": [
       "{1: 1, 2: 2, 3: 3, 4: 0, 5: 1}"
      ]
     },
     "execution_count": 17,
     "metadata": {},
     "output_type": "execute_result"
    }
   ],
   "source": [
    "słownik = {i:i%4 for i in range(1,6)}\n",
    "słownik"
   ]
  },
  {
   "cell_type": "markdown",
   "metadata": {},
   "source": [
    "## Domknięcia \n",
    "\n",
    "Zanim przejdziemy do najsłynniejszej składowej programowania funkcyjnego powiedzmy sobie jeszcze dwa zdania natem tego czym są domknięcia.\n",
    "\n",
    "W FP funkcje są pełnoprawnymi zmiennymi, które można np. zwracać w innych funkcjach. Domknięcie polega na wygenerowaniu struktury, w której pewna funkcja posiada dostęp do pewnej zmiennej (lub potencjalnie wielu zmiennych) lecz nie posiada go żaden inny obiekt. Osiąga się to najczęściej przez osadzenie funkcji we wnętrzu innej funkcji jak poniżej"
   ]
  },
  {
   "cell_type": "code",
   "execution_count": 18,
   "metadata": {},
   "outputs": [],
   "source": [
    "import random\n",
    "\n",
    "def outer():\n",
    "    x = random.randint(1,7)\n",
    "    \n",
    "    def inner(guess):\n",
    "        if (guess == x):\n",
    "            return True;\n",
    "        else: \n",
    "            return False;\n",
    "    return inner;\n",
    "\n",
    "i = outer();"
   ]
  },
  {
   "cell_type": "code",
   "execution_count": 19,
   "metadata": {},
   "outputs": [
    {
     "data": {
      "text/plain": [
       "[False, True, False, False, False, False]"
      ]
     },
     "execution_count": 19,
     "metadata": {},
     "output_type": "execute_result"
    }
   ],
   "source": [
    "[i(k) for k in range(1,7)]"
   ]
  },
  {
   "cell_type": "markdown",
   "metadata": {},
   "source": [
    "Niektórzy mówią, że klasa w programowaniu obiektowym to dane z dołączonymi operacjami. W tym ujęciu domknięcia często opisuje się jako operacje z dołączonymi danymi."
   ]
  },
  {
   "cell_type": "markdown",
   "metadata": {},
   "source": [
    "## Lambdy\n",
    "\n",
    "Trzecim (i chyba najsłynniejszym) elementem programowania funkcyjnego jest koncepcja rachunku lambda. Skoro posługujemy się mnogą ilością funkcji, czemu nie można ich tworzyć w locie. Największym problemem przy tworzeniu wieli funkcji jest potrzeba nadawania im wielu nazw. W wielu językach nazwy funkcji są widoczne dużo szerzej niż zmiennej (tworzone w zasięgu lokalnym) co powoduje konflikty nazw. Nawet jeśli nie nazwy są problemem to jednak sama składnia tworzenia funkcji jest obciążająca zarówno piszącego co czytającego kod. Lambdy służą do szybkie tworzenia, zapisywania w sposób zwarty prostych funkcji"
   ]
  },
  {
   "cell_type": "code",
   "execution_count": 20,
   "metadata": {},
   "outputs": [
    {
     "data": {
      "text/plain": [
       "64"
      ]
     },
     "execution_count": 20,
     "metadata": {},
     "output_type": "execute_result"
    }
   ],
   "source": [
    "kwadrat = lambda a : a *a \n",
    "kwadrat(8)"
   ]
  },
  {
   "cell_type": "markdown",
   "metadata": {},
   "source": [
    "W powyższym tak naprawdę stosujemy pewne wypaczenie, bowiem funkcje lambda z rzadka wogóle przypisujemy do zmiennej. Najczęściej przekazujemy bezpośrednio do pewnego przetwarzania (takie przykłady już za chwilę). Najpierw jednak zajmijmy się nakreśleniem czym są lambdy i jak wyglądają w różnych językach programowania (dokładnie chodzi nam o c++ i javę). \n",
    "\n",
    "W C++ lambda posiada postać\n",
    "\n",
    "```cpp\n",
    "auto funkcja = [](){};\n",
    "```\n",
    "\n",
    "czasem rozszerzaną jeszcze o typ zwracany. \n",
    "\n",
    "```cpp\n",
    "auto funkcja = [blok domkniecia](lista parametrow wejscia) -> typ zwracany {cialo lambdy};\n",
    "```\n",
    "\n",
    "Podobną składnię wykazuje Java, gdzie lamby są konwertowane do klas ananimowych\n",
    "\n",
    "```java\n",
    "BaseClass lambda = (parametry) -> { cialo lambdy};\n",
    "```\n",
    "\n",
    "Czemu sobie jednak o tym mówimy? Python ukrywa przez nami implementacje na bardzo wysokim poziomie, jednak języki kompilowalne jak c++ czy java pozwalają lepiej pokazać czym są lambdy. I tak lambda ```cpp [](){}``` jest konwertowana do\n",
    "\n",
    "```cpp\n",
    "class lambda : BazowaWszystkichLambd\n",
    "{\n",
    "   domkniecia... //pola klasy\n",
    "       \n",
    "   lambda(domkniecia){...} // konstruktor\n",
    "    \n",
    "   typ_zwracany operator()(parametry)\n",
    "   {\n",
    "      ciało lambdy\n",
    "   }\n",
    "};\n",
    "```\n",
    "\n",
    "Co oznacza że lambdy są obiektami klas, które posiadają własny operator() - czyli pozwalają na używanie ich obiektów jak funkcji. Takiego typu wyjaśnienie nie jest w żadnej mierze czytelne w kanwie składni Pythona."
   ]
  },
  {
   "cell_type": "markdown",
   "metadata": {},
   "source": [
    "# Funkcje wyższych rzędów\n",
    "\n",
    "W programowaniu funkcyjnym posługujemy się koncepcją funkcji wyższych rzędów -czyli funkcji przekształcających funkcje (funkcja jest parametrem wejścia). Omówimy teraz kilka najpowszechniej stosowanych funkcji wyższego rzędu\n",
    "\n",
    "## Funkcja map\n",
    "\n",
    "Pierwszym z ważnych komponentów FR w Pythonie jest funkcja map. Składnia ma postać\n",
    "\n",
    "```python\n",
    "lista_transformowana = map(transformata, lista)\n",
    "```\n",
    "\n",
    "Pozwala to bardzo szybka przekształcać zbiory danych wg. pewnej reguły. Np. przekształćmy listę do postaci je reszty z dzielenia przez 6"
   ]
  },
  {
   "cell_type": "code",
   "execution_count": 21,
   "metadata": {},
   "outputs": [
    {
     "name": "stdout",
     "output_type": "stream",
     "text": [
      "[0, 1, 2, 3, 4, 5, 0, 1, 2, 3, 4, 5, 0, 1, 2, 3, 4, 5, 0, 1, 2, 3, 4, 5, 0, 1, 2, 3, 4, 5, 0, 1, 2, 3, 4, 5, 0, 1, 2, 3, 4, 5, 0, 1, 2, 3, 4, 5, 0, 1]\n"
     ]
    }
   ],
   "source": [
    "lista = [i for i in range(0,50)]\n",
    "reszty = map(lambda i : i%6, lista)\n",
    "print(list(reszty))"
   ]
  },
  {
   "cell_type": "markdown",
   "metadata": {},
   "source": [
    "## Funkcja filter\n",
    "\n",
    "Drugim komponentem jest funkcja filter. Posiada ona jednakową strukturę jak map, ale pozwala na selekcje elementów listy spełniających konkretne kryterium\n"
   ]
  },
  {
   "cell_type": "code",
   "execution_count": 22,
   "metadata": {},
   "outputs": [
    {
     "name": "stdout",
     "output_type": "stream",
     "text": [
      "[0, 6, 12, 18, 24, 30, 36, 42, 48, 54, 60, 66, 72, 78, 84, 90, 96, 102, 108, 114, 120, 126, 132, 138, 144, 150, 156, 162, 168, 174, 180, 186, 192, 198, 204, 210, 216, 222, 228, 234, 240, 246, 252, 258, 264, 270, 276, 282, 288, 294, 300, 306, 312, 318, 324, 330, 336, 342, 348, 354, 360, 366, 372, 378, 384, 390, 396, 402, 408, 414, 420, 426, 432, 438, 444, 450, 456, 462, 468, 474, 480, 486, 492, 498]\n"
     ]
    }
   ],
   "source": [
    "lista = [i for i in range(0,500)]\n",
    "podzielne_na_6 = filter(lambda i : i%6 == 0, lista)\n",
    "print(list(podzielne_na_6))"
   ]
  },
  {
   "cell_type": "markdown",
   "metadata": {},
   "source": [
    "## Funkcja reduce (functools)\n",
    "\n",
    "Kolejną funkcja jest reduce z functools. Służy ona do generowania agregacji z ze zbiorów. Poniżej przykład jak np. policzyć maksimum za pomocą reduce"
   ]
  },
  {
   "cell_type": "code",
   "execution_count": 23,
   "metadata": {},
   "outputs": [
    {
     "data": {
      "text/plain": [
       "499"
      ]
     },
     "execution_count": 23,
     "metadata": {},
     "output_type": "execute_result"
    }
   ],
   "source": [
    "from functools import reduce\n",
    "\n",
    "lista = [i for i in range(0,500)]\n",
    "maksimum = reduce( lambda x,y: x if x>y else y, lista)\n",
    "maksimum"
   ]
  },
  {
   "cell_type": "markdown",
   "metadata": {},
   "source": [
    "Reduce działa tu w sposób bardzo zaskakujący. Omówmy to na przykładzie. Miejmy listę \n",
    "```python\n",
    "lista = [-2, 5,4,-3,7,1]\n",
    "```\n",
    "W pierwszym kroku reduce wywołuje swój funktor lambda na dwóch pierwszych elementach. Zgodnie ze sposobem przyjętego opisu będzie to maksimum z -2, 5. Efektem działania pierwszego kroku jest redukcja tablicy do drugiej iteracji\n",
    "```python\n",
    "lista2 = [5, 4, -3, 7, 1]\n",
    "```\n",
    "W kolejnym kroku ponownie dwa pierwsze elementy są brane pod uwagę i cała procedura kończy się dopiero kiedy nasz obiekt zostaje zredukowany do liczby. Dodatkowo okazuje się że w Pythonie kroki opisane funkcyjnie mogę podlegać wyjatkowo skutecznej optymalizacji co zobaczmy na przykładzie"
   ]
  },
  {
   "cell_type": "code",
   "execution_count": 24,
   "metadata": {},
   "outputs": [],
   "source": [
    "def silniaIt(n):\n",
    "    agg = 1;\n",
    "    while n >= 1:\n",
    "        agg *= n\n",
    "        n -= 1\n",
    "    return agg\n",
    "\n",
    "def silniaR(n):\n",
    "    return 1 if n <= 1 else silniaR(n-1)*n\n",
    "\n",
    "from functools import reduce\n",
    "from operator import mul\n",
    "\n",
    "def silniaFP(n):\n",
    "    return reduce(mul, range(1,n+1), 1)"
   ]
  },
  {
   "cell_type": "code",
   "execution_count": 25,
   "metadata": {},
   "outputs": [
    {
     "name": "stdout",
     "output_type": "stream",
     "text": [
      "7.99 µs ± 2.98 µs per loop (mean ± std. dev. of 7 runs, 1000 loops each)\n"
     ]
    }
   ],
   "source": [
    "%timeit -n1000 silniaIt(80)"
   ]
  },
  {
   "cell_type": "code",
   "execution_count": 26,
   "metadata": {},
   "outputs": [
    {
     "name": "stdout",
     "output_type": "stream",
     "text": [
      "The slowest run took 4.15 times longer than the fastest. This could mean that an intermediate result is being cached.\n",
      "12.2 µs ± 8.15 µs per loop (mean ± std. dev. of 7 runs, 1000 loops each)\n"
     ]
    }
   ],
   "source": [
    "%timeit -n1000 silniaR(80)"
   ]
  },
  {
   "cell_type": "code",
   "execution_count": 27,
   "metadata": {},
   "outputs": [
    {
     "name": "stdout",
     "output_type": "stream",
     "text": [
      "4.2 µs ± 699 ns per loop (mean ± std. dev. of 7 runs, 1000 loops each)\n"
     ]
    }
   ],
   "source": [
    "%timeit -n1000 silniaFP(80)"
   ]
  },
  {
   "cell_type": "markdown",
   "metadata": {},
   "source": [
    "## Funkcja partial\n",
    "\n",
    "Kolejna z funkcji ma za zadanie ograniczać ilość argumentów funkcji. Wyobraźmy sobie przykład\n"
   ]
  },
  {
   "cell_type": "code",
   "execution_count": 28,
   "metadata": {},
   "outputs": [
    {
     "name": "stdout",
     "output_type": "stream",
     "text": [
      "2000003\n"
     ]
    }
   ],
   "source": [
    "from functools import partial\n",
    "\n",
    "def add(a, b):\n",
    "    return 1000000*a + b\n",
    "\n",
    "add_two = partial(add, 2)\n",
    "print(add_two(3))"
   ]
  },
  {
   "cell_type": "markdown",
   "metadata": {},
   "source": [
    "Widać, że za pomocą tej funkcji ilość parametrów funkcji została zredukowana o 1, poprzez przypisanie wartości do pierwszej zmiennej. \n",
    "\n",
    "*CIEKAWOSTKA - z pewnością partial wykorzystuje omawiany nie dawno wzorzec domknięcia - udowodnimy to pisząc własny kod funkcji partial*"
   ]
  },
  {
   "cell_type": "code",
   "execution_count": 29,
   "metadata": {},
   "outputs": [
    {
     "name": "stdout",
     "output_type": "stream",
     "text": [
      "2000003\n"
     ]
    }
   ],
   "source": [
    "def my_partial(func, value):\n",
    "    \n",
    "    def inner(b):\n",
    "        return func(value,b)\n",
    "    return inner\n",
    "\n",
    "add_my_two = my_partial(add, 2)\n",
    "print(add_my_two(3))\n",
    "    "
   ]
  },
  {
   "cell_type": "markdown",
   "metadata": {},
   "source": [
    "## Sorted\n",
    "\n",
    "Dostępna jest funkcja służąca do sortowania strumienia danych wg jakieś ogólnej zasady\n"
   ]
  },
  {
   "cell_type": "code",
   "execution_count": 30,
   "metadata": {},
   "outputs": [
    {
     "data": {
      "text/plain": [
       "[4, 3, 5, 2, 6, 1, 7, 0, 8, 9, 10, 11, 12, 13, 14, 15, 16, 17, 18, 19]"
      ]
     },
     "execution_count": 30,
     "metadata": {},
     "output_type": "execute_result"
    }
   ],
   "source": [
    "dane = [i for i in range(20)]\n",
    "posortowane_dane = sorted(dane, key = lambda x : abs(x-4) )\n",
    "posortowane_dane"
   ]
  },
  {
   "cell_type": "markdown",
   "metadata": {},
   "source": [
    "## Compose\n",
    "\n",
    "Compose robi dokładnie to co matematykom doskonale znana superpozycja funkcji\n"
   ]
  },
  {
   "cell_type": "code",
   "execution_count": 31,
   "metadata": {},
   "outputs": [],
   "source": [
    "def compose(*funcs):\n",
    "    \n",
    "    def inner(data, funcs = funcs):\n",
    "        result = data\n",
    "        for f in reversed(funcs):\n",
    "            result = f(result)\n",
    "        return result\n",
    "    \n",
    "    return inner"
   ]
  },
  {
   "cell_type": "markdown",
   "metadata": {},
   "source": [
    "Za pomocą tej składni spróbujmy teraz utworzyć funkcję $x \\mapsto 4 \\cdot ( e^{2x} + 1) ^2 + 3 \\cdot (e^{2x} +1) - 7$"
   ]
  },
  {
   "cell_type": "code",
   "execution_count": 32,
   "metadata": {},
   "outputs": [
    {
     "data": {
      "text/plain": [
       "655456.8824044357"
      ]
     },
     "execution_count": 32,
     "metadata": {},
     "output_type": "execute_result"
    }
   ],
   "source": [
    "import math\n",
    "funkcja = compose(lambda x : 4*x*x + 3*x - 7, lambda x: math.exp(2*x)+1)\n",
    "\n",
    "funkcja(3)"
   ]
  },
  {
   "cell_type": "markdown",
   "metadata": {},
   "source": [
    "# Porównanie przetwarzania imperatywnego i funkcyjnego\n",
    "\n",
    "Chcąc porównać sposoby rozwiązywania zadania w sposób imperatywny i funkcyjny rozwiażmy następujące zadanie.\n",
    "\n",
    "## Zadanie Przykładowe\n",
    "\n",
    "Wyznaczyć sumę trzecich potęg wszystkich liczb naturalnych z przedziału $[1,1000]$ podzielnych przez 7.\n",
    "\n",
    "Najpierw podejście imperatywne"
   ]
  },
  {
   "cell_type": "code",
   "execution_count": 33,
   "metadata": {},
   "outputs": [
    {
     "data": {
      "text/plain": [
       "35357609287"
      ]
     },
     "execution_count": 33,
     "metadata": {},
     "output_type": "execute_result"
    }
   ],
   "source": [
    "sum = 0\n",
    "for i in range(1,1001):\n",
    "    if (i % 7 ==0):\n",
    "        sum += i*i*i\n",
    "sum"
   ]
  },
  {
   "cell_type": "markdown",
   "metadata": {},
   "source": [
    "Dalej to samo ale zapisane funkcyjnie"
   ]
  },
  {
   "cell_type": "code",
   "execution_count": 34,
   "metadata": {},
   "outputs": [
    {
     "data": {
      "text/plain": [
       "35357609287"
      ]
     },
     "execution_count": 34,
     "metadata": {},
     "output_type": "execute_result"
    }
   ],
   "source": [
    "lista = [i for i in range(1,1001)]\n",
    "podzielne_przez_7 = filter(lambda x: x % 7 ==0, lista)\n",
    "trzecie_potegi = map(lambda x: x*x*x, podzielne_przez_7)\n",
    "suma = reduce(lambda x, y: x+y, trzecie_potegi)\n",
    "suma"
   ]
  },
  {
   "cell_type": "markdown",
   "metadata": {},
   "source": [
    "W kontekście objętości kodu nie zyskaliśmy co prawda nic szczególnego. Natomiast o ile tylko umiemy dobrze czytać funkcje lambda lepiej możemy zrozumieć kolejność działań\n",
    "\n",
    "1. tworzymy elementy z zakresu 1,1000\n",
    "1. wybieramy podzielne przez 7\n",
    "1. liczymy ich 3 potęgi\n",
    "1. sumujemy ich wartości\n",
    "\n",
    "# Lazy streams\n",
    "\n",
    "Java 8 wprowadziło nowy sposób przetwarzania opierający się o lambdy i programowanie funkcyjne. Zyskał on znaczną popularność. Zaprezentujmy jak biblioteka stworzona z myślą o przeniesieniu strumieniu Javy potrafi jeszcze usprawnić zapis przetwarzania kolekcji danych\n",
    "\n",
    "Aby ją użyć należy skopiować plik lazy_stream.py do katalogu swojego projektu z [githuba](https://github.com/brettschneider/python_lazy_streams/blob/master/lazy_streams.py) oraz promise_keeper.py z [githuba](https://github.com/brettschneider/python_promise_keeper). Niestety projekt ten został opracowany z myślą o Python2, jednak udało mi się w kilku krokach [dostosować](https://github.com/brettschneider/python_lazy_streams/issues/1) tę bibliotekę do pracy z Python3 \n",
    "\n",
    "1. W Python3 reduce należy do pakietu functools. należy więc dodać 'from functools import reduce' \n",
    "1. W Python3 'xrange' zastąpiono 'range'\n",
    "1. W pakiecie promise_keeper import 'from Queue import Queue, Empty' należy zastąpić importem 'from queue import Queue, Empty'\n",
    "\n",
    "Po wprowadzeniu tych poprawek do naszych pakietów"
   ]
  },
  {
   "cell_type": "code",
   "execution_count": 35,
   "metadata": {},
   "outputs": [],
   "source": [
    "from lazy_streams import stream\n",
    "\n",
    "s = stream([i for i in range(1,1001)])"
   ]
  },
  {
   "cell_type": "markdown",
   "metadata": {},
   "source": [
    "Jak to mówią wiedźmini *\"Graj muzyko ...\"*"
   ]
  },
  {
   "cell_type": "code",
   "execution_count": 36,
   "metadata": {},
   "outputs": [
    {
     "data": {
      "text/plain": [
       "35357609287"
      ]
     },
     "execution_count": 36,
     "metadata": {},
     "output_type": "execute_result"
    }
   ],
   "source": [
    "s.filter(lambda x : x % 7 ==0).map(lambda x: x*x*x).reduce(lambda x, y: x+y)"
   ]
  },
  {
   "cell_type": "markdown",
   "metadata": {},
   "source": [
    "![](https://y.yarn.co/007f8445-df60-44df-99e5-a78d3cf4a8e4_text.gif)"
   ]
  },
  {
   "cell_type": "markdown",
   "metadata": {},
   "source": [
    "# Dalsze elementy funkcyjne w Pythonie - Callables\n",
    "\n",
    "Skoro programowanie funkcyjnie tak szeroko korzysta z funkcji - to może zbadajmy jak szeroko funkcje można stosować. Okazuje się, że funkcje w jezyku Python okazują się być częścią większej klasy nazywanej Callables - wywoływalne. Do grupy tej zaliczamy\n",
    "\n",
    "* funkcje tworzone za pomocą def\n",
    "* funkcje lambda\n",
    "* klasy posiadające metode __call__() (przeciążony operator())\n",
    "* domknięcia zwrócone prze funkcje fabrykujące\n",
    "* metody statyczne tworzone dekoratorem\n",
    "* generatory\n",
    "\n",
    "Najpierw wyjaśnijmy pierwszą wątpliwość. To funkcje tworzone def i lambda są różne? Okazuje się, że tak - istotnie są wyraźnie różne"
   ]
  },
  {
   "cell_type": "code",
   "execution_count": 37,
   "metadata": {},
   "outputs": [],
   "source": [
    "def f1(word):\n",
    "    print(word)\n",
    "\n",
    "f2 = lambda word: print(word)"
   ]
  },
  {
   "cell_type": "code",
   "execution_count": 38,
   "metadata": {},
   "outputs": [
    {
     "data": {
      "text/plain": [
       "<function __main__.f1(word)>"
      ]
     },
     "execution_count": 38,
     "metadata": {},
     "output_type": "execute_result"
    }
   ],
   "source": [
    "f1"
   ]
  },
  {
   "cell_type": "code",
   "execution_count": 39,
   "metadata": {},
   "outputs": [
    {
     "data": {
      "text/plain": [
       "<function __main__.<lambda>(word)>"
      ]
     },
     "execution_count": 39,
     "metadata": {},
     "output_type": "execute_result"
    }
   ],
   "source": [
    "f2"
   ]
  },
  {
   "cell_type": "code",
   "execution_count": 40,
   "metadata": {},
   "outputs": [
    {
     "data": {
      "text/plain": [
       "function"
      ]
     },
     "execution_count": 40,
     "metadata": {},
     "output_type": "execute_result"
    }
   ],
   "source": [
    "type(f1)"
   ]
  },
  {
   "cell_type": "code",
   "execution_count": 41,
   "metadata": {},
   "outputs": [
    {
     "data": {
      "text/plain": [
       "function"
      ]
     },
     "execution_count": 41,
     "metadata": {},
     "output_type": "execute_result"
    }
   ],
   "source": [
    "type(f2)"
   ]
  },
  {
   "cell_type": "markdown",
   "metadata": {},
   "source": [
    "Okey - domknięcia były już pokazane dość szeroko - pora więc przejść dla klas Callables\n",
    "\n",
    "## Klasy callables\n",
    "\n",
    "Łatwo zauważyć, że każda metoda w klasie jest jak najbardziej Callable. Jednak jak podkreślamy przez całą prezentację - w większości przypadków metod klas stoją one w sprzeczności z paradygmatem programowania funkcyjnego. Większość metod służy bowiem do zmiany stanu obiektu, który podlega tranformacjom. Nie dotyczy to jednak kiedy klasa sama w sobie staje się callable"
   ]
  },
  {
   "cell_type": "code",
   "execution_count": 42,
   "metadata": {},
   "outputs": [],
   "source": [
    "class Dodaj(object):\n",
    "    def __init__(self, dane):\n",
    "        self._dane = dane\n",
    "    \n",
    "    def __call__(self, liczba):\n",
    "        return self._dane + liczba\n",
    "    "
   ]
  },
  {
   "cell_type": "markdown",
   "metadata": {},
   "source": [
    "Utwórzmy dalej obiekt tej klasy, który okazuje się być \"udoskonaloną funkcją\""
   ]
  },
  {
   "cell_type": "code",
   "execution_count": 43,
   "metadata": {},
   "outputs": [
    {
     "data": {
      "text/plain": [
       "5"
      ]
     },
     "execution_count": 43,
     "metadata": {},
     "output_type": "execute_result"
    }
   ],
   "source": [
    "dodaj3 = Dodaj(3)\n",
    "\n",
    "dodaj3(2)"
   ]
  },
  {
   "cell_type": "markdown",
   "metadata": {},
   "source": [
    "Okazuje się, że występuje kilka istotnych różnic pomiedzy klasami callables a domknięciami - głównie z zakresu wartościowania. Na tą chwilę przyjmijmy do wiadomości, że różnice istnieją i w zależności od zadania - będziemy chcieli użyć domknięcia lub klasy callable."
   ]
  },
  {
   "cell_type": "markdown",
   "metadata": {},
   "source": [
    "## Generatory\n",
    "\n",
    "Generatory w Pythonie są specjalnymi funkcjami korzystającymi z komendy będącej słowej kluczowym języka - *yield*\n",
    "\n",
    "Pokażemy sobie jak działają generatory na podstawie zadania poszukiwania liczb pierwszych za pomocą Sita Eratostenesa. (*łeeee na sali*) Najpierw klasycznie\n"
   ]
  },
  {
   "cell_type": "code",
   "execution_count": 44,
   "metadata": {},
   "outputs": [],
   "source": [
    "class SitoEratostenesa(object):\n",
    "    \n",
    "    def __init__(self, max_size):\n",
    "        self._max_size = max_size\n",
    "        self._primes = [True for i in range(max_size)]\n",
    "        self._primes[0] = self._primes[1] = False;\n",
    "        prime = 2\n",
    "        i = prime\n",
    "        while prime < max_size:\n",
    "            # marks as not prime\n",
    "            i = prime + prime\n",
    "            while i < max_size:\n",
    "                self._primes[i] = False\n",
    "                i += prime\n",
    "            # find next prime\n",
    "            prime += 1\n",
    "            while prime < max_size and self._primes[prime] == False:\n",
    "                prime += 1\n",
    "                \n",
    "    def print(self):\n",
    "        true_primes = [i for i in range(self._max_size) if self._primes[i]]\n",
    "        return true_primes\n",
    "\n",
    "    def check(self, liczba):\n",
    "        return self._primes[liczba]"
   ]
  },
  {
   "cell_type": "code",
   "execution_count": 45,
   "metadata": {},
   "outputs": [
    {
     "name": "stdout",
     "output_type": "stream",
     "text": [
      "[2, 3, 5, 7, 11, 13, 17, 19, 23, 29, 31, 37, 41, 43, 47, 53, 59, 61, 67, 71, 73, 79, 83, 89, 97]"
     ]
    }
   ],
   "source": [
    "sito = SitoEratostenesa(100)\n",
    "print(sito.print(), end=\"\")"
   ]
  },
  {
   "cell_type": "code",
   "execution_count": 46,
   "metadata": {},
   "outputs": [
    {
     "data": {
      "text/plain": [
       "False"
      ]
     },
     "execution_count": 46,
     "metadata": {},
     "output_type": "execute_result"
    }
   ],
   "source": [
    "sito.check(96)"
   ]
  },
  {
   "cell_type": "markdown",
   "metadata": {},
   "source": [
    "Taka implementacja sita wydaje się bardzo zasadna - czemu w takim układzie chcemy coś tu zmieniać. \n",
    "\n",
    "Zauważmy, że niezależnie od tego czy chcemy dokonywać sprawdzeń check(3) czy check (300) ilość wykonywanych obliczeń jest zawsze taka sama. Bowiem metoda inicjująca już dokonała wszystkich rachunków - części być może niepotrzebnie. Usprawnimy to stosując konstrukcję leniwej ewaluacji (lazy evaluation) korzystającą z yield"
   ]
  },
  {
   "cell_type": "code",
   "execution_count": 47,
   "metadata": {},
   "outputs": [],
   "source": [
    "def primesFP():\n",
    "    candidate = 2\n",
    "    found = []\n",
    "    while True:\n",
    "        if all(candidate % prime != 0 for prime in found): \n",
    "            yield candidate\n",
    "            found.append(candidate)\n",
    "        candidate += 1\n",
    "primes = primesFP()"
   ]
  },
  {
   "cell_type": "code",
   "execution_count": 48,
   "metadata": {},
   "outputs": [
    {
     "data": {
      "text/plain": [
       "2"
      ]
     },
     "execution_count": 48,
     "metadata": {},
     "output_type": "execute_result"
    }
   ],
   "source": [
    "next(primes)"
   ]
  },
  {
   "cell_type": "code",
   "execution_count": 49,
   "metadata": {},
   "outputs": [
    {
     "name": "stdout",
     "output_type": "stream",
     "text": [
      "2 3 5 7 11 13 17 19 23 29 31 37 41 43 47 53 59 61 67 71 73 79 83 89 97 101 103 107 109 113 127 131 137 139 149 151 157 163 167 173 179 181 191 193 197 199 211 223 227 229 233 239 241 251 257 263 269 271 277 281 283 293 307 311 313 317 331 337 347 349 353 359 367 373 379 383 389 397 401 409 419 421 431 433 439 443 449 457 461 463 467 479 487 491 499 503 509 521 523 541 "
     ]
    }
   ],
   "source": [
    "primes = primesFP()\n",
    "for _, prime in zip(range(100), primes):\n",
    "    print(prime, end=\" \")"
   ]
  },
  {
   "cell_type": "markdown",
   "metadata": {},
   "source": [
    "Aby zrozumieć jeszcze lepiej jak działa yield dokonajmy pewnej korekty"
   ]
  },
  {
   "cell_type": "code",
   "execution_count": 50,
   "metadata": {},
   "outputs": [],
   "source": [
    "def primesFP_debug():\n",
    "    candidate = 2\n",
    "    found = []\n",
    "    while True:\n",
    "        print('.', end='')\n",
    "        if all(candidate % prime != 0 for prime in found): \n",
    "            yield candidate\n",
    "            found.append(candidate)\n",
    "        candidate += 1\n",
    "primes = primesFP_debug()"
   ]
  },
  {
   "cell_type": "code",
   "execution_count": 51,
   "metadata": {},
   "outputs": [
    {
     "name": "stdout",
     "output_type": "stream",
     "text": [
      ".2\n",
      ".3\n",
      "..5\n",
      "..7\n",
      "....11\n",
      "..13\n",
      "....17\n",
      "..19\n",
      "....23\n",
      "......29\n",
      "..31\n",
      "......37\n",
      "....41\n",
      "..43\n",
      "....47\n",
      "......53\n",
      "......59\n",
      "..61\n",
      "......67\n",
      "....71\n",
      "..73\n",
      "......79\n",
      "....83\n",
      "......89\n",
      "........97\n",
      "....101\n",
      "..103\n",
      "....107\n",
      "..109\n",
      "....113\n",
      "..............127\n",
      "....131\n",
      "......137\n",
      "..139\n",
      "..........149\n",
      "..151\n",
      "......157\n",
      "......163\n",
      "....167\n",
      "......173\n",
      "......179\n",
      "..181\n",
      "..........191\n",
      "..193\n",
      "....197\n",
      "..199\n",
      "............211\n",
      "............223\n",
      "....227\n",
      "..229\n",
      "....233\n",
      "......239\n",
      "..241\n",
      "..........251\n",
      "......257\n",
      "......263\n",
      "......269\n",
      "..271\n",
      "......277\n",
      "....281\n",
      "..283\n",
      "..........293\n",
      "..............307\n",
      "....311\n",
      "..313\n",
      "....317\n",
      "..............331\n",
      "......337\n",
      "..........347\n",
      "..349\n",
      "....353\n",
      "......359\n",
      "........367\n",
      "......373\n",
      "......379\n",
      "....383\n",
      "......389\n",
      "........397\n",
      "....401\n",
      "........409\n",
      "..........419\n",
      "..421\n",
      "..........431\n",
      "..433\n",
      "......439\n",
      "....443\n",
      "......449\n",
      "........457\n",
      "....461\n",
      "..463\n",
      "....467\n",
      "............479\n",
      "........487\n",
      "....491\n",
      "........499\n",
      "....503\n",
      "......509\n",
      "............521\n",
      "..523\n",
      "..................541\n"
     ]
    }
   ],
   "source": [
    "for i in range(100):\n",
    "    print(next(primes))"
   ]
  },
  {
   "cell_type": "markdown",
   "metadata": {},
   "source": [
    "Stąd widzimy już wyraźnie, że wywołanie komendy yield powoduje zamrożenie działania funkcji do czasu kolejnego jej wywołania. Samo yield natomiast oprócz tego działa jak komenda return - powoduje zwrócenie bieżącej wartości. "
   ]
  },
  {
   "cell_type": "code",
   "execution_count": 52,
   "metadata": {},
   "outputs": [
    {
     "name": "stdout",
     "output_type": "stream",
     "text": [
      ".2\n",
      ".3\n",
      "..5\n",
      "..7\n",
      "....11\n",
      "..13\n",
      "....17\n",
      "..19\n",
      "....23\n",
      "......29\n",
      "..31\n",
      "......37\n",
      "....41\n",
      "..43\n",
      "....47\n",
      "......53\n",
      "......59\n",
      "..61\n",
      "......67\n",
      "....71\n",
      "..73\n",
      "......79\n",
      "....83\n",
      "......89\n",
      "........97\n",
      "....101\n",
      "..103\n",
      "....107\n",
      "..109\n",
      "....113\n",
      "..............127\n",
      "....131\n",
      "......137\n",
      "..139\n",
      "..........149\n",
      "..151\n",
      "......157\n",
      "......163\n",
      "....167\n",
      "......173\n",
      "......179\n",
      "..181\n",
      "..........191\n",
      "..193\n",
      "....197\n",
      "..199\n",
      "............211\n",
      "............223\n",
      "....227\n",
      "..229\n",
      "....233\n",
      "......239\n",
      "..241\n",
      "..........251\n",
      "......257\n",
      "......263\n",
      "......269\n",
      "..271\n",
      "......277\n",
      "....281\n",
      "..283\n",
      "..........293\n",
      "..............307\n",
      "....311\n",
      "..313\n",
      "....317\n",
      "..............331\n",
      "......337\n",
      "..........347\n",
      "..349\n",
      "....353\n",
      "......359\n",
      "........367\n",
      "......373\n",
      "......379\n",
      "....383\n",
      "......389\n",
      "........397\n",
      "....401\n",
      "........409\n",
      "..........419\n",
      "..421\n",
      "..........431\n",
      "..433\n",
      "......439\n",
      "....443\n",
      "......449\n",
      "........457\n",
      "....461\n",
      "..463\n",
      "....467\n",
      "............479\n",
      "........487\n",
      "....491\n",
      "........499\n",
      "....503\n",
      "......509\n",
      "............521\n",
      "..523\n",
      "..................541\n"
     ]
    }
   ],
   "source": [
    "primes = primesFP_debug()\n",
    "for _, prime in zip(range(100), primes):\n",
    "    print(prime, end=\"\\n\")"
   ]
  },
  {
   "cell_type": "markdown",
   "metadata": {},
   "source": [
    "## Iteratory\n",
    "\n",
    "Generatory mogą być użyte do stworzenia tzw. iteratorów. \n",
    "\n",
    "*Ktoś z Państwa zastanawiał się czym jest range(?) ?*\n",
    "\n"
   ]
  },
  {
   "cell_type": "code",
   "execution_count": 53,
   "metadata": {},
   "outputs": [],
   "source": [
    "from collections.abc import Iterable\n",
    "\n",
    "class Primes(Iterable):\n",
    "    \n",
    "    def __init__(self):\n",
    "        self._candidate = 2\n",
    "        self._found = []\n",
    "    \n",
    "    def __iter__(self):\n",
    "        return self\n",
    "    \n",
    "    def __next__(self):\n",
    "        while True:\n",
    "            print('.', end='')\n",
    "            if all(self._candidate % prime != 0 for prime in self._found): \n",
    "                result = self._candidate\n",
    "                self._found.append(self._candidate)\n",
    "                break;\n",
    "            self._candidate += 1\n",
    "        return result;"
   ]
  },
  {
   "cell_type": "code",
   "execution_count": 54,
   "metadata": {},
   "outputs": [
    {
     "name": "stdout",
     "output_type": "stream",
     "text": [
      ".2 ..3 ...5 ...7 .....11 ...13 .....17 ...19 .....23 .......29 ...31 .......37 .....41 ...43 .....47 .......53 .......59 ...61 .......67 .....71 ...73 .......79 .....83 .......89 .........97 .....101 ...103 .....107 ...109 .....113 ...............127 .....131 .......137 ...139 ...........149 ...151 .......157 .......163 .....167 .......173 .......179 ...181 ...........191 ...193 .....197 ...199 .............211 .............223 .....227 ...229 .....233 .......239 ...241 ...........251 .......257 .......263 .......269 ...271 .......277 .....281 ...283 ...........293 ...............307 .....311 ...313 .....317 ...............331 .......337 ...........347 ...349 .....353 .......359 .........367 .......373 .......379 .....383 .......389 .........397 .....401 .........409 ...........419 ...421 ...........431 ...433 .......439 .....443 .......449 .........457 .....461 ...463 .....467 .............479 .........487 .....491 .........499 .....503 .......509 .............521 ...523 ...................541 "
     ]
    }
   ],
   "source": [
    "primes = Primes()\n",
    "for _,i in zip(range(100), primes):\n",
    "    print(i, end=' ')"
   ]
  },
  {
   "cell_type": "code",
   "execution_count": null,
   "metadata": {},
   "outputs": [],
   "source": []
  }
 ],
 "metadata": {
  "kernelspec": {
   "display_name": "Python 3",
   "language": "python",
   "name": "python3"
  },
  "language_info": {
   "codemirror_mode": {
    "name": "ipython",
    "version": 3
   },
   "file_extension": ".py",
   "mimetype": "text/x-python",
   "name": "python",
   "nbconvert_exporter": "python",
   "pygments_lexer": "ipython3",
   "version": "3.6.8"
  }
 },
 "nbformat": 4,
 "nbformat_minor": 2
}
