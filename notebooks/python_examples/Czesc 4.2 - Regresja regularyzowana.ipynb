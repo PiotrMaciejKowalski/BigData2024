{
  "cells": [
    {
      "cell_type": "markdown",
      "metadata": {
        "collapsed": true,
        "id": "4HZqWFQCYdnd",
        "pycharm": {
          "name": "#%% md\n"
        }
      },
      "source": [
        "\n",
        "# Regularyzacja regresji\n",
        "\n",
        "Regresja liniowa jest jedna z najbardziej podstawowych technik uczenia maszynowego. Co jednak jeśli \n",
        "pomimo bardzo prostego modelu model okazuje się mieć cechy przeuczenia (overfit). \n",
        "Dostępne są wtedy dla nas techniki nazywane ogólnikowo regularyzacją. Określają one zasady pomniejszania\n",
        "modelu, dzięki któremu zachowuje on pewne dodatkowe warunki a w efekcie pomniejsza się BIAS modelu i\n",
        "przestrzeń na jego przeuczenie.\n",
        "\n",
        "Omówimy w tej części 3 techniki regularyzacyjne\n",
        "\n",
        "1. Regresja grzebietowa\n",
        "1. Metoda Lasso\n",
        "1. Elastyczna siatka\n",
        "\n",
        "Najpierw zanim omówimy technikę, dokonajmy importu i \n",
        "preprocesssingu według przepisu z poprzednich materiałów."
      ]
    },
    {
      "cell_type": "code",
      "execution_count": 1,
      "metadata": {
        "colab": {
          "base_uri": "https://localhost:8080/",
          "height": 206
        },
        "id": "peTqJZBRYdnl",
        "outputId": "9d80ed16-722a-4d2c-dce7-2c47647a6c00",
        "pycharm": {
          "is_executing": false,
          "name": "#%%\n"
        }
      },
      "outputs": [
        {
          "data": {
            "text/html": [
              "\n",
              "  <div id=\"df-9de9c4a3-9784-4771-aaa7-11d4618ce466\">\n",
              "    <div class=\"colab-df-container\">\n",
              "      <div>\n",
              "<style scoped>\n",
              "    .dataframe tbody tr th:only-of-type {\n",
              "        vertical-align: middle;\n",
              "    }\n",
              "\n",
              "    .dataframe tbody tr th {\n",
              "        vertical-align: top;\n",
              "    }\n",
              "\n",
              "    .dataframe thead th {\n",
              "        text-align: right;\n",
              "    }\n",
              "</style>\n",
              "<table border=\"1\" class=\"dataframe\">\n",
              "  <thead>\n",
              "    <tr style=\"text-align: right;\">\n",
              "      <th></th>\n",
              "      <th>age</th>\n",
              "      <th>sex</th>\n",
              "      <th>bmi</th>\n",
              "      <th>bp</th>\n",
              "      <th>s1</th>\n",
              "      <th>s2</th>\n",
              "      <th>s3</th>\n",
              "      <th>s4</th>\n",
              "      <th>s5</th>\n",
              "      <th>s6</th>\n",
              "      <th>target</th>\n",
              "    </tr>\n",
              "  </thead>\n",
              "  <tbody>\n",
              "    <tr>\n",
              "      <th>0</th>\n",
              "      <td>0.038076</td>\n",
              "      <td>0.050680</td>\n",
              "      <td>0.061696</td>\n",
              "      <td>0.021872</td>\n",
              "      <td>-0.044223</td>\n",
              "      <td>-0.034821</td>\n",
              "      <td>-0.043401</td>\n",
              "      <td>-0.002592</td>\n",
              "      <td>0.019908</td>\n",
              "      <td>-0.017646</td>\n",
              "      <td>151.0</td>\n",
              "    </tr>\n",
              "    <tr>\n",
              "      <th>1</th>\n",
              "      <td>-0.001882</td>\n",
              "      <td>-0.044642</td>\n",
              "      <td>-0.051474</td>\n",
              "      <td>-0.026328</td>\n",
              "      <td>-0.008449</td>\n",
              "      <td>-0.019163</td>\n",
              "      <td>0.074412</td>\n",
              "      <td>-0.039493</td>\n",
              "      <td>-0.068330</td>\n",
              "      <td>-0.092204</td>\n",
              "      <td>75.0</td>\n",
              "    </tr>\n",
              "    <tr>\n",
              "      <th>2</th>\n",
              "      <td>0.085299</td>\n",
              "      <td>0.050680</td>\n",
              "      <td>0.044451</td>\n",
              "      <td>-0.005671</td>\n",
              "      <td>-0.045599</td>\n",
              "      <td>-0.034194</td>\n",
              "      <td>-0.032356</td>\n",
              "      <td>-0.002592</td>\n",
              "      <td>0.002864</td>\n",
              "      <td>-0.025930</td>\n",
              "      <td>141.0</td>\n",
              "    </tr>\n",
              "    <tr>\n",
              "      <th>3</th>\n",
              "      <td>-0.089063</td>\n",
              "      <td>-0.044642</td>\n",
              "      <td>-0.011595</td>\n",
              "      <td>-0.036656</td>\n",
              "      <td>0.012191</td>\n",
              "      <td>0.024991</td>\n",
              "      <td>-0.036038</td>\n",
              "      <td>0.034309</td>\n",
              "      <td>0.022692</td>\n",
              "      <td>-0.009362</td>\n",
              "      <td>206.0</td>\n",
              "    </tr>\n",
              "    <tr>\n",
              "      <th>4</th>\n",
              "      <td>0.005383</td>\n",
              "      <td>-0.044642</td>\n",
              "      <td>-0.036385</td>\n",
              "      <td>0.021872</td>\n",
              "      <td>0.003935</td>\n",
              "      <td>0.015596</td>\n",
              "      <td>0.008142</td>\n",
              "      <td>-0.002592</td>\n",
              "      <td>-0.031991</td>\n",
              "      <td>-0.046641</td>\n",
              "      <td>135.0</td>\n",
              "    </tr>\n",
              "  </tbody>\n",
              "</table>\n",
              "</div>\n",
              "      <button class=\"colab-df-convert\" onclick=\"convertToInteractive('df-9de9c4a3-9784-4771-aaa7-11d4618ce466')\"\n",
              "              title=\"Convert this dataframe to an interactive table.\"\n",
              "              style=\"display:none;\">\n",
              "        \n",
              "  <svg xmlns=\"http://www.w3.org/2000/svg\" height=\"24px\"viewBox=\"0 0 24 24\"\n",
              "       width=\"24px\">\n",
              "    <path d=\"M0 0h24v24H0V0z\" fill=\"none\"/>\n",
              "    <path d=\"M18.56 5.44l.94 2.06.94-2.06 2.06-.94-2.06-.94-.94-2.06-.94 2.06-2.06.94zm-11 1L8.5 8.5l.94-2.06 2.06-.94-2.06-.94L8.5 2.5l-.94 2.06-2.06.94zm10 10l.94 2.06.94-2.06 2.06-.94-2.06-.94-.94-2.06-.94 2.06-2.06.94z\"/><path d=\"M17.41 7.96l-1.37-1.37c-.4-.4-.92-.59-1.43-.59-.52 0-1.04.2-1.43.59L10.3 9.45l-7.72 7.72c-.78.78-.78 2.05 0 2.83L4 21.41c.39.39.9.59 1.41.59.51 0 1.02-.2 1.41-.59l7.78-7.78 2.81-2.81c.8-.78.8-2.07 0-2.86zM5.41 20L4 18.59l7.72-7.72 1.47 1.35L5.41 20z\"/>\n",
              "  </svg>\n",
              "      </button>\n",
              "      \n",
              "  <style>\n",
              "    .colab-df-container {\n",
              "      display:flex;\n",
              "      flex-wrap:wrap;\n",
              "      gap: 12px;\n",
              "    }\n",
              "\n",
              "    .colab-df-convert {\n",
              "      background-color: #E8F0FE;\n",
              "      border: none;\n",
              "      border-radius: 50%;\n",
              "      cursor: pointer;\n",
              "      display: none;\n",
              "      fill: #1967D2;\n",
              "      height: 32px;\n",
              "      padding: 0 0 0 0;\n",
              "      width: 32px;\n",
              "    }\n",
              "\n",
              "    .colab-df-convert:hover {\n",
              "      background-color: #E2EBFA;\n",
              "      box-shadow: 0px 1px 2px rgba(60, 64, 67, 0.3), 0px 1px 3px 1px rgba(60, 64, 67, 0.15);\n",
              "      fill: #174EA6;\n",
              "    }\n",
              "\n",
              "    [theme=dark] .colab-df-convert {\n",
              "      background-color: #3B4455;\n",
              "      fill: #D2E3FC;\n",
              "    }\n",
              "\n",
              "    [theme=dark] .colab-df-convert:hover {\n",
              "      background-color: #434B5C;\n",
              "      box-shadow: 0px 1px 3px 1px rgba(0, 0, 0, 0.15);\n",
              "      filter: drop-shadow(0px 1px 2px rgba(0, 0, 0, 0.3));\n",
              "      fill: #FFFFFF;\n",
              "    }\n",
              "  </style>\n",
              "\n",
              "      <script>\n",
              "        const buttonEl =\n",
              "          document.querySelector('#df-9de9c4a3-9784-4771-aaa7-11d4618ce466 button.colab-df-convert');\n",
              "        buttonEl.style.display =\n",
              "          google.colab.kernel.accessAllowed ? 'block' : 'none';\n",
              "\n",
              "        async function convertToInteractive(key) {\n",
              "          const element = document.querySelector('#df-9de9c4a3-9784-4771-aaa7-11d4618ce466');\n",
              "          const dataTable =\n",
              "            await google.colab.kernel.invokeFunction('convertToInteractive',\n",
              "                                                     [key], {});\n",
              "          if (!dataTable) return;\n",
              "\n",
              "          const docLinkHtml = 'Like what you see? Visit the ' +\n",
              "            '<a target=\"_blank\" href=https://colab.research.google.com/notebooks/data_table.ipynb>data table notebook</a>'\n",
              "            + ' to learn more about interactive tables.';\n",
              "          element.innerHTML = '';\n",
              "          dataTable['output_type'] = 'display_data';\n",
              "          await google.colab.output.renderOutput(dataTable, element);\n",
              "          const docLink = document.createElement('div');\n",
              "          docLink.innerHTML = docLinkHtml;\n",
              "          element.appendChild(docLink);\n",
              "        }\n",
              "      </script>\n",
              "    </div>\n",
              "  </div>\n",
              "  "
            ],
            "text/plain": [
              "        age       sex       bmi        bp        s1        s2        s3  \\\n",
              "0  0.038076  0.050680  0.061696  0.021872 -0.044223 -0.034821 -0.043401   \n",
              "1 -0.001882 -0.044642 -0.051474 -0.026328 -0.008449 -0.019163  0.074412   \n",
              "2  0.085299  0.050680  0.044451 -0.005671 -0.045599 -0.034194 -0.032356   \n",
              "3 -0.089063 -0.044642 -0.011595 -0.036656  0.012191  0.024991 -0.036038   \n",
              "4  0.005383 -0.044642 -0.036385  0.021872  0.003935  0.015596  0.008142   \n",
              "\n",
              "         s4        s5        s6  target  \n",
              "0 -0.002592  0.019908 -0.017646   151.0  \n",
              "1 -0.039493 -0.068330 -0.092204    75.0  \n",
              "2 -0.002592  0.002864 -0.025930   141.0  \n",
              "3  0.034309  0.022692 -0.009362   206.0  \n",
              "4 -0.002592 -0.031991 -0.046641   135.0  "
            ]
          },
          "execution_count": 1,
          "metadata": {},
          "output_type": "execute_result"
        }
      ],
      "source": [
        "from sklearn import datasets\n",
        "\n",
        "dataset3 = datasets.load_diabetes()\n",
        "\n",
        "import numpy as np\n",
        "import pandas as pd\n",
        "import matplotlib.pyplot as plt\n",
        "\n",
        "size = len(dataset3.data)\n",
        "\n",
        "data3 = np.concatenate([dataset3.data, np.reshape(dataset3.target, (size,1))], axis = 1)\n",
        "column_names = dataset3.feature_names[:]\n",
        "column_names.append('target')\n",
        "df3 = pd.DataFrame(data3, columns = column_names, copy = True)\n",
        "df3.head()"
      ]
    },
    {
      "cell_type": "markdown",
      "metadata": {
        "id": "suKHgEvAYhr6"
      },
      "source": [
        "## Uzupełnienie\n",
        "\n",
        "Widać, że kolumny ze zmiennymi objaśniającymi zostały standaryzowane na etapie przygotowania zbioru danych. Trudno więc będzie dodać nowe dane. Natomiast kolumna *target* nie została poddana standaryzacji. To z kolei może powodować problem z doborem parametrów przy omawianych technikach — oznacza duże wartości współczynników regresji. Dokonamy zatem jej przekształcenia.\n",
        "\n",
        "**Zrezygnujemy za to na tym etapie z podziału na część uczącą i testową — w wypadku regresji parametrycznej nie jest ona konieczna,** zwłaszcza gdy parametrów jest o rząd wielkości mniej niż danych."
      ]
    },
    {
      "cell_type": "code",
      "execution_count": 2,
      "metadata": {
        "colab": {
          "base_uri": "https://localhost:8080/",
          "height": 401
        },
        "id": "_UTtOkjyYnOD",
        "outputId": "eaa3faa1-6239-4e4a-bb76-30a2bcbeffaa"
      },
      "outputs": [
        {
          "name": "stdout",
          "output_type": "stream",
          "text": [
            "Średnia: [152.13348416] Odchylenie: [77.00574587]\n",
            "[[-0.01471948]\n",
            " [-1.00165882]\n",
            " [-0.14457991]\n",
            " [ 0.69951294]\n",
            " [-0.22249618]]\n",
            "[[151.]\n",
            " [ 75.]\n",
            " [141.]\n",
            " [206.]\n",
            " [135.]]\n"
          ]
        },
        {
          "data": {
            "text/html": [
              "\n",
              "  <div id=\"df-a47d68c6-d5e0-41fe-aabc-2d332656fd1d\">\n",
              "    <div class=\"colab-df-container\">\n",
              "      <div>\n",
              "<style scoped>\n",
              "    .dataframe tbody tr th:only-of-type {\n",
              "        vertical-align: middle;\n",
              "    }\n",
              "\n",
              "    .dataframe tbody tr th {\n",
              "        vertical-align: top;\n",
              "    }\n",
              "\n",
              "    .dataframe thead th {\n",
              "        text-align: right;\n",
              "    }\n",
              "</style>\n",
              "<table border=\"1\" class=\"dataframe\">\n",
              "  <thead>\n",
              "    <tr style=\"text-align: right;\">\n",
              "      <th></th>\n",
              "      <th>age</th>\n",
              "      <th>sex</th>\n",
              "      <th>bmi</th>\n",
              "      <th>bp</th>\n",
              "      <th>s1</th>\n",
              "      <th>s2</th>\n",
              "      <th>s3</th>\n",
              "      <th>s4</th>\n",
              "      <th>s5</th>\n",
              "      <th>s6</th>\n",
              "    </tr>\n",
              "  </thead>\n",
              "  <tbody>\n",
              "    <tr>\n",
              "      <th>0</th>\n",
              "      <td>0.038076</td>\n",
              "      <td>0.050680</td>\n",
              "      <td>0.061696</td>\n",
              "      <td>0.021872</td>\n",
              "      <td>-0.044223</td>\n",
              "      <td>-0.034821</td>\n",
              "      <td>-0.043401</td>\n",
              "      <td>-0.002592</td>\n",
              "      <td>0.019908</td>\n",
              "      <td>-0.017646</td>\n",
              "    </tr>\n",
              "    <tr>\n",
              "      <th>1</th>\n",
              "      <td>-0.001882</td>\n",
              "      <td>-0.044642</td>\n",
              "      <td>-0.051474</td>\n",
              "      <td>-0.026328</td>\n",
              "      <td>-0.008449</td>\n",
              "      <td>-0.019163</td>\n",
              "      <td>0.074412</td>\n",
              "      <td>-0.039493</td>\n",
              "      <td>-0.068330</td>\n",
              "      <td>-0.092204</td>\n",
              "    </tr>\n",
              "    <tr>\n",
              "      <th>2</th>\n",
              "      <td>0.085299</td>\n",
              "      <td>0.050680</td>\n",
              "      <td>0.044451</td>\n",
              "      <td>-0.005671</td>\n",
              "      <td>-0.045599</td>\n",
              "      <td>-0.034194</td>\n",
              "      <td>-0.032356</td>\n",
              "      <td>-0.002592</td>\n",
              "      <td>0.002864</td>\n",
              "      <td>-0.025930</td>\n",
              "    </tr>\n",
              "    <tr>\n",
              "      <th>3</th>\n",
              "      <td>-0.089063</td>\n",
              "      <td>-0.044642</td>\n",
              "      <td>-0.011595</td>\n",
              "      <td>-0.036656</td>\n",
              "      <td>0.012191</td>\n",
              "      <td>0.024991</td>\n",
              "      <td>-0.036038</td>\n",
              "      <td>0.034309</td>\n",
              "      <td>0.022692</td>\n",
              "      <td>-0.009362</td>\n",
              "    </tr>\n",
              "    <tr>\n",
              "      <th>4</th>\n",
              "      <td>0.005383</td>\n",
              "      <td>-0.044642</td>\n",
              "      <td>-0.036385</td>\n",
              "      <td>0.021872</td>\n",
              "      <td>0.003935</td>\n",
              "      <td>0.015596</td>\n",
              "      <td>0.008142</td>\n",
              "      <td>-0.002592</td>\n",
              "      <td>-0.031991</td>\n",
              "      <td>-0.046641</td>\n",
              "    </tr>\n",
              "  </tbody>\n",
              "</table>\n",
              "</div>\n",
              "      <button class=\"colab-df-convert\" onclick=\"convertToInteractive('df-a47d68c6-d5e0-41fe-aabc-2d332656fd1d')\"\n",
              "              title=\"Convert this dataframe to an interactive table.\"\n",
              "              style=\"display:none;\">\n",
              "        \n",
              "  <svg xmlns=\"http://www.w3.org/2000/svg\" height=\"24px\"viewBox=\"0 0 24 24\"\n",
              "       width=\"24px\">\n",
              "    <path d=\"M0 0h24v24H0V0z\" fill=\"none\"/>\n",
              "    <path d=\"M18.56 5.44l.94 2.06.94-2.06 2.06-.94-2.06-.94-.94-2.06-.94 2.06-2.06.94zm-11 1L8.5 8.5l.94-2.06 2.06-.94-2.06-.94L8.5 2.5l-.94 2.06-2.06.94zm10 10l.94 2.06.94-2.06 2.06-.94-2.06-.94-.94-2.06-.94 2.06-2.06.94z\"/><path d=\"M17.41 7.96l-1.37-1.37c-.4-.4-.92-.59-1.43-.59-.52 0-1.04.2-1.43.59L10.3 9.45l-7.72 7.72c-.78.78-.78 2.05 0 2.83L4 21.41c.39.39.9.59 1.41.59.51 0 1.02-.2 1.41-.59l7.78-7.78 2.81-2.81c.8-.78.8-2.07 0-2.86zM5.41 20L4 18.59l7.72-7.72 1.47 1.35L5.41 20z\"/>\n",
              "  </svg>\n",
              "      </button>\n",
              "      \n",
              "  <style>\n",
              "    .colab-df-container {\n",
              "      display:flex;\n",
              "      flex-wrap:wrap;\n",
              "      gap: 12px;\n",
              "    }\n",
              "\n",
              "    .colab-df-convert {\n",
              "      background-color: #E8F0FE;\n",
              "      border: none;\n",
              "      border-radius: 50%;\n",
              "      cursor: pointer;\n",
              "      display: none;\n",
              "      fill: #1967D2;\n",
              "      height: 32px;\n",
              "      padding: 0 0 0 0;\n",
              "      width: 32px;\n",
              "    }\n",
              "\n",
              "    .colab-df-convert:hover {\n",
              "      background-color: #E2EBFA;\n",
              "      box-shadow: 0px 1px 2px rgba(60, 64, 67, 0.3), 0px 1px 3px 1px rgba(60, 64, 67, 0.15);\n",
              "      fill: #174EA6;\n",
              "    }\n",
              "\n",
              "    [theme=dark] .colab-df-convert {\n",
              "      background-color: #3B4455;\n",
              "      fill: #D2E3FC;\n",
              "    }\n",
              "\n",
              "    [theme=dark] .colab-df-convert:hover {\n",
              "      background-color: #434B5C;\n",
              "      box-shadow: 0px 1px 3px 1px rgba(0, 0, 0, 0.15);\n",
              "      filter: drop-shadow(0px 1px 2px rgba(0, 0, 0, 0.3));\n",
              "      fill: #FFFFFF;\n",
              "    }\n",
              "  </style>\n",
              "\n",
              "      <script>\n",
              "        const buttonEl =\n",
              "          document.querySelector('#df-a47d68c6-d5e0-41fe-aabc-2d332656fd1d button.colab-df-convert');\n",
              "        buttonEl.style.display =\n",
              "          google.colab.kernel.accessAllowed ? 'block' : 'none';\n",
              "\n",
              "        async function convertToInteractive(key) {\n",
              "          const element = document.querySelector('#df-a47d68c6-d5e0-41fe-aabc-2d332656fd1d');\n",
              "          const dataTable =\n",
              "            await google.colab.kernel.invokeFunction('convertToInteractive',\n",
              "                                                     [key], {});\n",
              "          if (!dataTable) return;\n",
              "\n",
              "          const docLinkHtml = 'Like what you see? Visit the ' +\n",
              "            '<a target=\"_blank\" href=https://colab.research.google.com/notebooks/data_table.ipynb>data table notebook</a>'\n",
              "            + ' to learn more about interactive tables.';\n",
              "          element.innerHTML = '';\n",
              "          dataTable['output_type'] = 'display_data';\n",
              "          await google.colab.output.renderOutput(dataTable, element);\n",
              "          const docLink = document.createElement('div');\n",
              "          docLink.innerHTML = docLinkHtml;\n",
              "          element.appendChild(docLink);\n",
              "        }\n",
              "      </script>\n",
              "    </div>\n",
              "  </div>\n",
              "  "
            ],
            "text/plain": [
              "        age       sex       bmi        bp        s1        s2        s3  \\\n",
              "0  0.038076  0.050680  0.061696  0.021872 -0.044223 -0.034821 -0.043401   \n",
              "1 -0.001882 -0.044642 -0.051474 -0.026328 -0.008449 -0.019163  0.074412   \n",
              "2  0.085299  0.050680  0.044451 -0.005671 -0.045599 -0.034194 -0.032356   \n",
              "3 -0.089063 -0.044642 -0.011595 -0.036656  0.012191  0.024991 -0.036038   \n",
              "4  0.005383 -0.044642 -0.036385  0.021872  0.003935  0.015596  0.008142   \n",
              "\n",
              "         s4        s5        s6  \n",
              "0 -0.002592  0.019908 -0.017646  \n",
              "1 -0.039493 -0.068330 -0.092204  \n",
              "2 -0.002592  0.002864 -0.025930  \n",
              "3  0.034309  0.022692 -0.009362  \n",
              "4 -0.002592 -0.031991 -0.046641  "
            ]
          },
          "execution_count": 2,
          "metadata": {},
          "output_type": "execute_result"
        }
      ],
      "source": [
        "from sklearn.preprocessing import StandardScaler\n",
        "\n",
        "target_data = np.reshape(dataset3.target, (size,1))\n",
        "target_scaler = StandardScaler()\n",
        "target_scaler.fit(target_data)\n",
        "print(\"Średnia:\", target_scaler.mean_, \"Odchylenie:\", target_scaler.scale_)\n",
        "# tak samo skaluje się nowe dane\n",
        "y2 = target_scaler.transform(target_data)\n",
        "print(y2[0:5])\n",
        "# można też odwrócić skalowanie\n",
        "print(target_scaler.inverse_transform(y2[0:5]))\n",
        "\n",
        "X = df3.drop('target', axis = 1)\n",
        "y = df3['target']\n",
        "X.head()"
      ]
    },
    {
      "cell_type": "markdown",
      "metadata": {
        "id": "voo6IASmtWC4"
      },
      "source": [
        "## Regresja liniowa\n",
        "\n",
        "Aby porównać jakość dopasowania i wpływ standardyzacji rozpoczniemy od zwykłej, nieregularyzowanej regresji liniowej.\n"
      ]
    },
    {
      "cell_type": "code",
      "execution_count": 3,
      "metadata": {
        "colab": {
          "base_uri": "https://localhost:8080/"
        },
        "id": "lPSc8fzAtsOn",
        "outputId": "0742a123-0fc0-4662-83bd-cbdad5a0e02b"
      },
      "outputs": [
        {
          "name": "stdout",
          "output_type": "stream",
          "text": [
            " R^2: 0.5177494254132934 \n",
            " coef: [ -10.01219782 -239.81908937  519.83978679  324.39042769 -792.18416163\n",
            "  476.74583782  101.04457032  177.06417623  751.27932109   67.62538639] \n",
            " intercept: 152.1334841628965\n",
            " R^2: 0.5177494254132934 \n",
            " coef: [[ -0.13001884  -3.11430123   6.75066232   4.21254835 -10.28733834\n",
            "    6.1910424    1.31216923   2.29936317   9.75614628   0.87818624]] \n",
            " intercept: [7.12105017e-15]\n"
          ]
        }
      ],
      "source": [
        "from sklearn.linear_model import LinearRegression\n",
        "\n",
        "reg = LinearRegression()\n",
        "reg_s = LinearRegression()\n",
        "\n",
        "reg.fit(X,y)\n",
        "reg_s.fit(X, y2)\n",
        "print(' R^2:', reg.score(X, y),'\\n',\n",
        "      'coef:', reg.coef_,'\\n',\n",
        "     'intercept:', reg.intercept_)\n",
        "\n",
        "print(' R^2:', reg_s.score(X, y2),'\\n',\n",
        "      'coef:', reg_s.coef_,'\\n',\n",
        "     'intercept:', reg_s.intercept_)\n"
      ]
    },
    {
      "cell_type": "markdown",
      "metadata": {
        "id": "0BjCccb_uzhf"
      },
      "source": [
        "Widać przeskalowanie współczynników, ale to wciaż jest ten sam model, tylko w innej skali. "
      ]
    },
    {
      "cell_type": "markdown",
      "metadata": {
        "id": "tDfTFuv1Ydnq",
        "pycharm": {
          "name": "#%% md\n"
        }
      },
      "source": [
        "\n",
        "# Regresja grzebietowa\n",
        "\n",
        "Regresja grzebietowa (ridge regression) zwana również regularyzacją Tichonowa. Posługuje się ona \n",
        "funkcjonałem kosztu podstaci \n",
        "$$ L(\\theta) = MSE(\\theta) + \\alpha \\frac{1}{2} \\sum_{i=1}^k \\theta^2_i. $$\n",
        "Oznacza to, że błąd średniokwadratowy jest minimalizowany jednocześnie z łączną sumą kwadratów wszystkich \n",
        "parametrów modelu.\n",
        "\n",
        "Podobnie jak i w przypadku regresji liniowej i logistycznej mamy dostepne techniki bezpośrednie oraz\n",
        "spadku gradientu. Prezentujemy kod działania obu\n"
      ]
    },
    {
      "cell_type": "code",
      "execution_count": 4,
      "metadata": {
        "colab": {
          "base_uri": "https://localhost:8080/"
        },
        "id": "qxCsxuvOYdnq",
        "outputId": "5e2b1221-29a7-47eb-ffce-173305de1f78",
        "pycharm": {
          "is_executing": false,
          "name": "#%% \n"
        }
      },
      "outputs": [
        {
          "name": "stdout",
          "output_type": "stream",
          "text": [
            " R^2: 0.4512313946799056 \n",
            " coef: [  29.46574564  -83.15488546  306.35162706  201.62943384    5.90936896\n",
            "  -29.51592665 -152.04046539  117.31171538  262.94499533  111.878718  ] \n",
            " intercept: 152.13348416289622\n",
            " R^2: 0.4512313946799055 \n",
            " coef: [[ 0.38264347 -1.079853    3.97829569  2.61836869  0.07673933 -0.38329512\n",
            "  -1.97440417  1.52341509  3.41461526  1.45286195]] \n",
            " intercept: [3.35956305e-15]\n",
            " R^2: 0.3904656114947056 \n",
            " coef: [[ 0.43742669 -0.53294968  2.89627691  1.97651967  0.27194349 -0.03570801\n",
            "  -1.57213839  1.3468778   2.53357596  1.29169214]] \n",
            " intercept: [2.34896853e-15]\n"
          ]
        }
      ],
      "source": [
        "from sklearn.linear_model import Ridge\n",
        "\n",
        "reg2 = Ridge(alpha=1, solver='cholesky')\n",
        "reg2_s = Ridge(alpha=1, solver='cholesky')\n",
        "reg2_s2 = Ridge(alpha=2, solver='cholesky')\n",
        "\n",
        "reg2.fit(X, y)\n",
        "reg2_s.fit(X, y2)\n",
        "reg2_s2.fit(X, y2)\n",
        "\n",
        "print(' R^2:', reg2.score(X, y),'\\n',\n",
        "      'coef:', reg2.coef_,'\\n',\n",
        "     'intercept:', reg2.intercept_)\n",
        "print(' R^2:', reg2_s.score(X, y2),'\\n',\n",
        "      'coef:', reg2_s.coef_,'\\n',\n",
        "     'intercept:', reg2_s.intercept_)\n",
        "print(' R^2:', reg2_s2.score(X, y2),'\\n',\n",
        "      'coef:', reg2_s2.coef_,'\\n',\n",
        "     'intercept:', reg2_s2.intercept_)"
      ]
    },
    {
      "cell_type": "markdown",
      "metadata": {
        "id": "_r9_hCV-bU9q"
      },
      "source": [
        "Widać pogorszenie współczynnika $R^2$, powiązane ze wzrostem $\\alpha$, za to zmniejszenie wartości bezwzględnych współczynników regresji.\n",
        "\n",
        "Drugi istotny wniosek &mdash; standardyzacja zmiennej objaśnianej nie jest konieczna: wygląda na to, że i tak jest wykonywana niejawnie."
      ]
    },
    {
      "cell_type": "markdown",
      "metadata": {
        "id": "7pw8Gb5aYdns",
        "pycharm": {
          "name": "#%% md\n"
        }
      },
      "source": [
        "\n",
        "Drugi wariant wykorzystuje spadek gradientu. \n"
      ]
    },
    {
      "cell_type": "code",
      "execution_count": 5,
      "metadata": {
        "colab": {
          "base_uri": "https://localhost:8080/"
        },
        "id": "ejn3E5LeYdns",
        "outputId": "44ca3aa5-207d-45a8-aea1-f59c27fee2d5",
        "pycharm": {
          "is_executing": false,
          "name": "#%% \n"
        }
      },
      "outputs": [
        {
          "name": "stderr",
          "output_type": "stream",
          "text": [
            "/usr/local/lib/python3.7/dist-packages/sklearn/linear_model/_stochastic_gradient.py:1507: ConvergenceWarning: Maximum number of iteration reached before convergence. Consider increasing max_iter to improve the fit.\n",
            "  ConvergenceWarning,\n"
          ]
        },
        {
          "data": {
            "text/plain": [
              "0.4367643731800983"
            ]
          },
          "execution_count": 5,
          "metadata": {},
          "output_type": "execute_result"
        }
      ],
      "source": [
        "from sklearn.linear_model import SGDRegressor\n",
        "\n",
        "regressor = SGDRegressor(penalty='l2', loss='squared_error')\n",
        "regressor.fit(X, y)\n",
        "y_pred = regressor.predict(X)\n",
        "\n",
        "from sklearn.metrics import explained_variance_score\n",
        "explained_variance_score(y, y_pred)"
      ]
    },
    {
      "cell_type": "code",
      "execution_count": 6,
      "metadata": {
        "colab": {
          "base_uri": "https://localhost:8080/"
        },
        "id": "Q-4kfUoaxElt",
        "outputId": "7b766b61-4625-4e1e-c3ae-5ab500fb00ee"
      },
      "outputs": [
        {
          "data": {
            "text/plain": [
              "0.11119947956748699"
            ]
          },
          "execution_count": 6,
          "metadata": {},
          "output_type": "execute_result"
        }
      ],
      "source": [
        "from sklearn.linear_model import SGDRegressor\n",
        "\n",
        "regressor = SGDRegressor(penalty='l2', loss='squared_error')\n",
        "regressor.fit(X, y2[:,0])\n",
        "y_pred = regressor.predict(X)\n",
        "\n",
        "from sklearn.metrics import explained_variance_score\n",
        "explained_variance_score(y2, y_pred)"
      ]
    },
    {
      "cell_type": "markdown",
      "metadata": {
        "id": "EtorVmrOxr5B"
      },
      "source": [
        "Zwraca uwagę i zaskakuje porównanie wyników. Przyczyną jest pewnie słaba stabilność numeryczna przy wielu zmiennych. Istotna też jest ukryta domyślna wartość $\\alpha = 0.0001$."
      ]
    },
    {
      "cell_type": "markdown",
      "metadata": {
        "id": "AbYx-sUjYdns",
        "pycharm": {
          "name": "#%% md\n"
        }
      },
      "source": [
        "\n",
        "# Regresja LASSO\n",
        "\n",
        "LASSO jest skrótem od least absolute shrinkache and selection operator. Idea tej regresji jest \n",
        "podobna do grzebietowej jednak dołąca ona sumę modułów czyli rozmiar modelu w sensi metryki $l_1$.\n",
        "Dokładnie minimalizowany jest funkcjonał:\n",
        "$$ L(\\theta) = MSE(\\theta) + \\alpha \\sum_{i=1}^k |\\theta_i|. $$\n",
        "\n",
        "Do ciekawych własności tej regresji zaliczyć można to, że cechy nie mające statystycznie \n",
        "istotnego wpływu w regresji są zerowane. Zatem sam algorytm dokonuje niejawnie również selekcji \n",
        "zmiennych do modelu. Poniższy przykład (wzięcie większej wartości $\\alpha$) pokazuje z kolei, że selekcja cech jest chyba wykonywana zbyt agresywnie. Warto porównać z wersją bez standardyzacji.\n"
      ]
    },
    {
      "cell_type": "code",
      "execution_count": null,
      "metadata": {
        "colab": {
          "base_uri": "https://localhost:8080/"
        },
        "id": "18y-EoDaYdnt",
        "outputId": "bf2db3ca-addc-48e7-c45d-8c818f2c64ce",
        "pycharm": {
          "is_executing": false,
          "name": "#%% \n"
        }
      },
      "outputs": [
        {
          "name": "stdout",
          "output_type": "stream",
          "text": [
            " R^2: 0.5088400794027146 \n",
            " coef: [  -0.         -155.36288234  517.18201661  275.08235083  -52.54026923\n",
            "   -0.         -210.15975349    0.          483.91440913   33.67282148] \n",
            " intercept: 152.13348416289642\n",
            " R^2: 0.0 \n",
            " coef: [ 0.  0.  0.  0.  0.  0. -0.  0.  0.  0.] \n",
            " intercept: [-1.68794089e-16]\n",
            " R^2: 0.5088392220009011 \n",
            " coef: [-0.         -2.01747427  6.71613936  3.57219246 -0.6821993  -0.\n",
            " -2.72911949  0.          6.28407925  0.43723943] \n",
            " intercept: [6.27653463e-15]\n"
          ]
        }
      ],
      "source": [
        "from sklearn.linear_model import Lasso\n",
        "\n",
        "reg3 = Lasso(alpha=0.1)\n",
        "reg3_s = Lasso(alpha=0.1)\n",
        "reg3_s2 = Lasso(alpha=0.1/77) # alpha zmniejszona mniej więcej tylokrotnie ile wartości y2\n",
        "reg3.fit(X, y)\n",
        "reg3_s.fit(X, y2)\n",
        "reg3_s2.fit(X, y2)\n",
        "\n",
        "print(' R^2:', reg3.score(X, y),'\\n',\n",
        "      'coef:', reg3.coef_,'\\n',\n",
        "     'intercept:', reg3.intercept_)\n",
        "print(' R^2:', reg3_s.score(X, y2),'\\n',\n",
        "      'coef:', reg3_s.coef_,'\\n',\n",
        "     'intercept:', reg3_s.intercept_)\n",
        "print(' R^2:', reg3_s2.score(X, y2),'\\n',\n",
        "      'coef:', reg3_s2.coef_,'\\n',\n",
        "     'intercept:', reg3_s2.intercept_)"
      ]
    },
    {
      "cell_type": "markdown",
      "metadata": {
        "id": "DRrt_mC_yuzf"
      },
      "source": [
        "Nieintuicyjnym zaskoczeniem jest dla mnie fakt, że po standardyzacji wyników do sensownego działania wymagana jest tyleż samo mniejsza wartość parametru $\\alpha$. Według dokumentacji powinno być wręcz odwrotnie. Najwyraźniej przy przekształconych danych dokonywana jest agresywne zerowanie odpowiednich współcznynników z wykorzystaniem tego parametru."
      ]
    },
    {
      "cell_type": "markdown",
      "metadata": {
        "id": "Em71hAYEYdnu"
      },
      "source": [
        "\n",
        "Drugi wariant wykorzystuje spadek gradientu. Równiez widać  gorszą jakosc wyniku &mdash; ta optymalizacja jest trudna przy bardzo wielu zmiennych.\n"
      ]
    },
    {
      "cell_type": "code",
      "execution_count": null,
      "metadata": {
        "colab": {
          "base_uri": "https://localhost:8080/"
        },
        "id": "lJuPVJgKYdnv",
        "outputId": "6c207551-43a9-49e1-e616-51ddf952e505",
        "pycharm": {
          "is_executing": false,
          "name": "#%% \n"
        }
      },
      "outputs": [
        {
          "name": "stderr",
          "output_type": "stream",
          "text": [
            "/usr/local/lib/python3.7/dist-packages/sklearn/linear_model/_stochastic_gradient.py:1507: ConvergenceWarning: Maximum number of iteration reached before convergence. Consider increasing max_iter to improve the fit.\n",
            "  ConvergenceWarning,\n"
          ]
        },
        {
          "data": {
            "text/plain": [
              "0.42751201917265924"
            ]
          },
          "execution_count": 9,
          "metadata": {},
          "output_type": "execute_result"
        }
      ],
      "source": [
        "from sklearn.linear_model import SGDRegressor\n",
        "\n",
        "regressor = SGDRegressor(penalty='l1', loss='squared_error', alpha = 0.1)\n",
        "regressor.fit(X, y)\n",
        "y_pred = regressor.predict(X)\n",
        "\n",
        "from sklearn.metrics import explained_variance_score\n",
        "explained_variance_score(y, y_pred)"
      ]
    },
    {
      "cell_type": "code",
      "execution_count": null,
      "metadata": {
        "colab": {
          "base_uri": "https://localhost:8080/"
        },
        "id": "IlOEYjd2z4rg",
        "outputId": "93649993-2c08-4b7f-e0f4-606a26e024a7"
      },
      "outputs": [
        {
          "data": {
            "text/plain": [
              "0.11274817466921927"
            ]
          },
          "execution_count": 10,
          "metadata": {},
          "output_type": "execute_result"
        }
      ],
      "source": [
        "from sklearn.linear_model import SGDRegressor\n",
        "\n",
        "regressor = SGDRegressor(penalty='l1', loss='squared_error')\n",
        "regressor.fit(X, y2[:,0])\n",
        "y_pred = regressor.predict(X)\n",
        "\n",
        "from sklearn.metrics import explained_variance_score\n",
        "explained_variance_score(y2, y_pred)"
      ]
    },
    {
      "cell_type": "markdown",
      "metadata": {
        "id": "Z1avxfgIYdnw",
        "pycharm": {
          "name": "#%% md\n"
        }
      },
      "source": [
        "\n",
        "# Metoda elastycznej siatki \n",
        "\n",
        "Regresja z użyciem kombinacji obu wcześniejszych regularyzacji nazywa się techniką elastycznej siatki.\n",
        "Minimalizuje ona funkcjonał postaci\n",
        "$$ L(\\theta) = MSE(\\theta) + r \\alpha \\sum_{i=1}^k |\\theta_i| + \\frac{1-r}{2} \\alpha \\sum_{i=1}^k \\theta_i^2. $$\n"
      ]
    },
    {
      "cell_type": "code",
      "execution_count": null,
      "metadata": {
        "colab": {
          "base_uri": "https://localhost:8080/"
        },
        "id": "IMzv-8EtYdnw",
        "outputId": "c9706c5e-65de-432b-eacc-90cf09a8fe19",
        "pycharm": {
          "is_executing": false,
          "name": "#%% \n"
        }
      },
      "outputs": [
        {
          "name": "stdout",
          "output_type": "stream",
          "text": [
            " R^2: 0.10298926753450965 \n",
            " coef: [ 10.28632698   0.28597648  37.46464319  27.5448988   11.1088504\n",
            "   8.35588419 -24.12080817  25.50548821  35.46575709  22.89498054] \n",
            " intercept: 152.13348416289597\n",
            " R^2: 0.49661168769208175 \n",
            " coef: [ 0.         -1.75584275  5.53757111  3.34992039 -0.08274315 -0.68762414\n",
            " -2.42103034  1.13729957  4.75750414  1.19534065] \n",
            " intercept: [4.84155793e-15]\n"
          ]
        }
      ],
      "source": [
        "from sklearn.linear_model import ElasticNet\n",
        "\n",
        "reg4 = ElasticNet(alpha = 0.1, l1_ratio=0.5)\n",
        "reg4_s = ElasticNet(alpha = 0.1/77, l1_ratio=0.5)\n",
        "reg4.fit(X, y)\n",
        "reg4_s.fit(X, y2)\n",
        "\n",
        "print(' R^2:', reg4.score(X, y),'\\n',\n",
        "      'coef:', reg4.coef_,'\\n',\n",
        "     'intercept:', reg4.intercept_)\n",
        "print(' R^2:', reg4_s.score(X, y2),'\\n',\n",
        "      'coef:', reg4_s.coef_,'\\n',\n",
        "     'intercept:', reg4_s.intercept_)"
      ]
    },
    {
      "cell_type": "markdown",
      "metadata": {
        "id": "H46ciHCK0uaL"
      },
      "source": [
        "W powyższym przykładzie widać przewagę standardyzacji &mdash; dużo łatwiej dobrać rozsądną wartość stosunku wag dwóch metod względem siebie (parametru $r$ powyżej)."
      ]
    },
    {
      "cell_type": "markdown",
      "metadata": {
        "id": "1BFPXDi-JAag"
      },
      "source": [
        "# Co to daje?\n",
        "\n",
        "Poniżej pokażemy, że wskazane metody (nawet jeśli nie w pełni jasne w stosowaniu, co wskazano powyżej) faktycznie mog pomóc w sytuacji ryzyka przeuczenia. Zasymulujemy to ryzyko dzieląc dane na (małą) część uczącą i dużą testową. Żeby była powtarzalność nie skorzystamy z gotowej funkcji, a wezmiemy pierwszych 40 obserwacji do nauki. Mimo powyższych trudności skorzystamy ze standaryzowanej kolumny *target*."
      ]
    },
    {
      "cell_type": "code",
      "execution_count": null,
      "metadata": {
        "colab": {
          "base_uri": "https://localhost:8080/",
          "height": 206
        },
        "id": "x93p44rr1HQ6",
        "outputId": "b0e5dece-661d-4fb1-c2ae-77e04fbede9b"
      },
      "outputs": [
        {
          "data": {
            "text/html": [
              "\n",
              "  <div id=\"df-94040f6b-4896-4747-92e0-03d806d29332\">\n",
              "    <div class=\"colab-df-container\">\n",
              "      <div>\n",
              "<style scoped>\n",
              "    .dataframe tbody tr th:only-of-type {\n",
              "        vertical-align: middle;\n",
              "    }\n",
              "\n",
              "    .dataframe tbody tr th {\n",
              "        vertical-align: top;\n",
              "    }\n",
              "\n",
              "    .dataframe thead th {\n",
              "        text-align: right;\n",
              "    }\n",
              "</style>\n",
              "<table border=\"1\" class=\"dataframe\">\n",
              "  <thead>\n",
              "    <tr style=\"text-align: right;\">\n",
              "      <th></th>\n",
              "      <th>age</th>\n",
              "      <th>sex</th>\n",
              "      <th>bmi</th>\n",
              "      <th>bp</th>\n",
              "      <th>s1</th>\n",
              "      <th>s2</th>\n",
              "      <th>s3</th>\n",
              "      <th>s4</th>\n",
              "      <th>s5</th>\n",
              "      <th>s6</th>\n",
              "    </tr>\n",
              "  </thead>\n",
              "  <tbody>\n",
              "    <tr>\n",
              "      <th>0</th>\n",
              "      <td>0.038076</td>\n",
              "      <td>0.050680</td>\n",
              "      <td>0.061696</td>\n",
              "      <td>0.021872</td>\n",
              "      <td>-0.044223</td>\n",
              "      <td>-0.034821</td>\n",
              "      <td>-0.043401</td>\n",
              "      <td>-0.002592</td>\n",
              "      <td>0.019908</td>\n",
              "      <td>-0.017646</td>\n",
              "    </tr>\n",
              "    <tr>\n",
              "      <th>1</th>\n",
              "      <td>-0.001882</td>\n",
              "      <td>-0.044642</td>\n",
              "      <td>-0.051474</td>\n",
              "      <td>-0.026328</td>\n",
              "      <td>-0.008449</td>\n",
              "      <td>-0.019163</td>\n",
              "      <td>0.074412</td>\n",
              "      <td>-0.039493</td>\n",
              "      <td>-0.068330</td>\n",
              "      <td>-0.092204</td>\n",
              "    </tr>\n",
              "    <tr>\n",
              "      <th>2</th>\n",
              "      <td>0.085299</td>\n",
              "      <td>0.050680</td>\n",
              "      <td>0.044451</td>\n",
              "      <td>-0.005671</td>\n",
              "      <td>-0.045599</td>\n",
              "      <td>-0.034194</td>\n",
              "      <td>-0.032356</td>\n",
              "      <td>-0.002592</td>\n",
              "      <td>0.002864</td>\n",
              "      <td>-0.025930</td>\n",
              "    </tr>\n",
              "    <tr>\n",
              "      <th>3</th>\n",
              "      <td>-0.089063</td>\n",
              "      <td>-0.044642</td>\n",
              "      <td>-0.011595</td>\n",
              "      <td>-0.036656</td>\n",
              "      <td>0.012191</td>\n",
              "      <td>0.024991</td>\n",
              "      <td>-0.036038</td>\n",
              "      <td>0.034309</td>\n",
              "      <td>0.022692</td>\n",
              "      <td>-0.009362</td>\n",
              "    </tr>\n",
              "    <tr>\n",
              "      <th>4</th>\n",
              "      <td>0.005383</td>\n",
              "      <td>-0.044642</td>\n",
              "      <td>-0.036385</td>\n",
              "      <td>0.021872</td>\n",
              "      <td>0.003935</td>\n",
              "      <td>0.015596</td>\n",
              "      <td>0.008142</td>\n",
              "      <td>-0.002592</td>\n",
              "      <td>-0.031991</td>\n",
              "      <td>-0.046641</td>\n",
              "    </tr>\n",
              "  </tbody>\n",
              "</table>\n",
              "</div>\n",
              "      <button class=\"colab-df-convert\" onclick=\"convertToInteractive('df-94040f6b-4896-4747-92e0-03d806d29332')\"\n",
              "              title=\"Convert this dataframe to an interactive table.\"\n",
              "              style=\"display:none;\">\n",
              "        \n",
              "  <svg xmlns=\"http://www.w3.org/2000/svg\" height=\"24px\"viewBox=\"0 0 24 24\"\n",
              "       width=\"24px\">\n",
              "    <path d=\"M0 0h24v24H0V0z\" fill=\"none\"/>\n",
              "    <path d=\"M18.56 5.44l.94 2.06.94-2.06 2.06-.94-2.06-.94-.94-2.06-.94 2.06-2.06.94zm-11 1L8.5 8.5l.94-2.06 2.06-.94-2.06-.94L8.5 2.5l-.94 2.06-2.06.94zm10 10l.94 2.06.94-2.06 2.06-.94-2.06-.94-.94-2.06-.94 2.06-2.06.94z\"/><path d=\"M17.41 7.96l-1.37-1.37c-.4-.4-.92-.59-1.43-.59-.52 0-1.04.2-1.43.59L10.3 9.45l-7.72 7.72c-.78.78-.78 2.05 0 2.83L4 21.41c.39.39.9.59 1.41.59.51 0 1.02-.2 1.41-.59l7.78-7.78 2.81-2.81c.8-.78.8-2.07 0-2.86zM5.41 20L4 18.59l7.72-7.72 1.47 1.35L5.41 20z\"/>\n",
              "  </svg>\n",
              "      </button>\n",
              "      \n",
              "  <style>\n",
              "    .colab-df-container {\n",
              "      display:flex;\n",
              "      flex-wrap:wrap;\n",
              "      gap: 12px;\n",
              "    }\n",
              "\n",
              "    .colab-df-convert {\n",
              "      background-color: #E8F0FE;\n",
              "      border: none;\n",
              "      border-radius: 50%;\n",
              "      cursor: pointer;\n",
              "      display: none;\n",
              "      fill: #1967D2;\n",
              "      height: 32px;\n",
              "      padding: 0 0 0 0;\n",
              "      width: 32px;\n",
              "    }\n",
              "\n",
              "    .colab-df-convert:hover {\n",
              "      background-color: #E2EBFA;\n",
              "      box-shadow: 0px 1px 2px rgba(60, 64, 67, 0.3), 0px 1px 3px 1px rgba(60, 64, 67, 0.15);\n",
              "      fill: #174EA6;\n",
              "    }\n",
              "\n",
              "    [theme=dark] .colab-df-convert {\n",
              "      background-color: #3B4455;\n",
              "      fill: #D2E3FC;\n",
              "    }\n",
              "\n",
              "    [theme=dark] .colab-df-convert:hover {\n",
              "      background-color: #434B5C;\n",
              "      box-shadow: 0px 1px 3px 1px rgba(0, 0, 0, 0.15);\n",
              "      filter: drop-shadow(0px 1px 2px rgba(0, 0, 0, 0.3));\n",
              "      fill: #FFFFFF;\n",
              "    }\n",
              "  </style>\n",
              "\n",
              "      <script>\n",
              "        const buttonEl =\n",
              "          document.querySelector('#df-94040f6b-4896-4747-92e0-03d806d29332 button.colab-df-convert');\n",
              "        buttonEl.style.display =\n",
              "          google.colab.kernel.accessAllowed ? 'block' : 'none';\n",
              "\n",
              "        async function convertToInteractive(key) {\n",
              "          const element = document.querySelector('#df-94040f6b-4896-4747-92e0-03d806d29332');\n",
              "          const dataTable =\n",
              "            await google.colab.kernel.invokeFunction('convertToInteractive',\n",
              "                                                     [key], {});\n",
              "          if (!dataTable) return;\n",
              "\n",
              "          const docLinkHtml = 'Like what you see? Visit the ' +\n",
              "            '<a target=\"_blank\" href=https://colab.research.google.com/notebooks/data_table.ipynb>data table notebook</a>'\n",
              "            + ' to learn more about interactive tables.';\n",
              "          element.innerHTML = '';\n",
              "          dataTable['output_type'] = 'display_data';\n",
              "          await google.colab.output.renderOutput(dataTable, element);\n",
              "          const docLink = document.createElement('div');\n",
              "          docLink.innerHTML = docLinkHtml;\n",
              "          element.appendChild(docLink);\n",
              "        }\n",
              "      </script>\n",
              "    </div>\n",
              "  </div>\n",
              "  "
            ],
            "text/plain": [
              "        age       sex       bmi        bp        s1        s2        s3  \\\n",
              "0  0.038076  0.050680  0.061696  0.021872 -0.044223 -0.034821 -0.043401   \n",
              "1 -0.001882 -0.044642 -0.051474 -0.026328 -0.008449 -0.019163  0.074412   \n",
              "2  0.085299  0.050680  0.044451 -0.005671 -0.045599 -0.034194 -0.032356   \n",
              "3 -0.089063 -0.044642 -0.011595 -0.036656  0.012191  0.024991 -0.036038   \n",
              "4  0.005383 -0.044642 -0.036385  0.021872  0.003935  0.015596  0.008142   \n",
              "\n",
              "         s4        s5        s6  \n",
              "0 -0.002592  0.019908 -0.017646  \n",
              "1 -0.039493 -0.068330 -0.092204  \n",
              "2 -0.002592  0.002864 -0.025930  \n",
              "3  0.034309  0.022692 -0.009362  \n",
              "4 -0.002592 -0.031991 -0.046641  "
            ]
          },
          "execution_count": 12,
          "metadata": {},
          "output_type": "execute_result"
        }
      ],
      "source": [
        "#from sklearn.model_selection import train_test_split\n",
        "#X_train, X_test , y_train, y_test = train_test_split(X, y2, train_size = 40)\n",
        "\n",
        "X_train = X[0:40]\n",
        "X_test = X[40:]\n",
        "y_train = y2[0:40,0]\n",
        "y_test = y2[40:,0]\n",
        "X_train.head()"
      ]
    },
    {
      "cell_type": "markdown",
      "metadata": {
        "id": "-NgrZR2sLVF8"
      },
      "source": [
        "###  Regresja liniowa\n",
        "Poniżej widać pewne przeuczenie modelu regresji liniowej.\n"
      ]
    },
    {
      "cell_type": "code",
      "execution_count": null,
      "metadata": {
        "colab": {
          "base_uri": "https://localhost:8080/"
        },
        "id": "j0EBJwclLIhj",
        "outputId": "af4c3e27-faa7-423e-cdb2-b8260eedf2c9"
      },
      "outputs": [
        {
          "name": "stdout",
          "output_type": "stream",
          "text": [
            " R^2: 0.6897762205586805 \n",
            " coef: [ -1.97678013  -1.8165416    5.13057043   4.6763912  -17.70405487\n",
            "   4.80952831   7.88866699  10.16728776  18.78243966  -5.64894025] \n",
            " intercept: -0.08660621048851444 \n",
            "  R^2 - testowy 0.28795059767697684\n",
            " R^2: 0.5177494254132934 \n",
            " coef: [[ -0.13001884  -3.11430123   6.75066232   4.21254835 -10.28733834\n",
            "    6.1910424    1.31216923   2.29936317   9.75614628   0.87818624]] \n",
            " intercept: [7.12105017e-15]\n"
          ]
        }
      ],
      "source": [
        "reg5 = LinearRegression()\n",
        "\n",
        "reg5.fit(X_train,y_train)\n",
        "print(' R^2:', reg5.score(X_train, y_train),'\\n',\n",
        "      'coef:', reg5.coef_,'\\n',\n",
        "     'intercept:', reg5.intercept_, '\\n',\n",
        "      ' R^2 - testowy', reg5.score(X_test, y_test))\n",
        "\n",
        "# dla porównania zwykła regresja liniowa\n",
        "print(' R^2:', reg_s.score(X, y2),'\\n',\n",
        "      'coef:', reg_s.coef_,'\\n',\n",
        "     'intercept:', reg_s.intercept_)\n"
      ]
    },
    {
      "cell_type": "markdown",
      "metadata": {
        "id": "YMFJb0dXMk0j"
      },
      "source": [
        "### Po zastosowaniu regularyzacji\n",
        "\n",
        "Poniżej obliczenia przy stosowaniu regularyzacji. Widać wyraźną poprawę dopasowania na zbiorze testowym względem zwykłej regresji liniowej. Do ustalenia pozostaje jeszcze sposób doboru parametru $\\alpha$ &mdash; jest to trudne przy małym rozmiarze zbioru danych, a głównie w takiej sytuacji używa się tych metod. Najlepszym rozwiązaniem wydaje się walidacja krzyżowa. Na obecnym etapie zostanie to pominięte. "
      ]
    },
    {
      "cell_type": "code",
      "execution_count": null,
      "metadata": {
        "colab": {
          "base_uri": "https://localhost:8080/"
        },
        "id": "y5j65iETM0VY",
        "outputId": "41ac197b-6766-419e-8c45-1453324abdae"
      },
      "outputs": [
        {
          "name": "stdout",
          "output_type": "stream",
          "text": [
            " R^2: 0.390837690153234 \n",
            " coef: [-3.56756496e-02 -1.93409855e-01  2.19550930e+00  1.46590424e+00\n",
            " -1.22034597e-03 -9.19583368e-01 -1.18772282e+00  1.37910088e+00\n",
            "  3.58943031e+00  8.93813429e-01] \n",
            " intercept: 0.015314593244775805 \n",
            "  R^2 - testowy 0.36362197426060383\n",
            "------------------------------------\n",
            " R^2: 0.616343904121351 \n",
            " coef: [-0.75590404 -0.62740668  3.89662161  2.03883486 -3.85563868 -0.\n",
            " -0.          1.84494915 12.66213507 -1.37486128] \n",
            " intercept: -0.012523740261601128 \n",
            "  R^2 - testowy 0.42860202968264605\n"
          ]
        }
      ],
      "source": [
        "reg6 = Ridge(alpha=0.2, solver='cholesky')\n",
        "reg7 = Lasso(alpha=0.2/77)\n",
        "\n",
        "reg6.fit(X_train, y_train)\n",
        "reg7.fit(X_train, y_train)\n",
        "\n",
        "print(' R^2:', reg6.score(X_train, y_train),'\\n',\n",
        "      'coef:', reg6.coef_,'\\n',\n",
        "     'intercept:', reg6.intercept_, '\\n',\n",
        "      ' R^2 - testowy', reg6.score(X_test, y_test))\n",
        "print('------------------------------------')\n",
        "print(' R^2:', reg7.score(X_train, y_train),'\\n',\n",
        "      'coef:', reg7.coef_,'\\n',\n",
        "     'intercept:', reg7.intercept_, '\\n',\n",
        "      ' R^2 - testowy', reg7.score(X_test, y_test))\n"
      ]
    }
  ],
  "metadata": {
    "colab": {
      "collapsed_sections": [],
      "include_colab_link": true,
      "name": "Część 3_Regresja_regularyzowana_PG_zmiany.ipynb",
      "provenance": []
    },
    "kernelspec": {
      "display_name": "Python 3 (ipykernel)",
      "language": "python",
      "name": "python3"
    },
    "language_info": {
      "codemirror_mode": {
        "name": "ipython",
        "version": 3
      },
      "file_extension": ".py",
      "mimetype": "text/x-python",
      "name": "python",
      "nbconvert_exporter": "python",
      "pygments_lexer": "ipython3",
      "version": "3.9.2"
    },
    "pycharm": {
      "stem_cell": {
        "cell_type": "raw",
        "metadata": {
          "collapsed": false
        },
        "source": []
      }
    }
  },
  "nbformat": 4,
  "nbformat_minor": 0
}
