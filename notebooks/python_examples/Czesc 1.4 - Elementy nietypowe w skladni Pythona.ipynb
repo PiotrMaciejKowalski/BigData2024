{
 "cells": [
  {
   "cell_type": "markdown",
   "metadata": {
    "collapsed": true
   },
   "source": [
    "# Nietypowe rozwiązania języka Python\n",
    "\n",
    "W tej lekcji wprowadzimy osobliwe twory występujące w języku Python\n",
    "\n",
    "# Szybka inicjalizacja kolekcji\n",
    "\n",
    "W Python występuje pewna często wykorzystywana metoda na szybkie inicjalizowanie kolekcji poprzez przetwarzanie innych kolekcji. Łączy ona w sobie symbole listy oraz pętle\n",
    "\n"
   ]
  },
  {
   "cell_type": "code",
   "execution_count": 1,
   "metadata": {},
   "outputs": [
    {
     "name": "stdout",
     "output_type": "stream",
     "text": [
      "[0, 2, 4, 6, 8]\n"
     ]
    }
   ],
   "source": [
    "kolekcja = [i for i in range(0,10,2)]\n",
    "print(kolekcja)"
   ]
  },
  {
   "cell_type": "markdown",
   "metadata": {},
   "source": [
    "Można dodać pewne przekształcenia"
   ]
  },
  {
   "cell_type": "code",
   "execution_count": 2,
   "metadata": {},
   "outputs": [
    {
     "name": "stdout",
     "output_type": "stream",
     "text": [
      "[2, 6, 18, 38, 66]\n"
     ]
    }
   ],
   "source": [
    "kolekcja = [i*i+2 for i in range(0,10,2)]\n",
    "print(kolekcja)"
   ]
  },
  {
   "cell_type": "markdown",
   "metadata": {},
   "source": [
    "Tak samo daje się zrobić poprzez przekształcanie innych kolekcji"
   ]
  },
  {
   "cell_type": "code",
   "execution_count": 3,
   "metadata": {},
   "outputs": [
    {
     "name": "stdout",
     "output_type": "stream",
     "text": [
      "['mój kot', 'mój pies', 'mój żółw']\n"
     ]
    }
   ],
   "source": [
    "kolekcja_orig = ['kot', 'pies', 'żółw']\n",
    "kolekcja_moja = [ 'mój '+i for i in kolekcja_orig ]\n",
    "print(kolekcja_moja)"
   ]
  },
  {
   "cell_type": "markdown",
   "metadata": {},
   "source": [
    "Lub np. jeszcze z z waunkowością"
   ]
  },
  {
   "cell_type": "code",
   "execution_count": 4,
   "metadata": {},
   "outputs": [
    {
     "name": "stdout",
     "output_type": "stream",
     "text": [
      "[0, 2, 4, 6, 8, 10, 12, 14, 16, 18]\n"
     ]
    }
   ],
   "source": [
    "parzyste = [i for i in range(0, 20) if i % 2 == 0]\n",
    "print(parzyste)"
   ]
  },
  {
   "cell_type": "markdown",
   "metadata": {},
   "source": [
    "Lub z warunkową wartością"
   ]
  },
  {
   "cell_type": "code",
   "execution_count": 6,
   "metadata": {},
   "outputs": [
    {
     "name": "stdout",
     "output_type": "stream",
     "text": [
      "['L: 0 parzysta', 'L: 1 nieparzysta', 'L: 2 parzysta', 'L: 3 nieparzysta', 'L: 4 parzysta', 'L: 5 nieparzysta', 'L: 6 parzysta', 'L: 7 nieparzysta', 'L: 8 parzysta', 'L: 9 nieparzysta', 'L: 10 parzysta', 'L: 11 nieparzysta', 'L: 12 parzysta', 'L: 13 nieparzysta', 'L: 14 parzysta', 'L: 15 nieparzysta', 'L: 16 parzysta', 'L: 17 nieparzysta', 'L: 18 parzysta', 'L: 19 nieparzysta']\n"
     ]
    }
   ],
   "source": [
    "tablica_parzystych = [ 'L: '+str(i)+' parzysta' if i % 2 ==0 else 'L: '+str(i)+' nieparzysta' for i in range(0,20) ]\n",
    "print(tablica_parzystych)"
   ]
  },
  {
   "cell_type": "markdown",
   "metadata": {},
   "source": [
    "# Pętla while-else?\n",
    "\n",
    "W składni Pythona występuje również pętla z klauzulą 'else'. Jest to coś niespotykanego w innych językach programowania"
   ]
  },
  {
   "cell_type": "code",
   "execution_count": 7,
   "metadata": {},
   "outputs": [
    {
     "name": "stdout",
     "output_type": "stream",
     "text": [
      "W petli\n",
      "W petli\n",
      "W petli\n",
      "W petli\n",
      "W petli\n",
      "Koniec przez 'else'\n"
     ]
    }
   ],
   "source": [
    "liczba = 0\n",
    "while liczba < 5:\n",
    "  print(\"W petli\")\n",
    "  liczba+=1\n",
    "else:\n",
    "  print(\"Koniec przez 'else'\")"
   ]
  },
  {
   "cell_type": "markdown",
   "metadata": {},
   "source": [
    "Rodzi to pytanie wielu osób zajmujących się programowaniem - czemu tego używać? Prezentujemy przykład pokazujący zasadę używania:"
   ]
  },
  {
   "cell_type": "code",
   "execution_count": 8,
   "metadata": {},
   "outputs": [
    {
     "name": "stdout",
     "output_type": "stream",
     "text": [
      "W pętli\n",
      "W pętli\n",
      "Koniec przez 'else'\n",
      "Koniec petli\n"
     ]
    }
   ],
   "source": [
    "liczba = 3\n",
    "while liczba < 20 :\n",
    "  print(\"W pętli\")\n",
    "  if (liczba <= 0):\n",
    "    break\n",
    "  liczba += 1\n",
    "  liczba *= liczba\n",
    "else:\n",
    "  print(\"Koniec przez 'else'\")\n",
    "print(\"Koniec petli\")"
   ]
  },
  {
   "cell_type": "code",
   "execution_count": 9,
   "metadata": {},
   "outputs": [
    {
     "name": "stdout",
     "output_type": "stream",
     "text": [
      "W pętli\n",
      "Koniec petli\n"
     ]
    }
   ],
   "source": [
    "liczba = -3\n",
    "while liczba < 20 :\n",
    "  print(\"W pętli\")\n",
    "  if (liczba <= 0):\n",
    "    break\n",
    "  liczba += 1\n",
    "  liczba *= liczba\n",
    "else:\n",
    "  print(\"Koniec przez 'else'\")\n",
    "print(\"Koniec petli\")"
   ]
  },
  {
   "cell_type": "markdown",
   "metadata": {},
   "source": [
    "Pętle while-else wykorzystujemy wiec w sytuacji gdy chcemy wykonać określoną liczbę pętli i zakończyć je pewnym kodem. Dopuszczamy jednak możliwość, że w trakcie wykonywania pętli dojdzie do sytuacji, kiedy ta dodatkowa klauzula nie powinna się wykonać.\n",
    "\n",
    "Powyższa petla nie należy do najczęściej stosowanych instrukcji języka Pythona. Należy ją traktować jako ciekawostkę."
   ]
  },
  {
   "cell_type": "markdown",
   "metadata": {},
   "source": [
    "# Funkcje lambda\n",
    "\n",
    "Funkcje lambda są elementem programowania funkcyjnego, który przenika do coraz większej liczby języków programowania strukturalno-obiektowego. Pozwalają one tworzyć proste funkcje tak jak tworzy się zmienne. Składnia jest prosta i przyjemna:"
   ]
  },
  {
   "cell_type": "code",
   "execution_count": 10,
   "metadata": {},
   "outputs": [
    {
     "name": "stdout",
     "output_type": "stream",
     "text": [
      "4\n"
     ]
    }
   ],
   "source": [
    "plus_one = lambda x : x+1\n",
    "print( plus_one(3) )"
   ]
  },
  {
   "cell_type": "markdown",
   "metadata": {},
   "source": [
    "Funkcje lambda wykorzytywane są coraz częściej do skrócenia pewnych form zapisu w kodzie.\n",
    "\n",
    "Choć Python narzuca pewne ograniczenia na to co dzieje w funkcjach lambda - może tam się dziać naprawdę wiele rzeczy - np instrukcja warunkowa"
   ]
  },
  {
   "cell_type": "code",
   "execution_count": 14,
   "metadata": {},
   "outputs": [
    {
     "name": "stdout",
     "output_type": "stream",
     "text": [
      "['TAK', 'NIE', 'TAK', 'NIE', 'TAK', 'NIE', 'TAK', 'NIE', 'TAK', 'NIE']\n"
     ]
    }
   ],
   "source": [
    "kolekcja = [i for i in range(10)]\n",
    "parzystosc = lambda x : 'TAK' if x%2==0 else 'NIE'\n",
    "parzystosc_kolekcja = [ parzystosc(i) for i in kolekcja]\n",
    "print(parzystosc_kolekcja)"
   ]
  },
  {
   "cell_type": "markdown",
   "metadata": {},
   "source": [
    "Zarówno z notacja szybkiej inicjalizacji jak i funkcjami lambda spotkamy się jeszcze w lekcji o programowaniu funkcyjnym w Pythonie"
   ]
  },
  {
   "cell_type": "markdown",
   "metadata": {},
   "source": [
    "# Inne nietypowe elementy\n",
    "\n",
    "## Obiekt None\n",
    "\n",
    "Spośród wielu obiektów występujących w Pythonie, nie wiele jest równie ciekawych co obiekt None. Aby wogóle zacząć od wyobrażenia sobie tego czym jest None, odwołamy się do analogii. \n",
    "\n",
    "W Javie\n",
    "```java\n",
    "String s = null;\n",
    "```\n",
    "było bardzo powszechną konstrukcją. Obiekty były tam przechowywane pod postacią referencji do nich, a wsród nich była możliwość ustawienia referencji na pusty adres pamięci tj. null. Praktycznie None ma bardzo podobne zachowanie i zastosowanie.\n",
    "\n",
    "Jest kilka pragmatycznych różnic pomiędzy wymienionymi. None nie jest adresem, jest obiektem. I to obiektem specjalnego typu NoneType.\n",
    "\n",
    "Do radzenia sobie z None należy używać specjalnych struktur w if-ach\n",
    "\n",
    "\n",
    "\n",
    "## Operacja pass"
   ]
  },
  {
   "cell_type": "code",
   "execution_count": 3,
   "metadata": {},
   "outputs": [
    {
     "name": "stdout",
     "output_type": "stream",
     "text": [
      "A is None\n",
      "B is not None\n"
     ]
    }
   ],
   "source": [
    "a = None\n",
    "if a is None:\n",
    "    print('A is None')\n",
    "    \n",
    "b = 7 \n",
    "if b is not None:\n",
    "    print('B is not None')"
   ]
  },
  {
   "cell_type": "markdown",
   "metadata": {},
   "source": [
    "## Operacja pass\n",
    "\n",
    "jest jeszcze polecenie pass. Najczęściej używamy je w funkcjach by oznaczyć, że na chwilę obecną brakuje w nich implementacji.\n"
   ]
  },
  {
   "cell_type": "code",
   "execution_count": 4,
   "metadata": {},
   "outputs": [
    {
     "name": "stdout",
     "output_type": "stream",
     "text": [
      "nieparzysta\n"
     ]
    }
   ],
   "source": [
    "a = 7 \n",
    "if a % 2 == 0:\n",
    "    pass\n",
    "else:\n",
    "    print('nieparzysta')\n",
    "\n",
    "\n",
    "def jakas_funkcja():\n",
    "    pass\n",
    "\n"
   ]
  },
  {
   "cell_type": "markdown",
   "metadata": {},
   "source": [
    "## Klauzula with\n",
    "\n",
    "Klauzula with służy do pracy z tzw. kontekstami. Najprościej można je rozumieć jak tworzenie bloku do pracy z pewnym zewnętrznym względem Pythona narzędziem. Przykładem może tu być praca z otwartym plikiem na dysku, zasobem internetowym, czy innym programem systemu operacyjnego.\n"
   ]
  },
  {
   "cell_type": "code",
   "execution_count": 2,
   "metadata": {},
   "outputs": [
    {
     "name": "stdout",
     "output_type": "stream",
     "text": [
      "Czy plik jest zamknięty  False\n",
      "please read this!\n",
      "Czy plik jest zamknięty  True\n"
     ]
    }
   ],
   "source": [
    "with open('readme.txt', 'r') as plik:\n",
    "    dane = plik.read()\n",
    "    print('Czy plik jest zamknięty ', plik.closed)\n",
    "print(dane)\n",
    "print('Czy plik jest zamknięty ', plik.closed)"
   ]
  },
  {
   "cell_type": "markdown",
   "metadata": {},
   "source": [
    "Należy stąd wyciągnać następującą obserwację\n",
    "\n",
    "* Przy wykorzystaniu with w bloku zamkniete są wszystkie operacje wykonywane na danym kontekście\n",
    "* blok zarządza tym aby operacje otworzenia i zamknięcia danego kontekstu zostały należycie wykonane (np. poczeka na otwarcie zamknięcie pliku)\n",
    "\n",
    "Dalej przyjrzymy się jeszcze czego potrzeba aby napisać własny kontekst\n",
    "\n"
   ]
  },
  {
   "cell_type": "code",
   "execution_count": 4,
   "metadata": {},
   "outputs": [
    {
     "name": "stdout",
     "output_type": "stream",
     "text": [
      "Zaczynami\n",
      "Utworzono kontekst\n",
      "Wywołano enter\n",
      "Zaczeliśmy\n",
      "[3]\n",
      "Wywołano exit\n",
      "Zakonczylismy\n"
     ]
    }
   ],
   "source": [
    "class MojeDane(object):\n",
    "    \n",
    "    def __init__(self):\n",
    "        self._data = []\n",
    "        \n",
    "    def add(self, item):\n",
    "        self._data.append(item)\n",
    "        \n",
    "    def show(self):\n",
    "        print(self._data)\n",
    "        \n",
    "        \n",
    "class MojKontekst(object):\n",
    "    \n",
    "    def __init__(self, md: MojeDane):\n",
    "        print('Utworzono kontekst')\n",
    "        self._dane = md\n",
    "        \n",
    "    def __enter__(self):\n",
    "        print('Wywołano enter')\n",
    "    \n",
    "    def __exit__(self, exc_type, exc_val, exc_tb):\n",
    "        print('Wywołano exit')\n",
    "\n",
    "\n",
    "print('Zaczynami')\n",
    "md = MojeDane()\n",
    "with MojKontekst(md):\n",
    "    print('Zaczeliśmy')\n",
    "    md.add(3)\n",
    "    md.show()\n",
    "print('Zakonczylismy')"
   ]
  },
  {
   "cell_type": "markdown",
   "metadata": {},
   "source": []
  }
 ],
 "metadata": {
  "kernelspec": {
   "display_name": "Python 3",
   "language": "python",
   "name": "python3"
  },
  "language_info": {
   "codemirror_mode": {
    "name": "ipython",
    "version": 3
   },
   "file_extension": ".py",
   "mimetype": "text/x-python",
   "name": "python",
   "nbconvert_exporter": "python",
   "pygments_lexer": "ipython3",
   "version": "3.6.8"
  }
 },
 "nbformat": 4,
 "nbformat_minor": 1
}
