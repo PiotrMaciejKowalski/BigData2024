{
  "cells": [
    {
      "cell_type": "markdown",
      "metadata": {
        "id": "szTZNbGd616q"
      },
      "source": [
        "# Elementy klasyfikacji\n",
        "\n",
        "Ten dokument omawia zagadnienia *analizy dyskryminacyjnej* i powiązany z nim problem *klasyfikacji*.  \n",
        "\n",
        "Najogólniej analiza dyskryminacyjna zajmuje się modelowaniem zależności zmiennej losowej $Y$ od zmiennej $X$ dla wektora $(X, Y)$, gdzie $Y$ jest zmienną jakościową (na skali nominalnej) a $X$ &mdash; (być może wielowymiarową) zmienną losową w zasadzie dowolnego typu (choć niektóre metody mają pewne ograniczenia). \n",
        "\n",
        "Celem analizy dyskryminacyjnej jest modelowanie prawdopodobieństwa warunkowego $$P( Y = y | X = x),$$ w oparciu o próbę statystyczną $(X_1, Y_1), \\dots, (X_n, Y_n)$.\n",
        "\n",
        "Najbardziej naturalnym pytaniem jest dla jakiej wartości $y \\in Y(\\Omega)$ jest ono największe, co prowadzi do zdefiniowania funkcji *klasyfikatora*:\n",
        "\n",
        "$$f(x) = \\arg \\max_y P( Y = y | X = x).$$ \n",
        "\n",
        "Z grubsza więc analiza dyskryminacyjna jest odpowiednikiem *analizy regresji*, a klasyfikacja &mdash; *prognozowania statystycznego*, różnica wynika tylko z typu (skali pomiarowej) zmiennej objaśnianej. \n",
        "\n",
        "\n",
        "Przegląd metod analizy dyskryminacyjnej w Pythonie rozpocznijmy od wczytania standardowych pakietów oraz przykładowego zbioru danych (klasycznego zbioru *iris*)."
      ]
    },
    {
      "cell_type": "code",
      "execution_count": 1,
      "metadata": {
        "id": "sPu-Espztlr9",
        "pycharm": {
          "is_executing": false,
          "name": "#%% \n"
        }
      },
      "outputs": [],
      "source": [
        "import numpy as np\n",
        "import matplotlib.pyplot as plt \n",
        "import pandas as pd"
      ]
    },
    {
      "cell_type": "code",
      "execution_count": 2,
      "metadata": {
        "id": "3l9lEIrutlsH",
        "pycharm": {
          "is_executing": true,
          "name": "#%%\n"
        }
      },
      "outputs": [],
      "source": [
        "from sklearn import datasets\n",
        "\n",
        "dataset = datasets.load_iris()"
      ]
    },
    {
      "cell_type": "markdown",
      "metadata": {
        "id": "i6VFpsuqtlsI"
      },
      "source": [
        "\n",
        "## Preprocessing \n",
        "\n",
        "Dokonajmy konwersji zbioru danych na pakiety *numpy* i *pandas*."
      ]
    },
    {
      "cell_type": "code",
      "execution_count": 3,
      "metadata": {
        "colab": {
          "base_uri": "https://localhost:8080/",
          "height": 495
        },
        "id": "WtXEvB32tlsI",
        "outputId": "004891d1-b185-43a7-b69f-f40cace1dc42",
        "pycharm": {
          "is_executing": false,
          "name": "#%%\n"
        }
      },
      "outputs": [
        {
          "name": "stdout",
          "output_type": "stream",
          "text": [
            "   sepal length (cm)  sepal width (cm)  petal length (cm)  petal width (cm)  \\\n",
            "0                5.1               3.5                1.4               0.2   \n",
            "1                4.9               3.0                1.4               0.2   \n",
            "2                4.7               3.2                1.3               0.2   \n",
            "3                4.6               3.1                1.5               0.2   \n",
            "4                5.0               3.6                1.4               0.2   \n",
            "\n",
            "   target  \n",
            "0     0.0  \n",
            "1     0.0  \n",
            "2     0.0  \n",
            "3     0.0  \n",
            "4     0.0  \n"
          ]
        },
        {
          "data": {
            "image/png": "[encoded data removed]",
            "text/plain": [
              "<Figure size 432x288 with 1 Axes>"
            ]
          },
          "metadata": {
            "needs_background": "light"
          },
          "output_type": "display_data"
        }
      ],
      "source": [
        "%matplotlib inline \n",
        "\n",
        "import numpy as np\n",
        "import pandas as pd\n",
        "import matplotlib.pyplot as plt\n",
        "\n",
        "\n",
        "size = len(dataset.data)\n",
        "\n",
        "data = np.concatenate([dataset.data, np.reshape(dataset.target, (size,1))], axis = 1)\n",
        "column_names = dataset.feature_names[:]\n",
        "column_names.append('target')\n",
        "df = pd.DataFrame(data, columns = column_names, copy = True)\n",
        "print(df.head())\n",
        "\n",
        "plt.scatter(df['petal length (cm)'], df['petal width (cm)'], c = df['target'].replace({0: 'r', 1: 'g', 2: 'b'}))\n",
        "plt.show()"
      ]
    },
    {
      "cell_type": "markdown",
      "metadata": {
        "id": "G5DYRxpjtlsM"
      },
      "source": [
        "\n",
        "# Regresja logistyczna\n",
        "\n",
        "Regresja logistyczna jest dość prostą techniką, która wywodzi się z metod regresji, a daje się użyć, gdy zmienna objaśniana jest na skali dychotomicznej (tzn. gdy możemy przyjąć, że $Y(\\Omega) = \\{0, 1\\}$). Zauważmy, że wprost nie da się technik regresji zastosować, ale zauważając, że $\\mathbb{E}Y = \\mathbb{P}(Y = 1)$ możemy modelować $p(x) = \\mathbb{E}(Y | X = x) \\in (0, 1)$.\n",
        "\n",
        "Aby móc zastosować liniową funkcję zmiennej $x$ dokonuje się przekształcenia przedziału $(0, 1)$ na cały zbiór $\\mathbb{R}$ przez odwzorowanie $\\operatorname{logit}(p(x)) = \\ln \\frac{p(x)}{1-p(x)}$, a następnie modeluje się $\\operatorname{logit}(p(x)) \\approx ax + b$.\n",
        "\n",
        "Warto pamietać, że prawdziwe są zależności $$p(x) = \\frac{1}{1+e^{-\\operatorname{logit}(p(x))}}, \\qquad 1 - p(x) = \\frac{1}{1+e^{\\operatorname{logit}(p(x))}}.$$\n",
        "\n",
        "## Estymacja parametrów regresji\n",
        "\n",
        "Estymacji parametrów regresji logistycznej dokonuje się *metodą największej wiarygodności* (MLE), gdzie funkcja wiarygodności jest postaci\n",
        "$$L(X, Y, a, b) = \\left\\{\n",
        "\\begin{array}{cc}\n",
        "\\hat{p}(X) & \\textrm{ gdy } Y = 1 \\\\\n",
        "1 - \\hat{p}(X) & \\textrm{ gdy } Y = 0\n",
        "\\end{array} \\right., \\textrm{gdzie } \\hat{p}(X) = \\frac{1}{1+e^{-aX-b}}.$$\n",
        "Zatem\n",
        "$L(X, Y, a, b) = \\hat{p}(X)^Y + (1-\\hat{p}(X))^{1-Y}.$\n",
        "Dla próby statystycznej funkcja wiarygodności jest postaci\n",
        "$$L((X_1, Y_1), \\dots (X_n, Y_n), a, b) = \\prod_{i=1}^n L(X_i, Y_i, a, b).$$\n",
        "Wyznaczając maksymum powyższej funkcji względem $a, b$ wygodniej jest ją uprzednio zlogarytmizować (logarytm jest funkcją rosnącą, więc nie wpływa to na wielkość argumentów) stąd wyznacza się\n",
        "$$\\max_{a, b} \\sum_{i=1}^n \\ln L(X_i, Y_i, a, b) = \\max_{a,b} \\sum_{i=1}^n Y_i(aX_i + b) -\\ln(1+e^{aX_i+b}).\n",
        "$$\n",
        "Parametry $a, b$ wyznacza się numerycznie, przy czym istnieją ku temu dedykowane metody (iteracyjne, metodą kolejnych przybliżeń). \n",
        "\n",
        "## Obliczenia na przykładowych danych\n",
        "\n",
        "Ponieważ zmienna objaśniana powinna przyjmować tylko dwie wartości dokonamy rozpoznania wyłącznie jednego z dwóch gatunków kwiatów, rezygnując z tego, który jest łatwo klasyfikowalny. Z uwagi na prostotę i dobre narzędzia oceny modelu zrezygnujemy na tym etapie z wyodrębniania części uczącej i testowej ze zbioru danych."
      ]
    },
    {
      "cell_type": "code",
      "execution_count": 4,
      "metadata": {
        "id": "JIoNN9K3eCta"
      },
      "outputs": [],
      "source": [
        "df2 = df[df['target'] > 0].copy()\n",
        "X = df2[['sepal length (cm)', 'sepal width (cm)', 'petal length (cm)', 'petal width (cm)']]\n",
        "y = df2['target'] == 2"
      ]
    },
    {
      "cell_type": "markdown",
      "metadata": {
        "id": "ciyboI1xgqu2"
      },
      "source": [
        "### Pakiet *statsmodels*\n",
        "\n",
        "Rozpoczniemy od użycia wszystkich zmiennych, jako objaśniających."
      ]
    },
    {
      "cell_type": "code",
      "execution_count": 5,
      "metadata": {
        "colab": {
          "base_uri": "https://localhost:8080/"
        },
        "id": "3zxyGwGXglT4",
        "outputId": "a8cf18df-3dce-4e24-aeab-78038928e791"
      },
      "outputs": [
        {
          "name": "stderr",
          "output_type": "stream",
          "text": [
            "/usr/local/lib/python3.7/dist-packages/statsmodels/tools/_testing.py:19: FutureWarning: pandas.util.testing is deprecated. Use the functions in the public API at pandas.testing instead.\n",
            "  import pandas.util.testing as tm\n",
            "/usr/local/lib/python3.7/dist-packages/statsmodels/tsa/tsatools.py:117: FutureWarning: In a future version of pandas all arguments of concat except for the argument 'objs' will be keyword-only\n",
            "  x = pd.concat(x[::order], 1)\n"
          ]
        },
        {
          "name": "stdout",
          "output_type": "stream",
          "text": [
            "Optimization terminated successfully.\n",
            "         Current function value: 0.059493\n",
            "         Iterations 12\n",
            "                           Logit Regression Results                           \n",
            "==============================================================================\n",
            "Dep. Variable:                 target   No. Observations:                  100\n",
            "Model:                          Logit   Df Residuals:                       95\n",
            "Method:                           MLE   Df Model:                            4\n",
            "Date:                Thu, 05 May 2022   Pseudo R-squ.:                  0.9142\n",
            "Time:                        17:50:16   Log-Likelihood:                -5.9493\n",
            "converged:                       True   LL-Null:                       -69.315\n",
            "Covariance Type:            nonrobust   LLR p-value:                 1.947e-26\n",
            "=====================================================================================\n",
            "                        coef    std err          z      P>|z|      [0.025      0.975]\n",
            "-------------------------------------------------------------------------------------\n",
            "const               -42.6378     25.708     -1.659      0.097     -93.024       7.748\n",
            "sepal length (cm)    -2.4652      2.394     -1.030      0.303      -7.158       2.228\n",
            "sepal width (cm)     -6.6809      4.480     -1.491      0.136     -15.461       2.099\n",
            "petal length (cm)     9.4294      4.737      1.990      0.047       0.145      18.714\n",
            "petal width (cm)     18.2861      9.743      1.877      0.061      -0.809      37.381\n",
            "=====================================================================================\n",
            "\n",
            "Possibly complete quasi-separation: A fraction 0.60 of observations can be\n",
            "perfectly predicted. This might indicate that there is complete\n",
            "quasi-separation. In this case some parameters will not be identified.\n"
          ]
        }
      ],
      "source": [
        "import statsmodels.api as sm\n",
        "\n",
        "Xww = sm.add_constant(X)\n",
        "log_reg = sm.Logit(y, Xww).fit()\n",
        "print(log_reg.summary())"
      ]
    },
    {
      "cell_type": "markdown",
      "metadata": {
        "id": "XwRVxLhqhvCp"
      },
      "source": [
        "Wstępna analiza sugeruje, że najmniej istotną zmienną objaśniającą jest długość działki kielicha, następnie jej szerokość, a dalej szerokość płatka, zaś najbardziej istotna jest zależność od długości płatka. Spójrzmy więc na modele przy kolejnej eliminacji zmiennych objaśniających. Narzędziem do porównania może być bayesowskie kryterium informacyjne Schwarza.\n",
        "$$ \\operatorname{BIC} = k \\ln n - 2 \\ln \\hat{L}, $$\n",
        "gdzie $k$ jest liczbą parametrów modelu, $n$ &mdash; licznością zbioru danych, a $\\hat{L}$ &mdash; optymalną wartością funkcji wiarygodności."
      ]
    },
    {
      "cell_type": "code",
      "execution_count": 6,
      "metadata": {
        "colab": {
          "base_uri": "https://localhost:8080/"
        },
        "id": "-Kfl-ldIiRCw",
        "outputId": "adea24cc-42ee-466f-b46b-bb397e3f7ce4"
      },
      "outputs": [
        {
          "name": "stdout",
          "output_type": "stream",
          "text": [
            "    const  sepal length (cm)  sepal width (cm)  petal length (cm)  \\\n",
            "50    1.0                7.0               3.2                4.7   \n",
            "51    1.0                6.4               3.2                4.5   \n",
            "52    1.0                6.9               3.1                4.9   \n",
            "53    1.0                5.5               2.3                4.0   \n",
            "54    1.0                6.5               2.8                4.6   \n",
            "\n",
            "    petal width (cm)  \n",
            "50               1.4  \n",
            "51               1.5  \n",
            "52               1.5  \n",
            "53               1.3  \n",
            "54               1.5  \n",
            "Optimization terminated successfully.\n",
            "         Current function value: 0.066329\n",
            "         Iterations 12\n",
            "                           Logit Regression Results                           \n",
            "==============================================================================\n",
            "Dep. Variable:                 target   No. Observations:                  100\n",
            "Model:                          Logit   Df Residuals:                       96\n",
            "Method:                           MLE   Df Model:                            3\n",
            "Date:                Thu, 05 May 2022   Pseudo R-squ.:                  0.9043\n",
            "Time:                        17:50:16   Log-Likelihood:                -6.6329\n",
            "converged:                       True   LL-Null:                       -69.315\n",
            "Covariance Type:            nonrobust   LLR p-value:                 5.396e-27\n",
            "=====================================================================================\n",
            "                        coef    std err          z      P>|z|      [0.025      0.975]\n",
            "-------------------------------------------------------------------------------------\n",
            "const               -50.5268     23.995     -2.106      0.035     -97.556      -3.498\n",
            "sepal width (cm)     -8.3761      4.761     -1.759      0.079     -17.708       0.956\n",
            "petal length (cm)     7.8745      3.841      2.050      0.040       0.347      15.402\n",
            "petal width (cm)     21.4296     10.707      2.001      0.045       0.444      42.416\n",
            "=====================================================================================\n",
            "\n",
            "Possibly complete quasi-separation: A fraction 0.65 of observations can be\n",
            "perfectly predicted. This might indicate that there is complete\n",
            "quasi-separation. In this case some parameters will not be identified.\n",
            "34.9243977212993\n",
            "31.686519858554732\n"
          ]
        }
      ],
      "source": [
        "lista = [0,2,3,4]\n",
        "print(Xww.head())  # wyraz wolny na początku\n",
        "Xww2 = Xww.iloc[:, lista]\n",
        "log_reg2 = sm.Logit(y, Xww2).fit()\n",
        "print(log_reg2.summary())\n",
        "print(log_reg.bic)\n",
        "print(log_reg2.bic) # lepszy model!"
      ]
    },
    {
      "cell_type": "code",
      "execution_count": 7,
      "metadata": {
        "colab": {
          "base_uri": "https://localhost:8080/"
        },
        "id": "kqw7cfTolsHn",
        "outputId": "e53c8c86-059f-40d7-9711-517ba923c0b0"
      },
      "outputs": [
        {
          "name": "stdout",
          "output_type": "stream",
          "text": [
            "Optimization terminated successfully.\n",
            "         Current function value: 0.102818\n",
            "         Iterations 10\n",
            "                           Logit Regression Results                           \n",
            "==============================================================================\n",
            "Dep. Variable:                 target   No. Observations:                  100\n",
            "Model:                          Logit   Df Residuals:                       97\n",
            "Method:                           MLE   Df Model:                            2\n",
            "Date:                Thu, 05 May 2022   Pseudo R-squ.:                  0.8517\n",
            "Time:                        17:50:16   Log-Likelihood:                -10.282\n",
            "converged:                       True   LL-Null:                       -69.315\n",
            "Covariance Type:            nonrobust   LLR p-value:                 2.303e-26\n",
            "=====================================================================================\n",
            "                        coef    std err          z      P>|z|      [0.025      0.975]\n",
            "-------------------------------------------------------------------------------------\n",
            "const               -45.2723     13.612     -3.326      0.001     -71.951     -18.594\n",
            "petal length (cm)     5.7545      2.306      2.496      0.013       1.235      10.274\n",
            "petal width (cm)     10.4467      3.756      2.782      0.005       3.086      17.808\n",
            "=====================================================================================\n",
            "\n",
            "Possibly complete quasi-separation: A fraction 0.34 of observations can be\n",
            "perfectly predicted. This might indicate that there is complete\n",
            "quasi-separation. In this case some parameters will not be identified.\n",
            "34.37901866135792\n",
            "31.686519858554732\n"
          ]
        }
      ],
      "source": [
        "lista = [0,3,4]\n",
        "Xww3 = Xww.iloc[:, lista]\n",
        "log_reg3 = sm.Logit(y, Xww3).fit()\n",
        "print(log_reg3.summary())\n",
        "print(log_reg3.bic)\n",
        "print(log_reg2.bic) # lepszy model!"
      ]
    },
    {
      "cell_type": "markdown",
      "metadata": {
        "id": "BOu1HZqpnDOO"
      },
      "source": [
        "Ten model i kolejny będa już nieco gorsze. Dla porządku pokażemy jednak zależność wyłącznie od szerokości płatka (okazuje się być najsliniejsza dla jednej zmiennej)."
      ]
    },
    {
      "cell_type": "code",
      "execution_count": 8,
      "metadata": {
        "colab": {
          "base_uri": "https://localhost:8080/"
        },
        "id": "zlTtiVgtnUO5",
        "outputId": "0472b06d-b3c1-41d5-931f-9cf3478e8981"
      },
      "outputs": [
        {
          "name": "stdout",
          "output_type": "stream",
          "text": [
            "Optimization terminated successfully.\n",
            "         Current function value: 0.167104\n",
            "         Iterations 9\n",
            "                           Logit Regression Results                           \n",
            "==============================================================================\n",
            "Dep. Variable:                 target   No. Observations:                  100\n",
            "Model:                          Logit   Df Residuals:                       98\n",
            "Method:                           MLE   Df Model:                            1\n",
            "Date:                Thu, 05 May 2022   Pseudo R-squ.:                  0.7589\n",
            "Time:                        17:50:16   Log-Likelihood:                -16.710\n",
            "converged:                       True   LL-Null:                       -69.315\n",
            "Covariance Type:            nonrobust   LLR p-value:                 1.099e-24\n",
            "====================================================================================\n",
            "                       coef    std err          z      P>|z|      [0.025      0.975]\n",
            "------------------------------------------------------------------------------------\n",
            "const              -21.1256      4.597     -4.596      0.000     -30.135     -12.116\n",
            "petal width (cm)    12.9475      2.843      4.554      0.000       7.375      18.519\n",
            "====================================================================================\n",
            "42.63114198650855\n",
            "31.686519858554732\n"
          ]
        }
      ],
      "source": [
        "lista = [0,4]\n",
        "Xww4 = Xww.iloc[:, lista]\n",
        "log_reg4 = sm.Logit(y, Xww4).fit()\n",
        "print(log_reg4.summary())\n",
        "print(log_reg4.bic)\n",
        "print(log_reg2.bic) # lepszy model!"
      ]
    },
    {
      "cell_type": "markdown",
      "metadata": {
        "id": "bLJfZqtcoC0k"
      },
      "source": [
        "Wykorzystamy teraz predykcję i naszkicujemy wykres linii regresji logistycznej."
      ]
    },
    {
      "cell_type": "code",
      "execution_count": 9,
      "metadata": {
        "colab": {
          "base_uri": "https://localhost:8080/",
          "height": 531
        },
        "id": "_UQ8ENu4oP4n",
        "outputId": "11b46110-8787-4aa4-e116-453a3558dbbd"
      },
      "outputs": [
        {
          "name": "stdout",
          "output_type": "stream",
          "text": [
            "const              -21.125590\n",
            "petal width (cm)    12.947477\n",
            "dtype: float64\n",
            "50     0.047466\n",
            "51     0.153895\n",
            "52     0.153895\n",
            "53     0.013468\n",
            "54     0.153895\n",
            "         ...   \n",
            "145    0.999826\n",
            "146    0.969957\n",
            "147    0.991586\n",
            "148    0.999826\n",
            "149    0.898427\n",
            "Length: 100, dtype: float64\n"
          ]
        },
        {
          "data": {
            "image/png": "[encoded data removed]",
            "text/plain": [
              "<Figure size 432x288 with 1 Axes>"
            ]
          },
          "metadata": {
            "needs_background": "light"
          },
          "output_type": "display_data"
        }
      ],
      "source": [
        "print(log_reg4.params)\n",
        "a = log_reg4.params[1]\n",
        "b = log_reg4.params[0]\n",
        "\n",
        "def f_logit(x):\n",
        "  return 1/(1+np.exp(-a*x-b))\n",
        "\n",
        "plt.plot(X['petal width (cm)'], y, 'b.')\n",
        "xx = np.linspace(1, 2.5, 500)\n",
        "yy = f_logit(xx)\n",
        "plt.plot(xx, yy, \"k-\")\n",
        "\n",
        "xx = X['petal width (cm)']\n",
        "yy = log_reg4.predict(Xww4)\n",
        "print(yy)\n",
        "plt.plot(xx, yy, \"r.\")\n",
        "\n",
        "plt.show()\n"
      ]
    },
    {
      "cell_type": "markdown",
      "metadata": {
        "id": "DO2R4ZuPqkfx"
      },
      "source": [
        "Widać niewielką liczbę różnych wartości oraz całkiem sensowną jakość prognozowania."
      ]
    },
    {
      "cell_type": "markdown",
      "metadata": {
        "id": "wO_K76nUjb7f"
      },
      "source": [
        "Podobne działanie ma funkcja *logistic_regression* z pakietu *pingouin*."
      ]
    },
    {
      "cell_type": "markdown",
      "metadata": {
        "id": "e1a-71qwq9fz"
      },
      "source": [
        "## Pakiet *scikit-learn*\n",
        "\n",
        "Zwyczajowo otrzymujemy funkcje uboższe w część statystyczną i nieco niestandardowe. Za to dość sprawnie działające i obudowane w schemat uczenia maszynowego."
      ]
    },
    {
      "cell_type": "code",
      "execution_count": 10,
      "metadata": {
        "colab": {
          "base_uri": "https://localhost:8080/"
        },
        "id": "gSj047-9tlsM",
        "outputId": "7012146f-bd62-4daa-d1e3-9f7e002f765c",
        "pycharm": {
          "is_executing": false,
          "name": "#%%\n"
        }
      },
      "outputs": [
        {
          "name": "stdout",
          "output_type": "stream",
          "text": [
            "[False False False False False False False False False False False False\n",
            " False False False False False False False False  True False False False\n",
            " False False False  True False False False False False  True False False\n",
            " False False False False False False False False False False False False\n",
            " False False  True  True  True  True  True  True False  True  True  True\n",
            "  True  True  True  True  True  True  True  True  True  True  True  True\n",
            "  True  True  True  True  True  True  True  True  True  True  True  True\n",
            "  True  True  True  True  True  True  True  True  True  True  True  True\n",
            "  True  True  True  True]\n",
            "[0.157639   0.14384834 0.31923787 0.05139067 0.21002944 0.14360238\n",
            " 0.2753357  0.00404248 0.13022999 0.04504984 0.00853649 0.08603458\n",
            " 0.02217117 0.23741004 0.01171332 0.08428743 0.20334967 0.02481411\n",
            " 0.23298515 0.02116278 0.50446634 0.03202051 0.44703558 0.16811956\n",
            " 0.0630167  0.09156289 0.24999638 0.53728579 0.18664878 0.00477823\n",
            " 0.017354   0.01023955 0.02244565 0.65268768 0.21642842 0.18439272\n",
            " 0.2201933  0.11316768 0.04647737 0.04661064 0.10537063 0.18074121\n",
            " 0.03138445 0.00409061 0.07082128 0.04700883 0.06202192 0.0678383\n",
            " 0.00188004 0.04936039 0.99342313 0.80765954 0.97330291 0.91362127\n",
            " 0.97771771 0.99572399 0.41354173 0.9822902  0.9522278  0.9918512\n",
            " 0.75838412 0.856235   0.92704572 0.82136163 0.93034935 0.92375866\n",
            " 0.87384441 0.99606997 0.99906959 0.58727945 0.96981123 0.75361514\n",
            " 0.99618515 0.60104075 0.95319289 0.95355842 0.52618715 0.58290462\n",
            " 0.95671385 0.88646202 0.97547441 0.98359536 0.965689   0.55465907\n",
            " 0.8354457  0.98821463 0.97213885 0.8725285  0.52025809 0.89644413\n",
            " 0.97203598 0.85352353 0.80765954 0.98362074 0.9816679  0.89896677\n",
            " 0.74024395 0.82340219 0.94069104 0.73100844]\n",
            "[[-0.39443136 -0.51327025  2.93075043  2.4170433 ]]\n",
            "[-14.43080433]\n",
            "const               -42.637804\n",
            "sepal length (cm)    -2.465220\n",
            "sepal width (cm)     -6.680887\n",
            "petal length (cm)     9.429385\n",
            "petal width (cm)     18.286137\n",
            "dtype: float64\n"
          ]
        }
      ],
      "source": [
        "from sklearn.linear_model import LogisticRegression\n",
        "\n",
        "classifier = LogisticRegression()\n",
        "classifier.fit(X, y)\n",
        "# prognozowanie na 2 sposoby\n",
        "y_pred = classifier.predict(X)\n",
        "print(y_pred)\n",
        "print(classifier.predict_proba(X)[:,1])\n",
        "print(classifier.coef_)\n",
        "print(classifier.intercept_)\n",
        "\n",
        "#dla porównania\n",
        "print(log_reg.params)"
      ]
    },
    {
      "cell_type": "markdown",
      "metadata": {
        "id": "RE0nA4DCs21j"
      },
      "source": [
        "Zaskoczeniem może być, że uzyskaliśmy inne parametry. Wyjaśnieniem tego faktu jest, że regresja logistyczna w pakiecie *scikit-learn* jest domyślnie regularyzowana (grzbietowo). Drobne różnice poniżej wskazują na inne algorytmy numeryczne."
      ]
    },
    {
      "cell_type": "code",
      "execution_count": 11,
      "metadata": {
        "colab": {
          "base_uri": "https://localhost:8080/"
        },
        "id": "3ayxWT4xtRTD",
        "outputId": "2568f44e-10d1-4421-c283-7f43a5756ada"
      },
      "outputs": [
        {
          "name": "stdout",
          "output_type": "stream",
          "text": [
            "[[-2.46527253 -6.68063546  9.42921397 18.28585174]]\n",
            "[-42.63686373]\n",
            "const               -42.637804\n",
            "sepal length (cm)    -2.465220\n",
            "sepal width (cm)     -6.680887\n",
            "petal length (cm)     9.429385\n",
            "petal width (cm)     18.286137\n",
            "dtype: float64\n"
          ]
        }
      ],
      "source": [
        "classifier2 = LogisticRegression(penalty='none')\n",
        "classifier2.fit(X, y)\n",
        "print(classifier2.coef_)\n",
        "print(classifier2.intercept_)\n",
        "print(log_reg.params)"
      ]
    },
    {
      "cell_type": "markdown",
      "metadata": {
        "id": "B7T0-HzMtlsO"
      },
      "source": [
        "Pozostaje nam sprawdzić skuteczność działania tego klasyfikatora\n",
        "\n",
        "## Miara accuracy\n",
        "\n",
        "Podstawowym (i przez to pierwszym) miernikiem jakość klasyfikatora jest \n",
        "jego dokładność mierzona za pomocą *accuracy*. Pomimo tego, że jest to \n",
        "miara posiadająca pewne obciążenia, nie wyobrażamy sobie nie sprawdzic \n",
        "jej wartości. \n"
      ]
    },
    {
      "cell_type": "code",
      "execution_count": 12,
      "metadata": {
        "colab": {
          "base_uri": "https://localhost:8080/"
        },
        "id": "jQytDdqQtlsO",
        "outputId": "83bf9049-5555-4f46-9550-78588fe36daa",
        "pycharm": {
          "is_executing": false,
          "name": "#%%\n"
        }
      },
      "outputs": [
        {
          "name": "stdout",
          "output_type": "stream",
          "text": [
            "0.96\n",
            "0.98\n"
          ]
        }
      ],
      "source": [
        "\n",
        "from sklearn.metrics import accuracy_score\n",
        "print(accuracy_score(y, y_pred))\n",
        "print(accuracy_score(y, classifier2.predict(X))) #dla porównania bez regularyzacji\n"
      ]
    },
    {
      "cell_type": "markdown",
      "metadata": {
        "id": "Si0End03tlsP",
        "pycharm": {
          "name": "#%% md\n"
        }
      },
      "source": [
        "\n",
        "## Miara macierz pomyłek\n",
        "\n",
        "Jeśli wynik *accuracy* jest z jakiś powodów niedostateczny &mdash; albo chcemy zrozumieć w szerszym spektrum czego \n",
        "brakuje aby osiągnąć doskonałość w klasyfikacji &mdash; sięgamy po macierz pomyłek"
      ]
    },
    {
      "cell_type": "code",
      "execution_count": 13,
      "metadata": {
        "colab": {
          "base_uri": "https://localhost:8080/",
          "height": 112
        },
        "id": "eju90gMLtlsP",
        "outputId": "b261c7e8-ad22-4541-b236-0d1170ff1be3",
        "pycharm": {
          "is_executing": false,
          "name": "#%%\n"
        }
      },
      "outputs": [
        {
          "data": {
            "text/html": [
              "\n",
              "  <div id=\"df-68fd2c6f-849c-4992-b80e-e5793448c7f5\">\n",
              "    <div class=\"colab-df-container\">\n",
              "      <div>\n",
              "<style scoped>\n",
              "    .dataframe tbody tr th:only-of-type {\n",
              "        vertical-align: middle;\n",
              "    }\n",
              "\n",
              "    .dataframe tbody tr th {\n",
              "        vertical-align: top;\n",
              "    }\n",
              "\n",
              "    .dataframe thead th {\n",
              "        text-align: right;\n",
              "    }\n",
              "</style>\n",
              "<table border=\"1\" class=\"dataframe\">\n",
              "  <thead>\n",
              "    <tr style=\"text-align: right;\">\n",
              "      <th></th>\n",
              "      <th>0</th>\n",
              "      <th>1</th>\n",
              "    </tr>\n",
              "  </thead>\n",
              "  <tbody>\n",
              "    <tr>\n",
              "      <th>0</th>\n",
              "      <td>47</td>\n",
              "      <td>3</td>\n",
              "    </tr>\n",
              "    <tr>\n",
              "      <th>1</th>\n",
              "      <td>1</td>\n",
              "      <td>49</td>\n",
              "    </tr>\n",
              "  </tbody>\n",
              "</table>\n",
              "</div>\n",
              "      <button class=\"colab-df-convert\" onclick=\"convertToInteractive('df-68fd2c6f-849c-4992-b80e-e5793448c7f5')\"\n",
              "              title=\"Convert this dataframe to an interactive table.\"\n",
              "              style=\"display:none;\">\n",
              "        \n",
              "  <svg xmlns=\"http://www.w3.org/2000/svg\" height=\"24px\"viewBox=\"0 0 24 24\"\n",
              "       width=\"24px\">\n",
              "    <path d=\"M0 0h24v24H0V0z\" fill=\"none\"/>\n",
              "    <path d=\"M18.56 5.44l.94 2.06.94-2.06 2.06-.94-2.06-.94-.94-2.06-.94 2.06-2.06.94zm-11 1L8.5 8.5l.94-2.06 2.06-.94-2.06-.94L8.5 2.5l-.94 2.06-2.06.94zm10 10l.94 2.06.94-2.06 2.06-.94-2.06-.94-.94-2.06-.94 2.06-2.06.94z\"/><path d=\"M17.41 7.96l-1.37-1.37c-.4-.4-.92-.59-1.43-.59-.52 0-1.04.2-1.43.59L10.3 9.45l-7.72 7.72c-.78.78-.78 2.05 0 2.83L4 21.41c.39.39.9.59 1.41.59.51 0 1.02-.2 1.41-.59l7.78-7.78 2.81-2.81c.8-.78.8-2.07 0-2.86zM5.41 20L4 18.59l7.72-7.72 1.47 1.35L5.41 20z\"/>\n",
              "  </svg>\n",
              "      </button>\n",
              "      \n",
              "  <style>\n",
              "    .colab-df-container {\n",
              "      display:flex;\n",
              "      flex-wrap:wrap;\n",
              "      gap: 12px;\n",
              "    }\n",
              "\n",
              "    .colab-df-convert {\n",
              "      background-color: #E8F0FE;\n",
              "      border: none;\n",
              "      border-radius: 50%;\n",
              "      cursor: pointer;\n",
              "      display: none;\n",
              "      fill: #1967D2;\n",
              "      height: 32px;\n",
              "      padding: 0 0 0 0;\n",
              "      width: 32px;\n",
              "    }\n",
              "\n",
              "    .colab-df-convert:hover {\n",
              "      background-color: #E2EBFA;\n",
              "      box-shadow: 0px 1px 2px rgba(60, 64, 67, 0.3), 0px 1px 3px 1px rgba(60, 64, 67, 0.15);\n",
              "      fill: #174EA6;\n",
              "    }\n",
              "\n",
              "    [theme=dark] .colab-df-convert {\n",
              "      background-color: #3B4455;\n",
              "      fill: #D2E3FC;\n",
              "    }\n",
              "\n",
              "    [theme=dark] .colab-df-convert:hover {\n",
              "      background-color: #434B5C;\n",
              "      box-shadow: 0px 1px 3px 1px rgba(0, 0, 0, 0.15);\n",
              "      filter: drop-shadow(0px 1px 2px rgba(0, 0, 0, 0.3));\n",
              "      fill: #FFFFFF;\n",
              "    }\n",
              "  </style>\n",
              "\n",
              "      <script>\n",
              "        const buttonEl =\n",
              "          document.querySelector('#df-68fd2c6f-849c-4992-b80e-e5793448c7f5 button.colab-df-convert');\n",
              "        buttonEl.style.display =\n",
              "          google.colab.kernel.accessAllowed ? 'block' : 'none';\n",
              "\n",
              "        async function convertToInteractive(key) {\n",
              "          const element = document.querySelector('#df-68fd2c6f-849c-4992-b80e-e5793448c7f5');\n",
              "          const dataTable =\n",
              "            await google.colab.kernel.invokeFunction('convertToInteractive',\n",
              "                                                     [key], {});\n",
              "          if (!dataTable) return;\n",
              "\n",
              "          const docLinkHtml = 'Like what you see? Visit the ' +\n",
              "            '<a target=\"_blank\" href=https://colab.research.google.com/notebooks/data_table.ipynb>data table notebook</a>'\n",
              "            + ' to learn more about interactive tables.';\n",
              "          element.innerHTML = '';\n",
              "          dataTable['output_type'] = 'display_data';\n",
              "          await google.colab.output.renderOutput(dataTable, element);\n",
              "          const docLink = document.createElement('div');\n",
              "          docLink.innerHTML = docLinkHtml;\n",
              "          element.appendChild(docLink);\n",
              "        }\n",
              "      </script>\n",
              "    </div>\n",
              "  </div>\n",
              "  "
            ],
            "text/plain": [
              "    0   1\n",
              "0  47   3\n",
              "1   1  49"
            ]
          },
          "execution_count": 13,
          "metadata": {},
          "output_type": "execute_result"
        }
      ],
      "source": [
        "from sklearn.metrics import confusion_matrix\n",
        "pd.DataFrame(confusion_matrix(y, y_pred))"
      ]
    },
    {
      "cell_type": "markdown",
      "metadata": {
        "id": "gWU8wnBqtlsQ"
      },
      "source": [
        "\n",
        "## Test walidacji krzyżowej\n",
        "\n",
        "Sprawdźmy czy dokładność klasyfikatora jest wolna od pewnych perturbacji zbioru treningowego\n"
      ]
    },
    {
      "cell_type": "code",
      "execution_count": 14,
      "metadata": {
        "colab": {
          "base_uri": "https://localhost:8080/"
        },
        "id": "AULB2fSftlsQ",
        "outputId": "aeb43c4c-4200-4576-8825-bd20cd333f9e",
        "pycharm": {
          "is_executing": false,
          "name": "#%%\n"
        }
      },
      "outputs": [
        {
          "name": "stdout",
          "output_type": "stream",
          "text": [
            "      0\n",
            "0  0.95\n",
            "1  1.00\n",
            "2  0.90\n",
            "3  0.95\n",
            "4  1.00\n",
            "     0\n",
            "0  1.0\n",
            "1  1.0\n",
            "2  0.9\n",
            "3  0.9\n",
            "4  1.0\n"
          ]
        }
      ],
      "source": [
        "\n",
        "from sklearn.model_selection import cross_val_score\n",
        "print(pd.DataFrame(cross_val_score(classifier, X, y, cv=5, scoring = 'accuracy')))\n",
        "print(pd.DataFrame(cross_val_score(classifier2, X, y, cv=5, scoring = 'accuracy')))"
      ]
    },
    {
      "cell_type": "markdown",
      "metadata": {
        "id": "8WU1so8TEiF_"
      },
      "source": [
        "## Zależność wyłącznie od *petal.width*\n",
        "\n",
        "Poniżej widać, że regularyzacja istotnie psuje jakość prostej regresji logistycznej (warto porównać z analogicznym wykresem narysowanym wyżej). "
      ]
    },
    {
      "cell_type": "code",
      "execution_count": 15,
      "metadata": {
        "colab": {
          "base_uri": "https://localhost:8080/",
          "height": 495
        },
        "id": "-Sq6AckSEnVr",
        "outputId": "41ecbd23-9493-417f-eb4b-081bee2ee05e"
      },
      "outputs": [
        {
          "name": "stdout",
          "output_type": "stream",
          "text": [
            "[False False False False False False False False False False False False\n",
            " False False False False False False False False  True False False False\n",
            " False False False  True False False False False False False False False\n",
            " False False False False False False False False False False False False\n",
            " False False  True  True  True  True  True  True  True  True  True  True\n",
            "  True  True  True  True  True  True  True  True  True False  True  True\n",
            "  True  True  True  True  True  True  True False  True  True  True False\n",
            " False  True  True  True  True  True  True  True  True  True  True  True\n",
            "  True  True  True  True]\n",
            "0.94\n"
          ]
        },
        {
          "data": {
            "image/png": "[encoded data removed]",
            "text/plain": [
              "<Figure size 432x288 with 1 Axes>"
            ]
          },
          "metadata": {
            "needs_background": "light"
          },
          "output_type": "display_data"
        },
        {
          "name": "stdout",
          "output_type": "stream",
          "text": [
            "    0   1\n",
            "0  48   2\n",
            "1   4  46\n"
          ]
        }
      ],
      "source": [
        "classifier3 = LogisticRegression() \n",
        "\n",
        "classifier3.fit(X.iloc[:,[3]], y)\n",
        "y_pred3 = classifier3.predict(X.iloc[:,[3]])\n",
        "print(y_pred3)\n",
        "print(accuracy_score(y, y_pred3))\n",
        "a = classifier3.coef_[0][0]\n",
        "b = classifier3.intercept_[0]\n",
        "\n",
        "def f_logit(x):\n",
        "  return 1/(1+np.exp(-a*x-b))\n",
        "\n",
        "plt.plot(X['petal width (cm)'], y, 'b.')\n",
        "xx = np.linspace(1, 2.5, 500)\n",
        "yy = f_logit(xx)\n",
        "plt.plot(xx, yy, \"k-\")\n",
        "plt.show()\n",
        "\n",
        "#print(pd.DataFrame(confusion_matrix(y_test, y_pred)))\n",
        "print(pd.DataFrame(confusion_matrix(y, y_pred3)))\n"
      ]
    },
    {
      "cell_type": "markdown",
      "metadata": {
        "id": "EuyxNYwetlsR",
        "pycharm": {
          "name": "#%% md\n"
        }
      },
      "source": [
        "\n",
        "## Precyzja, czułość i specyficzność\n",
        "\n",
        "Kolejne trzy miary dostępne do klasyfikacji to *precyzja*, *czułość* i *specyficzność*. Do ich rachunku wykrozystuje się\n",
        "podział wszystkich wyników klasyfikacji na 4 grupy \n",
        "\n",
        "* tp &mdash; true - positive &mdash; gdy klasyfikator otrzymał obiekt z cechą i poprawnie ją wykrył,\n",
        "* fp &mdash; false - positive &mdash; gdy klasyfikator otrzymał obiekt bez cechy ale niepoprawnie ją zgłosił,\n",
        "* tn &mdash; true -negative &mdash; gdy klasyfikator otrzymał obiekt bez cechy i poprwawnie wykrył jej brak,\n",
        "* fn &mdash; false - negative &mdash; gdy klasyfikator otrzymał obiekt z cechą ale niepoprawnie jej niezgłosił.\n",
        "\n",
        "Precyzja oznacza liczbę poprawnych rozpoznań spośród wszystkich sytuacji gdy cecha została wykryta, tj.\n",
        "\n",
        "$$P = \\frac{tp}{tp+fp}.$$\n",
        "\n",
        "Z kolei czułość mówi nam o tym jak często klasyfikator reaguje zgłaszając ceche \n",
        "(jaką część pozytywnych przypadków rozpoznaje w swojej klasyfikacji). Tzn.\n",
        "$$R = \\frac{tp}{tp+fn}.$$ \n",
        "\n",
        "Te dwie miary daje się wspólnie podsumować za pomocą średniej harmonicznej - nazywana miarę $F_1$.\n",
        "\n",
        "$$F_1 = 2 \\frac{P \\cdot R}{P+R}.$$ \n",
        "\n",
        "Kolejną, istotną miarą jest specyficzność klasyfikatora (zdolność rozpoznawania przypadków negatywnych).\n",
        "\n",
        "$$S = \\frac{tn}{tn+fp}.$$"
      ]
    },
    {
      "cell_type": "code",
      "execution_count": 16,
      "metadata": {
        "colab": {
          "base_uri": "https://localhost:8080/"
        },
        "id": "vK24_G5EtlsR",
        "outputId": "fec45061-9cba-48c8-f522-e34803c2ae88",
        "pycharm": {
          "is_executing": false,
          "name": "#%%\n"
        }
      },
      "outputs": [
        {
          "name": "stdout",
          "output_type": "stream",
          "text": [
            "Wartość precyzji   0.9423076923076923\n",
            "Wartość czułości   0.98\n",
            "Wartość f1         0.9607843137254902\n",
            "[[47  3]\n",
            " [ 1 49]]\n",
            "Wartość specyficzności   0.94\n"
          ]
        }
      ],
      "source": [
        "from sklearn.metrics import precision_score, recall_score, f1_score\n",
        "print(f'Wartość precyzji   {precision_score(y, y_pred)}')\n",
        "print(f'Wartość czułości   {recall_score(y, y_pred)}')\n",
        "print(f'Wartość f1         {f1_score(y, y_pred)}')\n",
        "cm = confusion_matrix(y, y_pred)\n",
        "print(cm)\n",
        "print(f'Wartość specyficzności   {cm[0][0]/(cm[0][0]+cm[0][1])}')"
      ]
    },
    {
      "cell_type": "markdown",
      "metadata": {
        "id": "2jEWCAVwzgZb"
      },
      "source": [
        "### Krzywa *ROC*\n",
        "\n",
        "Wybierając inny poziom (prawdopodobieństwo) odcięcia można uzyskać za pomoca regresji logistycznej całą rodzinę klasyfikatorów. Zmiana tego poziomu wpływa na kształt macierzy pomyłek, a zatem i na czułość oraz specyficzność. Stąd sens ma poniższy wykres przedstawiający zależność między czułością a specyficznością."
      ]
    },
    {
      "cell_type": "code",
      "execution_count": 17,
      "metadata": {
        "colab": {
          "base_uri": "https://localhost:8080/",
          "height": 265
        },
        "id": "pr_J4Z9mtxMU",
        "outputId": "4f216f2c-c77e-4ec1-db80-ec50250d3644"
      },
      "outputs": [
        {
          "data": {
            "image/png": "[encoded data removed]",
            "text/plain": [
              "<Figure size 432x288 with 1 Axes>"
            ]
          },
          "metadata": {
            "needs_background": "light"
          },
          "output_type": "display_data"
        }
      ],
      "source": [
        "from sklearn.metrics import roc_curve, roc_auc_score\n",
        "\n",
        "plt.figure()\n",
        "p1 = classifier.predict_proba(X)[:,1]\n",
        "fpr, tpr, _ = roc_curve(y, p1)\n",
        "plt.plot(fpr, tpr, color='darkorange',\n",
        "         lw=2, label='krzywa ROC (obszar = %0.2f)' % roc_auc_score(y, p1))\n",
        "\n",
        "p3 = classifier3.predict_proba(X.iloc[:,[3]])[:,1]\n",
        "fpr, tpr, _ = roc_curve(y, p3)\n",
        "plt.plot(fpr, tpr, color='darkgreen',\n",
        "         lw=2, label='krzywa ROC (obszar = %0.2f)' % roc_auc_score(y, p3))\n",
        "\n",
        "plt.plot([0, 1], [0, 1], color='navy', lw=2, linestyle='--')\n",
        "plt.legend(loc=\"lower right\")\n",
        "plt.show()"
      ]
    },
    {
      "cell_type": "markdown",
      "metadata": {
        "id": "aVag274Q5DvU"
      },
      "source": [
        "Alternatywna metoda (choć nie rozumeim sensu wygładzenia wykresu na obu rysunkach w drugim przypadku)."
      ]
    },
    {
      "cell_type": "code",
      "execution_count": 18,
      "metadata": {
        "colab": {
          "base_uri": "https://localhost:8080/",
          "height": 334
        },
        "id": "wpyO-ayH9dkJ",
        "outputId": "bce77864-9d01-4d4c-e3a9-9d39ed0ce87f"
      },
      "outputs": [
        {
          "name": "stderr",
          "output_type": "stream",
          "text": [
            "/usr/local/lib/python3.7/dist-packages/sklearn/utils/deprecation.py:87: FutureWarning: Function plot_roc_curve is deprecated; Function :func:`plot_roc_curve` is deprecated in 1.0 and will be removed in 1.2. Use one of the class methods: :meth:`sklearn.metric.RocCurveDisplay.from_predictions` or :meth:`sklearn.metric.RocCurveDisplay.from_estimator`.\n",
            "  warnings.warn(msg, category=FutureWarning)\n"
          ]
        },
        {
          "data": {
            "image/png": "[encoded data removed]",
            "text/plain": [
              "<Figure size 432x288 with 1 Axes>"
            ]
          },
          "metadata": {
            "needs_background": "light"
          },
          "output_type": "display_data"
        }
      ],
      "source": [
        "from sklearn.metrics import plot_roc_curve\n",
        "plot_roc_curve(classifier3, X.iloc[:,[3]], y)\n",
        "plt.show()"
      ]
    },
    {
      "cell_type": "markdown",
      "metadata": {
        "id": "MpDvCa5W9fTk"
      },
      "source": [
        "# Klasyfikacja metodą nabliższych sąsiadów"
      ]
    },
    {
      "cell_type": "code",
      "execution_count": 19,
      "metadata": {
        "id": "ZBRnlKrstYN7",
        "pycharm": {
          "is_executing": false,
          "name": "#%% \n"
        }
      },
      "outputs": [],
      "source": [
        "import numpy as np\n",
        "import matplotlib.pyplot as plt \n",
        "import pandas as pd"
      ]
    },
    {
      "cell_type": "markdown",
      "metadata": {
        "id": "cvj-SKR5tYOF"
      },
      "source": [
        "\n",
        "# Algorytm kNN\n",
        "\n",
        "W niniejszej lekcji zaprezentujemy użycie wbudowanych bibliotek do pracy z algorytmem kNN. Rozpoczniemy od użycia klasyfikatora kNN. Jest on bardzo prosty i bardzo skuteczny. Ma jednak wady:\n",
        "\n",
        "* skłonność do przeuczania\n",
        "* jest wyłącznie algorytmem klasyfikacji (nie ma łatwego odpowiednika w ramach analizy dyskryminacyjnej)\n",
        "* brak wpływu na poziom (prawdopodobieństwo) odcięcia &mdash; trudno inaczej szacować prawdopodobieństwo przypisania do określonej grupy niż przez jej liczność w zbiorze uczącym \n",
        "\n",
        "# Klasyfikcja algorytmem kNN \n",
        "\n",
        "Standardowo musimy rozpocząć od wybrania zbioru danych na którym będziemy pracować. W naszym przypadku będzie to \n",
        "ponownie zbiór Iris. Rozcznijmy od jego wczytania\n"
      ]
    },
    {
      "cell_type": "code",
      "execution_count": 20,
      "metadata": {
        "id": "CnEqBJQMtYOG",
        "pycharm": {
          "is_executing": false,
          "name": "#%%\n"
        }
      },
      "outputs": [],
      "source": [
        "from sklearn import datasets\n",
        "\n",
        "dataset = datasets.load_iris()"
      ]
    },
    {
      "cell_type": "markdown",
      "metadata": {
        "id": "NuzlbYOVtYOH"
      },
      "source": [
        "\n",
        "## Preprocessing \n",
        "\n",
        "Dokonajmy ich konwersji na nasze ulubione pakiety numpy i pandas"
      ]
    },
    {
      "cell_type": "code",
      "execution_count": 21,
      "metadata": {
        "colab": {
          "base_uri": "https://localhost:8080/",
          "height": 206
        },
        "id": "KIbX066rtYOI",
        "outputId": "166b69d4-a370-4bb1-fcc7-942885e4be27",
        "pycharm": {
          "is_executing": false,
          "name": "#%%\n"
        }
      },
      "outputs": [
        {
          "data": {
            "text/html": [
              "\n",
              "  <div id=\"df-0fcbcec1-84ce-4364-8f23-ec80dfa2dc09\">\n",
              "    <div class=\"colab-df-container\">\n",
              "      <div>\n",
              "<style scoped>\n",
              "    .dataframe tbody tr th:only-of-type {\n",
              "        vertical-align: middle;\n",
              "    }\n",
              "\n",
              "    .dataframe tbody tr th {\n",
              "        vertical-align: top;\n",
              "    }\n",
              "\n",
              "    .dataframe thead th {\n",
              "        text-align: right;\n",
              "    }\n",
              "</style>\n",
              "<table border=\"1\" class=\"dataframe\">\n",
              "  <thead>\n",
              "    <tr style=\"text-align: right;\">\n",
              "      <th></th>\n",
              "      <th>sepal length (cm)</th>\n",
              "      <th>sepal width (cm)</th>\n",
              "      <th>petal length (cm)</th>\n",
              "      <th>petal width (cm)</th>\n",
              "      <th>target</th>\n",
              "    </tr>\n",
              "  </thead>\n",
              "  <tbody>\n",
              "    <tr>\n",
              "      <th>0</th>\n",
              "      <td>5.1</td>\n",
              "      <td>3.5</td>\n",
              "      <td>1.4</td>\n",
              "      <td>0.2</td>\n",
              "      <td>0.0</td>\n",
              "    </tr>\n",
              "    <tr>\n",
              "      <th>1</th>\n",
              "      <td>4.9</td>\n",
              "      <td>3.0</td>\n",
              "      <td>1.4</td>\n",
              "      <td>0.2</td>\n",
              "      <td>0.0</td>\n",
              "    </tr>\n",
              "    <tr>\n",
              "      <th>2</th>\n",
              "      <td>4.7</td>\n",
              "      <td>3.2</td>\n",
              "      <td>1.3</td>\n",
              "      <td>0.2</td>\n",
              "      <td>0.0</td>\n",
              "    </tr>\n",
              "    <tr>\n",
              "      <th>3</th>\n",
              "      <td>4.6</td>\n",
              "      <td>3.1</td>\n",
              "      <td>1.5</td>\n",
              "      <td>0.2</td>\n",
              "      <td>0.0</td>\n",
              "    </tr>\n",
              "    <tr>\n",
              "      <th>4</th>\n",
              "      <td>5.0</td>\n",
              "      <td>3.6</td>\n",
              "      <td>1.4</td>\n",
              "      <td>0.2</td>\n",
              "      <td>0.0</td>\n",
              "    </tr>\n",
              "  </tbody>\n",
              "</table>\n",
              "</div>\n",
              "      <button class=\"colab-df-convert\" onclick=\"convertToInteractive('df-0fcbcec1-84ce-4364-8f23-ec80dfa2dc09')\"\n",
              "              title=\"Convert this dataframe to an interactive table.\"\n",
              "              style=\"display:none;\">\n",
              "        \n",
              "  <svg xmlns=\"http://www.w3.org/2000/svg\" height=\"24px\"viewBox=\"0 0 24 24\"\n",
              "       width=\"24px\">\n",
              "    <path d=\"M0 0h24v24H0V0z\" fill=\"none\"/>\n",
              "    <path d=\"M18.56 5.44l.94 2.06.94-2.06 2.06-.94-2.06-.94-.94-2.06-.94 2.06-2.06.94zm-11 1L8.5 8.5l.94-2.06 2.06-.94-2.06-.94L8.5 2.5l-.94 2.06-2.06.94zm10 10l.94 2.06.94-2.06 2.06-.94-2.06-.94-.94-2.06-.94 2.06-2.06.94z\"/><path d=\"M17.41 7.96l-1.37-1.37c-.4-.4-.92-.59-1.43-.59-.52 0-1.04.2-1.43.59L10.3 9.45l-7.72 7.72c-.78.78-.78 2.05 0 2.83L4 21.41c.39.39.9.59 1.41.59.51 0 1.02-.2 1.41-.59l7.78-7.78 2.81-2.81c.8-.78.8-2.07 0-2.86zM5.41 20L4 18.59l7.72-7.72 1.47 1.35L5.41 20z\"/>\n",
              "  </svg>\n",
              "      </button>\n",
              "      \n",
              "  <style>\n",
              "    .colab-df-container {\n",
              "      display:flex;\n",
              "      flex-wrap:wrap;\n",
              "      gap: 12px;\n",
              "    }\n",
              "\n",
              "    .colab-df-convert {\n",
              "      background-color: #E8F0FE;\n",
              "      border: none;\n",
              "      border-radius: 50%;\n",
              "      cursor: pointer;\n",
              "      display: none;\n",
              "      fill: #1967D2;\n",
              "      height: 32px;\n",
              "      padding: 0 0 0 0;\n",
              "      width: 32px;\n",
              "    }\n",
              "\n",
              "    .colab-df-convert:hover {\n",
              "      background-color: #E2EBFA;\n",
              "      box-shadow: 0px 1px 2px rgba(60, 64, 67, 0.3), 0px 1px 3px 1px rgba(60, 64, 67, 0.15);\n",
              "      fill: #174EA6;\n",
              "    }\n",
              "\n",
              "    [theme=dark] .colab-df-convert {\n",
              "      background-color: #3B4455;\n",
              "      fill: #D2E3FC;\n",
              "    }\n",
              "\n",
              "    [theme=dark] .colab-df-convert:hover {\n",
              "      background-color: #434B5C;\n",
              "      box-shadow: 0px 1px 3px 1px rgba(0, 0, 0, 0.15);\n",
              "      filter: drop-shadow(0px 1px 2px rgba(0, 0, 0, 0.3));\n",
              "      fill: #FFFFFF;\n",
              "    }\n",
              "  </style>\n",
              "\n",
              "      <script>\n",
              "        const buttonEl =\n",
              "          document.querySelector('#df-0fcbcec1-84ce-4364-8f23-ec80dfa2dc09 button.colab-df-convert');\n",
              "        buttonEl.style.display =\n",
              "          google.colab.kernel.accessAllowed ? 'block' : 'none';\n",
              "\n",
              "        async function convertToInteractive(key) {\n",
              "          const element = document.querySelector('#df-0fcbcec1-84ce-4364-8f23-ec80dfa2dc09');\n",
              "          const dataTable =\n",
              "            await google.colab.kernel.invokeFunction('convertToInteractive',\n",
              "                                                     [key], {});\n",
              "          if (!dataTable) return;\n",
              "\n",
              "          const docLinkHtml = 'Like what you see? Visit the ' +\n",
              "            '<a target=\"_blank\" href=https://colab.research.google.com/notebooks/data_table.ipynb>data table notebook</a>'\n",
              "            + ' to learn more about interactive tables.';\n",
              "          element.innerHTML = '';\n",
              "          dataTable['output_type'] = 'display_data';\n",
              "          await google.colab.output.renderOutput(dataTable, element);\n",
              "          const docLink = document.createElement('div');\n",
              "          docLink.innerHTML = docLinkHtml;\n",
              "          element.appendChild(docLink);\n",
              "        }\n",
              "      </script>\n",
              "    </div>\n",
              "  </div>\n",
              "  "
            ],
            "text/plain": [
              "   sepal length (cm)  sepal width (cm)  petal length (cm)  petal width (cm)  \\\n",
              "0                5.1               3.5                1.4               0.2   \n",
              "1                4.9               3.0                1.4               0.2   \n",
              "2                4.7               3.2                1.3               0.2   \n",
              "3                4.6               3.1                1.5               0.2   \n",
              "4                5.0               3.6                1.4               0.2   \n",
              "\n",
              "   target  \n",
              "0     0.0  \n",
              "1     0.0  \n",
              "2     0.0  \n",
              "3     0.0  \n",
              "4     0.0  "
            ]
          },
          "execution_count": 21,
          "metadata": {},
          "output_type": "execute_result"
        }
      ],
      "source": [
        "import numpy as np\n",
        "import pandas as pd\n",
        "\n",
        "size = len(dataset.data)\n",
        "\n",
        "data = np.concatenate([dataset.data, np.reshape(dataset.target, (size,1))], axis = 1)\n",
        "column_names = dataset.feature_names[:]\n",
        "column_names.append('target')\n",
        "df = pd.DataFrame(data, columns = column_names, copy = True)\n",
        "df.head()\n"
      ]
    },
    {
      "cell_type": "markdown",
      "metadata": {
        "id": "fTDTlaCxtYOJ"
      },
      "source": [
        "\n",
        "Dokonajmy podziału na zmienne objaśniane i objaśniające\n"
      ]
    },
    {
      "cell_type": "code",
      "execution_count": 22,
      "metadata": {
        "id": "Wt_UKtHJtYOK",
        "pycharm": {
          "is_executing": false,
          "name": "#%%\n"
        }
      },
      "outputs": [],
      "source": [
        "X = df[['sepal length (cm)', 'sepal width (cm)', 'petal length (cm)', 'petal width (cm)']]\n",
        "y = df['target']\n"
      ]
    },
    {
      "cell_type": "markdown",
      "metadata": {
        "id": "cClQE_u4tYOL"
      },
      "source": [
        "\n",
        "Przeprowadźmy prosty podział naszego zbioru na testowy i treningowy\n"
      ]
    },
    {
      "cell_type": "code",
      "execution_count": 23,
      "metadata": {
        "id": "BvlIP60htYOM",
        "pycharm": {
          "is_executing": false,
          "name": "#%%\n"
        }
      },
      "outputs": [],
      "source": [
        "from sklearn.model_selection import train_test_split\n",
        "\n",
        "X_train, X_test , y_train, y_test = train_test_split(X, y)\n"
      ]
    },
    {
      "cell_type": "markdown",
      "metadata": {
        "id": "ySCmrhBqtYOM"
      },
      "source": [
        "\n",
        "## Proste użycie klasyfikatora kNN\n",
        "\n",
        "Zaprezentujemy teraz użycie implementacji bibliotecznej klasyfikata kNN. \n",
        "Dokumentacja do modułu znajduje sie na [https://scikit-learn.org/stable/modules/generated/sklearn.neighbors.KNeighborsClassifier.html]()\n"
      ]
    },
    {
      "cell_type": "code",
      "execution_count": 24,
      "metadata": {
        "id": "V8ixQQZttYON",
        "pycharm": {
          "is_executing": false,
          "name": "#%%\n"
        }
      },
      "outputs": [],
      "source": [
        "from sklearn.neighbors import KNeighborsClassifier\n",
        "\n",
        "classifier = KNeighborsClassifier(n_neighbors = 5)\n",
        "classifier.fit(X_train, y_train)\n",
        "y_pred = classifier.predict(X_test)"
      ]
    },
    {
      "cell_type": "markdown",
      "metadata": {
        "id": "5iaXJ468tYOP"
      },
      "source": [
        "Pozostaje nam sprawdzić skuteczność działania tego klasyfikatorów\n",
        "\n",
        "## Miara accuracy\n",
        "\n",
        "Podstawowym (i przez to pierwszym) miernikiem jakość klasyfikatora jest \n",
        "jego dokładność mierzona za pomocą accuracy. Pomimo tego, że jest to \n",
        "miara posiadająca pewne obciążenia, nie wyobrażamy sobie nie sprawdzic \n",
        "jej wartości. \n"
      ]
    },
    {
      "cell_type": "code",
      "execution_count": 25,
      "metadata": {
        "colab": {
          "base_uri": "https://localhost:8080/"
        },
        "id": "bTryp2h4tYOP",
        "outputId": "2d193238-d5af-4a3c-cae1-4025dbd53a16",
        "pycharm": {
          "is_executing": false,
          "name": "#%%\n"
        }
      },
      "outputs": [
        {
          "data": {
            "text/plain": [
              "0.9473684210526315"
            ]
          },
          "execution_count": 25,
          "metadata": {},
          "output_type": "execute_result"
        }
      ],
      "source": [
        "\n",
        "from sklearn.metrics import accuracy_score\n",
        "accuracy_score(y_test, y_pred)\n"
      ]
    },
    {
      "cell_type": "markdown",
      "metadata": {
        "id": "ofWt7FlYtYOQ"
      },
      "source": [
        "\n",
        "## Miara macierz pomyłek\n",
        "\n",
        "Jeśli wynik accuracy jest z jakiś powodów niedostateczny - albo chcemy zrozumieć w szerszym spektrum czego \n",
        "brakuje aby osiągnąć doskonałość w klasyfikacji - sięgamy po macierz omyłek"
      ]
    },
    {
      "cell_type": "code",
      "execution_count": 26,
      "metadata": {
        "colab": {
          "base_uri": "https://localhost:8080/",
          "height": 143
        },
        "id": "6iiLaNVZtYOQ",
        "outputId": "d1cd310e-4db0-4302-9b5f-f3bae003872d",
        "pycharm": {
          "is_executing": false,
          "name": "#%%\n"
        }
      },
      "outputs": [
        {
          "data": {
            "text/html": [
              "\n",
              "  <div id=\"df-6cb4eafb-d511-4a45-aad4-f848adac846f\">\n",
              "    <div class=\"colab-df-container\">\n",
              "      <div>\n",
              "<style scoped>\n",
              "    .dataframe tbody tr th:only-of-type {\n",
              "        vertical-align: middle;\n",
              "    }\n",
              "\n",
              "    .dataframe tbody tr th {\n",
              "        vertical-align: top;\n",
              "    }\n",
              "\n",
              "    .dataframe thead th {\n",
              "        text-align: right;\n",
              "    }\n",
              "</style>\n",
              "<table border=\"1\" class=\"dataframe\">\n",
              "  <thead>\n",
              "    <tr style=\"text-align: right;\">\n",
              "      <th></th>\n",
              "      <th>0</th>\n",
              "      <th>1</th>\n",
              "      <th>2</th>\n",
              "    </tr>\n",
              "  </thead>\n",
              "  <tbody>\n",
              "    <tr>\n",
              "      <th>0</th>\n",
              "      <td>14</td>\n",
              "      <td>0</td>\n",
              "      <td>0</td>\n",
              "    </tr>\n",
              "    <tr>\n",
              "      <th>1</th>\n",
              "      <td>0</td>\n",
              "      <td>8</td>\n",
              "      <td>1</td>\n",
              "    </tr>\n",
              "    <tr>\n",
              "      <th>2</th>\n",
              "      <td>0</td>\n",
              "      <td>1</td>\n",
              "      <td>14</td>\n",
              "    </tr>\n",
              "  </tbody>\n",
              "</table>\n",
              "</div>\n",
              "      <button class=\"colab-df-convert\" onclick=\"convertToInteractive('df-6cb4eafb-d511-4a45-aad4-f848adac846f')\"\n",
              "              title=\"Convert this dataframe to an interactive table.\"\n",
              "              style=\"display:none;\">\n",
              "        \n",
              "  <svg xmlns=\"http://www.w3.org/2000/svg\" height=\"24px\"viewBox=\"0 0 24 24\"\n",
              "       width=\"24px\">\n",
              "    <path d=\"M0 0h24v24H0V0z\" fill=\"none\"/>\n",
              "    <path d=\"M18.56 5.44l.94 2.06.94-2.06 2.06-.94-2.06-.94-.94-2.06-.94 2.06-2.06.94zm-11 1L8.5 8.5l.94-2.06 2.06-.94-2.06-.94L8.5 2.5l-.94 2.06-2.06.94zm10 10l.94 2.06.94-2.06 2.06-.94-2.06-.94-.94-2.06-.94 2.06-2.06.94z\"/><path d=\"M17.41 7.96l-1.37-1.37c-.4-.4-.92-.59-1.43-.59-.52 0-1.04.2-1.43.59L10.3 9.45l-7.72 7.72c-.78.78-.78 2.05 0 2.83L4 21.41c.39.39.9.59 1.41.59.51 0 1.02-.2 1.41-.59l7.78-7.78 2.81-2.81c.8-.78.8-2.07 0-2.86zM5.41 20L4 18.59l7.72-7.72 1.47 1.35L5.41 20z\"/>\n",
              "  </svg>\n",
              "      </button>\n",
              "      \n",
              "  <style>\n",
              "    .colab-df-container {\n",
              "      display:flex;\n",
              "      flex-wrap:wrap;\n",
              "      gap: 12px;\n",
              "    }\n",
              "\n",
              "    .colab-df-convert {\n",
              "      background-color: #E8F0FE;\n",
              "      border: none;\n",
              "      border-radius: 50%;\n",
              "      cursor: pointer;\n",
              "      display: none;\n",
              "      fill: #1967D2;\n",
              "      height: 32px;\n",
              "      padding: 0 0 0 0;\n",
              "      width: 32px;\n",
              "    }\n",
              "\n",
              "    .colab-df-convert:hover {\n",
              "      background-color: #E2EBFA;\n",
              "      box-shadow: 0px 1px 2px rgba(60, 64, 67, 0.3), 0px 1px 3px 1px rgba(60, 64, 67, 0.15);\n",
              "      fill: #174EA6;\n",
              "    }\n",
              "\n",
              "    [theme=dark] .colab-df-convert {\n",
              "      background-color: #3B4455;\n",
              "      fill: #D2E3FC;\n",
              "    }\n",
              "\n",
              "    [theme=dark] .colab-df-convert:hover {\n",
              "      background-color: #434B5C;\n",
              "      box-shadow: 0px 1px 3px 1px rgba(0, 0, 0, 0.15);\n",
              "      filter: drop-shadow(0px 1px 2px rgba(0, 0, 0, 0.3));\n",
              "      fill: #FFFFFF;\n",
              "    }\n",
              "  </style>\n",
              "\n",
              "      <script>\n",
              "        const buttonEl =\n",
              "          document.querySelector('#df-6cb4eafb-d511-4a45-aad4-f848adac846f button.colab-df-convert');\n",
              "        buttonEl.style.display =\n",
              "          google.colab.kernel.accessAllowed ? 'block' : 'none';\n",
              "\n",
              "        async function convertToInteractive(key) {\n",
              "          const element = document.querySelector('#df-6cb4eafb-d511-4a45-aad4-f848adac846f');\n",
              "          const dataTable =\n",
              "            await google.colab.kernel.invokeFunction('convertToInteractive',\n",
              "                                                     [key], {});\n",
              "          if (!dataTable) return;\n",
              "\n",
              "          const docLinkHtml = 'Like what you see? Visit the ' +\n",
              "            '<a target=\"_blank\" href=https://colab.research.google.com/notebooks/data_table.ipynb>data table notebook</a>'\n",
              "            + ' to learn more about interactive tables.';\n",
              "          element.innerHTML = '';\n",
              "          dataTable['output_type'] = 'display_data';\n",
              "          await google.colab.output.renderOutput(dataTable, element);\n",
              "          const docLink = document.createElement('div');\n",
              "          docLink.innerHTML = docLinkHtml;\n",
              "          element.appendChild(docLink);\n",
              "        }\n",
              "      </script>\n",
              "    </div>\n",
              "  </div>\n",
              "  "
            ],
            "text/plain": [
              "    0  1   2\n",
              "0  14  0   0\n",
              "1   0  8   1\n",
              "2   0  1  14"
            ]
          },
          "execution_count": 26,
          "metadata": {},
          "output_type": "execute_result"
        }
      ],
      "source": [
        "from sklearn.metrics import confusion_matrix\n",
        "pd.DataFrame(confusion_matrix(y_test, y_pred))"
      ]
    },
    {
      "cell_type": "markdown",
      "metadata": {
        "id": "YS0rnkTitYOR"
      },
      "source": [
        "\n",
        "## Test walidacji krzyżowej\n",
        "\n",
        "Sprawdźmy czy dokładność naszego klasyfikatora jest wolna od pewnych perturbacji zbioru treningowego\n"
      ]
    },
    {
      "cell_type": "code",
      "execution_count": 27,
      "metadata": {
        "colab": {
          "base_uri": "https://localhost:8080/",
          "height": 206
        },
        "id": "VH2kSCMLtYOR",
        "outputId": "7c2cce6d-b06c-4659-d9ad-469aec89b6fa",
        "pycharm": {
          "is_executing": false,
          "name": "#%%\n"
        }
      },
      "outputs": [
        {
          "data": {
            "text/html": [
              "\n",
              "  <div id=\"df-82a1c9f8-c24f-4f6a-962e-6faf3d7eb550\">\n",
              "    <div class=\"colab-df-container\">\n",
              "      <div>\n",
              "<style scoped>\n",
              "    .dataframe tbody tr th:only-of-type {\n",
              "        vertical-align: middle;\n",
              "    }\n",
              "\n",
              "    .dataframe tbody tr th {\n",
              "        vertical-align: top;\n",
              "    }\n",
              "\n",
              "    .dataframe thead th {\n",
              "        text-align: right;\n",
              "    }\n",
              "</style>\n",
              "<table border=\"1\" class=\"dataframe\">\n",
              "  <thead>\n",
              "    <tr style=\"text-align: right;\">\n",
              "      <th></th>\n",
              "      <th>0</th>\n",
              "    </tr>\n",
              "  </thead>\n",
              "  <tbody>\n",
              "    <tr>\n",
              "      <th>0</th>\n",
              "      <td>1.000000</td>\n",
              "    </tr>\n",
              "    <tr>\n",
              "      <th>1</th>\n",
              "      <td>1.000000</td>\n",
              "    </tr>\n",
              "    <tr>\n",
              "      <th>2</th>\n",
              "      <td>0.863636</td>\n",
              "    </tr>\n",
              "    <tr>\n",
              "      <th>3</th>\n",
              "      <td>0.954545</td>\n",
              "    </tr>\n",
              "    <tr>\n",
              "      <th>4</th>\n",
              "      <td>1.000000</td>\n",
              "    </tr>\n",
              "  </tbody>\n",
              "</table>\n",
              "</div>\n",
              "      <button class=\"colab-df-convert\" onclick=\"convertToInteractive('df-82a1c9f8-c24f-4f6a-962e-6faf3d7eb550')\"\n",
              "              title=\"Convert this dataframe to an interactive table.\"\n",
              "              style=\"display:none;\">\n",
              "        \n",
              "  <svg xmlns=\"http://www.w3.org/2000/svg\" height=\"24px\"viewBox=\"0 0 24 24\"\n",
              "       width=\"24px\">\n",
              "    <path d=\"M0 0h24v24H0V0z\" fill=\"none\"/>\n",
              "    <path d=\"M18.56 5.44l.94 2.06.94-2.06 2.06-.94-2.06-.94-.94-2.06-.94 2.06-2.06.94zm-11 1L8.5 8.5l.94-2.06 2.06-.94-2.06-.94L8.5 2.5l-.94 2.06-2.06.94zm10 10l.94 2.06.94-2.06 2.06-.94-2.06-.94-.94-2.06-.94 2.06-2.06.94z\"/><path d=\"M17.41 7.96l-1.37-1.37c-.4-.4-.92-.59-1.43-.59-.52 0-1.04.2-1.43.59L10.3 9.45l-7.72 7.72c-.78.78-.78 2.05 0 2.83L4 21.41c.39.39.9.59 1.41.59.51 0 1.02-.2 1.41-.59l7.78-7.78 2.81-2.81c.8-.78.8-2.07 0-2.86zM5.41 20L4 18.59l7.72-7.72 1.47 1.35L5.41 20z\"/>\n",
              "  </svg>\n",
              "      </button>\n",
              "      \n",
              "  <style>\n",
              "    .colab-df-container {\n",
              "      display:flex;\n",
              "      flex-wrap:wrap;\n",
              "      gap: 12px;\n",
              "    }\n",
              "\n",
              "    .colab-df-convert {\n",
              "      background-color: #E8F0FE;\n",
              "      border: none;\n",
              "      border-radius: 50%;\n",
              "      cursor: pointer;\n",
              "      display: none;\n",
              "      fill: #1967D2;\n",
              "      height: 32px;\n",
              "      padding: 0 0 0 0;\n",
              "      width: 32px;\n",
              "    }\n",
              "\n",
              "    .colab-df-convert:hover {\n",
              "      background-color: #E2EBFA;\n",
              "      box-shadow: 0px 1px 2px rgba(60, 64, 67, 0.3), 0px 1px 3px 1px rgba(60, 64, 67, 0.15);\n",
              "      fill: #174EA6;\n",
              "    }\n",
              "\n",
              "    [theme=dark] .colab-df-convert {\n",
              "      background-color: #3B4455;\n",
              "      fill: #D2E3FC;\n",
              "    }\n",
              "\n",
              "    [theme=dark] .colab-df-convert:hover {\n",
              "      background-color: #434B5C;\n",
              "      box-shadow: 0px 1px 3px 1px rgba(0, 0, 0, 0.15);\n",
              "      filter: drop-shadow(0px 1px 2px rgba(0, 0, 0, 0.3));\n",
              "      fill: #FFFFFF;\n",
              "    }\n",
              "  </style>\n",
              "\n",
              "      <script>\n",
              "        const buttonEl =\n",
              "          document.querySelector('#df-82a1c9f8-c24f-4f6a-962e-6faf3d7eb550 button.colab-df-convert');\n",
              "        buttonEl.style.display =\n",
              "          google.colab.kernel.accessAllowed ? 'block' : 'none';\n",
              "\n",
              "        async function convertToInteractive(key) {\n",
              "          const element = document.querySelector('#df-82a1c9f8-c24f-4f6a-962e-6faf3d7eb550');\n",
              "          const dataTable =\n",
              "            await google.colab.kernel.invokeFunction('convertToInteractive',\n",
              "                                                     [key], {});\n",
              "          if (!dataTable) return;\n",
              "\n",
              "          const docLinkHtml = 'Like what you see? Visit the ' +\n",
              "            '<a target=\"_blank\" href=https://colab.research.google.com/notebooks/data_table.ipynb>data table notebook</a>'\n",
              "            + ' to learn more about interactive tables.';\n",
              "          element.innerHTML = '';\n",
              "          dataTable['output_type'] = 'display_data';\n",
              "          await google.colab.output.renderOutput(dataTable, element);\n",
              "          const docLink = document.createElement('div');\n",
              "          docLink.innerHTML = docLinkHtml;\n",
              "          element.appendChild(docLink);\n",
              "        }\n",
              "      </script>\n",
              "    </div>\n",
              "  </div>\n",
              "  "
            ],
            "text/plain": [
              "          0\n",
              "0  1.000000\n",
              "1  1.000000\n",
              "2  0.863636\n",
              "3  0.954545\n",
              "4  1.000000"
            ]
          },
          "execution_count": 27,
          "metadata": {},
          "output_type": "execute_result"
        }
      ],
      "source": [
        "\n",
        "from sklearn.model_selection import cross_val_score\n",
        "pd.DataFrame(cross_val_score(classifier, X_train, y_train, cv=5, scoring = 'accuracy'))"
      ]
    },
    {
      "cell_type": "markdown",
      "metadata": {
        "id": "0U-SbVE_tYOS"
      },
      "source": [
        "\n",
        "## Precyzja i czułość\n",
        "\n",
        "Kolejne dwie miary dostępne do klasyfikacji to *precyzja*, *czułość* analogiczne dla miar przy podziale na dwie grupy. Przy ich większej liczbie najpierw są liczone dla każdej grupy osobno (dana grupa vs reszta), a następnie uśredniane metodą określoną parametrem *average*.\n",
        "\n"
      ]
    },
    {
      "cell_type": "code",
      "execution_count": 28,
      "metadata": {
        "colab": {
          "base_uri": "https://localhost:8080/"
        },
        "id": "IjY40GwetYOS",
        "outputId": "2abfd2cc-6c0e-4645-ad4a-3517a4b05271",
        "pycharm": {
          "is_executing": false,
          "name": "#%%\n"
        }
      },
      "outputs": [
        {
          "name": "stdout",
          "output_type": "stream",
          "text": [
            "Wartość precyzji   0.9407407407407407\n",
            "Wartość czułości 0.9407407407407407\n",
            "Wartość f1         0.9407407407407407\n"
          ]
        }
      ],
      "source": [
        "from sklearn.metrics import precision_score, recall_score, f1_score\n",
        "print(f'Wartość precyzji   {precision_score(y_test, y_pred, average=\"macro\")}')\n",
        "print(f'Wartość czułości {recall_score(y_test, y_pred, average=\"macro\")}')\n",
        "print(f'Wartość f1         {f1_score(y_test, y_pred, average=\"macro\")}')\n"
      ]
    },
    {
      "cell_type": "markdown",
      "metadata": {
        "id": "_S184zOKtYOT",
        "pycharm": {
          "name": "#%% md\n"
        }
      },
      "source": [
        "# Przekazanie własnej funkcji odległości do klasyfikatora\n",
        "\n",
        "Z uwagi na charakter modelu kNN może dla niego być bardzo istotne abyśmy umieli zmodyfikować określoną w nim metrykę lub wagi.\n",
        "\n",
        "Zgodnie z dokumentacją na stronie scikit mamy kilka możliwości:\n",
        "\n",
        "    weightsstr or callable, optional (default = ‘uniform’)\n",
        "\n",
        "    weight function used in prediction. Possible values:\n",
        "\n",
        "        ‘uniform’ : uniform weights. All points in each neighborhood are weighted equally.\n",
        "\n",
        "        ‘distance’ : weight points by the inverse of their distance. in this case, \n",
        "                    closer neighbors of a query point will have a greater influence \n",
        "                    than neighbors which are further away.\n",
        "\n",
        "        [callable] : a user-defined function which accepts an array of distances, \n",
        "                    and returns an array of the same shape containing the weights.*\n",
        "\n",
        "Przez callable rozumieć należy funkcje oraz klasy których obiekty można wywoływać jak funkcje. Oznacza to, że możemy w szczególności\n",
        "podać swój sposób na ważenie np. za pomocą wyrażenia lambda (więcej w materiałach wprowadzenie do pythona).\n",
        "\n",
        "Zgodnie z opisem tej funkcji ma ona otrzymać odległości pomiędzy danymi wyrażonymi metryką i zwrócić wektor wag\n"
      ]
    },
    {
      "cell_type": "code",
      "execution_count": 29,
      "metadata": {
        "id": "Xs6sFDQ9tYOT",
        "pycharm": {
          "is_executing": false,
          "name": "#%%\n"
        }
      },
      "outputs": [],
      "source": [
        "\n",
        "def compute_weights(distances: np.ndarray):\n",
        "    avg = np.mean(distances)\n",
        "    sum_avg = np.sum(distances[distances <= avg])\n",
        "    weights = np.zeros(distances.shape)\n",
        "    weights[distances <= avg] = distances[distances <= avg] / sum_avg\n",
        "    return weights\n",
        "\n",
        "classifier = KNeighborsClassifier(n_neighbors = 5, weights = compute_weights)\n",
        "classifier.fit(X_train, y_train)\n",
        "y_pred = classifier.predict(X_test)"
      ]
    },
    {
      "cell_type": "markdown",
      "metadata": {
        "id": "FrnvsiuqtYOU"
      },
      "source": [
        " \n",
        "Sprawdźmy jak to działa\n"
      ]
    },
    {
      "cell_type": "code",
      "execution_count": 30,
      "metadata": {
        "colab": {
          "base_uri": "https://localhost:8080/"
        },
        "id": "PFOjsZxAtYOU",
        "outputId": "25984e28-89a1-426d-9199-bf79f3e2d66f",
        "pycharm": {
          "is_executing": false,
          "name": "#%%\n"
        }
      },
      "outputs": [
        {
          "data": {
            "text/plain": [
              "0.8157894736842105"
            ]
          },
          "execution_count": 30,
          "metadata": {},
          "output_type": "execute_result"
        }
      ],
      "source": [
        "\n",
        "from sklearn.metrics import accuracy_score\n",
        "accuracy_score(y_test, y_pred)\n"
      ]
    },
    {
      "cell_type": "markdown",
      "metadata": {
        "id": "zXk_c9xutYOU",
        "pycharm": {
          "name": "#%% md\n"
        }
      },
      "source": [
        "\n",
        "Gorzej, ale co ważne - zdecydowanie inaczej.\n",
        "\n",
        "Aby tym razem zadać własną miarę - odnajdujemy w dokumentacji:\n",
        "\n",
        "    metricstring or callable, default ‘minkowski’    \n",
        "        the distance metric to use for the tree. The default metric is minkowski, and \n",
        "        with p=2 is equivalent to the standard Euclidean metric. See the documentation of the \n",
        "        DistanceMetric class for a list of available metrics. If metric is “precomputed”, \n",
        "        X is assumed to be a distance matrix and must be square during fit. X may be a Glossary, \n",
        "        in which case only “nonzero” elements may be considered neighbors.\n",
        "        \n",
        "Spróbujmy zatem utworzyć miarę obliczają odległość jedynie na podstawie pierwszej zmiennej\n"
      ]
    },
    {
      "cell_type": "code",
      "execution_count": 31,
      "metadata": {
        "id": "_dHuEg8etYOV",
        "pycharm": {
          "is_executing": false,
          "name": "#%%\n"
        }
      },
      "outputs": [],
      "source": [
        "import math\n",
        "classifier = KNeighborsClassifier(n_neighbors = 5, metric=lambda x, y: math.sqrt( (x[0] - y[0])**2))\n",
        "classifier.fit(X_train, y_train)\n",
        "y_pred = classifier.predict(X_test)"
      ]
    },
    {
      "cell_type": "markdown",
      "metadata": {
        "id": "_GnnMrDztYOV"
      },
      "source": [
        " \n",
        "Sprawdźmy jak to zadziała\n"
      ]
    },
    {
      "cell_type": "code",
      "execution_count": 32,
      "metadata": {
        "colab": {
          "base_uri": "https://localhost:8080/"
        },
        "id": "HBNrJSNBtYOV",
        "outputId": "463fec72-8228-4d14-e1d2-469b9d33b3a1",
        "pycharm": {
          "is_executing": false,
          "name": "#%%\n"
        }
      },
      "outputs": [
        {
          "data": {
            "text/plain": [
              "0.7894736842105263"
            ]
          },
          "execution_count": 32,
          "metadata": {},
          "output_type": "execute_result"
        }
      ],
      "source": [
        "\n",
        "from sklearn.metrics import accuracy_score\n",
        "accuracy_score(y_test, y_pred)\n"
      ]
    },
    {
      "cell_type": "markdown",
      "metadata": {
        "id": "QMjVvyBhtYOW"
      },
      "source": [
        "\n",
        "Skąd od razu widzimy, że był to zły wybór. \n",
        "\n",
        "Pozostawiliśmy sobie jednak wykonanie odrobinę prostszej rzeczy. Co jeśli nie interesuje nas ogólnie inna metryka, ale \n",
        "zwykłe przejście z Euklidesowej metryki na Manhattan. Obie są metrykami Minkowskiego co jest domyślnym parametrem. \n",
        "Okazuje się że wystarczy zmanipulować dodatkowy parametr\n"
      ]
    },
    {
      "cell_type": "code",
      "execution_count": 33,
      "metadata": {
        "id": "WOwmBJoJtYOW",
        "pycharm": {
          "is_executing": false,
          "name": "#%%\n"
        }
      },
      "outputs": [],
      "source": [
        "import math\n",
        "classifier = KNeighborsClassifier(n_neighbors = 5, p = 1)\n",
        "classifier.fit(X_train, y_train)\n",
        "y_pred = classifier.predict(X_test)"
      ]
    },
    {
      "cell_type": "markdown",
      "metadata": {
        "id": "ZJms37Q7tYOW"
      },
      "source": [
        " \n",
        "Sprawdźmy jak to zadziała\n"
      ]
    },
    {
      "cell_type": "code",
      "execution_count": 34,
      "metadata": {
        "colab": {
          "base_uri": "https://localhost:8080/"
        },
        "id": "-a9MgjVytYOW",
        "outputId": "108456af-7bcb-4189-da4a-55738c6013ec",
        "pycharm": {
          "is_executing": false,
          "name": "#%%\n"
        }
      },
      "outputs": [
        {
          "data": {
            "text/plain": [
              "0.9473684210526315"
            ]
          },
          "execution_count": 34,
          "metadata": {},
          "output_type": "execute_result"
        }
      ],
      "source": [
        "\n",
        "from sklearn.metrics import accuracy_score\n",
        "accuracy_score(y_test, y_pred)\n"
      ]
    },
    {
      "cell_type": "markdown",
      "metadata": {
        "id": "JoU79nwwtYOW"
      },
      "source": [
        "\n",
        "# Klasyfikacja RNN \n",
        "\n",
        "Dostępna jest jeszcze inna wersja klasyfikatora, w której do oceny grupy brane są jedynie te znajdują się dostatecznie\n",
        "blisko w sensie metryki. Oznacza to zmianę działania z określonej liczby sąsiadów na określony rozmiar sąsiedztwa\n",
        "\n",
        "Dokumentacja do modułu znajduje sie na [https://scikit-learn.org/stable/modules/generated/sklearn.neighbors.RadiusNeighborsClassifier.html#sklearn.neighbors.RadiusNeighborsClassifier]()\n"
      ]
    },
    {
      "cell_type": "code",
      "execution_count": 35,
      "metadata": {
        "id": "aitnG_JetYOW",
        "pycharm": {
          "is_executing": false,
          "name": "#%%\n"
        }
      },
      "outputs": [],
      "source": [
        "from sklearn.neighbors import RadiusNeighborsClassifier\n",
        "\n",
        "classifier = RadiusNeighborsClassifier(radius=1)\n",
        "classifier.fit(X_train, y_train)\n",
        "y_pred = classifier.predict(X_test)\n"
      ]
    },
    {
      "cell_type": "markdown",
      "metadata": {
        "id": "Al_9v3XOtYOX"
      },
      "source": [
        "Pozostaje nam sprawdzić skuteczność działania tego klasyfikatora.\n",
        "\n",
        "## Miara accuracy\n",
        "\n",
        "Podstawowym (i przez to pierwszym) miernikiem jakość klasyfikatora jest \n",
        "jego dokładność mierzona za pomocą accuracy. Pomimo tego, że jest to \n",
        "miara posiadająca pewne obciążenia, nie wyobrażamy sobie nie sprawdzic \n",
        "jej wartości. \n"
      ]
    },
    {
      "cell_type": "code",
      "execution_count": 36,
      "metadata": {
        "colab": {
          "base_uri": "https://localhost:8080/"
        },
        "id": "CZJXJVnMtYOX",
        "outputId": "bb353045-36cb-44ea-ac91-7b1c3cd1dd12",
        "pycharm": {
          "is_executing": false,
          "name": "#%%\n"
        }
      },
      "outputs": [
        {
          "data": {
            "text/plain": [
              "0.9473684210526315"
            ]
          },
          "execution_count": 36,
          "metadata": {},
          "output_type": "execute_result"
        }
      ],
      "source": [
        "from sklearn.metrics import accuracy_score\n",
        "accuracy_score(y_test, y_pred)\n"
      ]
    },
    {
      "cell_type": "markdown",
      "metadata": {
        "id": "7vGqDMYQtYOX"
      },
      "source": [
        "\n",
        "## Miara macierz pomyłek\n",
        "\n",
        "Jeśli wynik accuracy jest z jakiś powodów niedostateczny - albo chcemy zrozumieć w szerszym spektrum czego \n",
        "brakuje aby osiągnąć doskonałość w klasyfikacji - sięgamy po macierz omyłek"
      ]
    },
    {
      "cell_type": "code",
      "execution_count": 37,
      "metadata": {
        "colab": {
          "base_uri": "https://localhost:8080/",
          "height": 143
        },
        "id": "TJsJwOFItYOY",
        "outputId": "de32c6b6-91f7-44de-9ec9-b6ecf4ad81de",
        "pycharm": {
          "is_executing": false,
          "name": "#%%\n"
        }
      },
      "outputs": [
        {
          "data": {
            "text/html": [
              "\n",
              "  <div id=\"df-8d3d065e-a020-4e37-a048-9dc3357f45c4\">\n",
              "    <div class=\"colab-df-container\">\n",
              "      <div>\n",
              "<style scoped>\n",
              "    .dataframe tbody tr th:only-of-type {\n",
              "        vertical-align: middle;\n",
              "    }\n",
              "\n",
              "    .dataframe tbody tr th {\n",
              "        vertical-align: top;\n",
              "    }\n",
              "\n",
              "    .dataframe thead th {\n",
              "        text-align: right;\n",
              "    }\n",
              "</style>\n",
              "<table border=\"1\" class=\"dataframe\">\n",
              "  <thead>\n",
              "    <tr style=\"text-align: right;\">\n",
              "      <th></th>\n",
              "      <th>0</th>\n",
              "      <th>1</th>\n",
              "      <th>2</th>\n",
              "    </tr>\n",
              "  </thead>\n",
              "  <tbody>\n",
              "    <tr>\n",
              "      <th>0</th>\n",
              "      <td>14</td>\n",
              "      <td>0</td>\n",
              "      <td>0</td>\n",
              "    </tr>\n",
              "    <tr>\n",
              "      <th>1</th>\n",
              "      <td>0</td>\n",
              "      <td>9</td>\n",
              "      <td>0</td>\n",
              "    </tr>\n",
              "    <tr>\n",
              "      <th>2</th>\n",
              "      <td>0</td>\n",
              "      <td>2</td>\n",
              "      <td>13</td>\n",
              "    </tr>\n",
              "  </tbody>\n",
              "</table>\n",
              "</div>\n",
              "      <button class=\"colab-df-convert\" onclick=\"convertToInteractive('df-8d3d065e-a020-4e37-a048-9dc3357f45c4')\"\n",
              "              title=\"Convert this dataframe to an interactive table.\"\n",
              "              style=\"display:none;\">\n",
              "        \n",
              "  <svg xmlns=\"http://www.w3.org/2000/svg\" height=\"24px\"viewBox=\"0 0 24 24\"\n",
              "       width=\"24px\">\n",
              "    <path d=\"M0 0h24v24H0V0z\" fill=\"none\"/>\n",
              "    <path d=\"M18.56 5.44l.94 2.06.94-2.06 2.06-.94-2.06-.94-.94-2.06-.94 2.06-2.06.94zm-11 1L8.5 8.5l.94-2.06 2.06-.94-2.06-.94L8.5 2.5l-.94 2.06-2.06.94zm10 10l.94 2.06.94-2.06 2.06-.94-2.06-.94-.94-2.06-.94 2.06-2.06.94z\"/><path d=\"M17.41 7.96l-1.37-1.37c-.4-.4-.92-.59-1.43-.59-.52 0-1.04.2-1.43.59L10.3 9.45l-7.72 7.72c-.78.78-.78 2.05 0 2.83L4 21.41c.39.39.9.59 1.41.59.51 0 1.02-.2 1.41-.59l7.78-7.78 2.81-2.81c.8-.78.8-2.07 0-2.86zM5.41 20L4 18.59l7.72-7.72 1.47 1.35L5.41 20z\"/>\n",
              "  </svg>\n",
              "      </button>\n",
              "      \n",
              "  <style>\n",
              "    .colab-df-container {\n",
              "      display:flex;\n",
              "      flex-wrap:wrap;\n",
              "      gap: 12px;\n",
              "    }\n",
              "\n",
              "    .colab-df-convert {\n",
              "      background-color: #E8F0FE;\n",
              "      border: none;\n",
              "      border-radius: 50%;\n",
              "      cursor: pointer;\n",
              "      display: none;\n",
              "      fill: #1967D2;\n",
              "      height: 32px;\n",
              "      padding: 0 0 0 0;\n",
              "      width: 32px;\n",
              "    }\n",
              "\n",
              "    .colab-df-convert:hover {\n",
              "      background-color: #E2EBFA;\n",
              "      box-shadow: 0px 1px 2px rgba(60, 64, 67, 0.3), 0px 1px 3px 1px rgba(60, 64, 67, 0.15);\n",
              "      fill: #174EA6;\n",
              "    }\n",
              "\n",
              "    [theme=dark] .colab-df-convert {\n",
              "      background-color: #3B4455;\n",
              "      fill: #D2E3FC;\n",
              "    }\n",
              "\n",
              "    [theme=dark] .colab-df-convert:hover {\n",
              "      background-color: #434B5C;\n",
              "      box-shadow: 0px 1px 3px 1px rgba(0, 0, 0, 0.15);\n",
              "      filter: drop-shadow(0px 1px 2px rgba(0, 0, 0, 0.3));\n",
              "      fill: #FFFFFF;\n",
              "    }\n",
              "  </style>\n",
              "\n",
              "      <script>\n",
              "        const buttonEl =\n",
              "          document.querySelector('#df-8d3d065e-a020-4e37-a048-9dc3357f45c4 button.colab-df-convert');\n",
              "        buttonEl.style.display =\n",
              "          google.colab.kernel.accessAllowed ? 'block' : 'none';\n",
              "\n",
              "        async function convertToInteractive(key) {\n",
              "          const element = document.querySelector('#df-8d3d065e-a020-4e37-a048-9dc3357f45c4');\n",
              "          const dataTable =\n",
              "            await google.colab.kernel.invokeFunction('convertToInteractive',\n",
              "                                                     [key], {});\n",
              "          if (!dataTable) return;\n",
              "\n",
              "          const docLinkHtml = 'Like what you see? Visit the ' +\n",
              "            '<a target=\"_blank\" href=https://colab.research.google.com/notebooks/data_table.ipynb>data table notebook</a>'\n",
              "            + ' to learn more about interactive tables.';\n",
              "          element.innerHTML = '';\n",
              "          dataTable['output_type'] = 'display_data';\n",
              "          await google.colab.output.renderOutput(dataTable, element);\n",
              "          const docLink = document.createElement('div');\n",
              "          docLink.innerHTML = docLinkHtml;\n",
              "          element.appendChild(docLink);\n",
              "        }\n",
              "      </script>\n",
              "    </div>\n",
              "  </div>\n",
              "  "
            ],
            "text/plain": [
              "    0  1   2\n",
              "0  14  0   0\n",
              "1   0  9   0\n",
              "2   0  2  13"
            ]
          },
          "execution_count": 37,
          "metadata": {},
          "output_type": "execute_result"
        }
      ],
      "source": [
        "from sklearn.metrics import confusion_matrix\n",
        "pd.DataFrame(confusion_matrix(y_test, y_pred))"
      ]
    },
    {
      "cell_type": "markdown",
      "metadata": {
        "id": "qK98EqvFtYOY"
      },
      "source": [
        "\n",
        "## Test walidacji krzyżowej\n",
        "\n",
        "Sprawdźmy czy dokładność naszego klasyfikatora jest wolna od pewnych perturbacji zbioru treningowego\n"
      ]
    },
    {
      "cell_type": "code",
      "execution_count": 38,
      "metadata": {
        "colab": {
          "base_uri": "https://localhost:8080/",
          "height": 206
        },
        "id": "-z_70FGetYOY",
        "outputId": "a8434f44-5208-499b-c5c6-a9a752122758",
        "pycharm": {
          "is_executing": false,
          "name": "#%%\n"
        }
      },
      "outputs": [
        {
          "data": {
            "text/html": [
              "\n",
              "  <div id=\"df-0c8329f1-dfb7-4efe-9b63-6c5235ff4d9e\">\n",
              "    <div class=\"colab-df-container\">\n",
              "      <div>\n",
              "<style scoped>\n",
              "    .dataframe tbody tr th:only-of-type {\n",
              "        vertical-align: middle;\n",
              "    }\n",
              "\n",
              "    .dataframe tbody tr th {\n",
              "        vertical-align: top;\n",
              "    }\n",
              "\n",
              "    .dataframe thead th {\n",
              "        text-align: right;\n",
              "    }\n",
              "</style>\n",
              "<table border=\"1\" class=\"dataframe\">\n",
              "  <thead>\n",
              "    <tr style=\"text-align: right;\">\n",
              "      <th></th>\n",
              "      <th>0</th>\n",
              "    </tr>\n",
              "  </thead>\n",
              "  <tbody>\n",
              "    <tr>\n",
              "      <th>0</th>\n",
              "      <td>1.000000</td>\n",
              "    </tr>\n",
              "    <tr>\n",
              "      <th>1</th>\n",
              "      <td>0.869565</td>\n",
              "    </tr>\n",
              "    <tr>\n",
              "      <th>2</th>\n",
              "      <td>0.863636</td>\n",
              "    </tr>\n",
              "    <tr>\n",
              "      <th>3</th>\n",
              "      <td>0.954545</td>\n",
              "    </tr>\n",
              "    <tr>\n",
              "      <th>4</th>\n",
              "      <td>1.000000</td>\n",
              "    </tr>\n",
              "  </tbody>\n",
              "</table>\n",
              "</div>\n",
              "      <button class=\"colab-df-convert\" onclick=\"convertToInteractive('df-0c8329f1-dfb7-4efe-9b63-6c5235ff4d9e')\"\n",
              "              title=\"Convert this dataframe to an interactive table.\"\n",
              "              style=\"display:none;\">\n",
              "        \n",
              "  <svg xmlns=\"http://www.w3.org/2000/svg\" height=\"24px\"viewBox=\"0 0 24 24\"\n",
              "       width=\"24px\">\n",
              "    <path d=\"M0 0h24v24H0V0z\" fill=\"none\"/>\n",
              "    <path d=\"M18.56 5.44l.94 2.06.94-2.06 2.06-.94-2.06-.94-.94-2.06-.94 2.06-2.06.94zm-11 1L8.5 8.5l.94-2.06 2.06-.94-2.06-.94L8.5 2.5l-.94 2.06-2.06.94zm10 10l.94 2.06.94-2.06 2.06-.94-2.06-.94-.94-2.06-.94 2.06-2.06.94z\"/><path d=\"M17.41 7.96l-1.37-1.37c-.4-.4-.92-.59-1.43-.59-.52 0-1.04.2-1.43.59L10.3 9.45l-7.72 7.72c-.78.78-.78 2.05 0 2.83L4 21.41c.39.39.9.59 1.41.59.51 0 1.02-.2 1.41-.59l7.78-7.78 2.81-2.81c.8-.78.8-2.07 0-2.86zM5.41 20L4 18.59l7.72-7.72 1.47 1.35L5.41 20z\"/>\n",
              "  </svg>\n",
              "      </button>\n",
              "      \n",
              "  <style>\n",
              "    .colab-df-container {\n",
              "      display:flex;\n",
              "      flex-wrap:wrap;\n",
              "      gap: 12px;\n",
              "    }\n",
              "\n",
              "    .colab-df-convert {\n",
              "      background-color: #E8F0FE;\n",
              "      border: none;\n",
              "      border-radius: 50%;\n",
              "      cursor: pointer;\n",
              "      display: none;\n",
              "      fill: #1967D2;\n",
              "      height: 32px;\n",
              "      padding: 0 0 0 0;\n",
              "      width: 32px;\n",
              "    }\n",
              "\n",
              "    .colab-df-convert:hover {\n",
              "      background-color: #E2EBFA;\n",
              "      box-shadow: 0px 1px 2px rgba(60, 64, 67, 0.3), 0px 1px 3px 1px rgba(60, 64, 67, 0.15);\n",
              "      fill: #174EA6;\n",
              "    }\n",
              "\n",
              "    [theme=dark] .colab-df-convert {\n",
              "      background-color: #3B4455;\n",
              "      fill: #D2E3FC;\n",
              "    }\n",
              "\n",
              "    [theme=dark] .colab-df-convert:hover {\n",
              "      background-color: #434B5C;\n",
              "      box-shadow: 0px 1px 3px 1px rgba(0, 0, 0, 0.15);\n",
              "      filter: drop-shadow(0px 1px 2px rgba(0, 0, 0, 0.3));\n",
              "      fill: #FFFFFF;\n",
              "    }\n",
              "  </style>\n",
              "\n",
              "      <script>\n",
              "        const buttonEl =\n",
              "          document.querySelector('#df-0c8329f1-dfb7-4efe-9b63-6c5235ff4d9e button.colab-df-convert');\n",
              "        buttonEl.style.display =\n",
              "          google.colab.kernel.accessAllowed ? 'block' : 'none';\n",
              "\n",
              "        async function convertToInteractive(key) {\n",
              "          const element = document.querySelector('#df-0c8329f1-dfb7-4efe-9b63-6c5235ff4d9e');\n",
              "          const dataTable =\n",
              "            await google.colab.kernel.invokeFunction('convertToInteractive',\n",
              "                                                     [key], {});\n",
              "          if (!dataTable) return;\n",
              "\n",
              "          const docLinkHtml = 'Like what you see? Visit the ' +\n",
              "            '<a target=\"_blank\" href=https://colab.research.google.com/notebooks/data_table.ipynb>data table notebook</a>'\n",
              "            + ' to learn more about interactive tables.';\n",
              "          element.innerHTML = '';\n",
              "          dataTable['output_type'] = 'display_data';\n",
              "          await google.colab.output.renderOutput(dataTable, element);\n",
              "          const docLink = document.createElement('div');\n",
              "          docLink.innerHTML = docLinkHtml;\n",
              "          element.appendChild(docLink);\n",
              "        }\n",
              "      </script>\n",
              "    </div>\n",
              "  </div>\n",
              "  "
            ],
            "text/plain": [
              "          0\n",
              "0  1.000000\n",
              "1  0.869565\n",
              "2  0.863636\n",
              "3  0.954545\n",
              "4  1.000000"
            ]
          },
          "execution_count": 38,
          "metadata": {},
          "output_type": "execute_result"
        }
      ],
      "source": [
        "from sklearn.model_selection import cross_val_score\n",
        "pd.DataFrame(cross_val_score(classifier, X_train, y_train, cv=5, scoring = 'accuracy'))"
      ]
    },
    {
      "cell_type": "markdown",
      "metadata": {
        "id": "8idOCE-ftYOZ"
      },
      "source": [
        "## Precyzja i czułość\n",
        "\n",
        "Kolejne dwie miary dostępne do klasyfikacji to *precyzja*, *czułość* analogiczne dla miar przy podziale na dwie grupy. Przy ich większej liczbie najpierw są liczone dla każdej grupy osobno (dana grupa vs reszta), a następnie uśredniane metodą określoną parametrem *average*.\n"
      ]
    },
    {
      "cell_type": "code",
      "execution_count": 39,
      "metadata": {
        "colab": {
          "base_uri": "https://localhost:8080/"
        },
        "id": "3RQAZk4NtYOZ",
        "outputId": "af0c778e-6ccd-4d19-86ea-8e29042831c5",
        "pycharm": {
          "is_executing": false,
          "name": "#%%\n"
        }
      },
      "outputs": [
        {
          "name": "stdout",
          "output_type": "stream",
          "text": [
            "Wartość precyzji   0.9393939393939394\n",
            "Wartość czułości 0.9555555555555556\n",
            "Wartość f1         0.9428571428571427\n"
          ]
        }
      ],
      "source": [
        "\n",
        "from sklearn.metrics import precision_score, recall_score, f1_score\n",
        "print(f'Wartość precyzji   {precision_score(y_test, y_pred, average=\"macro\")}')\n",
        "print(f'Wartość czułości {recall_score(y_test, y_pred, average=\"macro\")}')\n",
        "print(f'Wartość f1         {f1_score(y_test, y_pred, average=\"macro\")}')\n"
      ]
    },
    {
      "cell_type": "code",
      "execution_count": 39,
      "metadata": {
        "id": "SLhJMKcNAQ83"
      },
      "outputs": [],
      "source": []
    },
    {
      "cell_type": "markdown",
      "metadata": {
        "id": "nQXTtOzWpeOz"
      },
      "source": [
        "# Klasyfikacja w ujęciu bayesowskim\n",
        "\n",
        "Na ogół $\\mathbb{P} (Y = y | X = x)$ liczy się trudno (zwłaszcza dla wielowymiarowych zmiennych $X$. Korzystamy więc z reguły Bayesa\n",
        "$$ \\mathbb{P}(Y = y | X = x) = \\frac{\\mathbb{P}(Y = y \\cap X = x)}{\\mathbb{P}(X = x)} = \\frac{\\mathbb{P}(Y = y) \\mathbb{P}(X = x | Y = y)}{\\mathbb{P}(X = x)}$$\n",
        "Klasyfikator bayesowski ma więc postać:\n",
        "$$f(x) = \\arg \\max_{y \\in Y(\\Omega)} \\mathbb{P}(Y = y) \\mathbb{P}(X = x | Y = y).$$\n",
        "Oba (a w zasadzie wszystkie 3) składowe: tzn. *p-stwo a'priori*, rozkład $X$ w grupach (warunkowy), i rozkład $X$ (łączny) liczy się nieco łatwiej, choć poznanie rozkładu zmiennej $X$ w grupach nadal jest problemem nietrywialnym. Stosowane podejścia to:\n",
        "\n",
        "* przyjęcie, że $X$ ma (wielowymiarowy) rozkład normalny o identycznej dla każdej grupy macierzy kowariancji &mdash; prowadzi do *liniowej analizy dyskryminacyjnej*\n",
        "* przyjęcie, że $X$ ma (wielowymiarowy) rozkład normalny o różnych w ramach grup macierzach kowariancji &mdash; prowadzi do *kwadratowej analizy dyskryminacyjnej*\n",
        "* przyjęcie (być może *naiwne*), że współrzędne $X$ w grupach są od siebie niezależne &mdash; daje *naiwny klasyfikator bayesowski*.\n",
        "\n",
        "## *LDA* i *QDA*\n",
        "\n",
        "Znowu można zrezygnować z części testowej."
      ]
    },
    {
      "cell_type": "code",
      "execution_count": 40,
      "metadata": {
        "colab": {
          "base_uri": "https://localhost:8080/"
        },
        "id": "xU1yq7RCtHBZ",
        "outputId": "e4ab93e4-9cde-4968-f73b-c3d0d37ea289"
      },
      "outputs": [
        {
          "name": "stdout",
          "output_type": "stream",
          "text": [
            "[[1.00000000e+00 3.89635793e-22 2.61116827e-42]\n",
            " [1.00000000e+00 7.21796992e-18 5.04214335e-37]\n",
            " [1.00000000e+00 1.46384895e-19 4.67593159e-39]\n",
            " [1.00000000e+00 1.26853638e-16 3.56661049e-35]\n",
            " [1.00000000e+00 1.63738745e-22 1.08260527e-42]\n",
            " [1.00000000e+00 3.88328166e-21 4.56654013e-40]\n",
            " [1.00000000e+00 1.11346945e-18 2.30260848e-37]\n",
            " [1.00000000e+00 3.87758638e-20 1.07449600e-39]\n",
            " [1.00000000e+00 1.90281306e-15 9.48293562e-34]\n",
            " [1.00000000e+00 1.11180261e-18 2.72405964e-38]\n",
            " [1.00000000e+00 1.18527749e-23 3.23708368e-44]\n",
            " [1.00000000e+00 1.62164851e-18 1.83320074e-37]\n",
            " [1.00000000e+00 1.45922505e-18 3.26250644e-38]\n",
            " [1.00000000e+00 1.11721886e-19 1.31664193e-39]\n",
            " [1.00000000e+00 5.48739873e-30 1.53126473e-52]\n",
            " [1.00000000e+00 1.26150510e-27 2.26870463e-48]\n",
            " [1.00000000e+00 6.75433806e-25 3.86827125e-45]\n",
            " [1.00000000e+00 4.22374070e-21 1.22431307e-40]\n",
            " [1.00000000e+00 1.77491130e-22 2.55215324e-42]\n",
            " [1.00000000e+00 2.59323738e-22 5.79207874e-42]\n",
            " [1.00000000e+00 1.27463866e-19 4.35777421e-39]\n",
            " [1.00000000e+00 1.46599901e-20 1.98724139e-39]\n",
            " [1.00000000e+00 6.56928045e-25 7.76917737e-46]\n",
            " [1.00000000e+00 8.91234785e-15 9.17862417e-32]\n",
            " [1.00000000e+00 1.07070246e-15 1.16751587e-33]\n",
            " [1.00000000e+00 2.49733904e-16 5.71026881e-35]\n",
            " [1.00000000e+00 3.96773184e-17 4.37862393e-35]\n",
            " [1.00000000e+00 1.54816505e-21 1.59535977e-41]\n",
            " [1.00000000e+00 9.27184652e-22 6.29795547e-42]\n",
            " [1.00000000e+00 9.66514422e-17 2.97797411e-35]\n",
            " [1.00000000e+00 2.29993588e-16 7.18266552e-35]\n",
            " [1.00000000e+00 1.97540361e-19 2.78833402e-38]\n",
            " [1.00000000e+00 7.10004097e-27 2.21640832e-48]\n",
            " [1.00000000e+00 1.61029484e-28 2.74378340e-50]\n",
            " [1.00000000e+00 1.20521934e-17 1.27724508e-36]\n",
            " [1.00000000e+00 1.59718568e-21 9.03377178e-42]\n",
            " [1.00000000e+00 1.93986888e-24 1.66280764e-45]\n",
            " [1.00000000e+00 3.31023376e-23 7.00497072e-44]\n",
            " [1.00000000e+00 4.19024194e-17 6.99144061e-36]\n",
            " [1.00000000e+00 1.76935863e-20 3.54169363e-40]\n",
            " [1.00000000e+00 1.06301364e-21 2.00386616e-41]\n",
            " [1.00000000e+00 2.17421702e-11 1.21378079e-28]\n",
            " [1.00000000e+00 1.54075327e-18 1.30571861e-37]\n",
            " [1.00000000e+00 8.94058875e-16 1.31551062e-32]\n",
            " [1.00000000e+00 1.61620622e-17 3.20599206e-35]\n",
            " [1.00000000e+00 1.71474317e-16 7.17243513e-35]\n",
            " [1.00000000e+00 2.08308933e-22 2.28978350e-42]\n",
            " [1.00000000e+00 2.79348215e-18 2.62953862e-37]\n",
            " [1.00000000e+00 2.59756036e-23 9.82081978e-44]\n",
            " [1.00000000e+00 2.32225794e-20 4.24175670e-40]\n",
            " [1.96973176e-18 9.99889412e-01 1.10587759e-04]\n",
            " [1.24287800e-19 9.99257470e-01 7.42529660e-04]\n",
            " [2.08826305e-22 9.95806947e-01 4.19305285e-03]\n",
            " [2.19889844e-22 9.99642350e-01 3.57650196e-04]\n",
            " [4.21367813e-23 9.95590345e-01 4.40965486e-03]\n",
            " [8.12728653e-23 9.98502018e-01 1.49798163e-03]\n",
            " [3.54989968e-22 9.85834580e-01 1.41654204e-02]\n",
            " [5.00706455e-14 9.99999888e-01 1.11981126e-07]\n",
            " [5.68333389e-20 9.99878135e-01 1.21864947e-04]\n",
            " [1.24103857e-20 9.99502691e-01 4.97308519e-04]\n",
            " [1.95662764e-18 9.99998579e-01 1.42084056e-06]\n",
            " [5.96890036e-20 9.99229428e-01 7.70571639e-04]\n",
            " [2.71612817e-18 9.99998780e-01 1.22016944e-06]\n",
            " [1.18444452e-23 9.94326714e-01 5.67328560e-03]\n",
            " [5.57493127e-14 9.99998351e-01 1.64921548e-06]\n",
            " [2.36951149e-17 9.99957318e-01 4.26821223e-05]\n",
            " [8.42932810e-24 9.80647108e-01 1.93528916e-02]\n",
            " [2.50507161e-16 9.99999085e-01 9.15171633e-07]\n",
            " [1.67035240e-27 9.59573472e-01 4.04265275e-02]\n",
            " [1.34150265e-17 9.99996704e-01 3.29610543e-06]\n",
            " [7.40811758e-28 2.53228225e-01 7.46771775e-01]\n",
            " [9.39929181e-17 9.99990655e-01 9.34529127e-06]\n",
            " [7.67467217e-29 8.15532827e-01 1.84467173e-01]\n",
            " [2.68301818e-22 9.99572253e-01 4.27746856e-04]\n",
            " [7.81387456e-18 9.99975785e-01 2.42145793e-05]\n",
            " [2.07320735e-18 9.99917095e-01 8.29052970e-05]\n",
            " [6.35753788e-23 9.98254064e-01 1.74593594e-03]\n",
            " [5.63947318e-27 6.89213119e-01 3.10786881e-01]\n",
            " [3.77352772e-23 9.92516862e-01 7.48313758e-03]\n",
            " [9.55533838e-12 9.99999981e-01 1.91062428e-08]\n",
            " [1.02210867e-17 9.99996992e-01 3.00774767e-06]\n",
            " [9.64807489e-16 9.99999673e-01 3.26670393e-07]\n",
            " [1.61640485e-16 9.99996222e-01 3.77844080e-06]\n",
            " [4.24195194e-32 1.43391908e-01 8.56608092e-01]\n",
            " [1.72451373e-24 9.63557581e-01 3.64424185e-02]\n",
            " [1.34474562e-20 9.94040069e-01 5.95993127e-03]\n",
            " [3.30486832e-21 9.98222328e-01 1.77767245e-03]\n",
            " [2.03457105e-23 9.99455690e-01 5.44309603e-04]\n",
            " [5.80698629e-18 9.99948629e-01 5.13710088e-05]\n",
            " [5.98119018e-21 9.99818313e-01 1.81686989e-04]\n",
            " [5.87861351e-23 9.99385580e-01 6.14419964e-04]\n",
            " [5.39900623e-22 9.98093409e-01 1.90659137e-03]\n",
            " [3.55950707e-18 9.99988714e-01 1.12856991e-05]\n",
            " [2.10414566e-14 9.99999886e-01 1.13501647e-07]\n",
            " [4.70087713e-21 9.99697977e-01 3.02022572e-04]\n",
            " [1.58432826e-17 9.99981737e-01 1.82632730e-05]\n",
            " [2.80229313e-19 9.99889169e-01 1.10831489e-04]\n",
            " [1.62691767e-18 9.99953595e-01 4.64048848e-05]\n",
            " [7.63837760e-11 9.99999981e-01 1.86733162e-08]\n",
            " [4.67930111e-19 9.99926941e-01 7.30586344e-05]\n",
            " [7.50307536e-52 7.12730305e-09 9.99999993e-01]\n",
            " [5.21380198e-38 1.07825099e-03 9.98921749e-01]\n",
            " [1.23126361e-42 2.59282637e-05 9.99974072e-01]\n",
            " [1.53749871e-38 1.06813896e-03 9.98931861e-01]\n",
            " [6.24250060e-46 1.81296336e-06 9.99998187e-01]\n",
            " [4.20928142e-49 6.65626293e-07 9.99999334e-01]\n",
            " [3.79783719e-33 4.86202538e-02 9.51379746e-01]\n",
            " [1.35217626e-42 1.39546312e-04 9.99860454e-01]\n",
            " [1.32338963e-42 2.23531291e-04 9.99776469e-01]\n",
            " [3.45335797e-46 1.72727720e-07 9.99999827e-01]\n",
            " [5.45266025e-32 1.30535277e-02 9.86946472e-01]\n",
            " [1.18256007e-37 1.67387462e-03 9.98326125e-01]\n",
            " [5.20432100e-39 2.00635233e-04 9.99799365e-01]\n",
            " [1.26995255e-40 1.94867232e-04 9.99805133e-01]\n",
            " [1.68536138e-45 1.00045460e-06 9.99999000e-01]\n",
            " [5.14163983e-40 2.60549340e-05 9.99973945e-01]\n",
            " [1.90982041e-35 6.08355277e-03 9.93916447e-01]\n",
            " [1.20779858e-44 1.50379916e-06 9.99998496e-01]\n",
            " [3.18126528e-59 1.31727868e-09 9.99999999e-01]\n",
            " [1.59851089e-33 2.20798984e-01 7.79201016e-01]\n",
            " [1.11946077e-42 6.45186467e-06 9.99993548e-01]\n",
            " [3.03817020e-37 8.27267587e-04 9.99172732e-01]\n",
            " [6.03287894e-50 9.50983817e-07 9.99999049e-01]\n",
            " [1.95126051e-31 9.71194197e-02 9.02880580e-01]\n",
            " [1.95640816e-39 8.83684525e-05 9.99911632e-01]\n",
            " [1.10933654e-36 2.67930966e-03 9.97320690e-01]\n",
            " [7.84199685e-30 1.88367543e-01 8.11632457e-01]\n",
            " [7.96469039e-30 1.34243091e-01 8.65756909e-01]\n",
            " [6.19064114e-44 1.30368066e-05 9.99986963e-01]\n",
            " [1.40644846e-32 1.03682285e-01 8.96317715e-01]\n",
            " [4.10812925e-42 1.44233751e-04 9.99855766e-01]\n",
            " [1.55569699e-36 5.19804735e-04 9.99480195e-01]\n",
            " [1.32032959e-45 3.01409096e-06 9.99996986e-01]\n",
            " [1.28389062e-28 7.29388128e-01 2.70611872e-01]\n",
            " [1.92656005e-35 6.60225289e-02 9.33977471e-01]\n",
            " [1.27108276e-45 2.15281845e-06 9.99997847e-01]\n",
            " [3.03896326e-44 8.88185881e-07 9.99999112e-01]\n",
            " [4.60597294e-35 6.16564821e-03 9.93834352e-01]\n",
            " [4.53863396e-29 1.92526179e-01 8.07473821e-01]\n",
            " [2.14023245e-36 8.29089538e-04 9.99170910e-01]\n",
            " [6.57090160e-45 1.18080976e-06 9.99998819e-01]\n",
            " [6.20258778e-36 4.27639824e-04 9.99572360e-01]\n",
            " [5.21380198e-38 1.07825099e-03 9.98921749e-01]\n",
            " [1.07394550e-45 1.02851889e-06 9.99998971e-01]\n",
            " [4.04824912e-46 2.52498399e-07 9.99999748e-01]\n",
            " [4.97006952e-39 7.47336052e-05 9.99925266e-01]\n",
            " [4.61661069e-36 5.89878415e-03 9.94101216e-01]\n",
            " [5.54896239e-35 3.14587356e-03 9.96854126e-01]\n",
            " [1.61368724e-40 1.25746799e-05 9.99987425e-01]\n",
            " [2.85801161e-33 1.75422908e-02 9.82457709e-01]]\n",
            "0.98\n"
          ]
        }
      ],
      "source": [
        "from sklearn.discriminant_analysis import LinearDiscriminantAnalysis\n",
        "classifier4 = LinearDiscriminantAnalysis()\n",
        "classifier4.fit(X, y)\n",
        "y_pred = classifier4.predict(X)\n",
        "print(classifier4.predict_proba(X))\n",
        "print(classifier4.score(X, y))"
      ]
    },
    {
      "cell_type": "code",
      "execution_count": 41,
      "metadata": {
        "colab": {
          "base_uri": "https://localhost:8080/"
        },
        "id": "LK279wwQt8nZ",
        "outputId": "5dcdf782-bb39-4c4b-b09b-06eda668a296"
      },
      "outputs": [
        {
          "name": "stdout",
          "output_type": "stream",
          "text": [
            "0.98\n"
          ]
        }
      ],
      "source": [
        "from sklearn.discriminant_analysis import QuadraticDiscriminantAnalysis\n",
        "classifier5 = QuadraticDiscriminantAnalysis()\n",
        "classifier5.fit(X, y)\n",
        "y_pred = classifier5.predict(X)\n",
        "#print(classifier5.predict_proba(X))\n",
        "print(classifier5.score(X, y))"
      ]
    },
    {
      "cell_type": "markdown",
      "metadata": {
        "id": "oBq9bq0RuKaZ"
      },
      "source": [
        "### Zadanie \n",
        "* szczegółowa ocena klasyfikacji dla LDA lub QDA\n",
        "* LDA lub QDA porównane z kNN &mdash; zbiór uczący i testowy\n",
        "* klasyfikatory w oparciu o rozmiary płatka (LDA, QDA, kNN) + wykres sklasyfikowanych danych"
      ]
    },
    {
      "cell_type": "code",
      "execution_count": 41,
      "metadata": {
        "id": "yyo-bYuiuS4A"
      },
      "outputs": [],
      "source": []
    }
  ],
  "metadata": {
    "colab": {
      "collapsed_sections": [],
      "include_colab_link": true,
      "name": "Elementy klasyfikacji.ipynb",
      "provenance": []
    },
    "kernelspec": {
      "display_name": "Python 3",
      "language": "python",
      "name": "python3"
    },
    "language_info": {
      "codemirror_mode": {
        "name": "ipython",
        "version": 3
      },
      "file_extension": ".py",
      "mimetype": "text/x-python",
      "name": "python",
      "nbconvert_exporter": "python",
      "pygments_lexer": "ipython3",
      "version": "3.9.2"
    },
    "pycharm": {
      "stem_cell": {
        "cell_type": "raw",
        "metadata": {
          "collapsed": false
        },
        "source": []
      }
    }
  },
  "nbformat": 4,
  "nbformat_minor": 0
}
