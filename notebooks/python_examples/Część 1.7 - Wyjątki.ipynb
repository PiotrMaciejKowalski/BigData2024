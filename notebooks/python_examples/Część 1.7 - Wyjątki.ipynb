{
 "cells": [
  {
   "cell_type": "markdown",
   "metadata": {
    "collapsed": true
   },
   "source": [
    "# Obsługa wyjątków w Python\n",
    "\n",
    "Python podobnie jak większość języków programowania pozwala na tworzenie, zgłaszanie i obsługiwanie wyjątków. \n",
    "\n",
    "Czym jest wyjątek? Jest sytuacją w działaniu programu, która uniemożliwia poprawne wykonanie części skryptu. Podobnie jak w Javie, kod który może nie zakończyć się poprawnym wykonaniem zgromadzić w bloku try\n"
   ]
  },
  {
   "cell_type": "code",
   "execution_count": 1,
   "metadata": {},
   "outputs": [
    {
     "name": "stdout",
     "output_type": "stream",
     "text": [
      "Zła wartość, ale\n",
      "Juz w porzadku\n"
     ]
    }
   ],
   "source": [
    "tekst = \"nie liczba\"\n",
    "try :\n",
    "  x = int(tekst)\n",
    "except ValueError:\n",
    "  print(\"Zła wartość, ale\")\n",
    "print(\"Juz w porzadku\")"
   ]
  },
  {
   "cell_type": "markdown",
   "metadata": {},
   "source": [
    "## Definiowanie wyjątków\n",
    "\n",
    "Aby zdefiniować własny wyjatek należy (podobnie jak w Javie) oddziedziczyć go po klasie Exception. Aby zgłosić wyjątek używamy słowa kluczowego raise."
   ]
  },
  {
   "cell_type": "code",
   "execution_count": 2,
   "metadata": {},
   "outputs": [
    {
     "name": "stdout",
     "output_type": "stream",
     "text": [
      "Przechwycono wyjątek\n"
     ]
    }
   ],
   "source": [
    "class MyException(Exception):\n",
    "    pass\n",
    "\n",
    "\n",
    "def call_exception():\n",
    "    raise MyException()\n",
    "  \n",
    "  \n",
    "try: \n",
    "    call_exception()\n",
    "except MyException:\n",
    "    print(\"Przechwycono wyjątek\")"
   ]
  },
  {
   "cell_type": "markdown",
   "metadata": {},
   "source": [
    "## try-except-else\n",
    "\n",
    "Jeśli w pythonie mamy możliwość zdefiniowania else do pętli to tym bardziej ma on sens przy bloku try. Jest to blok wykonujący się w przypadku gdy żaden wyjątek nie został zgłoszony (i tylko wtedy)."
   ]
  },
  {
   "cell_type": "code",
   "execution_count": 3,
   "metadata": {},
   "outputs": [
    {
     "name": "stdout",
     "output_type": "stream",
     "text": [
      "Dzielenie 2/3\n",
      "Wynik to 0.6666666666666666\n",
      "Dzielenie 1/0\n",
      "Błąd dzielenia\n"
     ]
    }
   ],
   "source": [
    "def dzielenie(x, y):\n",
    "    try:\n",
    "        print(\"Dzielenie \"+str(x)+\"/\"+str(y))\n",
    "        result= x/y\n",
    "    except ZeroDivisionError:\n",
    "        print(\"Błąd dzielenia\")\n",
    "    else:\n",
    "        print(\"Wynik to \"+str(result))\n",
    "\n",
    "\n",
    "dzielenie(2, 3)\n",
    "dzielenie(1, 0)"
   ]
  },
  {
   "cell_type": "markdown",
   "metadata": {},
   "source": [
    "## Finally\n",
    "\n",
    "Python posiada podobnie do Javy posiada też klauzulę finally, czyli blok który musi się wykonać niezależnie do tego czy wyjątek został czy nie został zgłoszony."
   ]
  },
  {
   "cell_type": "code",
   "execution_count": 4,
   "metadata": {},
   "outputs": [
    {
     "name": "stdout",
     "output_type": "stream",
     "text": [
      "Dzielenie 2/3\n",
      "Wynik to 0.6666666666666666\n",
      "A ten blok wykona się zawsze\n",
      "Dzielenie 1/0\n",
      "Błąd dzielenia\n",
      "A ten blok wykona się zawsze\n"
     ]
    }
   ],
   "source": [
    "def dzielenie(x, y):\n",
    "    try:\n",
    "        print(\"Dzielenie \"+str(x)+\"/\"+str(y))\n",
    "        result= x/y\n",
    "    except ZeroDivisionError:\n",
    "        print(\"Błąd dzielenia\")\n",
    "    else:\n",
    "        print(\"Wynik to \"+str(result))\n",
    "    finally:\n",
    "        print(\"A ten blok wykona się zawsze\")\n",
    "\n",
    "\n",
    "dzielenie(2, 3)\n",
    "dzielenie(1, 0)"
   ]
  },
  {
   "cell_type": "code",
   "execution_count": null,
   "metadata": {},
   "outputs": [],
   "source": []
  }
 ],
 "metadata": {
  "kernelspec": {
   "display_name": "Python 3",
   "language": "python",
   "name": "python3"
  },
  "language_info": {
   "codemirror_mode": {
    "name": "ipython",
    "version": 3
   },
   "file_extension": ".py",
   "mimetype": "text/x-python",
   "name": "python",
   "nbconvert_exporter": "python",
   "pygments_lexer": "ipython3",
   "version": "3.6.8"
  }
 },
 "nbformat": 4,
 "nbformat_minor": 1
}
