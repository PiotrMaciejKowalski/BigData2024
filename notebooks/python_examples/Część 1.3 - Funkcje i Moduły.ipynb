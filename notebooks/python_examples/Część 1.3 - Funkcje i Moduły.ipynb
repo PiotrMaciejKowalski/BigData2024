{
 "cells": [
  {
   "cell_type": "markdown",
   "metadata": {},
   "source": [
    "# Funkcje\n",
    "\n",
    "Po serii ćwiczeń wykonanych w ostatnich materiałach  powoli dostrzegamy pewną refleksję. Im większe zadanie - tym więcej kodu potrzeba do tego aby zawrzeć jego rozwiązanie. Niestety im więcej kodu, tym tracimy na jego \n",
    "\n",
    "* czytelności,\n",
    "* wykrywaniu błędów, czy w reszcie,\n",
    "* na optymalności jego wykonania.\n",
    "\n",
    "Języki programowania dostarczają nam jednak mechanizmy pozwalające zredukować ten nieporządany efekt rozrostu programów. Są nim funkcje - narzędzie do grupowania instrukcji reprezentujących większe i bardziej skomplikowane czynności. \n",
    "\n",
    "W tym materiale najpierw zaprezentujemy Państwu czym są funkcje, i jakie są ich ograniczenia w Pythonie. A w dalszej części pokażemy jak konwertować istniejący kod na funkcje, zadawać parametry, a w końcowej części myśleć prototypami funkcji (top->down, bottom->up)"
   ]
  },
  {
   "cell_type": "markdown",
   "metadata": {},
   "source": [
    "# Funkcje - cześć teoretyczne\n",
    "\n",
    "Python pozwala w sposób dość swobodny tworzyć funkcje. Przez funkcje możemy rozumieć sparametryzowany blok kodu.\n",
    "Instrukcje składające się na daną funkcję maja swój blok wcięcia. Wszystkie muszą być nazwane w sposób unikatowy.\n",
    "Jeśli znamy już funkcje z innego języka proramowania to poniższa lista omawia najistotniejsze różnice w zasadach ich tworzenia:\n",
    "\n",
    "* W odróżnieniu od wielu języków programowania w Pythonie nie ma możliwości przeciążania funkcji. W danej przestrzeni nazw może występować tylko raz nazwa danej funkcji\n",
    "* Parametry z wartością domyślną muszą być podane na końcu\n",
    "* Funkcje poprzedzone są słowem kluczowym def\n",
    "* Python wspiera funkcje lambda (* więcej o nich w części Pythona funkcyjnego)\n"
   ]
  },
  {
   "cell_type": "code",
   "execution_count": 8,
   "metadata": {},
   "outputs": [],
   "source": [
    "def moja_funkcja(x, parametry):\n",
    "    \"\"\"\n",
    "    Komentarz o funkcji\n",
    "    Witajcie w kursie analizy danych 2021\n",
    "    To jest komentarz do funkcji\n",
    "    \"\"\"\n",
    "    return x+1"
   ]
  },
  {
   "cell_type": "markdown",
   "metadata": {},
   "source": [
    "Widzimy tu wyraźnie, że funkcja ta posiada swój obszar określony odpowiednim wcięciem. Komentarz w jej wnętrzu ma za zadanie opisywać jej działanie i znaczenie poszczególnych elementów. Poniżej prezentujemy jak należałoby użyć powyższej funkcji"
   ]
  },
  {
   "cell_type": "code",
   "execution_count": 4,
   "metadata": {},
   "outputs": [
    {
     "name": "stdout",
     "output_type": "stream",
     "text": [
      "2\n"
     ]
    }
   ],
   "source": [
    "print(moja_funkcja(1,0))"
   ]
  },
  {
   "cell_type": "markdown",
   "metadata": {},
   "source": [
    "Jakie są istotne elementy funkcji. Po pierwsze nazwa"
   ]
  },
  {
   "cell_type": "code",
   "execution_count": 5,
   "metadata": {},
   "outputs": [
    {
     "data": {
      "text/plain": [
       "function"
      ]
     },
     "execution_count": 5,
     "metadata": {},
     "output_type": "execute_result"
    }
   ],
   "source": [
    "type(moja_funkcja)"
   ]
  },
  {
   "cell_type": "code",
   "execution_count": 6,
   "metadata": {},
   "outputs": [
    {
     "data": {
      "text/plain": [
       "int"
      ]
     },
     "execution_count": 6,
     "metadata": {},
     "output_type": "execute_result"
    }
   ],
   "source": [
    "type(moja_funkcja(1,0))"
   ]
  },
  {
   "cell_type": "markdown",
   "metadata": {},
   "source": [
    "Możemy również łatwo wydobyć opis naszej funkcji prosząc o jej help. Powoduje wyświetlenie to nagłówka funkcji, jej opisu jeśli istnieje. Nie pokazuje nam natomiast instrukcji jakie są wykonywane"
   ]
  },
  {
   "cell_type": "code",
   "execution_count": 9,
   "metadata": {},
   "outputs": [
    {
     "name": "stdout",
     "output_type": "stream",
     "text": [
      "Help on function moja_funkcja in module __main__:\n",
      "\n",
      "moja_funkcja(x, parametry)\n",
      "    Komentarz o funkcji\n",
      "    Witajcie w kursie analizy danych 2021\n",
      "    To jest komentarz do funkcji\n",
      "\n"
     ]
    }
   ],
   "source": [
    "help(moja_funkcja)"
   ]
  },
  {
   "cell_type": "code",
   "execution_count": 12,
   "metadata": {},
   "outputs": [
    {
     "name": "stdout",
     "output_type": "stream",
     "text": [
      "Help on function read_csv in module pandas.io.parsers:\n",
      "\n",
      "read_csv(filepath_or_buffer: Union[ForwardRef('PathLike[str]'), str, IO[~T], io.RawIOBase, io.BufferedIOBase, io.TextIOBase, _io.TextIOWrapper, mmap.mmap], sep=<object object at 0x7f9da40a6250>, delimiter=None, header='infer', names=None, index_col=None, usecols=None, squeeze=False, prefix=None, mangle_dupe_cols=True, dtype=None, engine=None, converters=None, true_values=None, false_values=None, skipinitialspace=False, skiprows=None, skipfooter=0, nrows=None, na_values=None, keep_default_na=True, na_filter=True, verbose=False, skip_blank_lines=True, parse_dates=False, infer_datetime_format=False, keep_date_col=False, date_parser=None, dayfirst=False, cache_dates=True, iterator=False, chunksize=None, compression='infer', thousands=None, decimal: str = '.', lineterminator=None, quotechar='\"', quoting=0, doublequote=True, escapechar=None, comment=None, encoding=None, dialect=None, error_bad_lines=True, warn_bad_lines=True, delim_whitespace=False, low_memory=True, memory_map=False, float_precision=None, storage_options: Union[Dict[str, Any], NoneType] = None)\n",
      "    Read a comma-separated values (csv) file into DataFrame.\n",
      "    \n",
      "    Also supports optionally iterating or breaking of the file\n",
      "    into chunks.\n",
      "    \n",
      "    Additional help can be found in the online docs for\n",
      "    `IO Tools <https://pandas.pydata.org/pandas-docs/stable/user_guide/io.html>`_.\n",
      "    \n",
      "    Parameters\n",
      "    ----------\n",
      "    filepath_or_buffer : str, path object or file-like object\n",
      "        Any valid string path is acceptable. The string could be a URL. Valid\n",
      "        URL schemes include http, ftp, s3, gs, and file. For file URLs, a host is\n",
      "        expected. A local file could be: file://localhost/path/to/table.csv.\n",
      "    \n",
      "        If you want to pass in a path object, pandas accepts any ``os.PathLike``.\n",
      "    \n",
      "        By file-like object, we refer to objects with a ``read()`` method, such as\n",
      "        a file handle (e.g. via builtin ``open`` function) or ``StringIO``.\n",
      "    sep : str, default ','\n",
      "        Delimiter to use. If sep is None, the C engine cannot automatically detect\n",
      "        the separator, but the Python parsing engine can, meaning the latter will\n",
      "        be used and automatically detect the separator by Python's builtin sniffer\n",
      "        tool, ``csv.Sniffer``. In addition, separators longer than 1 character and\n",
      "        different from ``'\\s+'`` will be interpreted as regular expressions and\n",
      "        will also force the use of the Python parsing engine. Note that regex\n",
      "        delimiters are prone to ignoring quoted data. Regex example: ``'\\r\\t'``.\n",
      "    delimiter : str, default ``None``\n",
      "        Alias for sep.\n",
      "    header : int, list of int, default 'infer'\n",
      "        Row number(s) to use as the column names, and the start of the\n",
      "        data.  Default behavior is to infer the column names: if no names\n",
      "        are passed the behavior is identical to ``header=0`` and column\n",
      "        names are inferred from the first line of the file, if column\n",
      "        names are passed explicitly then the behavior is identical to\n",
      "        ``header=None``. Explicitly pass ``header=0`` to be able to\n",
      "        replace existing names. The header can be a list of integers that\n",
      "        specify row locations for a multi-index on the columns\n",
      "        e.g. [0,1,3]. Intervening rows that are not specified will be\n",
      "        skipped (e.g. 2 in this example is skipped). Note that this\n",
      "        parameter ignores commented lines and empty lines if\n",
      "        ``skip_blank_lines=True``, so ``header=0`` denotes the first line of\n",
      "        data rather than the first line of the file.\n",
      "    names : array-like, optional\n",
      "        List of column names to use. If the file contains a header row,\n",
      "        then you should explicitly pass ``header=0`` to override the column names.\n",
      "        Duplicates in this list are not allowed.\n",
      "    index_col : int, str, sequence of int / str, or False, default ``None``\n",
      "      Column(s) to use as the row labels of the ``DataFrame``, either given as\n",
      "      string name or column index. If a sequence of int / str is given, a\n",
      "      MultiIndex is used.\n",
      "    \n",
      "      Note: ``index_col=False`` can be used to force pandas to *not* use the first\n",
      "      column as the index, e.g. when you have a malformed file with delimiters at\n",
      "      the end of each line.\n",
      "    usecols : list-like or callable, optional\n",
      "        Return a subset of the columns. If list-like, all elements must either\n",
      "        be positional (i.e. integer indices into the document columns) or strings\n",
      "        that correspond to column names provided either by the user in `names` or\n",
      "        inferred from the document header row(s). For example, a valid list-like\n",
      "        `usecols` parameter would be ``[0, 1, 2]`` or ``['foo', 'bar', 'baz']``.\n",
      "        Element order is ignored, so ``usecols=[0, 1]`` is the same as ``[1, 0]``.\n",
      "        To instantiate a DataFrame from ``data`` with element order preserved use\n",
      "        ``pd.read_csv(data, usecols=['foo', 'bar'])[['foo', 'bar']]`` for columns\n",
      "        in ``['foo', 'bar']`` order or\n",
      "        ``pd.read_csv(data, usecols=['foo', 'bar'])[['bar', 'foo']]``\n",
      "        for ``['bar', 'foo']`` order.\n",
      "    \n",
      "        If callable, the callable function will be evaluated against the column\n",
      "        names, returning names where the callable function evaluates to True. An\n",
      "        example of a valid callable argument would be ``lambda x: x.upper() in\n",
      "        ['AAA', 'BBB', 'DDD']``. Using this parameter results in much faster\n",
      "        parsing time and lower memory usage.\n",
      "    squeeze : bool, default False\n",
      "        If the parsed data only contains one column then return a Series.\n",
      "    prefix : str, optional\n",
      "        Prefix to add to column numbers when no header, e.g. 'X' for X0, X1, ...\n",
      "    mangle_dupe_cols : bool, default True\n",
      "        Duplicate columns will be specified as 'X', 'X.1', ...'X.N', rather than\n",
      "        'X'...'X'. Passing in False will cause data to be overwritten if there\n",
      "        are duplicate names in the columns.\n",
      "    dtype : Type name or dict of column -> type, optional\n",
      "        Data type for data or columns. E.g. {'a': np.float64, 'b': np.int32,\n",
      "        'c': 'Int64'}\n",
      "        Use `str` or `object` together with suitable `na_values` settings\n",
      "        to preserve and not interpret dtype.\n",
      "        If converters are specified, they will be applied INSTEAD\n",
      "        of dtype conversion.\n",
      "    engine : {'c', 'python'}, optional\n",
      "        Parser engine to use. The C engine is faster while the python engine is\n",
      "        currently more feature-complete.\n",
      "    converters : dict, optional\n",
      "        Dict of functions for converting values in certain columns. Keys can either\n",
      "        be integers or column labels.\n",
      "    true_values : list, optional\n",
      "        Values to consider as True.\n",
      "    false_values : list, optional\n",
      "        Values to consider as False.\n",
      "    skipinitialspace : bool, default False\n",
      "        Skip spaces after delimiter.\n",
      "    skiprows : list-like, int or callable, optional\n",
      "        Line numbers to skip (0-indexed) or number of lines to skip (int)\n",
      "        at the start of the file.\n",
      "    \n",
      "        If callable, the callable function will be evaluated against the row\n",
      "        indices, returning True if the row should be skipped and False otherwise.\n",
      "        An example of a valid callable argument would be ``lambda x: x in [0, 2]``.\n",
      "    skipfooter : int, default 0\n",
      "        Number of lines at bottom of file to skip (Unsupported with engine='c').\n",
      "    nrows : int, optional\n",
      "        Number of rows of file to read. Useful for reading pieces of large files.\n",
      "    na_values : scalar, str, list-like, or dict, optional\n",
      "        Additional strings to recognize as NA/NaN. If dict passed, specific\n",
      "        per-column NA values.  By default the following values are interpreted as\n",
      "        NaN: '', '#N/A', '#N/A N/A', '#NA', '-1.#IND', '-1.#QNAN', '-NaN', '-nan',\n",
      "        '1.#IND', '1.#QNAN', '<NA>', 'N/A', 'NA', 'NULL', 'NaN', 'n/a',\n",
      "        'nan', 'null'.\n",
      "    keep_default_na : bool, default True\n",
      "        Whether or not to include the default NaN values when parsing the data.\n",
      "        Depending on whether `na_values` is passed in, the behavior is as follows:\n",
      "    \n",
      "        * If `keep_default_na` is True, and `na_values` are specified, `na_values`\n",
      "          is appended to the default NaN values used for parsing.\n",
      "        * If `keep_default_na` is True, and `na_values` are not specified, only\n",
      "          the default NaN values are used for parsing.\n",
      "        * If `keep_default_na` is False, and `na_values` are specified, only\n",
      "          the NaN values specified `na_values` are used for parsing.\n",
      "        * If `keep_default_na` is False, and `na_values` are not specified, no\n",
      "          strings will be parsed as NaN.\n",
      "    \n",
      "        Note that if `na_filter` is passed in as False, the `keep_default_na` and\n",
      "        `na_values` parameters will be ignored.\n",
      "    na_filter : bool, default True\n",
      "        Detect missing value markers (empty strings and the value of na_values). In\n",
      "        data without any NAs, passing na_filter=False can improve the performance\n",
      "        of reading a large file.\n",
      "    verbose : bool, default False\n",
      "        Indicate number of NA values placed in non-numeric columns.\n",
      "    skip_blank_lines : bool, default True\n",
      "        If True, skip over blank lines rather than interpreting as NaN values.\n",
      "    parse_dates : bool or list of int or names or list of lists or dict, default False\n",
      "        The behavior is as follows:\n",
      "    \n",
      "        * boolean. If True -> try parsing the index.\n",
      "        * list of int or names. e.g. If [1, 2, 3] -> try parsing columns 1, 2, 3\n",
      "          each as a separate date column.\n",
      "        * list of lists. e.g.  If [[1, 3]] -> combine columns 1 and 3 and parse as\n",
      "          a single date column.\n",
      "        * dict, e.g. {'foo' : [1, 3]} -> parse columns 1, 3 as date and call\n",
      "          result 'foo'\n",
      "    \n",
      "        If a column or index cannot be represented as an array of datetimes,\n",
      "        say because of an unparsable value or a mixture of timezones, the column\n",
      "        or index will be returned unaltered as an object data type. For\n",
      "        non-standard datetime parsing, use ``pd.to_datetime`` after\n",
      "        ``pd.read_csv``. To parse an index or column with a mixture of timezones,\n",
      "        specify ``date_parser`` to be a partially-applied\n",
      "        :func:`pandas.to_datetime` with ``utc=True``. See\n",
      "        :ref:`io.csv.mixed_timezones` for more.\n",
      "    \n",
      "        Note: A fast-path exists for iso8601-formatted dates.\n",
      "    infer_datetime_format : bool, default False\n",
      "        If True and `parse_dates` is enabled, pandas will attempt to infer the\n",
      "        format of the datetime strings in the columns, and if it can be inferred,\n",
      "        switch to a faster method of parsing them. In some cases this can increase\n",
      "        the parsing speed by 5-10x.\n",
      "    keep_date_col : bool, default False\n",
      "        If True and `parse_dates` specifies combining multiple columns then\n",
      "        keep the original columns.\n",
      "    date_parser : function, optional\n",
      "        Function to use for converting a sequence of string columns to an array of\n",
      "        datetime instances. The default uses ``dateutil.parser.parser`` to do the\n",
      "        conversion. Pandas will try to call `date_parser` in three different ways,\n",
      "        advancing to the next if an exception occurs: 1) Pass one or more arrays\n",
      "        (as defined by `parse_dates`) as arguments; 2) concatenate (row-wise) the\n",
      "        string values from the columns defined by `parse_dates` into a single array\n",
      "        and pass that; and 3) call `date_parser` once for each row using one or\n",
      "        more strings (corresponding to the columns defined by `parse_dates`) as\n",
      "        arguments.\n",
      "    dayfirst : bool, default False\n",
      "        DD/MM format dates, international and European format.\n",
      "    cache_dates : bool, default True\n",
      "        If True, use a cache of unique, converted dates to apply the datetime\n",
      "        conversion. May produce significant speed-up when parsing duplicate\n",
      "        date strings, especially ones with timezone offsets.\n",
      "    \n",
      "        .. versionadded:: 0.25.0\n",
      "    iterator : bool, default False\n",
      "        Return TextFileReader object for iteration or getting chunks with\n",
      "        ``get_chunk()``.\n",
      "    \n",
      "        .. versionchanged:: 1.2\n",
      "    \n",
      "           ``TextFileReader`` is a context manager.\n",
      "    chunksize : int, optional\n",
      "        Return TextFileReader object for iteration.\n",
      "        See the `IO Tools docs\n",
      "        <https://pandas.pydata.org/pandas-docs/stable/io.html#io-chunking>`_\n",
      "        for more information on ``iterator`` and ``chunksize``.\n",
      "    \n",
      "        .. versionchanged:: 1.2\n",
      "    \n",
      "           ``TextFileReader`` is a context manager.\n",
      "    compression : {'infer', 'gzip', 'bz2', 'zip', 'xz', None}, default 'infer'\n",
      "        For on-the-fly decompression of on-disk data. If 'infer' and\n",
      "        `filepath_or_buffer` is path-like, then detect compression from the\n",
      "        following extensions: '.gz', '.bz2', '.zip', or '.xz' (otherwise no\n",
      "        decompression). If using 'zip', the ZIP file must contain only one data\n",
      "        file to be read in. Set to None for no decompression.\n",
      "    thousands : str, optional\n",
      "        Thousands separator.\n",
      "    decimal : str, default '.'\n",
      "        Character to recognize as decimal point (e.g. use ',' for European data).\n",
      "    lineterminator : str (length 1), optional\n",
      "        Character to break file into lines. Only valid with C parser.\n",
      "    quotechar : str (length 1), optional\n",
      "        The character used to denote the start and end of a quoted item. Quoted\n",
      "        items can include the delimiter and it will be ignored.\n",
      "    quoting : int or csv.QUOTE_* instance, default 0\n",
      "        Control field quoting behavior per ``csv.QUOTE_*`` constants. Use one of\n",
      "        QUOTE_MINIMAL (0), QUOTE_ALL (1), QUOTE_NONNUMERIC (2) or QUOTE_NONE (3).\n",
      "    doublequote : bool, default ``True``\n",
      "       When quotechar is specified and quoting is not ``QUOTE_NONE``, indicate\n",
      "       whether or not to interpret two consecutive quotechar elements INSIDE a\n",
      "       field as a single ``quotechar`` element.\n",
      "    escapechar : str (length 1), optional\n",
      "        One-character string used to escape other characters.\n",
      "    comment : str, optional\n",
      "        Indicates remainder of line should not be parsed. If found at the beginning\n",
      "        of a line, the line will be ignored altogether. This parameter must be a\n",
      "        single character. Like empty lines (as long as ``skip_blank_lines=True``),\n",
      "        fully commented lines are ignored by the parameter `header` but not by\n",
      "        `skiprows`. For example, if ``comment='#'``, parsing\n",
      "        ``#empty\\na,b,c\\n1,2,3`` with ``header=0`` will result in 'a,b,c' being\n",
      "        treated as the header.\n",
      "    encoding : str, optional\n",
      "        Encoding to use for UTF when reading/writing (ex. 'utf-8'). `List of Python\n",
      "        standard encodings\n",
      "        <https://docs.python.org/3/library/codecs.html#standard-encodings>`_ .\n",
      "        .. versionchanged:: 1.2\n",
      "    \n",
      "           When ``encoding`` is ``None``, ``errors=\"replace\"`` is passed to\n",
      "           ``open()``. Otherwise, ``errors=\"strict\"`` is passed to ``open()``.\n",
      "           This behavior was previously only the case for ``engine=\"python\"``.\n",
      "    dialect : str or csv.Dialect, optional\n",
      "        If provided, this parameter will override values (default or not) for the\n",
      "        following parameters: `delimiter`, `doublequote`, `escapechar`,\n",
      "        `skipinitialspace`, `quotechar`, and `quoting`. If it is necessary to\n",
      "        override values, a ParserWarning will be issued. See csv.Dialect\n",
      "        documentation for more details.\n",
      "    error_bad_lines : bool, default True\n",
      "        Lines with too many fields (e.g. a csv line with too many commas) will by\n",
      "        default cause an exception to be raised, and no DataFrame will be returned.\n",
      "        If False, then these \"bad lines\" will dropped from the DataFrame that is\n",
      "        returned.\n",
      "    warn_bad_lines : bool, default True\n",
      "        If error_bad_lines is False, and warn_bad_lines is True, a warning for each\n",
      "        \"bad line\" will be output.\n",
      "    delim_whitespace : bool, default False\n",
      "        Specifies whether or not whitespace (e.g. ``' '`` or ``'    '``) will be\n",
      "        used as the sep. Equivalent to setting ``sep='\\s+'``. If this option\n",
      "        is set to True, nothing should be passed in for the ``delimiter``\n",
      "        parameter.\n",
      "    low_memory : bool, default True\n",
      "        Internally process the file in chunks, resulting in lower memory use\n",
      "        while parsing, but possibly mixed type inference.  To ensure no mixed\n",
      "        types either set False, or specify the type with the `dtype` parameter.\n",
      "        Note that the entire file is read into a single DataFrame regardless,\n",
      "        use the `chunksize` or `iterator` parameter to return the data in chunks.\n",
      "        (Only valid with C parser).\n",
      "    memory_map : bool, default False\n",
      "        If a filepath is provided for `filepath_or_buffer`, map the file object\n",
      "        directly onto memory and access the data directly from there. Using this\n",
      "        option can improve performance because there is no longer any I/O overhead.\n",
      "    float_precision : str, optional\n",
      "        Specifies which converter the C engine should use for floating-point\n",
      "        values. The options are ``None`` or 'high' for the ordinary converter,\n",
      "        'legacy' for the original lower precision pandas converter, and\n",
      "        'round_trip' for the round-trip converter.\n",
      "    \n",
      "        .. versionchanged:: 1.2\n",
      "    \n",
      "    storage_options : dict, optional\n",
      "        Extra options that make sense for a particular storage connection, e.g.\n",
      "        host, port, username, password, etc., if using a URL that will\n",
      "        be parsed by ``fsspec``, e.g., starting \"s3://\", \"gcs://\". An error\n",
      "        will be raised if providing this argument with a non-fsspec URL.\n",
      "        See the fsspec and backend storage implementation docs for the set of\n",
      "        allowed keys and values.\n",
      "    \n",
      "        .. versionadded:: 1.2\n",
      "    \n",
      "    Returns\n",
      "    -------\n",
      "    DataFrame or TextParser\n",
      "        A comma-separated values (csv) file is returned as two-dimensional\n",
      "        data structure with labeled axes.\n",
      "    \n",
      "    See Also\n",
      "    --------\n",
      "    DataFrame.to_csv : Write DataFrame to a comma-separated values (csv) file.\n",
      "    read_csv : Read a comma-separated values (csv) file into DataFrame.\n",
      "    read_fwf : Read a table of fixed-width formatted lines into DataFrame.\n",
      "    \n",
      "    Examples\n",
      "    --------\n",
      "    >>> pd.read_csv('data.csv')  # doctest: +SKIP\n",
      "\n"
     ]
    }
   ],
   "source": [
    "import pandas as pd\n",
    "help(pd.read_csv)"
   ]
  },
  {
   "cell_type": "code",
   "execution_count": null,
   "metadata": {},
   "outputs": [],
   "source": [
    "pd.read_csv"
   ]
  },
  {
   "cell_type": "markdown",
   "metadata": {},
   "source": [
    "## Funkcja a wartość funkcji\n",
    "Jednym z typowych błędów nowicjusza programisty jest pomylenie funkcji z wynikiem jej działania. Atrybutem funkcji jest oczywiście nawias $()$ zatem zdecydowanie czym innym jest"
   ]
  },
  {
   "cell_type": "code",
   "execution_count": 13,
   "metadata": {},
   "outputs": [
    {
     "data": {
      "text/plain": [
       "function"
      ]
     },
     "execution_count": 13,
     "metadata": {},
     "output_type": "execute_result"
    }
   ],
   "source": [
    "def f():\n",
    "    return 0\n",
    "type(f)"
   ]
  },
  {
   "cell_type": "markdown",
   "metadata": {},
   "source": [
    "a"
   ]
  },
  {
   "cell_type": "code",
   "execution_count": 15,
   "metadata": {},
   "outputs": [
    {
     "data": {
      "text/plain": [
       "int"
      ]
     },
     "execution_count": 15,
     "metadata": {},
     "output_type": "execute_result"
    }
   ],
   "source": [
    "type(f())"
   ]
  },
  {
   "cell_type": "markdown",
   "metadata": {},
   "source": [
    "Druga linijka naturalnie dotyczy wartości funkcji. Z reguły nie ma sensu używać funkcji bez wywoływania jej wartości. Przyjrzyjmy różne elementy, które można wiązać z funkcjami\n",
    "\n",
    "## Moja funkcja zwraca None ...\n",
    "\n",
    "Instrukcja return pozwala na przekazanie wartości na zewnątrz. Jej brak spowoduje, że wywołanie wartości może zakończyć się bardzo niespodziewanie"
   ]
  },
  {
   "cell_type": "code",
   "execution_count": 22,
   "metadata": {},
   "outputs": [
    {
     "name": "stdout",
     "output_type": "stream",
     "text": [
      "W trakcie 21\n",
      "Na końcu None\n"
     ]
    }
   ],
   "source": [
    "def f():\n",
    "    result = 1+2+3+4+5+6\n",
    "    print(f'W trakcie {result}')\n",
    "result = f()\n",
    "print(f'Na końcu {result}')"
   ]
  },
  {
   "cell_type": "code",
   "execution_count": 24,
   "metadata": {},
   "outputs": [
    {
     "data": {
      "text/plain": [
       "NoneType"
      ]
     },
     "execution_count": 24,
     "metadata": {},
     "output_type": "execute_result"
    }
   ],
   "source": [
    "type(result)"
   ]
  },
  {
   "cell_type": "markdown",
   "metadata": {},
   "source": [
    "Przyczyną tego niespodziewanego działania jest brak poinformowania interpretara jaka wartość ma zostać końcowo przekazana przez funkcję. Aby takie wyniku nastąpiło należy wprost o tym napisać wydając instrukcję _return_"
   ]
  },
  {
   "cell_type": "code",
   "execution_count": 25,
   "metadata": {},
   "outputs": [
    {
     "name": "stdout",
     "output_type": "stream",
     "text": [
      "W trakcie 21\n",
      "Na końcu 21\n"
     ]
    }
   ],
   "source": [
    "def f():\n",
    "    result = 1+2+3+4+5+6\n",
    "    print(f'W trakcie {result}')\n",
    "    return result\n",
    "    \n",
    "result = f()\n",
    "print(f'Na końcu {result}')"
   ]
  },
  {
   "cell_type": "markdown",
   "metadata": {},
   "source": [
    "Warto dodać, że instrukcje _return_ mogą być wydane wielokrotnie w kodzie, ale ich wykonanie kończy działanie danej funkcji. Więc instrukcje, które według porządku kodu powinny wykonać się po - nie zostaną wykonane nigdy. Obejrzyjmy poniższy przykład:"
   ]
  },
  {
   "cell_type": "code",
   "execution_count": 26,
   "metadata": {},
   "outputs": [
    {
     "name": "stdout",
     "output_type": "stream",
     "text": [
      "21\n"
     ]
    }
   ],
   "source": [
    "def f():\n",
    "    result = 1+2+3+4+5+6\n",
    "    return result\n",
    "    print(f'W trakcie {result}') # umieszczony po instrukcji return\n",
    "    \n",
    "result = f()\n",
    "print(result)"
   ]
  },
  {
   "cell_type": "markdown",
   "metadata": {},
   "source": [
    "Co prezentuje, że isntrukcja _print_ umieszczona po _return_ nie została wykonana przez interpreter."
   ]
  },
  {
   "cell_type": "markdown",
   "metadata": {},
   "source": [
    "W programowaniu (a zwłaszcza wśród programistów Pythona) trwa nieustająca wojna !!\n",
    "\n",
    "f(x) \n",
    "to wynik tego działania powinien być złożony w 'x', return None\n",
    "\n",
    "y = f(x) \n",
    "wynik ma być przekazany przez return i wtedy zawsze zwracane jest coś sensownego\n",
    "\n",
    "W różnych pakietach, pojawią się różne podejścia.\n",
    "\n",
    "sort(tablica)\n",
    "\n",
    "tablica2 = sort(tablica)\n",
    "print(tablica2) -> None"
   ]
  },
  {
   "cell_type": "code",
   "execution_count": null,
   "metadata": {},
   "outputs": [],
   "source": []
  },
  {
   "cell_type": "markdown",
   "metadata": {},
   "source": [
    "## Zakresy zmiennych wewnętrzu funkcji, dostęp do zmiennych spoza funkcji\n",
    "Kolejnym ważnym aspektem jest pamiętanie, że funkcje mają swój kod w bloku. To oznacza, że mogą tworzyć lokalne zmienne, które nie będą dostępne na zewnątrz. Jak również to, że mogą czerpać ze zmiennych zewnętrznych"
   ]
  },
  {
   "cell_type": "code",
   "execution_count": 27,
   "metadata": {},
   "outputs": [
    {
     "data": {
      "text/plain": [
       "7"
      ]
     },
     "execution_count": 27,
     "metadata": {},
     "output_type": "execute_result"
    }
   ],
   "source": [
    "zewnetrzna = 4\n",
    "def f():\n",
    "    wewnetrzna = 3\n",
    "    return zewnetrzna + wewnetrzna\n",
    "f()"
   ]
  },
  {
   "cell_type": "markdown",
   "metadata": {},
   "source": [
    "Jednak dostęp do zmiennej lokalnej jest jedynie z wnetrza funkcji"
   ]
  },
  {
   "cell_type": "code",
   "execution_count": 29,
   "metadata": {},
   "outputs": [
    {
     "ename": "NameError",
     "evalue": "name 'wewnetrzna' is not defined",
     "output_type": "error",
     "traceback": [
      "\u001b[0;31m---------------------------------------------------------------------------\u001b[0m",
      "\u001b[0;31mNameError\u001b[0m                                 Traceback (most recent call last)",
      "\u001b[0;32m<ipython-input-29-00d7961216b7>\u001b[0m in \u001b[0;36m<module>\u001b[0;34m\u001b[0m\n\u001b[0;32m----> 1\u001b[0;31m \u001b[0mwewnetrzna\u001b[0m\u001b[0;34m\u001b[0m\u001b[0;34m\u001b[0m\u001b[0m\n\u001b[0m",
      "\u001b[0;31mNameError\u001b[0m: name 'wewnetrzna' is not defined"
     ]
    }
   ],
   "source": [
    "wewnetrzna"
   ]
  },
  {
   "cell_type": "markdown",
   "metadata": {},
   "source": [
    "Natomiast dowiązanie do zmiennej zewnetrznej jest czymś więcej niż skopiowaniem wartości do wnętrza funkcji"
   ]
  },
  {
   "cell_type": "code",
   "execution_count": 30,
   "metadata": {},
   "outputs": [
    {
     "data": {
      "text/plain": [
       "13"
      ]
     },
     "execution_count": 30,
     "metadata": {},
     "output_type": "execute_result"
    }
   ],
   "source": [
    "zewnetrzna = 10\n",
    "f()"
   ]
  },
  {
   "cell_type": "markdown",
   "metadata": {},
   "source": [
    "Mechanizm pokazany powyżej nie działa jednak w dwie strony"
   ]
  },
  {
   "cell_type": "code",
   "execution_count": 40,
   "metadata": {},
   "outputs": [
    {
     "name": "stdout",
     "output_type": "stream",
     "text": [
      "Zewnetrzna przed 10\n",
      "Zewnetrzna w środku 7\n",
      "7\n",
      "Zewnetrzna   po  10\n"
     ]
    }
   ],
   "source": [
    "zewnetrzna = 10\n",
    "\n",
    "def g():\n",
    "    zewnetrzna =7 # przesłonięcia zmiennej zewnętrzna\n",
    "    print(f'Zewnetrzna w środku {zewnetrzna}')\n",
    "    return zewnetrzna;\n",
    "\n",
    "print(f'Zewnetrzna przed {zewnetrzna}')\n",
    "print(g())\n",
    "print(f'Zewnetrzna   po  {zewnetrzna}')"
   ]
  },
  {
   "cell_type": "markdown",
   "metadata": {},
   "source": [
    "Zmienna zewnetrzna jest chroniona przed próbą zapisu."
   ]
  },
  {
   "cell_type": "markdown",
   "metadata": {},
   "source": [
    "## Funkcje zwracające krotki \n",
    "\n",
    "W pythonie wreszcie został wprowadzony sprawny mechanizm automated-unboxing. Pozwala on na łatwy i czytelny sposób zwracania więcej niż jednej wartości. Mechanizm wymaga jednak aby zawsze zwrócone były wszystkie elementy wyniku funkcji (oraz przyjęte)\n",
    "\n",
    "\n"
   ]
  },
  {
   "cell_type": "code",
   "execution_count": 41,
   "metadata": {},
   "outputs": [
    {
     "name": "stdout",
     "output_type": "stream",
     "text": [
      "A wynosi Zmienna 1 ma wartosc\n",
      "B wynosi 3\n"
     ]
    }
   ],
   "source": [
    "def moja_funkcja():\n",
    "    x=\"Zmienna 1 ma wartosc\"\n",
    "    y=3\n",
    "    return x, y\n",
    "\n",
    "# krotka = moja_funkcja() # tak można już było wcześniej\n",
    "# a = krotka[0]\n",
    "# b = krotka[1]\n",
    "a, b = moja_funkcja() # a tak dopiero w Pythonie\n",
    "print('A wynosi', a)\n",
    "print('B wynosi', b)"
   ]
  },
  {
   "cell_type": "markdown",
   "metadata": {},
   "source": [
    "Na rozmowach rekrutacyjnych pojawia się następujące pytanie\n",
    "\n",
    "Mamy w dwóch zmiennych a,b dwie liczby. Jak zamienić te dwie liczby miejscami. Napisz funkcję która to zrobi"
   ]
  },
  {
   "cell_type": "code",
   "execution_count": 48,
   "metadata": {},
   "outputs": [
    {
     "name": "stdout",
     "output_type": "stream",
     "text": [
      "Analiza -> AnalizaDanych\n"
     ]
    }
   ],
   "source": [
    "a = 'Analiza'\n",
    "b = 'Danych'\n",
    "\n",
    "# swap wszędzie ale nie w Pythonie\n",
    "# c = a\n",
    "# a = b\n",
    "# b = c\n",
    "\n",
    "# swap w Pythonie\n",
    "\n",
    "a, b = a, a + b\n",
    "\n",
    "print(f'{a} -> {b}')"
   ]
  },
  {
   "cell_type": "markdown",
   "metadata": {},
   "source": [
    "## Parametry domyślne, i parowanie parametrów\n",
    "\n",
    "Python bardzo szeroko podchodzi do możliwości oferowanych przez jego parametry wejściowe. Dodajmy, że parametry można zadawać tak aby były wymagane lub opcjonalne - i posiadały wartość domyślną.\n",
    "\n",
    "Jak wygląda funkcja z wartością domyślnym"
   ]
  },
  {
   "cell_type": "code",
   "execution_count": 49,
   "metadata": {},
   "outputs": [
    {
     "name": "stdout",
     "output_type": "stream",
     "text": [
      "Witaj kimkolwiek jesteś\n",
      "Witaj Piotr\n"
     ]
    }
   ],
   "source": [
    "def f(who = 'kimkolwiek jesteś'):\n",
    "    print('Witaj', who)\n",
    "\n",
    "f()\n",
    "f('Piotr')"
   ]
  },
  {
   "cell_type": "markdown",
   "metadata": {},
   "source": [
    "Jak widać funkcja w zależności od obecności parametru lub jego braku, zareagowała odrobinę inaczej. Częściej jednak spotkacie Państwo wywołanie funkcji w następujący sposób"
   ]
  },
  {
   "cell_type": "code",
   "execution_count": 50,
   "metadata": {},
   "outputs": [
    {
     "name": "stdout",
     "output_type": "stream",
     "text": [
      "Witaj Piotr\n"
     ]
    }
   ],
   "source": [
    "f( who = 'Piotr')"
   ]
  },
  {
   "cell_type": "markdown",
   "metadata": {},
   "source": [
    "Dzięki temu sposobowi można zadawać parametry w dowolnej kolejności. Jeśli nie są podane odpowiadające parametry, łączenie odbywa się na podstawie kolejności parametrów (w porównaniu do kolejności z def). Jeśli parametr nie ma wartości domyślnej to jest wymagany\n"
   ]
  },
  {
   "cell_type": "code",
   "execution_count": 54,
   "metadata": {},
   "outputs": [
    {
     "name": "stdout",
     "output_type": "stream",
     "text": [
      "Mam a 3\n"
     ]
    }
   ],
   "source": [
    "def f(a):\n",
    "    print('Mam a', a)\n",
    "\n",
    "f(a = 3)"
   ]
  },
  {
   "cell_type": "markdown",
   "metadata": {},
   "source": [
    "Zobaczmy jeszcze jak wygląda możliwa dzięki nazwom parametrów zamiana ich kolejności"
   ]
  },
  {
   "cell_type": "code",
   "execution_count": 68,
   "metadata": {},
   "outputs": [
    {
     "name": "stdout",
     "output_type": "stream",
     "text": [
      "a=a b=b c=c d=d\n",
      "a=a b=b c=c d=d\n",
      "a=a b=b c=c d=e\n"
     ]
    }
   ],
   "source": [
    "def f(a, b, c = 'c', d = 'd'):\n",
    "    print(f'a={a} b={b} c={c} d={d}')\n",
    "\n",
    "f('a', 'b')\n",
    "f(b = 'b', a = 'a')\n",
    "f(d = 'e', a = 'a' , b = 'b')\n",
    "#f('c','e', 'g', a='c')"
   ]
  },
  {
   "cell_type": "markdown",
   "metadata": {},
   "source": [
    "## *args oraz **kwargs\n",
    "\n",
    "Python udostępnia również coś co jest marzeniem/zmorą programistów C/C++ - funkcje o dowolnej liczbie zmiennych. Kluczem do tego jest rozpakowywanie listy argumentów z użyciem dwóch symboli\n",
    "\n",
    "* $\\ast args$ - oznaczające liste wszystkich pozostałych nieuporządkowanych wartości na wejściu\n",
    "* $\\ast \\ast kwargs$ - oznaczające listę wszystkich pozostałych nazwanych wartości na wejściu "
   ]
  },
  {
   "cell_type": "code",
   "execution_count": 69,
   "metadata": {},
   "outputs": [
    {
     "name": "stdout",
     "output_type": "stream",
     "text": [
      "6\n",
      "10\n",
      "45\n"
     ]
    }
   ],
   "source": [
    "def suma(*args):\n",
    "    suma = 0\n",
    "    for arg in args:\n",
    "        suma += arg\n",
    "    return suma\n",
    "\n",
    "print(suma(1,2,3))\n",
    "print(suma(1,2,3,4))\n",
    "print(suma(1,2,3,4,5,6,7,8,9))\n"
   ]
  },
  {
   "cell_type": "markdown",
   "metadata": {},
   "source": [
    "Args otrzymane w przykładzie powyżej powoduje zamianę parametrów wejścia na jedną dużą krotkę (tuple)"
   ]
  },
  {
   "cell_type": "code",
   "execution_count": 70,
   "metadata": {},
   "outputs": [
    {
     "name": "stdout",
     "output_type": "stream",
     "text": [
      "<class 'tuple'>\n"
     ]
    }
   ],
   "source": [
    "def suma(*args):\n",
    "    print(type(args))\n",
    "\n",
    "suma(1,2,3)"
   ]
  },
  {
   "cell_type": "code",
   "execution_count": 76,
   "metadata": {},
   "outputs": [
    {
     "name": "stdout",
     "output_type": "stream",
     "text": [
      "Liczba parametrow w args 5\n",
      "12\n",
      "13\n",
      "14\n",
      "15\n",
      "16\n"
     ]
    }
   ],
   "source": [
    "def inna_suma(a,b, *args):\n",
    "    print(f'Liczba parametrow w args {len(args)}')\n",
    "    for arg in args:\n",
    "        print(a+arg)\n",
    "inna_suma(10,1,2,3,4,5,6)"
   ]
  },
  {
   "cell_type": "code",
   "execution_count": 77,
   "metadata": {},
   "outputs": [
    {
     "ename": "TypeError",
     "evalue": "inna_suma() missing 1 required positional argument: 'b'",
     "output_type": "error",
     "traceback": [
      "\u001b[0;31m---------------------------------------------------------------------------\u001b[0m",
      "\u001b[0;31mTypeError\u001b[0m                                 Traceback (most recent call last)",
      "\u001b[0;32m<ipython-input-77-9cb4ba23560b>\u001b[0m in \u001b[0;36m<module>\u001b[0;34m\u001b[0m\n\u001b[0;32m----> 1\u001b[0;31m \u001b[0minna_suma\u001b[0m\u001b[0;34m(\u001b[0m\u001b[0;36m10\u001b[0m\u001b[0;34m)\u001b[0m\u001b[0;34m\u001b[0m\u001b[0;34m\u001b[0m\u001b[0m\n\u001b[0m",
      "\u001b[0;31mTypeError\u001b[0m: inna_suma() missing 1 required positional argument: 'b'"
     ]
    }
   ],
   "source": [
    "inna_suma(10)"
   ]
  },
  {
   "cell_type": "markdown",
   "metadata": {},
   "source": [
    "Z kolei użycie kwargs powoduje otrzymanie w tym samym miejscu słownika"
   ]
  },
  {
   "cell_type": "code",
   "execution_count": 81,
   "metadata": {},
   "outputs": [
    {
     "name": "stdout",
     "output_type": "stream",
     "text": [
      "{'a': 1, 'b': 2, 'c': 'c', 'd': [], 'e': (1, 2, 4)}\n"
     ]
    }
   ],
   "source": [
    "def kwarg_example(**kwargs):\n",
    "    print(kwargs)\n",
    "kwarg_example(a = 1, b = 2, c= 'c', d=[], e= (1,2,4))\n",
    "    "
   ]
  },
  {
   "cell_type": "markdown",
   "metadata": {},
   "source": [
    "Przykład działania"
   ]
  },
  {
   "cell_type": "code",
   "execution_count": 87,
   "metadata": {},
   "outputs": [
    {
     "name": "stdout",
     "output_type": "stream",
     "text": [
      "1\n",
      "3\n",
      "5\n",
      "7\n"
     ]
    }
   ],
   "source": [
    "for i, k in ( (1,2), (3,4), (5,6), (7,8) ):\n",
    "    print(i)"
   ]
  },
  {
   "cell_type": "code",
   "execution_count": 91,
   "metadata": {},
   "outputs": [
    {
     "name": "stdout",
     "output_type": "stream",
     "text": [
      "('a', 3)\n",
      "('b', 7)\n"
     ]
    }
   ],
   "source": [
    "d = {'a' : 3, 'b' :  7}\n",
    "\n",
    "for i in d.items():\n",
    "    print(i)"
   ]
  },
  {
   "cell_type": "code",
   "execution_count": 97,
   "metadata": {},
   "outputs": [
    {
     "name": "stdout",
     "output_type": "stream",
     "text": [
      "a -> 1\n",
      "b -> 2\n",
      "c -> 7\n",
      "prowadzacy -> Pan Piotr to fajny prowadzacy\n",
      "python -> Python jest super\n"
     ]
    }
   ],
   "source": [
    "def kwarg_example(*args,**kwargs):\n",
    "    for kaczka, zolta in kwargs.items():\n",
    "        print(f'{kaczka} -> {zolta}')\n",
    "kwarg_example(7,8, 9,a = 1, b = 2, c= 7, prowadzacy = 'Pan Piotr to fajny prowadzacy', python = 'Python jest super')\n"
   ]
  },
  {
   "cell_type": "markdown",
   "metadata": {},
   "source": [
    "Zarówno w arg jak kwargs, parametry podłączone gdzie indziej na liście nie wejdą do listy \"pozostałych\" jakimi są args i kwargs"
   ]
  },
  {
   "cell_type": "code",
   "execution_count": null,
   "metadata": {},
   "outputs": [],
   "source": [
    "def kwarg_example(a=3, **kwargs):\n",
    "    for klucz, wartosc in kwargs.items():\n",
    "        print(f'{klucz} -> {wartosc}')\n",
    "kwarg_example(a = 1, b = 2)"
   ]
  },
  {
   "cell_type": "code",
   "execution_count": 105,
   "metadata": {},
   "outputs": [
    {
     "name": "stdout",
     "output_type": "stream",
     "text": [
      "Mam b i 3\n",
      "Mam a i inna\n",
      "Mam c i haha\n"
     ]
    }
   ],
   "source": [
    "def f(a = 'domyslny', **kwargs):\n",
    "    print(f'Mam a i {a}')\n",
    "    \n",
    "def f2(c = 'domyslny', **kwargs):\n",
    "    print(f'Mam c i {c}')\n",
    "    \n",
    "def g(b, **kwargs):\n",
    "    print(f'Mam b i {b}')\n",
    "    f(**kwargs)\n",
    "    f2(**kwargs)\n",
    "    \n",
    "g(b=3,a='inna',c='haha')"
   ]
  },
  {
   "cell_type": "markdown",
   "metadata": {},
   "source": [
    "plot(x,y,'l')"
   ]
  },
  {
   "cell_type": "markdown",
   "metadata": {},
   "source": [
    "# Praktyczne użycie funkcji - Konwersja wisielca\n",
    "\n",
    "Jako ćwiczenie praktyczne na zakończenie tego materiału przeprowadźmy konwersję na funkcje.\n",
    "Przypomnijmy kod naszej funkcji\n"
   ]
  },
  {
   "cell_type": "code",
   "execution_count": null,
   "metadata": {},
   "outputs": [],
   "source": [
    "scene0 = \"\"\"\n",
    "---------\n",
    "|       |\n",
    "|\n",
    "|\n",
    "|\n",
    "|\n",
    "|\n",
    "|\n",
    "----------\n",
    "\"\"\"\n",
    "scene1 = \"\"\"\n",
    "---------\n",
    "|       |\n",
    "|       O\n",
    "|\n",
    "|\n",
    "|\n",
    "|\n",
    "|\n",
    "----------\n",
    "\"\"\"\n",
    "scene2 = \"\"\"\n",
    "---------\n",
    "|       |\n",
    "|       O\n",
    "|    |--T--|\n",
    "|\n",
    "|\n",
    "|\n",
    "|\n",
    "----------\n",
    "\"\"\"\n",
    "scene3 = \"\"\"\n",
    "---------\n",
    "|       |\n",
    "|       O\n",
    "|    |--T--|\n",
    "|       |\n",
    "|\n",
    "|\n",
    "|\n",
    "----------\n",
    "\"\"\"\n",
    "scene4 = \"\"\"\n",
    "---------\n",
    "|       |\n",
    "|       O\n",
    "|    |--T--|\n",
    "|       |\n",
    "|       ^\n",
    "|\n",
    "|\n",
    "----------\n",
    "\"\"\"\n",
    "scene5 = \"\"\"\n",
    "---------\n",
    "|       |\n",
    "|       O\n",
    "|    |--T--|\n",
    "|       |\n",
    "|       M\n",
    "|      | | \n",
    "|\n",
    "----------\n",
    "\"\"\""
   ]
  },
  {
   "cell_type": "code",
   "execution_count": null,
   "metadata": {},
   "outputs": [],
   "source": [
    "tajne_haslo = \"wprowadzenie do programowania\"\n",
    "\n",
    "print('Zagrajmy w grę\\n Zgadnij moje tajne hasło')\n",
    "\n",
    "scenes = [scene0, scene1, scene2, scene3, scene4, scene5]\n",
    "scenes_count = 5\n",
    "current_scene = 0\n",
    "czy_haslo_zgadniete = False\n",
    "litery_sprawdzone = []\n",
    "\n",
    "## petla opisuje proces odgadywania\n",
    "while current_scene < scenes_count and not czy_haslo_zgadniete:\n",
    "    print(scenes[current_scene])\n",
    "    print('Dotychczasowe litery to ', litery_sprawdzone)\n",
    "    # dodanie litery do listy sprawdzanych\n",
    "    litera = input('Podaj kolejna litere\\n>')\n",
    "    litery_sprawdzone.append(litera)\n",
    "    # czy trafiona litera\n",
    "    if not litera in tajne_haslo:\n",
    "        current_scene += 1\n",
    "    # sprawdzenie hasła\n",
    "    print('Hasło obecnie: ', end='')\n",
    "    czy_kompletne = True\n",
    "    for litera in tajne_haslo:\n",
    "        if litera == ' ':\n",
    "            print(litera,sep='', end='')\n",
    "        elif litera in litery_sprawdzone:\n",
    "            print(litera,sep='', end='')\n",
    "        else:\n",
    "            print('_',sep='', end='')\n",
    "            czy_kompletne = False\n",
    "    if czy_kompletne:\n",
    "        czy_haslo_zgadniete = True\n",
    "    print()\n",
    "# odgadywanie zakonczylo sie zgadnieciem hasla lub\n",
    "if czy_haslo_zgadniete:\n",
    "    print('Haslo odgadniete - Brawo')\n",
    "else: # przegrana\n",
    "    print('Wisisz - gra przegrana')\n",
    "    print(scenes[current_scene])"
   ]
  },
  {
   "cell_type": "markdown",
   "metadata": {},
   "source": [
    "Najpierw zamieńmy naszą cały kod w jedną dużą funkcję"
   ]
  },
  {
   "cell_type": "code",
   "execution_count": null,
   "metadata": {},
   "outputs": [],
   "source": [
    "def gra_wisielec():\n",
    "    tajne_haslo = \"wprowadzenie do programowania\"\n",
    "    print('Zagrajmy w grę\\n Zgadnij moje tajne hasło')\n",
    "\n",
    "    scenes = [scene0, scene1, scene2, scene3, scene4, scene5]\n",
    "    scenes_count = 5\n",
    "    current_scene = 0\n",
    "    czy_haslo_zgadniete = False\n",
    "    litery_sprawdzone = []\n",
    "\n",
    "    ## petla opisuje proces odgadywania\n",
    "    while current_scene < scenes_count and not czy_haslo_zgadniete:\n",
    "        print(scenes[current_scene])\n",
    "        print('Dotychczasowe litery to ', litery_sprawdzone)\n",
    "        # dodanie litery do listy sprawdzanych\n",
    "        litera = input('Podaj kolejna litere\\n>')\n",
    "        litery_sprawdzone.append(litera)\n",
    "        # czy trafiona litera\n",
    "        if not litera in tajne_haslo:\n",
    "                current_scene += 1\n",
    "        # sprawdzenie hasła\n",
    "        print('Hasło obecnie: ', end='')\n",
    "        czy_kompletne = True\n",
    "        for litera in tajne_haslo:\n",
    "            if litera == ' ':\n",
    "                print(litera,sep='', end='')\n",
    "            elif litera in litery_sprawdzone:\n",
    "                print(litera,sep='', end='')\n",
    "            else:\n",
    "                print('_',sep='', end='')\n",
    "                czy_kompletne = False\n",
    "        if czy_kompletne:\n",
    "            czy_haslo_zgadniete = True\n",
    "        print()\n",
    "    # odgadywanie zakonczylo sie zgadnieciem hasla lub\n",
    "    if czy_haslo_zgadniete:\n",
    "        print('Haslo odgadniete - Brawo')\n",
    "    else: # przegrana\n",
    "        print('Wisisz - gra przegrana')\n",
    "        print(scenes[current_scene])"
   ]
  },
  {
   "cell_type": "markdown",
   "metadata": {},
   "source": [
    "Pierwszą wydatną zmianą jest, to że aby gra ruszyła - naszą funkcję należy użyć"
   ]
  },
  {
   "cell_type": "code",
   "execution_count": null,
   "metadata": {},
   "outputs": [],
   "source": [
    "gra_wisielec()"
   ]
  },
  {
   "cell_type": "markdown",
   "metadata": {},
   "source": [
    "Następnym krokiem przy generowaniu funkcji na podstawie kodu jest określenie rodzajów używanych przez niego zmiennych. Z góry można przyjąć, że będzie to 1 z 3 rodzajów\n",
    "\n",
    "1. Zmienna lokalna - potrzebna tylko we wnętrzu\n",
    "1. Parametr wejściowy - informacja przekazywana do wnętrza funkcji przy jej uruchomieniu\n",
    "1. Zmienna globalna - współdzielony obszar pamięci poza wnętrzem funkcji\n",
    "\n",
    "Warto dodać, że trzeci rodzaj - jest silnie odradzany każdemu na początkowym etapie nauki programowania. My się przychylamy do tej sugestii - prosimy aby Państwo jak ognia unikali komunikacji wnętrza funkcji z zewnętrzem za pomocą zmiennych o charakterze globalnym.\n",
    "\n",
    "Mamy kilka zmiennych\n",
    "```{python}\n",
    "    tajne_haslo = \"wprowadzenie do programowania\"\n",
    "    scenes = [scene0, scene1, scene2, scene3, scene4, scene5]\n",
    "    scenes_count = 5\n",
    "    current_scene = 0\n",
    "    czy_haslo_zgadniete = False\n",
    "    litery_sprawdzone = []\n",
    "```\n",
    "\n",
    "Jeśli by się nad tym zastanowić - to gdyby można było zmieniać tajne hasło - nasza funkcja pozwoliłaby na rozegranie bardzo wielu pojedynków. Dlatego warto uczynić ją parametrem wejściowym. Pozostałe zmienne przechowują elementy związane już wyłącznie z grę i jej prezentacją. Mogą zatem stać się lokalnymi zmiennymi"
   ]
  },
  {
   "cell_type": "code",
   "execution_count": null,
   "metadata": {},
   "outputs": [],
   "source": [
    "def gra_wisielec(tajne_haslo):\n",
    "    print('Zagrajmy w grę\\n Zgadnij moje tajne hasło')\n",
    "\n",
    "    scenes = [scene0, scene1, scene2, scene3, scene4, scene5]\n",
    "    scenes_count = 5\n",
    "    current_scene = 0\n",
    "    czy_haslo_zgadniete = False\n",
    "    litery_sprawdzone = []\n",
    "\n",
    "    ## petla opisuje proces odgadywania\n",
    "    while current_scene < scenes_count and not czy_haslo_zgadniete:\n",
    "        print(scenes[current_scene])\n",
    "        print('Dotychczasowe litery to ', litery_sprawdzone)\n",
    "        # dodanie litery do listy sprawdzanych\n",
    "        litera = input('Podaj kolejna litere\\n>')\n",
    "        litery_sprawdzone.append(litera)\n",
    "        # czy trafiona litera\n",
    "        if not litera in tajne_haslo:\n",
    "                current_scene += 1\n",
    "        # sprawdzenie hasła\n",
    "        print('Hasło obecnie: ', end='')\n",
    "        czy_kompletne = True\n",
    "        for litera in tajne_haslo:\n",
    "            if litera == ' ':\n",
    "                print(litera,sep='', end='')\n",
    "            elif litera in litery_sprawdzone:\n",
    "                print(litera,sep='', end='')\n",
    "            else:\n",
    "                print('_',sep='', end='')\n",
    "                czy_kompletne = False\n",
    "        if czy_kompletne:\n",
    "            czy_haslo_zgadniete = True\n",
    "        print()\n",
    "    # odgadywanie zakonczylo sie zgadnieciem hasla lub\n",
    "    if czy_haslo_zgadniete:\n",
    "        print('Haslo odgadniete - Brawo')\n",
    "    else: # przegrana\n",
    "        print('Wisisz - gra przegrana')\n",
    "        print(scenes[current_scene])"
   ]
  },
  {
   "cell_type": "markdown",
   "metadata": {},
   "source": [
    "Dalej możemy prowadzić dekompozycję wnętrza funkcji na poszczególne składowe. Naszą uwagę przykuwa np. zakończenie funkcji. Kilka ostatnich linijek, które jednak mają wspólny cel - wypisać na ekranie wynik gry. Dokonajmy konwersji tej części"
   ]
  },
  {
   "cell_type": "code",
   "execution_count": null,
   "metadata": {},
   "outputs": [],
   "source": [
    "def gra_wisielec(tajne_haslo):\n",
    "    print('Zagrajmy w grę\\n Zgadnij moje tajne hasło')\n",
    "\n",
    "    scenes = [scene0, scene1, scene2, scene3, scene4, scene5]\n",
    "    scenes_count = 5\n",
    "    current_scene = 0\n",
    "    czy_haslo_zgadniete = False\n",
    "    litery_sprawdzone = []\n",
    "\n",
    "    ## petla opisuje proces odgadywania\n",
    "    while current_scene < scenes_count and not czy_haslo_zgadniete:\n",
    "        print(scenes[current_scene])\n",
    "        print('Dotychczasowe litery to ', litery_sprawdzone)\n",
    "        # dodanie litery do listy sprawdzanych\n",
    "        litera = input('Podaj kolejna litere\\n>')\n",
    "        litery_sprawdzone.append(litera)\n",
    "        # czy trafiona litera\n",
    "        if not litera in tajne_haslo:\n",
    "                current_scene += 1\n",
    "        # sprawdzenie hasła\n",
    "        print('Hasło obecnie: ', end='')\n",
    "        czy_kompletne = True\n",
    "        for litera in tajne_haslo:\n",
    "            if litera == ' ':\n",
    "                print(litera,sep='', end='')\n",
    "            elif litera in litery_sprawdzone:\n",
    "                print(litera,sep='', end='')\n",
    "            else:\n",
    "                print('_',sep='', end='')\n",
    "                czy_kompletne = False\n",
    "        if czy_kompletne:\n",
    "            czy_haslo_zgadniete = True\n",
    "        print()\n",
    "    def wypisz_wynik_gry():\n",
    "        # odgadywanie zakonczylo sie zgadnieciem hasla lub\n",
    "        if czy_haslo_zgadniete:\n",
    "            print('Haslo odgadniete - Brawo')\n",
    "        else: # przegrana\n",
    "            print('Wisisz - gra przegrana')\n",
    "            print(scenes[current_scene])\n",
    "    wypisz_wynik_gry()"
   ]
  },
  {
   "cell_type": "markdown",
   "metadata": {},
   "source": [
    "Dla tak zdefiniowanej funkcji warto teraz rozważyć opisanie tych zmiennych które się tam pojawiają. \n",
    "\n",
    "* czy hasło zgadniete - pojawia się wcześniej w kodzie. Wypisanie wyniku musi wiedzieć czy hasło zostało odgadnięte zanim wypisze wynik - zatem jest to parametr wejściowy\n",
    "* rysunek wisielca, który jest wypisywany na zakończenie gry - też był zdefiniowany gdzie indziej. Zauważmy jednak, że nie potrzebujemy całej tablicy scenes - chodzi nam jedynie o który rysunek ma być podany na zakończenie gry.\n",
    "\n",
    "Dzięki odpowiednim przesunięciom i zmianom - powinniśmy doprowadzić do sytuacji gdy przeniesienie funkcji wypisz wynik gry z wnętrza funkcji gra wisielec - nie powinna spowodować zepsucia gry"
   ]
  },
  {
   "cell_type": "code",
   "execution_count": null,
   "metadata": {},
   "outputs": [],
   "source": [
    "def wypisz_wynik_gry(czy_haslo_zgadniete, scene):\n",
    "        if czy_haslo_zgadniete:\n",
    "            print('Haslo odgadniete - Brawo')\n",
    "        else: # przegrana\n",
    "            print('Wisisz - gra przegrana')\n",
    "            print(scene)\n",
    "\n",
    "def gra_wisielec(tajne_haslo):\n",
    "    print('Zagrajmy w grę\\n Zgadnij moje tajne hasło')\n",
    "\n",
    "    scenes = [scene0, scene1, scene2, scene3, scene4, scene5]\n",
    "    scenes_count = 5\n",
    "    current_scene = 0\n",
    "    czy_haslo_zgadniete = False\n",
    "    litery_sprawdzone = []\n",
    "\n",
    "    ## petla opisuje proces odgadywania\n",
    "    while current_scene < scenes_count and not czy_haslo_zgadniete:\n",
    "        print(scenes[current_scene])\n",
    "        print('Dotychczasowe litery to ', litery_sprawdzone)\n",
    "        # dodanie litery do listy sprawdzanych\n",
    "        litera = input('Podaj kolejna litere\\n>')\n",
    "        litery_sprawdzone.append(litera)\n",
    "        # czy trafiona litera\n",
    "        if not litera in tajne_haslo:\n",
    "                current_scene += 1\n",
    "        # sprawdzenie hasła\n",
    "        print('Hasło obecnie: ', end='')\n",
    "        czy_kompletne = True\n",
    "        for litera in tajne_haslo:\n",
    "            if litera == ' ':\n",
    "                print(litera,sep='', end='')\n",
    "            elif litera in litery_sprawdzone:\n",
    "                print(litera,sep='', end='')\n",
    "            else:\n",
    "                print('_',sep='', end='')\n",
    "                czy_kompletne = False\n",
    "        if czy_kompletne:\n",
    "            czy_haslo_zgadniete = True\n",
    "        print()\n",
    "    \n",
    "    wypisz_wynik_gry(czy_haslo_zgadniete, scenes[current_scene])"
   ]
  },
  {
   "cell_type": "markdown",
   "metadata": {},
   "source": [
    "Po uniezależnieniu funkcji i wyniesieniu jej poza wnętrze innej funkcji - powinniśmy przyjrzeć się jej parametrom. Nikt nie wymusza na nas by parametry nazywały się dokładnie tak jak w starej funkcji. Pamiętamy, że Python potrafi dopasować parametry na podstawie kolejności ich podania"
   ]
  },
  {
   "cell_type": "code",
   "execution_count": null,
   "metadata": {},
   "outputs": [],
   "source": [
    "def wypisz_wynik_gry(haslo_odgadniete, scene):\n",
    "    if haslo_odgadniete:\n",
    "        print('Haslo odgadniete - Brawo')\n",
    "    else: # przegrana\n",
    "        print('Wisisz - gra przegrana')\n",
    "        print(scene)\n",
    "\n",
    "def gra_wisielec(tajne_haslo):\n",
    "    print('Zagrajmy w grę\\n Zgadnij moje tajne hasło')\n",
    "\n",
    "    scenes = [scene0, scene1, scene2, scene3, scene4, scene5]\n",
    "    scenes_count = 5\n",
    "    current_scene = 0\n",
    "    czy_haslo_zgadniete = False\n",
    "    litery_sprawdzone = []\n",
    "\n",
    "    ## petla opisuje proces odgadywania\n",
    "    while current_scene < scenes_count and not czy_haslo_zgadniete:\n",
    "        print(scenes[current_scene])\n",
    "        print('Dotychczasowe litery to ', litery_sprawdzone)\n",
    "        # dodanie litery do listy sprawdzanych\n",
    "        litera = input('Podaj kolejna litere\\n>')\n",
    "        litery_sprawdzone.append(litera)\n",
    "        # czy trafiona litera\n",
    "        if not litera in tajne_haslo:\n",
    "                current_scene += 1\n",
    "        # sprawdzenie hasła\n",
    "        print('Hasło obecnie: ', end='')\n",
    "        czy_kompletne = True\n",
    "        for litera in tajne_haslo:\n",
    "            if litera == ' ':\n",
    "                print(litera,sep='', end='')\n",
    "            elif litera in litery_sprawdzone:\n",
    "                print(litera,sep='', end='')\n",
    "            else:\n",
    "                print('_',sep='', end='')\n",
    "                czy_kompletne = False\n",
    "        if czy_kompletne:\n",
    "            czy_haslo_zgadniete = True\n",
    "        print()\n",
    "    \n",
    "    wypisz_wynik_gry(czy_haslo_zgadniete, scenes[current_scene])"
   ]
  },
  {
   "cell_type": "markdown",
   "metadata": {},
   "source": [
    "Postępowanie takie możemy zastosować jeszcze kilka razy - finalnie uzyskując postać"
   ]
  },
  {
   "cell_type": "code",
   "execution_count": null,
   "metadata": {},
   "outputs": [],
   "source": [
    "def wypisz_wynik_gry(haslo_odgadniete, scene):\n",
    "    if haslo_odgadniete:\n",
    "        print('Haslo odgadniete - Brawo')\n",
    "    else: # przegrana\n",
    "        print('Wisisz - gra przegrana')\n",
    "        print(scene)\n",
    "\n",
    "def wypisz_haslo(haslo, litery):\n",
    "    czy_kompletne = True\n",
    "    for litera in haslo:\n",
    "        if litera == ' ':\n",
    "            print(litera,sep='', end='')\n",
    "        elif litera in litery:\n",
    "            print(litera,sep='', end='')\n",
    "        else:\n",
    "            print('_',sep='', end='')\n",
    "            czy_kompletne = False\n",
    "    print()\n",
    "    return czy_kompletne\n",
    "\n",
    "def wypisz_menu(scena, litery_odkryte, haslo):\n",
    "    print('Zagrajmy w grę\\n Zgadnij moje tajne hasło')\n",
    "    print(scena)\n",
    "    print('Dotychczasowe litery to ', litery_odkryte)\n",
    "    wypisz_haslo(haslo, litery_odkryte)\n",
    "    litera = input('Podaj kolejna litere\\n>')\n",
    "    return litera\n",
    "            \n",
    "def gra_wisielec(tajne_haslo):\n",
    "\n",
    "    scenes = [scene0, scene1, scene2, scene3, scene4, scene5]\n",
    "    scenes_count = 5\n",
    "    current_scene = 0\n",
    "    czy_haslo_zgadniete = False\n",
    "    litery_sprawdzone = []\n",
    "    \n",
    "    ## petla opisuje proces odgadywania\n",
    "    while current_scene < scenes_count and not czy_haslo_zgadniete:\n",
    "        litera = wypisz_menu(scenes[current_scene], litery_sprawdzone, tajne_haslo)\n",
    "        litery_sprawdzone.append(litera)\n",
    "        # czy trafiona litera\n",
    "        if not litera in tajne_haslo:\n",
    "                current_scene += 1\n",
    "        czy_kompletne = wypisz_haslo(tajne_haslo, litery_sprawdzone)\n",
    "        if czy_kompletne:\n",
    "            czy_haslo_zgadniete = True    \n",
    "    wypisz_wynik_gry(czy_haslo_zgadniete, scenes[current_scene])"
   ]
  },
  {
   "cell_type": "markdown",
   "metadata": {},
   "source": [
    "## Zadanie samodzielne Brydź - (dodatkowe)\n",
    "\n",
    "Dokonać konwersji na funkcje rozwiązań do zadań brydżowych z Kurs Pythona cz. 2\n",
    "\n",
    "## Zadanie samodzielne Liczby zaprzyjaźnione - (dodatkowe)\n",
    "\n",
    "Dokonać konwersji na funkcje kodu prezentowanego w Kurs Pythona cz. 3 \n"
   ]
  },
  {
   "cell_type": "markdown",
   "metadata": {},
   "source": [
    "# Przekazywanie funkcji jako parametr\n",
    "\n",
    "Jedną z wydatnych różnic pomiędzy C++ a Pythonem jest to, że funkcje dla Pythona w zasadzie nie różnią się od innych zmiennych (mają inny typ, ale tyle samo różnic co między int a str). Nie ma zatem najmniejszego problemu aby przekazywać funkcje do innych funkcji jako ich parametry (C++ oczywiście też to umie zrobić, ale zdecydowanie większym nakładem zrozumienia i pracy). Nie ma też problemu aby je zwracać jako wynik działania funkcji. Obejrzyjmy kilka przykładów."
   ]
  },
  {
   "cell_type": "code",
   "execution_count": 106,
   "metadata": {},
   "outputs": [
    {
     "data": {
      "text/plain": [
       "14"
      ]
     },
     "execution_count": 106,
     "metadata": {},
     "output_type": "execute_result"
    }
   ],
   "source": [
    "def podwajanie(x):\n",
    "    return 2*x\n",
    "\n",
    "podwajanie(7)"
   ]
  },
  {
   "cell_type": "code",
   "execution_count": 107,
   "metadata": {},
   "outputs": [
    {
     "name": "stdout",
     "output_type": "stream",
     "text": [
      "[2, 10, 16, 20]\n",
      "[0, 0, 0, 0]\n"
     ]
    }
   ],
   "source": [
    "def zmien_tablice(funkcja, tablica):\n",
    "    wynik = []\n",
    "    for element in tablica:\n",
    "        wynik.append(funkcja(element))\n",
    "    return wynik\n",
    "\n",
    "print(zmien_tablice(podwajanie, [1,5,8,10]))\n",
    "\n",
    "def wyzerowac(x):\n",
    "    return 0\n",
    "\n",
    "print(zmien_tablice(wyzerowac, [1,5,8,10]))"
   ]
  },
  {
   "cell_type": "markdown",
   "metadata": {},
   "source": [
    "Podobnie nie ma większego problemu aby również użyć funkcji do stworzenia funkcji"
   ]
  },
  {
   "cell_type": "code",
   "execution_count": 108,
   "metadata": {},
   "outputs": [],
   "source": [
    "def zewnetrzna(x):\n",
    "    \n",
    "    def wewnetrzna(y):\n",
    "        return y+x\n",
    "\n",
    "    return wewnetrzna\n",
    "\n",
    "funkcja = zewnetrzna(7)"
   ]
  },
  {
   "cell_type": "code",
   "execution_count": 113,
   "metadata": {},
   "outputs": [
    {
     "data": {
      "text/plain": [
       "17"
      ]
     },
     "execution_count": 113,
     "metadata": {},
     "output_type": "execute_result"
    }
   ],
   "source": [
    "funkcja(10)"
   ]
  },
  {
   "cell_type": "markdown",
   "metadata": {},
   "source": [
    "Sprawdźmy jak działać będzie ta funkcja zewnętrzna"
   ]
  },
  {
   "cell_type": "code",
   "execution_count": 114,
   "metadata": {},
   "outputs": [
    {
     "name": "stdout",
     "output_type": "stream",
     "text": [
      "Wynik funkcji dla 0 wynosi 7\n",
      "Wynik funkcji dla 1 wynosi 8\n",
      "Wynik funkcji dla 2 wynosi 9\n",
      "Wynik funkcji dla 3 wynosi 10\n",
      "Wynik funkcji dla 4 wynosi 11\n",
      "Wynik funkcji dla 5 wynosi 12\n",
      "Wynik funkcji dla 6 wynosi 13\n",
      "Wynik funkcji dla 7 wynosi 14\n",
      "Wynik funkcji dla 8 wynosi 15\n",
      "Wynik funkcji dla 9 wynosi 16\n",
      "Wynik funkcji dla 10 wynosi 17\n",
      "Wynik funkcji dla 11 wynosi 18\n",
      "Wynik funkcji dla 12 wynosi 19\n",
      "Wynik funkcji dla 13 wynosi 20\n",
      "Wynik funkcji dla 14 wynosi 21\n"
     ]
    }
   ],
   "source": [
    "for i in range(15):\n",
    "    print(f'Wynik funkcji dla {i} wynosi {funkcja(i)}')"
   ]
  },
  {
   "cell_type": "markdown",
   "metadata": {},
   "source": [
    "Ponadto zauważmy tutaj jeszcze głębsze działanie"
   ]
  },
  {
   "cell_type": "code",
   "execution_count": 115,
   "metadata": {},
   "outputs": [
    {
     "name": "stdout",
     "output_type": "stream",
     "text": [
      "Wynik funkcji dla 0 wynosi 7, a dla funkcji2 11\n",
      "Wynik funkcji dla 1 wynosi 8, a dla funkcji2 12\n",
      "Wynik funkcji dla 2 wynosi 9, a dla funkcji2 13\n",
      "Wynik funkcji dla 3 wynosi 10, a dla funkcji2 14\n",
      "Wynik funkcji dla 4 wynosi 11, a dla funkcji2 15\n",
      "Wynik funkcji dla 5 wynosi 12, a dla funkcji2 16\n",
      "Wynik funkcji dla 6 wynosi 13, a dla funkcji2 17\n",
      "Wynik funkcji dla 7 wynosi 14, a dla funkcji2 18\n",
      "Wynik funkcji dla 8 wynosi 15, a dla funkcji2 19\n",
      "Wynik funkcji dla 9 wynosi 16, a dla funkcji2 20\n",
      "Wynik funkcji dla 10 wynosi 17, a dla funkcji2 21\n",
      "Wynik funkcji dla 11 wynosi 18, a dla funkcji2 22\n",
      "Wynik funkcji dla 12 wynosi 19, a dla funkcji2 23\n",
      "Wynik funkcji dla 13 wynosi 20, a dla funkcji2 24\n",
      "Wynik funkcji dla 14 wynosi 21, a dla funkcji2 25\n"
     ]
    }
   ],
   "source": [
    "funkcja = zewnetrzna(7)\n",
    "funkcja2 = zewnetrzna(11)\n",
    "for i in range(15):\n",
    "    print(f'Wynik funkcji dla {i} wynosi {funkcja(i)}, a dla funkcji2 {funkcja2(i)}')"
   ]
  },
  {
   "cell_type": "markdown",
   "metadata": {},
   "source": [
    "Zatem obie funkcje są od siebie różne (nie współdzielą zmiennej _x_)"
   ]
  },
  {
   "cell_type": "code",
   "execution_count": 140,
   "metadata": {},
   "outputs": [],
   "source": [
    "import random\n",
    "\n",
    "def losuj():\n",
    "    losowa = random.randint(0,10) # [0,10]\n",
    "    \n",
    "    def zgaduj(x):\n",
    "        return losowa == x\n",
    "    \n",
    "    return zgaduj\n",
    "\n",
    "zgadywacz = losuj()\n",
    "zgadywacz2 = losuj()\n",
    "losuj = None"
   ]
  },
  {
   "cell_type": "code",
   "execution_count": 139,
   "metadata": {},
   "outputs": [
    {
     "name": "stdout",
     "output_type": "stream",
     "text": [
      "0   False\n",
      "1   False\n",
      "2   False\n",
      "3   False\n",
      "4   False\n",
      "5   False\n",
      "6   False\n",
      "7   False\n",
      "8   False\n",
      "9   False\n",
      "10   True\n"
     ]
    }
   ],
   "source": [
    "for i in range(11):\n",
    "    print(i,' ', zgadywacz(i))"
   ]
  },
  {
   "cell_type": "code",
   "execution_count": 141,
   "metadata": {},
   "outputs": [
    {
     "name": "stdout",
     "output_type": "stream",
     "text": [
      "0   False\n",
      "1   False\n",
      "2   False\n",
      "3   True\n",
      "4   False\n",
      "5   False\n",
      "6   False\n",
      "7   False\n",
      "8   False\n",
      "9   False\n",
      "10   False\n"
     ]
    }
   ],
   "source": [
    "for i in range(11):\n",
    "    print(i,' ', zgadywacz2(i))"
   ]
  },
  {
   "cell_type": "markdown",
   "metadata": {},
   "source": [
    "# Prototypowanie rozwiązań metodą top - to - bottom (góra -> dół)\n",
    "\n",
    "Wyobraźmy sobie następujące zadanie:\n",
    "\n",
    "_Napisać program, który dla podanej daty za pomocą liczb dzień, miesiąc, rok podaje nam datę dnia następnego w postaci dzień, miesiąc, rok_\n",
    "\n",
    "\n",
    "```{python}\n",
    "def dzien_nastepny(dziem, miesiac, rok):\n",
    "    # tak wyglada na poczatku nasza funkcja\n",
    "    pass\n",
    "```\n",
    "\n",
    "Aby stworzyć rozwiązanie do tego zadania musimy teraz zastanowić jakie sytuacje mogą nas dotyczyć i utworzyć plan naszego działania\n",
    "\n",
    "```{python}\n",
    "def dzien_nastepny(dziem, miesiac, rok):\n",
    "    # Możliwe jest kilka przypadków:\n",
    "    # - to może być normalny dzień w skali kalendarza\n",
    "    # - to może być koniec miesiąca, albo \n",
    "    # - to może być koniec roku.\n",
    "    # Ponadto rok może być przestepny lub nie\n",
    "    pass\n",
    "```\n",
    "\n",
    "Do przypadków najlepiej podchodzić próbując wyizolować te najdziwniejsze od razu:\n",
    "\n",
    "```{python}\n",
    "\n",
    "def dzien_nastepny(dzien, miesiac, rok):\n",
    "    # Możliwe jest kilka przypadków:\n",
    "    # - to może być normalny dzień w skali kalendarza\n",
    "    # - to może być koniec miesiąca, albo \n",
    "    # - to może być koniec roku.\n",
    "    # Ponadto rok może być przestepny lub nie\n",
    "    if czy_koniec_roku(dzien, miesiac, rok):\n",
    "        return 1,1,rok+1\n",
    "    elif czy_koniec_miesiaca(dzien, miesiac, rok): \n",
    "        return 1,miesiac+1,rok\n",
    "    else:\n",
    "        return dzien+1, miesiac, rok\n",
    "        \n",
    "```\n",
    "\n",
    "Zauważmy jednak, że oznacza to konieczność napisania kiedy następuje koniec rok oraz koniec miesiaca. Zatem zdefiujmy odpowiednie funkcje\n",
    "\n",
    "\n",
    "```{python}\n",
    "\n",
    "def czy_koniec_miesiaca(dzien, miesiac, rok):\n",
    "    pass\n",
    "\n",
    "def czy_koniec_roku(dzien, miesiac, rok):\n",
    "    pass\n",
    "\n",
    "def dzien_nastepny(dzien, miesiac, rok):\n",
    "    # Możliwe jest kilka przypadków:\n",
    "    # - to może być normalny dzień w skali kalendarza\n",
    "    # - to może być koniec miesiąca, albo \n",
    "    # - to może być koniec roku.\n",
    "    # Ponadto rok może być przestepny lub nie\n",
    "    if czy_koniec_roku(dzien, miesiac, rok):\n",
    "        return 1,1,rok+1\n",
    "    elif czy_koniec_miesiaca(dzien, miesiac, rok): \n",
    "        return 1,miesiac+1,rok\n",
    "    else:\n",
    "        return dzien+1, miesiac, rok\n",
    "```\n",
    "\n",
    "Zatem dalej możemy się zastanowić jak wyglada funkcja _czy koniec roku_ co jest dość elementarne\n",
    "\n",
    "```{python}\n",
    "def czy_koniec_miesiaca(dzien, miesiac, rok):\n",
    "    pass\n",
    "\n",
    "def czy_koniec_roku(dzien, miesiac, rok):\n",
    "    if dzien == 31 and miesiac == 12:\n",
    "        return True\n",
    "    else:\n",
    "        return False\n",
    "\n",
    "def dzien_nastepny(dzien, miesiac, rok):\n",
    "    # Możliwe jest kilka przypadków:\n",
    "    # - to może być normalny dzień w skali kalendarza\n",
    "    # - to może być koniec miesiąca, albo \n",
    "    # - to może być koniec roku.\n",
    "    # Ponadto rok może być przestepny lub nie\n",
    "    if czy_koniec_roku(dzien, miesiac, rok):\n",
    "        return 1,1,rok+1\n",
    "    elif czy_koniec_miesiaca(dzien, miesiac, rok): \n",
    "        return 1,miesiac+1,rok\n",
    "    else:\n",
    "        return dzien+1, miesiac, rok\n",
    "```\n",
    "\n",
    "Dalej zajmujemy się końcem miesiąca. I to już jest trochę trudniejsze. Aby wiedzieć czy mamy ostatni dzień miesiące trzeba znać bieżący miesiąc, ale i rok by określić czy jest przestepny\n",
    "\n",
    "```{python}\n",
    "def czy_przestepny(rok):\n",
    "    pass\n",
    "\n",
    "def czy_koniec_miesiaca(dzien, miesiac, rok):\n",
    "    if miesiac == 2 and not czy_przestepny(rok) and dzien == 28:\n",
    "        return True\n",
    "    elif miesiac == 2 and czy_przestepny(rok) and dzien == 29:\n",
    "        return True\n",
    "    elif miesiac in [4,6,9,11] and dzien == 30:\n",
    "        return True\n",
    "    elif miesiac in [1,3,5,7,8,10,12] and dzien == 31:\n",
    "        return True\n",
    "    else:\n",
    "        return False\n",
    "    pass\n",
    "\n",
    "def czy_koniec_roku(dzien, miesiac, rok):\n",
    "    if dzien == 31 and miesiac == 12:\n",
    "        return True\n",
    "    else:\n",
    "        return False\n",
    "\n",
    "def dzien_nastepny(dzien, miesiac, rok):\n",
    "    # Możliwe jest kilka przypadków:\n",
    "    # - to może być normalny dzień w skali kalendarza\n",
    "    # - to może być koniec miesiąca, albo \n",
    "    # - to może być koniec roku.\n",
    "    # Ponadto rok może być przestepny lub nie\n",
    "    if czy_koniec_roku(dzien, miesiac, rok):\n",
    "        return 1,1,rok+1\n",
    "    elif czy_koniec_miesiaca(dzien, miesiac, rok): \n",
    "        return 1,miesiac+1,rok\n",
    "    else:\n",
    "        return dzien+1, miesiac, rok\n",
    "```\n",
    "Zatem dalej trzeba sprawdzić kiedy rok jest przestepnym, co czytając jak to się sprawdza możemy już łatwo napisać:\n"
   ]
  },
  {
   "cell_type": "code",
   "execution_count": null,
   "metadata": {},
   "outputs": [],
   "source": [
    "def czy_przestepny(rok):\n",
    "    if rok % 400 == 0:\n",
    "        return True\n",
    "    elif rok % 4 ==0 and rok % 100 == 0:\n",
    "        return False\n",
    "    elif rok % 4 ==0:\n",
    "        return True\n",
    "    else:\n",
    "        return False\n",
    "\n",
    "def czy_koniec_miesiaca(dzien, miesiac, rok):\n",
    "    if miesiac == 2 and not czy_przestepny(rok) and dzien == 28:\n",
    "        return True\n",
    "    elif miesiac == 2 and czy_przestepny(rok) and dzien == 29:\n",
    "        return True\n",
    "    elif miesiac in [4,6,9,11] and dzien == 30:\n",
    "        return True\n",
    "    elif miesiac in [1,3,5,7,8,10,12] and dzien == 31:\n",
    "        return True\n",
    "    else:\n",
    "        return False\n",
    "\n",
    "def czy_koniec_roku(dzien, miesiac, rok):\n",
    "    if dzien == 31 and miesiac == 12:\n",
    "        return True\n",
    "    else:\n",
    "        return False\n",
    "\n",
    "def dzien_nastepny(dzien, miesiac, rok):\n",
    "    # Możliwe jest kilka przypadków:\n",
    "    # - to może być normalny dzień w skali kalendarza\n",
    "    # - to może być koniec miesiąca, albo \n",
    "    # - to może być koniec roku.\n",
    "    # Ponadto rok może być przestepny lub nie\n",
    "    if czy_koniec_roku(dzien, miesiac, rok):\n",
    "        return 1,1,rok+1\n",
    "    elif czy_koniec_miesiaca(dzien, miesiac, rok): \n",
    "        return 1,miesiac+1,rok\n",
    "    else:\n",
    "        return dzien+1, miesiac, rok"
   ]
  },
  {
   "cell_type": "code",
   "execution_count": null,
   "metadata": {},
   "outputs": [],
   "source": [
    "dzien_nastepny(28,2,2001)"
   ]
  },
  {
   "cell_type": "markdown",
   "metadata": {},
   "source": [
    "## Ćwiczenie samodzielne do domu (dodatkowe)\n",
    "\n",
    "_Napisać program, który dla podanej daty w formacie Dzień-Miesiąc-Rok, oraz ilości dni (potencjalnie również ujemnej) poda nam datę w tym samym formacie odległą o podaną liczbę dni_\n",
    "\n",
    "Podejście Top - to - Bottom polega na opisywaniu od początku elementów które będą nam potrzebne do rozwiązania zadania, i poszukiwaniu mniejszych składowych - które w efekcie trzeba napisać. "
   ]
  },
  {
   "cell_type": "markdown",
   "metadata": {},
   "source": [
    "# Praca z modułami\n",
    "\n",
    "Ostatnią składową naszego kursu jest omówienie sposobu zorganizowania kodu w danym języku. Mowa oczywiście o bibliotekach danego języka. \n",
    "\n",
    "Realizuje to jedno z marzeń programistów - by nie musieć tworzyć wiele razy tego samego kodu. Albo wyrażone w innych słowach _nie wynajdywać ponownie koła_. Programami Pythona można się dzielić, tak aby korzystali z tego inni. Chcąc udostępnić to co napisaliśmy \n",
    "\n",
    "* funkcje,\n",
    "* klasy,\n",
    "* wartości,\n",
    "* instrukcje,\n",
    "\n",
    "powinniśmy zamknąć je w moduły. Czym są moduły - można na nie patrzeć jak na zwykłe pliki i katalogi. Katalogi zawierające oczywiście skrypty Pythona. Zagadnienie to podzielimy na dwa tematy. Pierwszym (obowiązkowy) będzie dotyczył użycia różnych modułów. Oraz prezentujący użycie kilku udostępnionych nam do pracy pomocnych bibliotek.\n",
    "W drugiej (osobnej i dodatkowej częsci) pokażemy jak tworzyć takie moduły. Z przykładami jak takie moduły tworzyć w środowisku PyCharm.\n",
    "\n",
    "\n",
    "\n",
    "# Importowanie modułów\n",
    "\n",
    "Spora grupa modułów jest dostępnych od razu wraz z interpreterem. Jak np. znanym części z Państwa moduł `math` zawierający funkcje matematyczne. Dla innych konieczny będzie poprzedzenie importu - procesem instalacji - opisanym dalej. Podstawowa składnia importowania ma postać\n",
    "\n",
    "```python\n",
    "import nazwa_modulu\n",
    "```\n",
    "\n",
    "Taka forma importowania oznacza (z reguły) włączenie wszystkich składowych modułu do naszego przetwarzania. Można jednak przeprowadzić import bardziej szczegółowy z wykorzystaniem bardziej rozbudowanej składni\n",
    "\n",
    "```python\n",
    "from nazwa_modulu import skladowa\n",
    "```\n",
    "Składową w tej sytuacji może być zmienna, funkcja, dowolny element tej klasy. Ponadto, można po przecinku wymienić wiele składowych.\n",
    "\n",
    "\n",
    "W tej wersji odpowiednikiem całkowite importu jest zapisanie\n",
    "\n",
    "```python\n",
    "from nazwa_modulu import *\n",
    "```\n",
    "\n",
    "Na pewnym poziomie programowania może jednak dość do konfliktu kiedy dwa pakiety używają składowych o tej samej nazwie. Python dostarcza mechanizm zmiany nazwy składowej przy imporcie, albo wręcz całego modułu\n",
    "\n",
    "```python\n",
    "import nazwa_modulu as nowa_nazwa\n",
    "```\n",
    "\n",
    "Ponadto modułu (które można utożsamiać z katalogami) mogą być zagnieżdżone jedne w drugich. Stąd zasadne jest pisanie np.\n",
    "\n",
    "```python\n",
    "import modul.submodul\n",
    "```\n",
    "\n",
    "\n",
    "# Praca z popularnymi bibliotekami\n",
    "\n",
    "Wprowadźmy kilka naprawdę podstawowych pakietów Pythona do podstawowej pracy\n",
    "\n",
    "## Pakiet math\n",
    "Pakiet [math](https://docs.python.org/3/library/math.html)  dostarcza podstawowe matematyczne funkcje"
   ]
  },
  {
   "cell_type": "code",
   "execution_count": 142,
   "metadata": {},
   "outputs": [
    {
     "name": "stdout",
     "output_type": "stream",
     "text": [
      "4\n",
      "3\n",
      "3.0\n",
      "24\n",
      "2.718281828459045\n",
      "1.0\n",
      "343.0\n",
      "1.2246467991473532e-16\n"
     ]
    }
   ],
   "source": [
    "import math\n",
    "\n",
    "x = 3.1415\n",
    "print(math.ceil(x))\n",
    "print(math.floor(x))\n",
    "\n",
    "x = -3\n",
    "print(math.fabs(x))\n",
    "\n",
    "print(math.factorial(4))\n",
    "\n",
    "print(math.exp(1))\n",
    "\n",
    "print(math.log(2, 2))\n",
    "\n",
    "print(math.pow(7, 3))\n",
    "\n",
    "print(math.sin(math.pi))"
   ]
  },
  {
   "cell_type": "code",
   "execution_count": 144,
   "metadata": {},
   "outputs": [
    {
     "ename": "TypeError",
     "evalue": "isclose() takes exactly 2 positional arguments (3 given)",
     "output_type": "error",
     "traceback": [
      "\u001b[0;31m---------------------------------------------------------------------------\u001b[0m",
      "\u001b[0;31mTypeError\u001b[0m                                 Traceback (most recent call last)",
      "\u001b[0;32m<ipython-input-144-010a07b09434>\u001b[0m in \u001b[0;36m<module>\u001b[0;34m\u001b[0m\n\u001b[0;32m----> 1\u001b[0;31m \u001b[0mmath\u001b[0m\u001b[0;34m.\u001b[0m\u001b[0misclose\u001b[0m\u001b[0;34m(\u001b[0m\u001b[0;36m0\u001b[0m\u001b[0;34m,\u001b[0m\u001b[0;36m0\u001b[0m\u001b[0;34m,\u001b[0m\u001b[0;36m1\u001b[0m\u001b[0;34m)\u001b[0m\u001b[0;34m\u001b[0m\u001b[0;34m\u001b[0m\u001b[0m\n\u001b[0m",
      "\u001b[0;31mTypeError\u001b[0m: isclose() takes exactly 2 positional arguments (3 given)"
     ]
    }
   ],
   "source": [
    "math.isclose(0,0)"
   ]
  },
  {
   "cell_type": "markdown",
   "metadata": {},
   "source": [
    "## Pakiet Random\n",
    "\n",
    "Kolejnym pakietem jest pakiet [Random](https://docs.python.org/3/library/random.html) dostarczającym podstawowe sposoby na generowanie liczb losowych"
   ]
  },
  {
   "cell_type": "code",
   "execution_count": null,
   "metadata": {},
   "outputs": [],
   "source": [
    "import random\n",
    "\n",
    "sample = random.randint(1, 6)\n",
    "\n",
    "print('Losowy wynik to ', sample)"
   ]
  },
  {
   "cell_type": "markdown",
   "metadata": {},
   "source": [
    "## Pakiet OS\n",
    "\n",
    "Dalej jest pakiet OS, który dostarcza Pythonowi narzędzia do pracy z systemem plikow uruchomionym wyżej, tj. plikami, katalogami"
   ]
  },
  {
   "cell_type": "code",
   "execution_count": 145,
   "metadata": {},
   "outputs": [
    {
     "name": "stdout",
     "output_type": "stream",
     "text": [
      "Element  Cześć 5 - Programowanie, strukturalne obiektowe i funkcyjne.ipynb\n",
      "Element  start-jupyter.sh\n",
      "Element  prezentacja part 2\n",
      "Element  __pycache__\n",
      "Element  Test.ipynb\n",
      "Element  ukrycie\n",
      "Element  Raty.xlsx\n",
      "Element  Część 0 - kilka przykładów.ipynb\n",
      "Element  Część 6 - obsługa wyjątków - materiał dodatkowy.ipynb\n",
      "Element  .ipynb_checkpoints\n",
      "Element  Część 1 - Proste komendy.ipynb\n",
      "Element  Część 4 - Funkcje i Moduły.ipynb\n",
      "Element  Część 3 - Zadania.ipynb\n",
      "Element  Część 2 - Instrukcje sterujące.ipynb\n"
     ]
    }
   ],
   "source": [
    "from os import listdir\n",
    "\n",
    "dirs = listdir()\n",
    "for dir in dirs:\n",
    "    print('Element ', dir)"
   ]
  },
  {
   "cell_type": "markdown",
   "metadata": {},
   "source": [
    "Pozwala sprawdzić czy dany plik istnieje"
   ]
  },
  {
   "cell_type": "code",
   "execution_count": null,
   "metadata": {},
   "outputs": [],
   "source": [
    "import os.path\n",
    "\n",
    "if os.path.exists('testowy.py'):\n",
    "    print(('Plik istnieje'))\n",
    "else:\n",
    "    print('Plik nie istnieje')"
   ]
  },
  {
   "cell_type": "markdown",
   "metadata": {},
   "source": [
    "# Instalacja modułów\n",
    "\n",
    "Aby zainstalować wybrany moduł należy wywołać odpowiednie komendy - ale w systemie operacyjnym - działając nie w - ale na interpreterze. Są na to 3 sposoby. Wszystkie omawia film na nagraniu - udostępniony na platformie. Poniżej załaczamy dodatkową instrukcję wspierającą pierwszy z omawianych sposobów.\n",
    "\n",
    "Aby pobrać nowe pakiety z poziomu systemu operacyjnego wchodzimy do katalogu Scripts (lub bin) w VirtEnv, które założyliśmy. Powinniśmy być w stanie odszukać tam program python (lub python.exe). W tym katalogu uruchamiamy okno konsoli/terminal.\n",
    "\n",
    "Są dostępne dwa warianty\n",
    "\n",
    "* Jeśli dostępny jest tam obok program o nazwie pip stosujemy pierwszą formułę.\n",
    "* Jeśli nie jest ten program tam dostępny - nie poddajemy się i stosujemy drugą formułę.\n",
    "\n",
    "Pierwsza formuła dla linux\n",
    "\n",
    "```bash\n",
    "./pip install nazwa_modułu\n",
    "```\n",
    "\n",
    "Pierwsza formuła dla windows\n",
    "\n",
    "```bash\n",
    "pip.exe install nazwa_modułu\n",
    "```\n",
    "\n",
    "Druga formuła dla linux\n",
    "\n",
    "```bash\n",
    "./python -m pip install nazwa_modułu\n",
    "```\n",
    "\n",
    "Druga formuła dla windows\n",
    "\n",
    "```bash\n",
    "python.exe -m pip install nazwa_modułu\n",
    "```"
   ]
  },
  {
   "cell_type": "markdown",
   "metadata": {},
   "source": [
    "Jeżeli zaistalowaliście sobie Pythona w katalogach użytkownika i nie tworzyliscie żadnych środowisk wirtualnych"
   ]
  },
  {
   "cell_type": "code",
   "execution_count": 146,
   "metadata": {},
   "outputs": [
    {
     "name": "stdout",
     "output_type": "stream",
     "text": [
      "Requirement already satisfied: pandas in /opt/anaconda3/lib/python3.8/site-packages (1.1.3)\r\n",
      "Requirement already satisfied: numpy>=1.15.4 in /opt/anaconda3/lib/python3.8/site-packages (from pandas) (1.19.2)\r\n",
      "Requirement already satisfied: python-dateutil>=2.7.3 in /opt/anaconda3/lib/python3.8/site-packages (from pandas) (2.8.1)\r\n",
      "Requirement already satisfied: pytz>=2017.2 in /opt/anaconda3/lib/python3.8/site-packages (from pandas) (2020.1)\r\n",
      "Requirement already satisfied: six>=1.5 in /opt/anaconda3/lib/python3.8/site-packages (from python-dateutil>=2.7.3->pandas) (1.15.0)\r\n"
     ]
    }
   ],
   "source": [
    "!pip install pandas"
   ]
  },
  {
   "cell_type": "code",
   "execution_count": 147,
   "metadata": {},
   "outputs": [],
   "source": [
    "import pandas as pd"
   ]
  },
  {
   "cell_type": "code",
   "execution_count": null,
   "metadata": {},
   "outputs": [],
   "source": []
  }
 ],
 "metadata": {
  "kernelspec": {
   "display_name": "Python 3",
   "language": "python",
   "name": "python3"
  },
  "language_info": {
   "codemirror_mode": {
    "name": "ipython",
    "version": 3
   },
   "file_extension": ".py",
   "mimetype": "text/x-python",
   "name": "python",
   "nbconvert_exporter": "python",
   "pygments_lexer": "ipython3",
   "version": "3.8.5"
  }
 },
 "nbformat": 4,
 "nbformat_minor": 1
}
