{
 "cells": [
  {
   "cell_type": "markdown",
   "metadata": {
    "collapsed": true
   },
   "source": [
    "\n",
    "\n",
    "# Dekorator property\n",
    "\n",
    "Dawno temy język C# wprowadził do programowania obiektowego pojęcie właściwości objektu. Już w tym czasie znane były metody kontroli dostępu do pól klasy. W Javie kontrolujemy enkapsulacje pól w sposób następujący\n",
    "\n",
    "```java\n",
    "class Nowa {\n",
    "  private Typ pole = new Typ(wartosc_domyslna);\n",
    "  \n",
    "  public Typ getPole() {\n",
    "    return this.pole;\n",
    "  }\n",
    "  \n",
    "  public void setPole(Typ value){\n",
    "    this.pole=value;\n",
    "  }\n",
    "}\n",
    "\n",
    "```\n",
    "\n",
    "Powyższy kod akurat niespecjalnie ogranicza możliwości działania z danym polem, jednak metody set i get mogą być rozwinięte i np. uniemożliwić wstawienie błędnej wartości, lub pozwolić na odczytanie po sprawdzeniu pewnych dodatkowych warunków. Wszystko to określa sposoby dostępu do elementów wnętrza klasa. Jego stosowanie jest jednak dość uciążliwe.\n",
    "\n",
    "```java\n",
    "Nowa nowa = new Nowa();\n",
    "Typ value = new Typ(\"Coś\");\n",
    "nowa.setPole(value);\n",
    "System.out.println(nowa.getPole());\n",
    "```\n",
    "\n",
    "Jeśli poszukujemy sposobu na uzyskanie poprawy w tym zakresie tak aby móc pisać\n",
    "\n",
    "```java\n",
    "Nowa nowa = new Nowa();\n",
    "Typ value = new Typ(\"Coś\");\n",
    "nowa.pole = value;\n",
    "System.out.println(nowa.pole);\n",
    "```\n",
    "\n",
    "i jednocześnie wykorzystać własne implementacje sposobów na ustawianie i pobieranie wartości - to własności (property) są odpowiedzią na takie potrzeby.\n",
    "\n",
    "Przeanalizujmy"
   ]
  },
  {
   "cell_type": "code",
   "execution_count": 1,
   "metadata": {},
   "outputs": [
    {
     "name": "stdout",
     "output_type": "stream",
     "text": [
      "4\n"
     ]
    }
   ],
   "source": [
    "class Sample(object):\n",
    "    def __init__(self):\n",
    "        self._x = None\n",
    "\n",
    "    @property\n",
    "    def x(self):\n",
    "        return self._x\n",
    "\n",
    "    @x.setter\n",
    "    def x(self, value):\n",
    "        self._x = value\n",
    "\n",
    "    @x.getter\n",
    "    def x(self):\n",
    "        return self._x+1\n",
    "\n",
    "\n",
    "object = Sample()\n",
    "object.x = 3\n",
    "print(object.x)"
   ]
  },
  {
   "cell_type": "markdown",
   "metadata": {},
   "source": [
    "Jak to w praktyce działa? Gdzieś istnieje ukryta wartość prywatna (self._x), dla której istnieje odpowiednik będący dostępny @property def x(self) (nazwa x jest dostępna). Wtedy dzięki zdefiniowaniu x jako właściwość możemy zdefiniować sposoby wykonywania na nim akcji: np. setter, getter, deleter"
   ]
  },
  {
   "cell_type": "code",
   "execution_count": null,
   "metadata": {},
   "outputs": [],
   "source": []
  }
 ],
 "metadata": {
  "kernelspec": {
   "display_name": "Python 3",
   "language": "python",
   "name": "python3"
  },
  "language_info": {
   "codemirror_mode": {
    "name": "ipython",
    "version": 3
   },
   "file_extension": ".py",
   "mimetype": "text/x-python",
   "name": "python",
   "nbconvert_exporter": "python",
   "pygments_lexer": "ipython3",
   "version": "3.6.8"
  }
 },
 "nbformat": 4,
 "nbformat_minor": 1
}
