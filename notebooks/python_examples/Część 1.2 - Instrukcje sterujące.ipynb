{
 "cells": [
  {
   "cell_type": "markdown",
   "metadata": {},
   "source": [
    "# Python - Wprowadzenie do programowania cz 2\n",
    "\n",
    "W tej części poznamy podstawę języka Python. Instrukcje sterujące. Specjalne komendy w języku Python pozwalające decydowanie kiedy, ile razy, w jakiej kolejności i jakie instrukcje mają się wykonać."
   ]
  },
  {
   "cell_type": "markdown",
   "metadata": {},
   "source": [
    "# Komendy sterujące \n",
    "\n",
    "## Bloki kodu\n",
    "\n",
    "Wspominane było, że linie kodu nie mogą być poprzedzone znakiem spacji czy tabulatora. Wyjaśnimy czemu do tej pory tak musiało być. Powodem są bloki kodu\n",
    "\n",
    "Blokiem kodu nazywamy ciągi instrukcji posiadających własną przestrzeń nazw (dodatkową) wyszczególnioną w specjalny sposób.\n",
    "\n",
    "Bloki kodu są np. wykonywane w instrukcjach warunkowych czy pętlach. W javie czy c++ np.\n",
    "```cpp\n",
    "if (warunek) {\n",
    "   \\\\Blok instrukcji\n",
    "   czynnosc1();\n",
    "   czynnosc2();\n",
    "}\n",
    "```\n",
    "Najcześciej spotykane w programowaniu jest grupowanie bloków z wykorzystaniem nawiasów klamrowych. Oprócz tego wszyscy programiści zalecali robienie wcięć dla instrukcji w bloku - aby wyszczególnić jednakowe przestrzenie nazw i odróżniać instrukcje warunkowe od ogólnych, powtarzane od jednokrotnych.\n",
    "\n",
    "Twórcy Pythona dostrzegli w tym nadmiarowość formy. Zdecydowali się odrzucić klamry. W ten sposób bloki kodu określane są na podstawie **wcięć kodu**.\n",
    "\n",
    "Jak wygląda praca z tymi wcięciami przekonamy się już za chwilę:\n",
    "\n",
    "Miejsca gdzie występują bloki kodu:\n",
    "* Instrukcje warunkowe\n",
    "* Pętle\n",
    "* Funkcje\n",
    "* Implementacje klas\n",
    "* Bloki with\n",
    "\n"
   ]
  },
  {
   "cell_type": "markdown",
   "metadata": {},
   "source": [
    "## Instrukcja warunkowa IF\n",
    "\n",
    "Podstawową instrukcją warunkową w Pythonie jest if-elif-else. Podobnie jak w innych technologiach programistycznych, bloki elif i else można pomijać. Ogólna postać takiej instrukcji wygląda następująco:\n",
    "```python\n",
    "if warunek1:\n",
    "    #czynnosc1\n",
    "elif warunek2:\n",
    "    #czynnosc2\n",
    "else:\n",
    "    #czynnosc3\n",
    "```\n",
    "Np:\n"
   ]
  },
  {
   "cell_type": "code",
   "execution_count": 1,
   "metadata": {},
   "outputs": [
    {
     "name": "stdout",
     "output_type": "stream",
     "text": [
      "X jest liczbą nieparzystą\n",
      "Tu blok już się zakończył i wykonuje się on niezależnie od wartości sprawdzanego warunku\n"
     ]
    }
   ],
   "source": [
    "x = 5\n",
    "if x % 2 == 1:\n",
    "    print('X jest liczbą nieparzystą')\n",
    "else:\n",
    "    print('X jest liczbą parzystą')\n",
    "print('Tu blok już się zakończył i wykonuje się on niezależnie od wartości sprawdzanego warunku')"
   ]
  },
  {
   "cell_type": "markdown",
   "metadata": {},
   "source": [
    "* Instrukcja warunkowa musi mieć blok if\n",
    "* Instrukcja może mieć najwyżej jeden blok else,\n",
    "* Instrukcja może mieć dowolną ilość bloków elif\n",
    "* Koniec wcięcia oznacza koniec bloku,\n",
    "* Linijka początkowa bloku musi kończyć się znakiem :"
   ]
  },
  {
   "cell_type": "markdown",
   "metadata": {},
   "source": [
    "## IF połączone z IN\n",
    "\n",
    "Z instrukcją if możemy łatwo sprawdzać czy element występuje we wskazanej a wcześniej poznanej kolekcji. Np. czy ciąg znaków zawiera daną literę:\n"
   ]
  },
  {
   "cell_type": "code",
   "execution_count": 2,
   "metadata": {},
   "outputs": [
    {
     "name": "stdout",
     "output_type": "stream",
     "text": [
      "Zdanie ma literke k\n",
      "Zdanie ma kota!\n"
     ]
    }
   ],
   "source": [
    "zdanie = \"Ala ma kota!\"\n",
    "if \"k\" in zdanie:\n",
    "    print(\"Zdanie ma literke k\")\n",
    "if \"kot\" in zdanie:\n",
    "    print(\"Zdanie ma kota!\")"
   ]
  },
  {
   "cell_type": "markdown",
   "metadata": {},
   "source": [
    "## Pętle For\n",
    "\n",
    "Język Python wspiera również wykonywanie powtarzalnych obliczeń z wykorzystaniem konstrukcji pętli. Najczęściej do realizacji powtórzeń w Pythonie stosowana jest pętla for \n",
    "\n",
    "* wykorzystująca kolekcje:\n",
    "for element in lista:\n",
    "    #blok instrukcji\n",
    "* wykorzystująca licznik:\n",
    "for i in range(begin,end,step):\n",
    "    #blok instrukcji\n"
   ]
  },
  {
   "cell_type": "code",
   "execution_count": 3,
   "metadata": {},
   "outputs": [
    {
     "name": "stdout",
     "output_type": "stream",
     "text": [
      "Teraz kolej na raz\n",
      "Teraz kolej na dwa\n",
      "Teraz kolej na trzy\n",
      "Kolejna liczba to  0\n",
      "Kolejna liczba to  2\n",
      "Kolejna liczba to  4\n",
      "Kolejna liczba to  6\n",
      "Kolejna liczba to  8\n"
     ]
    }
   ],
   "source": [
    "lista = ['raz', 'dwa', 'trzy']\n",
    "for element in lista:\n",
    "    print('Teraz kolej na', element)\n",
    "\n",
    "for i in range(0,10,2):\n",
    "    print('Kolejna liczba to ',i)"
   ]
  },
  {
   "cell_type": "markdown",
   "metadata": {},
   "source": [
    "## Pętle while\n",
    "\n",
    "Czasem spotykamy również inny rodzaj pętli - pętle while\n",
    "\n",
    "```python\n",
    "while warunek:\n",
    "    #blok kodu\n",
    "```"
   ]
  },
  {
   "cell_type": "code",
   "execution_count": 4,
   "metadata": {},
   "outputs": [
    {
     "name": "stdout",
     "output_type": "stream",
     "text": [
      "Obecna wartosc to  1\n",
      "Obecna wartosc to  2\n",
      "Obecna wartosc to  3\n",
      "Obecna wartosc to  4\n",
      "Obecna wartosc to  5\n",
      "Obecna wartosc to  6\n",
      "Obecna wartosc to  7\n",
      "Obecna wartosc to  8\n",
      "Obecna wartosc to  9\n",
      "Obecna wartosc to  10\n",
      "Obecna wartosc to  11\n"
     ]
    }
   ],
   "source": [
    "i = 0\n",
    "while i <= 10:\n",
    "    i += 1\n",
    "    print('Obecna wartosc to ', i)"
   ]
  },
  {
   "cell_type": "markdown",
   "metadata": {},
   "source": [
    "Najczęściej jest ona wykorzystywana razem z komendami break i continue\n",
    "\n",
    "* break - powoduje przerwanie działania petli i opuszczenie jej całkowicie\n",
    "* continue - powoduje natychmiastowe przejście do wykonywania następnej petli\n"
   ]
  },
  {
   "cell_type": "code",
   "execution_count": 5,
   "metadata": {},
   "outputs": [
    {
     "name": "stdout",
     "output_type": "stream",
     "text": [
      "Przetwarzam  1\n",
      "Przetwarzam  2\n",
      "Przetwarzam  3\n",
      "Przetwarzam  4\n",
      "Przetwarzam  5\n",
      "Przetwarzam  6\n",
      "Przetwarzam  8\n",
      "Przetwarzam  9\n",
      "Przetwarzam  10\n",
      "Przetwarzam  11\n",
      "Przetwarzam  12\n",
      "Przetwarzam  13\n"
     ]
    }
   ],
   "source": [
    "i = 0\n",
    "while True:\n",
    "    i += 1\n",
    "    if (i % 7 == 0): \n",
    "        continue\n",
    "    if (i >= 15):\n",
    "        break\n",
    "    print('Przetwarzam ', i)"
   ]
  },
  {
   "cell_type": "markdown",
   "metadata": {},
   "source": [
    "# Operatory\n",
    "\n",
    "W Pythonie najprostszymi funkcjami są operatory. Czyli akcje wykonywane przez Python w odpowiedzi na znaki +,- oraz podobne. W Pythonie istnieją następujące grupy operatorów\n",
    "\n",
    "* arytmetryczne,\n",
    "* relacyjne (porównawcze),\n",
    "* logiczne,\n",
    "* bitowe,\n",
    "* przypisania,\n",
    "* identycznościowe,\n",
    "* przynależności.\n",
    "\n",
    "## Operatory arytmetyczne \n",
    "\n",
    "Do operatorów (które poznaliśmy w dużej mierze poprzednio) zaliczamy \n",
    "\n",
    "* dodawanie '+'\n",
    "* odejmowanie '-'\n",
    "* mnożenie '*'\n",
    "* dzielenie '/'\n",
    "* dzielenie modulo '%'\n",
    "* potęgę '**'\n",
    "* dzielenie całkowitoliczbowe '//'\n"
   ]
  },
  {
   "cell_type": "markdown",
   "metadata": {},
   "source": [
    "## Operatory relacyjne\n",
    "\n",
    "Wśród operatorów relacyjnych wyróżniamy\n",
    "\n",
    "* równość '=='\n",
    "* nierówność '!='\n",
    "* mniejsze oraz większe ('<' i '>')\n",
    "* mniejsze lub równe oraz większe lub równe ('<=' i '>=')\n"
   ]
  },
  {
   "cell_type": "code",
   "execution_count": 6,
   "metadata": {},
   "outputs": [
    {
     "name": "stdout",
     "output_type": "stream",
     "text": [
      "3 jest mniejsze od 5\n"
     ]
    }
   ],
   "source": [
    "if 3 < 5:\n",
    "    print('3 jest mniejsze od 5')"
   ]
  },
  {
   "cell_type": "markdown",
   "metadata": {},
   "source": [
    "Co ciekawe dopuszczalne są również (a niedostępne w innych językach programowania) następujące ciągi relacji"
   ]
  },
  {
   "cell_type": "code",
   "execution_count": 7,
   "metadata": {},
   "outputs": [
    {
     "name": "stdout",
     "output_type": "stream",
     "text": [
      "Liczba ta należy do przedziału (3,5]\n"
     ]
    }
   ],
   "source": [
    "liczba = 4\n",
    "if 3 < liczba <= 5:\n",
    "    print('Liczba ta należy do przedziału (3,5]')"
   ]
  },
  {
   "cell_type": "markdown",
   "metadata": {},
   "source": [
    "## Operatory logiczne\n",
    "\n",
    "Specjalna grupa operatorów jest zarezerwowana dla typów logicznych. Wyszczególniamy\n",
    "\n",
    "* logiczne i 'and',\n",
    "* logiczne lub 'or',\n",
    "* logiczne nie 'not'."
   ]
  },
  {
   "cell_type": "code",
   "execution_count": 8,
   "metadata": {},
   "outputs": [
    {
     "name": "stdout",
     "output_type": "stream",
     "text": [
      "Liczba nie jest podzielna przez 3 oraz 2\n"
     ]
    }
   ],
   "source": [
    "liczba = 14\n",
    "if liczba % 3 == 0 and liczba % 2 ==0 :\n",
    "    print('Liczba jest podzielna przez 3 oraz 2')\n",
    "else :\n",
    "    print('Liczba nie jest podzielna przez 3 oraz 2')"
   ]
  },
  {
   "cell_type": "markdown",
   "metadata": {},
   "source": [
    "## Operatory bitowe\n",
    "\n",
    "Operatory bitowe są stosowane do pracy na bitowych reprezentacjach dla danych. Dla operatorów tych nie jest istotne jaki typ danych przekształcają gdyż zawsze pracują na ich bitowym zapisie.\n",
    "\n",
    "Operatorami takimi są \n",
    "\n",
    "* Bitowe i '&' - gdzie dany bit zostaje ustalony na 1 tylko jeśli oba operandy miały 1 na tym bicie\n",
    "* Bitowe lub '|' - gdzie dany bit zostaje ustalony na 1 tylko jeśli dowolny operand miał 1 na tym bicie\n",
    "* Bitowe xor '^' - gdzie dany bit zostaje ustalony na 1 tylko jeśli dokładnie jeden operand miał 1 na tym bicie\n",
    "* Bitowe not '~' - gdzie dany bit zostaje ustalony na 1 tylko jeśli operand (jedyny operand) miał 0 na tym bicie\n",
    "* Bitowe przesunięcie w lewo '<<' - gdzie bity są przesuwane zgodnie w reprezentacji na miejsca bardziej po lewo, bity wysunięte poza zakres są tracone, a od lewej strony reprezentacja jest uzupełniana zerami\n",
    "* Bitowe przesunięcie w prawo '>>' - gdzie bity są przesuwane zgodnie w reprezentacji na miejsca bardziej po prawo, bity wysunięte poza zakres są tracone, a od lewej strony reprezentacja jest uzupełniana zerami"
   ]
  },
  {
   "cell_type": "code",
   "execution_count": 9,
   "metadata": {},
   "outputs": [
    {
     "name": "stdout",
     "output_type": "stream",
     "text": [
      "x ma wartość 3 y ma wartość 14\n"
     ]
    }
   ],
   "source": [
    "x = 0b0011 #tak można zadawać liczby w postaci dwójkowej\n",
    "y = 0b1110\n",
    "print('x ma wartość', x, 'y ma wartość', y)"
   ]
  },
  {
   "cell_type": "code",
   "execution_count": 10,
   "metadata": {},
   "outputs": [
    {
     "name": "stdout",
     "output_type": "stream",
     "text": [
      "Wynik 0010\n"
     ]
    }
   ],
   "source": [
    "z = x & y\n",
    "print('Wynik {0:{fill}4b}'.format(z,fill='0'))"
   ]
  },
  {
   "cell_type": "markdown",
   "metadata": {},
   "source": [
    "Zaprezentujemy jeszcze działanie przesuniecia"
   ]
  },
  {
   "cell_type": "code",
   "execution_count": 11,
   "metadata": {},
   "outputs": [
    {
     "name": "stdout",
     "output_type": "stream",
     "text": [
      "Wynik 0110\n"
     ]
    }
   ],
   "source": [
    "print('Wynik {0:{fill}4b}'.format(x<<1,fill='0'))"
   ]
  },
  {
   "cell_type": "markdown",
   "metadata": {},
   "source": [
    "## Operatory przypisania \n",
    "\n",
    "Kolejną grupą operatorów są operatory przypisania. Do grupy tej zaliczamy\n",
    "\n",
    "* operator '=',\n",
    "* operatory przypisania arytmetycznego '+=', '-=', '*=', '/=', '%=', '//=', '**=',\n",
    "* operatory przypisania logicznego '&=', '|=', '^=',\n",
    "* operatory przypisania przesuniętego, '<<=' i '>>='\n",
    "\n",
    "Pierwszy operator służy do przypisania wartości do zmiennej\n",
    "\n",
    "```python\n",
    "zmienna = wartosc\n",
    "```\n",
    "\n",
    "Przede wszystkim nie należy pomylić operatora relacyjnej równości z tym operatorem. Pozostałe operatory mają łatwe do zrozumienia działanie. Widząc linijkę z operatorem \n",
    "```python \n",
    "zmienna ?= wartosc\n",
    "``` \n",
    "(? jest dowolnym z dopuszczalnych symboli) nalezy widzieć wykonanie następującej akcji \n",
    "```python\n",
    "zmienna = zmienna ? wartosc\n",
    "```\n",
    "I tak"
   ]
  },
  {
   "cell_type": "code",
   "execution_count": 12,
   "metadata": {},
   "outputs": [
    {
     "name": "stdout",
     "output_type": "stream",
     "text": [
      "8\n"
     ]
    }
   ],
   "source": [
    "x = 5\n",
    "x += 3\n",
    "print(x)"
   ]
  },
  {
   "cell_type": "markdown",
   "metadata": {},
   "source": [
    "## Operatory identycznościowe\n",
    "\n",
    "Są operatorami mającymi za zadanie sprawdzić czy dane dwie etykiety przechowują ten sam lub nie ten sam obiekt. \n",
    "Operatorami tymi są \n",
    "\n",
    "* is\n",
    "* is not\n",
    "\n",
    "Sens prezentuje poniższy przykład"
   ]
  },
  {
   "cell_type": "code",
   "execution_count": 13,
   "metadata": {},
   "outputs": [
    {
     "name": "stdout",
     "output_type": "stream",
     "text": [
      "To różne obiekty\n",
      "Obiekty mają takie same wartości\n"
     ]
    }
   ],
   "source": [
    "a = [5]\n",
    "b = [5]\n",
    "if a is b:\n",
    "    print('To ten sam obiekt')\n",
    "else :\n",
    "    print('To różne obiekty')\n",
    "    \n",
    "if a == b:\n",
    "    print('Obiekty mają takie same wartości')"
   ]
  },
  {
   "cell_type": "code",
   "execution_count": 14,
   "metadata": {},
   "outputs": [
    {
     "name": "stdout",
     "output_type": "stream",
     "text": [
      "To ten sam obiekt\n",
      "Obiekty mają takie same wartości\n"
     ]
    }
   ],
   "source": [
    "a = [5]\n",
    "b = a\n",
    "if a is b:\n",
    "    print('To ten sam obiekt')\n",
    "else :\n",
    "    print('To różne obiekty')\n",
    "    \n",
    "if a == b:\n",
    "    print('Obiekty mają takie same wartości')"
   ]
  },
  {
   "cell_type": "markdown",
   "metadata": {},
   "source": [
    "Co ciekawe rozpoznanie to nie działa na typach prostych"
   ]
  },
  {
   "cell_type": "code",
   "execution_count": 15,
   "metadata": {},
   "outputs": [
    {
     "data": {
      "text/plain": [
       "True"
      ]
     },
     "execution_count": 15,
     "metadata": {},
     "output_type": "execute_result"
    }
   ],
   "source": [
    "a = 5\n",
    "b = 5\n",
    "a is b"
   ]
  },
  {
   "cell_type": "markdown",
   "metadata": {},
   "source": [
    "Najczęściej jednak ten operator stosuje się do kontroli typu"
   ]
  },
  {
   "cell_type": "code",
   "execution_count": 16,
   "metadata": {},
   "outputs": [
    {
     "data": {
      "text/plain": [
       "True"
      ]
     },
     "execution_count": 16,
     "metadata": {},
     "output_type": "execute_result"
    }
   ],
   "source": [
    "a = 5\n",
    "type(a) is int"
   ]
  },
  {
   "cell_type": "code",
   "execution_count": 17,
   "metadata": {},
   "outputs": [
    {
     "data": {
      "text/plain": [
       "True"
      ]
     },
     "execution_count": 17,
     "metadata": {},
     "output_type": "execute_result"
    }
   ],
   "source": [
    "type(a) is not str"
   ]
  },
  {
   "cell_type": "markdown",
   "metadata": {},
   "source": [
    "Często wykorzystuje się go do sprawdzenia czy dany obiekt został zainicjowany"
   ]
  },
  {
   "cell_type": "code",
   "execution_count": 18,
   "metadata": {},
   "outputs": [
    {
     "name": "stdout",
     "output_type": "stream",
     "text": [
      "a jest niezainicjowane\n"
     ]
    }
   ],
   "source": [
    "a = None\n",
    "\n",
    "if a is None:\n",
    "    print('a jest niezainicjowane')\n",
    "else:\n",
    "    print('a jest zainicjowane')"
   ]
  },
  {
   "cell_type": "markdown",
   "metadata": {},
   "source": [
    "## Operatory przynależności\n",
    "\n",
    "Ostatnią grupą operatorów są te które weryfikują czy element należy do kolekcji. Są to dwa operatory\n",
    "* in \n",
    "* not in\n",
    "\n",
    "z klasycznymi przykładami"
   ]
  },
  {
   "cell_type": "code",
   "execution_count": 19,
   "metadata": {},
   "outputs": [
    {
     "name": "stdout",
     "output_type": "stream",
     "text": [
      "Zoo nie ma kota\n"
     ]
    }
   ],
   "source": [
    "zoo = ['lew', 'słoń', 'małpa']\n",
    "if 'kot' in zoo:\n",
    "    print('Zoo ma kota')\n",
    "else:\n",
    "    print('Zoo nie ma kota')"
   ]
  },
  {
   "cell_type": "markdown",
   "metadata": {},
   "source": [
    "oraz"
   ]
  },
  {
   "cell_type": "code",
   "execution_count": 20,
   "metadata": {},
   "outputs": [
    {
     "name": "stdout",
     "output_type": "stream",
     "text": [
      "W zdaniu Ala ma kota występuje literka m\n"
     ]
    }
   ],
   "source": [
    "if 'm' in 'Ala ma kota':\n",
    "    print('W zdaniu Ala ma kota występuje literka m')"
   ]
  },
  {
   "cell_type": "markdown",
   "metadata": {},
   "source": [
    "# Zadanie ćwiczeniowe\n",
    "\n",
    "Poznaliśmy już dostatecznie wiele ze składni Pythona aby móc zacząć rozwiązywać bardziej skomplikowane zadania\n",
    "\n",
    "## Zadanie przykładowe (kontener)\n",
    "\n",
    "Przygotujmy skrypt mający na celu gromadzenie naszych notatek w pamięci"
   ]
  },
  {
   "cell_type": "code",
   "execution_count": 21,
   "metadata": {},
   "outputs": [
    {
     "name": "stdout",
     "output_type": "stream",
     "text": [
      "\n",
      "--------------------------------------\n",
      "---         Program Notatnik       ---\n",
      "--------------------------------------\n",
      "\n",
      "\n",
      "    wybierz odpowiednia akcje\n",
      "    <a> - dodaj wpis,              <w> - wypisz wszystkie notatki\n",
      "    <c> - wyczyść wszystkie wpisy, <q> - wyjdź z programu\n",
      "    \n",
      "q\n",
      "KONIEC\n"
     ]
    }
   ],
   "source": [
    "print(\n",
    "\"\"\"\n",
    "--------------------------------------\n",
    "---         Program Notatnik       ---\n",
    "--------------------------------------\n",
    "\"\"\")\n",
    "czy_koniec = False #taką zmienną jak tutaj nazywamy wartownikiem\n",
    "pamiec = []\n",
    "while(not czy_koniec):\n",
    "    print(\"\"\"\n",
    "    wybierz odpowiednia akcje\n",
    "    <a> - dodaj wpis,              <w> - wypisz wszystkie notatki\n",
    "    <c> - wyczyść wszystkie wpisy, <q> - wyjdź z programu\n",
    "    \"\"\")\n",
    "    komenda = input()\n",
    "    if komenda == 'a':\n",
    "        print(\"Podaj treść notatki i zatwierdź enter\\n>\")\n",
    "        notatka = input()\n",
    "        pamiec.append(notatka)\n",
    "    elif komenda == 'w':\n",
    "        print(\"-----------------------------------------------\")\n",
    "        for notatka in pamiec:\n",
    "            print(notatka)\n",
    "            print(\"-*-*-*-*-*-*-*-*-*-*-*-*-*-*-*-*-*-*-*-*-*-*-*-\")\n",
    "        print(\"-----------------------------------------------\")\n",
    "    elif komenda == 'c':\n",
    "        pamiec = []\n",
    "    elif komenda == 'q':\n",
    "        czy_koniec = True\n",
    "    else:\n",
    "        print('Niepoprawna komenda, sprobuj ponownie')\n",
    "print('KONIEC')\n",
    "        \n",
    "\n"
   ]
  },
  {
   "cell_type": "markdown",
   "metadata": {},
   "source": [
    "## Zadanie (kalkulator 4 działaniowy)\n",
    "\n",
    "W zadaniu należy napisać kalkulator wczytujący od użytkownika kolejno\n",
    "\n",
    "* liczbę (pierwszy operand)\n",
    "* znak +,-,* lub /\n",
    "* liczbę (drugi operand)\n",
    "\n",
    "i zwracający wynik odpowiedniego działania kalkulatorowego"
   ]
  },
  {
   "cell_type": "markdown",
   "metadata": {},
   "source": [
    "## Zadanie (konwerter znaków)\n",
    "\n",
    "Napisać program, który po wczytaniu od użytkownika zdania wypisze je ponownie Wielkimi lub małymi literami"
   ]
  },
  {
   "cell_type": "markdown",
   "metadata": {},
   "source": [
    "##  Zadanie (papuga)\n",
    "\n",
    "Napisać program, który wczyta od nas zdanie oraz liczbę - poczym wypisze \"Rrraa\" i powtórzy otrzymane zdanie - liczbę razy."
   ]
  },
  {
   "cell_type": "markdown",
   "metadata": {},
   "source": [
    "## Zadanie (brydż bez atu)\n",
    "\n",
    "W zadaniu tym do przygotowanego poniżej szablonu dopisać należy kod, w którym będziemy chcieli zagrać najlepszą kartą z talii tj.\n",
    "\n",
    "* najsłabszą bijącą (wyższą w tym samym kolorze) wyłożoną przez przeciwnika\n",
    "* najsłabszą niebijącą z całej talii gdy nie można pobić\n",
    "* jeśli mamy kartę w kolorze w ręce, nie możemy rzucić niczego z innego koloru\n",
    "\n",
    "W tle można słuchać klasyków [muzyki](https://www.youtube.com/watch?v=dOjFcx3GJHg) \n",
    "\n",
    "\"I know that the spades are the swords of a soldier\n",
    "\n",
    "I know that the clubs are weapons of war\n",
    "\n",
    "I know that diamonds mean money for this art\n",
    "\n",
    "But that's not the shape of my heart...\""
   ]
  },
  {
   "cell_type": "code",
   "execution_count": 22,
   "metadata": {},
   "outputs": [],
   "source": [
    "king = 'Krol'\n",
    "quenn = 'Dama'\n",
    "jack = 'Walet'\n",
    "ace = 'As' #as jest słowem kluczowym w Python, nie można go użyć jako nazwy dla zmiennej\n",
    "\n",
    "hearts = 'kier'\n",
    "diamonds = 'karo'\n",
    "clubs = 'trefl'\n",
    "spades = 'pik'\n",
    "\n",
    "\n",
    "\n",
    "przeciwnik = ( king, hearts)\n",
    "\n",
    "reka = [ (ace, spades), (ace, diamonds), (quenn, clubs), (4, spades), (2, hearts)  ]\n",
    "\n",
    "# ty = ..."
   ]
  },
  {
   "cell_type": "markdown",
   "metadata": {},
   "source": [
    "## Zadanie (brydż z atu)\n",
    "\n",
    "\n",
    "Jak powyżej ale pojawia się dodatkowy parametr, kolor atutowy. Wybrany kolor pozwala na pobicie dowolnego innego koloru. koloru atutowego nie można jednak rzucić jeśli mamy kartę w kolorze"
   ]
  },
  {
   "cell_type": "code",
   "execution_count": 23,
   "metadata": {},
   "outputs": [],
   "source": [
    "atu = hearts"
   ]
  },
  {
   "cell_type": "code",
   "execution_count": null,
   "metadata": {},
   "outputs": [],
   "source": []
  }
 ],
 "metadata": {
  "kernelspec": {
   "display_name": "Python 3",
   "language": "python",
   "name": "python3"
  },
  "language_info": {
   "codemirror_mode": {
    "name": "ipython",
    "version": 3
   },
   "file_extension": ".py",
   "mimetype": "text/x-python",
   "name": "python",
   "nbconvert_exporter": "python",
   "pygments_lexer": "ipython3",
   "version": "3.8.5"
  }
 },
 "nbformat": 4,
 "nbformat_minor": 1
}
