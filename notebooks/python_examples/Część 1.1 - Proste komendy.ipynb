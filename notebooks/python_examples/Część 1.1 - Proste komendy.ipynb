{
 "cells": [
  {
   "cell_type": "markdown",
   "metadata": {},
   "source": [
    "# Wprowadzenie do programowania w Python\n",
    "\n",
    "Standardowym programem pisanym w nowym środowisku jest \"Hello World!\", którego jedynym zadaniem jest wypisanie na ekranie komputera. Do wypisywania ciągów znaków na ekranie wykorzystywane jest polecenie print. Odpowiedni kod przyjmuje więc postać:"
   ]
  },
  {
   "cell_type": "code",
   "execution_count": 1,
   "metadata": {},
   "outputs": [
    {
     "name": "stdout",
     "output_type": "stream",
     "text": [
      "Witaj świecie!\n"
     ]
    }
   ],
   "source": [
    "print(\"Witaj świecie!\")"
   ]
  },
  {
   "cell_type": "markdown",
   "metadata": {},
   "source": [
    "Uwagi:\n",
    "* Python jako jeden z niewielu języków programowania nie potrzebuje zakończenia linijki znakiem średnika. Jego umieszczenie nie jest błędem, ale flagowane jako coś do usunięcia.\n",
    "* Komenda print nie może być odsunięta od lewej krawędzi pliku ani spacją ani znakiem tabulatora."
   ]
  },
  {
   "cell_type": "markdown",
   "metadata": {},
   "source": [
    "Dodajmy sobie małe ćwiczenie"
   ]
  },
  {
   "cell_type": "code",
   "execution_count": 2,
   "metadata": {},
   "outputs": [
    {
     "name": "stdout",
     "output_type": "stream",
     "text": [
      "Witaj świecie!\n",
      "Jak Ci na imię?\n",
      "Piotr\n",
      "Ohh  Piotr , świat jest piękny\n"
     ]
    }
   ],
   "source": [
    "print(\"Witaj świecie!\")\n",
    "print(\"Jak Ci na imię?\")\n",
    "odpowiedz = input()\n",
    "print(\"Ohh \", odpowiedz, \", świat jest piękny\")"
   ]
  },
  {
   "cell_type": "markdown",
   "metadata": {},
   "source": [
    "## Łańcuchy znaków\n",
    "Pierwszym poznanym dla nas typem danych będzie łańcuch znaków (String). W Pythonie występują aż 4 sposoby na ich tworzenie \n",
    "\n"
   ]
  },
  {
   "cell_type": "code",
   "execution_count": 3,
   "metadata": {},
   "outputs": [
    {
     "name": "stdout",
     "output_type": "stream",
     "text": [
      "Witaj świecie!\n",
      "Witaj świecie!\n",
      "Witaj świecie!\n",
      "Witaj świecie!\n"
     ]
    }
   ],
   "source": [
    "print(\"Witaj świecie!\")\n",
    "print('Witaj świecie!')\n",
    "print('''Witaj świecie!''')\n",
    "print(\"\"\"Witaj świecie!\"\"\")"
   ]
  },
  {
   "cell_type": "markdown",
   "metadata": {},
   "source": [
    "* Obowiązuje zasada, że znak który otwierał łańcuch musi go zamknąć. Stąd w łańcuchach tworzonych przed \"\" można np. umieścić ' bez obawy o to że uszkodzą skrypt\n",
    "* Rezerwuje się znak \"\"\" jako znak komentarza dokumentującego i stąd nie zaleca się go do tworzenia słów\n",
    "* Potrójne cudzysłowy można używać do tekstów zajmujących wiele linijek kodu"
   ]
  },
  {
   "cell_type": "markdown",
   "metadata": {},
   "source": [
    "### Konkatencja\n",
    "\n",
    "Konkatencją nazywaną operację łączenia dwóch lub więcej ciągów znaków w pojedynczy ciąg znaków.\n",
    "Przyjrzyjmy się: dwóch linijkom kodu\n"
   ]
  },
  {
   "cell_type": "code",
   "execution_count": 4,
   "metadata": {},
   "outputs": [
    {
     "name": "stdout",
     "output_type": "stream",
     "text": [
      "Witaj świecie!\n",
      "Witajświecie!\n"
     ]
    }
   ],
   "source": [
    "print(\"Witaj\",\"świecie!\")\n",
    "print(\"Witaj\"+\"świecie!\")"
   ]
  },
  {
   "cell_type": "markdown",
   "metadata": {},
   "source": [
    "* Operacja pierwsza, nie przeprowadza konkatenacji. Pokazuje natomiast, że można przekazać wiele parametrów do funkcji print celem wyświetlenia.\n",
    "* Operacja druga wykonuje konkatenacje dwóch łańcuchów (operator+) i przekazuje do funkcji print pojedynczy parametr."
   ]
  },
  {
   "cell_type": "markdown",
   "metadata": {},
   "source": [
    "### Zadanie\n",
    "\n",
    "Odszukaj co trzeba zrobić aby pierwszy print (dwa argumenty rozdzielone przecinkiem) wydrukował dokładnie to samo co drugi "
   ]
  },
  {
   "cell_type": "markdown",
   "metadata": {},
   "source": [
    "## Komentarze\n",
    "\n",
    "Praca z programowaniem jest znacznie prostsza kiedy w skrypcie występują odpowiednie komentarze. W Pythonie mamy dwa rodzaje komentarzy:\n",
    "\n",
    "* Komentarz linijkowy rozpoczynany znakiem #\n",
    "* Komentarz wielolinijkowy (dokumentujący) ograniczany przez \"\"\" "
   ]
  },
  {
   "cell_type": "code",
   "execution_count": 5,
   "metadata": {},
   "outputs": [
    {
     "data": {
      "text/plain": [
       "'\\nTo jest komentarz wielolinijkowy\\n'"
      ]
     },
     "execution_count": 5,
     "metadata": {},
     "output_type": "execute_result"
    }
   ],
   "source": [
    "# to jest komentarz\n",
    "\n",
    "\"\"\"\n",
    "To jest komentarz wielolinijkowy\n",
    "\"\"\""
   ]
  },
  {
   "cell_type": "markdown",
   "metadata": {},
   "source": [
    "## Zmienne\n",
    "\n",
    "* Zmienne w Python podlegają tzw. leniwej inicjalizacji. Tzn. odpowiednia pamięć jest rezerwowana dopiera w chwili wywołania przypisania. O zmiennych w Pythonie można myśleć jak o etykietach do których mogą być przypisane twory dowolnych typów.\n",
    "* Nie ma zatem potrzeby deklarowania typu dla zmiennych, jak np. w Javie czy C++. Nie oznacza to jednak, że Python nie ochrania zmiennych przed próbami zmiany typów. Typy są pilnowane tylko z programisty został zdjęty obowiązek jawnego ich ogłoszenia. Przypomina to po części mechanizm auto z języka C++, ale naprawdę jego budowa jest zdecydowanie inna (gdyż auto tworzy zmienne w pamięci operacyjnej, natomiast przypisania w pythonie dotyczą jedynie etykiet.\n",
    "* Tak jak w większości języków programowania do tworzenia zmiennych używany jest operator= czyli tzw. operator przypisania.\n"
   ]
  },
  {
   "cell_type": "code",
   "execution_count": 6,
   "metadata": {},
   "outputs": [
    {
     "name": "stdout",
     "output_type": "stream",
     "text": [
      "3 + 4 = 7\n"
     ]
    }
   ],
   "source": [
    "x=3\n",
    "y=4\n",
    "print(x,\"+\",y,\"=\",x+y)"
   ]
  },
  {
   "cell_type": "markdown",
   "metadata": {},
   "source": [
    "Warto znać najbardziej podstawowe z typów danych dostępnych w Pythonie\n",
    "\n",
    "* bool - logiczne z wartościami False i True\n",
    "* int - całkowite liczby\n",
    "* float - liczby zmiennoprzecinkowe\n",
    "* complex - liczby zespolone\n",
    "* str - łancuchy znaków "
   ]
  },
  {
   "cell_type": "code",
   "execution_count": 7,
   "metadata": {},
   "outputs": [
    {
     "data": {
      "text/plain": [
       "bool"
      ]
     },
     "execution_count": 7,
     "metadata": {},
     "output_type": "execute_result"
    }
   ],
   "source": [
    "type(3==3)"
   ]
  },
  {
   "cell_type": "code",
   "execution_count": 8,
   "metadata": {},
   "outputs": [
    {
     "data": {
      "text/plain": [
       "int"
      ]
     },
     "execution_count": 8,
     "metadata": {},
     "output_type": "execute_result"
    }
   ],
   "source": [
    "type(1)"
   ]
  },
  {
   "cell_type": "code",
   "execution_count": 9,
   "metadata": {},
   "outputs": [
    {
     "data": {
      "text/plain": [
       "float"
      ]
     },
     "execution_count": 9,
     "metadata": {},
     "output_type": "execute_result"
    }
   ],
   "source": [
    "type(3.141592)"
   ]
  },
  {
   "cell_type": "code",
   "execution_count": 10,
   "metadata": {},
   "outputs": [
    {
     "data": {
      "text/plain": [
       "complex"
      ]
     },
     "execution_count": 10,
     "metadata": {},
     "output_type": "execute_result"
    }
   ],
   "source": [
    "type(1+3J)"
   ]
  },
  {
   "cell_type": "code",
   "execution_count": 11,
   "metadata": {},
   "outputs": [
    {
     "data": {
      "text/plain": [
       "str"
      ]
     },
     "execution_count": 11,
     "metadata": {},
     "output_type": "execute_result"
    }
   ],
   "source": [
    "type('Centrum Mistrzostwa Informatycznego')"
   ]
  },
  {
   "cell_type": "markdown",
   "metadata": {},
   "source": [
    "Warto również poznać jakościową różnicę, która wynikałaby z Pythonowego rozumienia zmiennych. Poniżej linijka, która mrozi krew w żyłach programistów C/C++"
   ]
  },
  {
   "cell_type": "code",
   "execution_count": 12,
   "metadata": {},
   "outputs": [
    {
     "name": "stdout",
     "output_type": "stream",
     "text": [
      "Programiści C/C++ nie znoszą go, 4 linijkami w Pythonie...\n",
      "7\n"
     ]
    }
   ],
   "source": [
    "a = \"Programiści C/C++ nie znoszą go, 4 linijkami w Pythonie...\"\n",
    "print(a)\n",
    "a = 7\n",
    "print(a)"
   ]
  },
  {
   "cell_type": "markdown",
   "metadata": {},
   "source": [
    "Jak widać w powyższym nie żadnego błędu. Wcale nie jest tak, że tropem z C++ zmienna a otrzymała typ str a potem mamy próbę dokonania konwersji na ten typ danych. Zmienna a okazuje się nie być związana tak naprawdę z typem."
   ]
  },
  {
   "cell_type": "code",
   "execution_count": 13,
   "metadata": {},
   "outputs": [
    {
     "name": "stdout",
     "output_type": "stream",
     "text": [
      "<class 'str'>\n",
      "<class 'int'>\n"
     ]
    }
   ],
   "source": [
    "a = \"Programiści C/C++ nie znoszą go, 4 linijkami w Pythonie...\"\n",
    "print(type(a))\n",
    "a = 7\n",
    "print(type(a))"
   ]
  },
  {
   "cell_type": "markdown",
   "metadata": {},
   "source": [
    "Tak naprawdę struktura zarządzania pamięcią jest tu nieco inna niż C/C++\n",
    "\n",
    "Tam była para \n",
    "zmienna -> obszar w pamięci\n",
    "\n",
    "Tu mamy bardziej\n",
    "zmienna -> (zmienna w sensie C++ -> obszar pamięci)\n",
    "\n",
    "i kiedy dokonujemy podstawienia\n",
    "```{python}\n",
    "a = 7\n",
    "```\n",
    "zmieniane jest to zewnętrzne przypisanie. I nie ma problemu bo nie dochodzi do konwersji typów.\n"
   ]
  },
  {
   "cell_type": "markdown",
   "metadata": {},
   "source": [
    "## Rzutowanie zmiennych\n",
    "\n",
    "Możliwa jest bardzo prosta zmiana typu danych dla typów podstawowych. Wystarczy odnosić się po prostu do typów w połączeniu z operatorem (), tj. operacjami\n",
    "\n",
    "* int()\n",
    "* float()\n",
    "* str()"
   ]
  },
  {
   "cell_type": "code",
   "execution_count": 14,
   "metadata": {},
   "outputs": [
    {
     "name": "stdout",
     "output_type": "stream",
     "text": [
      "3\n"
     ]
    }
   ],
   "source": [
    "x = 3.14\n",
    "calkowity_x = int(x)\n",
    "print(calkowity_x)"
   ]
  },
  {
   "cell_type": "markdown",
   "metadata": {},
   "source": [
    "## Anotowanie typów\n",
    "\n",
    "Python nie wymaga podawania jawnego typów. Mamy jednak możliwość ich anotowania. Co to znaczy anotować? To znaczy, ze możemy podać nasze oczekiwania co do typu. Jednak nie mają one specjalnie znaczenia poza osobami czytającymi kod."
   ]
  },
  {
   "cell_type": "code",
   "execution_count": 15,
   "metadata": {},
   "outputs": [
    {
     "data": {
      "text/plain": [
       "int"
      ]
     },
     "execution_count": 15,
     "metadata": {},
     "output_type": "execute_result"
    }
   ],
   "source": [
    "a : int = 5\n",
    "type(a)"
   ]
  },
  {
   "cell_type": "markdown",
   "metadata": {},
   "source": [
    "Jak pisaliśmy nie ma jednak problemów aby zrobić"
   ]
  },
  {
   "cell_type": "code",
   "execution_count": 16,
   "metadata": {},
   "outputs": [
    {
     "data": {
      "text/plain": [
       "str"
      ]
     },
     "execution_count": 16,
     "metadata": {},
     "output_type": "execute_result"
    }
   ],
   "source": [
    "a : int = 'Niespodzianka'\n",
    "type(a)"
   ]
  },
  {
   "cell_type": "markdown",
   "metadata": {},
   "source": [
    "Anotowanie będzie sie czasem przydawać przy pisaniu funkcji, po to aby środowisko PyCharm mogło nam odpowiednio podpowiadać dostępną składnię."
   ]
  },
  {
   "cell_type": "markdown",
   "metadata": {},
   "source": [
    "## Podstawowe kolekcje\n",
    "\n",
    "Częściej od zmiennych przechowujących pojedyncze dane potrzebować będziemy struktur przechowujących duże ich zbiory tj. kolekcje.\n",
    "\n",
    "W Pythonie występują 3 podstawowe kolekcje\n",
    "\n",
    "* Krotki - odpowiedniki tablic, ale bez ograniczeń typowych\n",
    "* Listy - rozszerzalne struktury dynamicznie\n",
    "* Słowniki - tablice asocjacyjne, mapy.\n"
   ]
  },
  {
   "cell_type": "markdown",
   "metadata": {},
   "source": [
    "### Krotki\n",
    "\n",
    "Krotki uzyskujemy grupując kilka zmiennych z wykorzystaniem nawiasu i przecinka jako symbolu rozdzialającego\n",
    "\n"
   ]
  },
  {
   "cell_type": "code",
   "execution_count": 17,
   "metadata": {},
   "outputs": [],
   "source": [
    "x = \"Witaj\"\n",
    "y = \"Świecie\"\n",
    "krotka= (x, y)"
   ]
  },
  {
   "cell_type": "code",
   "execution_count": 18,
   "metadata": {},
   "outputs": [
    {
     "name": "stdout",
     "output_type": "stream",
     "text": [
      "('Witaj', 'Świecie')\n"
     ]
    }
   ],
   "source": [
    "print(krotka)"
   ]
  },
  {
   "cell_type": "markdown",
   "metadata": {},
   "source": [
    "Krotki są tworami niezmienniczymi (Immutable). Nie można zmodyfikować składowych krotek. Ich przetwarzanie pozwala jedynie na kopiowanie poszczególnych składowych.\n",
    "\n",
    "Do uzyskania dostępu do składowych wykorzystywany jest operator$[]$. W nawias wprowadzane są interesujące nas indeksy. Tablice w Pythonie numerowane są od 0 w górę. Można również odnosić się do tablic w numeracji od końca z wykorzystaniem indeksów ujemnych (-1,-2,...), oraz zakresów np. $[0:3]$  "
   ]
  },
  {
   "cell_type": "code",
   "execution_count": 19,
   "metadata": {},
   "outputs": [
    {
     "name": "stdout",
     "output_type": "stream",
     "text": [
      "Świecie\n",
      "Witaj\n",
      "('Witaj', 'Świecie', 'Witaj')\n",
      "('Witaj', 'Świecie', 'Witaj', 'Świecie', 'Witaj', 'Witaj', 'Świecie')\n"
     ]
    }
   ],
   "source": [
    "x=\"Witaj\"\n",
    "y=\"Świecie\"\n",
    "krotka=(x,y,x,y,x,x,y)\n",
    "print(krotka[1]) \n",
    "print(krotka[-2])\n",
    "print(krotka[0:3])\n",
    "print(krotka[:]) #kopia całej krotki\n",
    "#krotka[2]=\"Slonce\" #błąd krotka jest niezmiennicza"
   ]
  },
  {
   "cell_type": "markdown",
   "metadata": {},
   "source": [
    "### Listy\n",
    "\n",
    "Listy to dynamicznie rozszerzalne tablice. Można je tworzyć poprzez nawiasy $[]$\n",
    "\n"
   ]
  },
  {
   "cell_type": "code",
   "execution_count": 20,
   "metadata": {},
   "outputs": [],
   "source": [
    "x= \"Witaj\"\n",
    "y= \"Świecie\"\n",
    "lista= [x,y]\n",
    "pusta_lista = []"
   ]
  },
  {
   "cell_type": "markdown",
   "metadata": {},
   "source": [
    "Listy są rozszerzalne i zmiennicze (mutable). Można wstawiać, zmieniać i usuwać jej elementy; Dostęp uzyskujemy analogicznie jak w przypadku krotek\n"
   ]
  },
  {
   "cell_type": "code",
   "execution_count": 21,
   "metadata": {},
   "outputs": [
    {
     "name": "stdout",
     "output_type": "stream",
     "text": [
      "['Witaj', 'Świecie', 'jesteś wspaniały']\n"
     ]
    }
   ],
   "source": [
    "lista.append('jesteś wspaniały')\n",
    "print(lista)"
   ]
  },
  {
   "cell_type": "code",
   "execution_count": 22,
   "metadata": {},
   "outputs": [
    {
     "name": "stdout",
     "output_type": "stream",
     "text": [
      "['Witaj', 'mój świecie', 'jesteś wspaniały']\n"
     ]
    }
   ],
   "source": [
    "lista[1] ='mój świecie'\n",
    "print(lista)"
   ]
  },
  {
   "cell_type": "markdown",
   "metadata": {},
   "source": [
    "### Słowniki\n",
    "Słowniki są odpowiednikami map, nazywane również tablicami asocjacyjnymi. Pozwalają przechowywać przypisane do siebie argumenty i wartości na zasadach klucz : wartość. Wytwarzamy je z wykorzystaniem nawiasów {} rozdzielając klucze i wartości symbolem :"
   ]
  },
  {
   "cell_type": "code",
   "execution_count": 23,
   "metadata": {},
   "outputs": [
    {
     "name": "stdout",
     "output_type": "stream",
     "text": [
      "mathematics\n"
     ]
    }
   ],
   "source": [
    "slownik = { \"koń\": \"horse\", \"pies\": \"dog\", \"matematyka\": \"mathematics\" }\n",
    "print(slownik[\"matematyka\"])"
   ]
  },
  {
   "cell_type": "markdown",
   "metadata": {},
   "source": [
    "### Zadanie\n",
    "\n",
    "Wczytaj od użytkownika 2 liczby i wypisz wynik ich zsumowania. Co się stanie kiedy podasz zamiast liczby swoje imię i nazwisko\n",
    "\n"
   ]
  },
  {
   "cell_type": "markdown",
   "metadata": {},
   "source": [
    "## Operatory arytmetyczne \n",
    "\n",
    "Do operatorów zaliczamy \n",
    "\n",
    "* dodawanie '+'\n",
    "* odejmowanie '-'\n",
    "* mnożenie '*'\n",
    "* dzielenie '/'\n",
    "* dzielenie modulo '%'\n",
    "* potęgę '**'\n",
    "* dzielenie całkowitoliczbowe '//'\n",
    "\n",
    "Do najciekawszego do zaprezentowania tu jest różnica pomiędzy dwoma rodzajami dzieleń. W znacznej większości języków programowania operatory zwracaja zawsze typ zgodny z operandami. W efekcie zdarza się, że programista bywa czasem zaskoczony działaniem swojego programu. Np. w C++\n",
    "\n",
    "```cpp\n",
    "int x = 3;\n",
    "int y = 2;\n",
    "cout << x/y;\n",
    "```\n",
    "\n",
    "zwróciło by jako wynik $1$. Twórcy Pythona uznali, że warto złamać zasadę o zgodności typów wyniku i operandu - bo w większości przypadków dla powyższego kodu programista spodziewałby się otrzymać 1.5. Istotnie\n",
    "\n"
   ]
  },
  {
   "cell_type": "code",
   "execution_count": 24,
   "metadata": {},
   "outputs": [
    {
     "name": "stdout",
     "output_type": "stream",
     "text": [
      "1.5\n",
      "<class 'float'>\n"
     ]
    }
   ],
   "source": [
    "x = int(3)\n",
    "y= int(2)\n",
    "wynik = x/y\n",
    "print(wynik)\n",
    "print(type(wynik))"
   ]
  },
  {
   "cell_type": "markdown",
   "metadata": {},
   "source": [
    "Jednak aby osługiwać pryzpadki w których programiście właśnie na uzyskaniu wyniku całkowitoliczbowego zależało - dodano kolejny operator '//'. "
   ]
  },
  {
   "cell_type": "code",
   "execution_count": 25,
   "metadata": {},
   "outputs": [
    {
     "name": "stdout",
     "output_type": "stream",
     "text": [
      "1\n"
     ]
    }
   ],
   "source": [
    "print(x//y)"
   ]
  },
  {
   "cell_type": "markdown",
   "metadata": {},
   "source": [
    "### Zadanie \n",
    "\n",
    "Wczytaj od użytkownika dwie liczby. Sprawdź czy druga dzieli pierwszą bez reszty\n",
    "\n",
    "### Zadanie \n",
    "\n",
    "Wczytaj od użytkownika dwie liczby. Podaj liczbę całości oraz resztę. Np.\n",
    "\n",
    "8 : 3 = 2 r. 2\n"
   ]
  },
  {
   "cell_type": "code",
   "execution_count": null,
   "metadata": {},
   "outputs": [],
   "source": []
  }
 ],
 "metadata": {
  "kernelspec": {
   "display_name": "Python 3",
   "language": "python",
   "name": "python3"
  },
  "language_info": {
   "codemirror_mode": {
    "name": "ipython",
    "version": 3
   },
   "file_extension": ".py",
   "mimetype": "text/x-python",
   "name": "python",
   "nbconvert_exporter": "python",
   "pygments_lexer": "ipython3",
   "version": "3.8.5"
  }
 },
 "nbformat": 4,
 "nbformat_minor": 1
}
