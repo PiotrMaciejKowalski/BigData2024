{
 "cells": [
  {
   "cell_type": "markdown",
   "metadata": {},
   "source": [
    "# Przeciążanie funkcji\n",
    "\n",
    "Hmm - jeśli chodzi o [przeciążanie metod](https://pl.wikipedia.org/wiki/Przeci%C4%85%C5%BCanie_funkcji) to w Pythonie go po prostu nie ma. Do utworzenia odpowiedniej funkcji musi być użyta unikalna nazwa. Można jednak uzyskać jej namiastkę poprzez odpowiedni układ if"
   ]
  },
  {
   "cell_type": "code",
   "execution_count": 1,
   "metadata": {},
   "outputs": [
    {
     "name": "stdout",
     "output_type": "stream",
     "text": [
      "Wywoluje kod dla jednego parametru\n",
      "Wywołuje kod dla dwóch parametrów\n",
      "Nie\n"
     ]
    }
   ],
   "source": [
    "def funkcja_przeciazona(*params):\n",
    "    if len(params) == 1:\n",
    "        print(\"Wywoluje kod dla jednego parametru\")\n",
    "    elif (len(params)==2):\n",
    "        print(\"Wywołuje kod dla dwóch parametrów\")\n",
    "    else:\n",
    "        print(\"Nie\")\n",
    "\n",
    "\n",
    "funkcja_przeciazona(1)\n",
    "funkcja_przeciazona(1, 2)\n",
    "funkcja_przeciazona(1, 2, 3)"
   ]
  },
  {
   "cell_type": "markdown",
   "metadata": {},
   "source": [
    "Poprzez *params  rozumiemy parametr tworzony jako krotkę ze wszystkich nie przypisanych parametrów. Funkcje ponadto pozwalają tworzyć parametry razem z wartościami domyślnymi. Zaprezentujmy ponadto możliwości *params"
   ]
  },
  {
   "cell_type": "code",
   "execution_count": 2,
   "metadata": {},
   "outputs": [
    {
     "name": "stdout",
     "output_type": "stream",
     "text": [
      "Suma wynosi  10.0\n"
     ]
    }
   ],
   "source": [
    "def suma(*params):\n",
    "    temp = 0.0\n",
    "    for i in params:\n",
    "        temp += i\n",
    "    return temp\n",
    "\n",
    "print(\"Suma wynosi \", suma(1, 2, 3, 4))"
   ]
  },
  {
   "cell_type": "markdown",
   "metadata": {},
   "source": [
    "## Jedyne prawdziwe przeciążanie w Pythonie\n",
    "\n",
    "Inną metodą związaną z przeciążaniem jest przeciążanie operatorów. Przez operatory rozumiemy np. +, == , > itp. W Pythonie nie ma przeciążania. Co nie znaczy, że w pewnych okolicznościach nie uda się go uzyskać. W przypadku obiektów nowych klas przykładowy opis kodu operatora+ wygląda tak\n",
    "\n",
    "```\n",
    "def operator+(self, other):\n",
    "  return self.__add__(other)\n",
    "```\n",
    "\n",
    "Dzięki temu zapisowi okazuje się, że wystarczy dopisać własną implementację metody oddziedziczonej jak $__add__$ i uzyskujemy efekt identyczny jak przy przeciążeniu operatora. Przeanalizować należy następujący przykład: \n",
    "\n",
    "[Źródła o tym co więcej da sie zrobić są tutaj.](http://blog.teamtreehouse.com/operator-overloading-python)"
   ]
  },
  {
   "cell_type": "code",
   "execution_count": 3,
   "metadata": {},
   "outputs": [
    {
     "name": "stdout",
     "output_type": "stream",
     "text": [
      "P1 /= P2\n",
      "P1 == P3\n",
      "(1;1) (2;1) (1;1) (3;2)\n"
     ]
    }
   ],
   "source": [
    "class Punkt(object):\n",
    "    \"\"\"\n",
    "    Punkt to punkt\n",
    "    \"\"\"\n",
    "    def __init__(self, a, b):\n",
    "        self.a = a\n",
    "        self.b = b\n",
    "\n",
    "    def __eq__(self, other):\n",
    "        if self.a==other.a and self.b == other.b:\n",
    "            return True\n",
    "        else:\n",
    "            return False\n",
    "\n",
    "    def __add__(self, other):\n",
    "        a = self.a+other.a\n",
    "        b = self.b+other.b\n",
    "        return Punkt(a, b)\n",
    "\n",
    "    def __str__(self):\n",
    "        return \"(\"+str(self.a)+\";\"+str(self.b)+\")\"\n",
    "\n",
    "p1 = Punkt(1,1)\n",
    "p2 = Punkt(2,1)\n",
    "p3 = Punkt(1,1)\n",
    "\n",
    "if p1 == p2:\n",
    "    print(\"P1 == P2\")\n",
    "else:\n",
    "    print(\"P1 /= P2\")\n",
    "\n",
    "if p1 == p3:\n",
    "    print(\"P1 == P3\")\n",
    "else:\n",
    "    print(\"P1 /= P3\")\n",
    "\n",
    "print(p1, p2, p3, p1+p2)"
   ]
  },
  {
   "cell_type": "code",
   "execution_count": null,
   "metadata": {},
   "outputs": [],
   "source": []
  }
 ],
 "metadata": {
  "kernelspec": {
   "display_name": "Python 3",
   "language": "python",
   "name": "python3"
  },
  "language_info": {
   "codemirror_mode": {
    "name": "ipython",
    "version": 3
   },
   "file_extension": ".py",
   "mimetype": "text/x-python",
   "name": "python",
   "nbconvert_exporter": "python",
   "pygments_lexer": "ipython3",
   "version": "3.6.8"
  }
 },
 "nbformat": 4,
 "nbformat_minor": 2
}
