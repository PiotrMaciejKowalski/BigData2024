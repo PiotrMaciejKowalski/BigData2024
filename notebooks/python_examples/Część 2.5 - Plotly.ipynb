{
  "cells": [
    {
      "cell_type": "markdown",
      "metadata": {
        "id": "e0L1PE0mrjC7"
      },
      "source": [
        "## Interaktywne wykresy w Google Colab w oparciu o *plotly*"
      ]
    },
    {
      "cell_type": "code",
      "execution_count": 2,
      "metadata": {
        "colab": {
          "base_uri": "https://localhost:8080/",
          "height": 517
        },
        "id": "29WSUJ2aqJHH",
        "outputId": "17729075-d0f6-41c3-f7fd-ce85c15cc384"
      },
      "outputs": [
        {
          "data": {
            "application/vnd.plotly.v1+json": {
              "config": {
                "plotlyServerURL": "https://plot.ly"
              },
              "data": [
                {
                  "hovertemplate": "x=%{x}<br>y=%{y}<extra></extra>",
                  "legendgroup": "",
                  "line": {
                    "color": "#636efa",
                    "dash": "solid"
                  },
                  "marker": {
                    "symbol": "circle"
                  },
                  "mode": "lines",
                  "name": "",
                  "orientation": "v",
                  "showlegend": false,
                  "type": "scatter",
                  "x": [
                    0,
                    0.22213281389018738,
                    0.44426562778037476,
                    0.6663984416705622,
                    0.8885312555607495,
                    1.1106640694509369,
                    1.3327968833411243,
                    1.5549296972313116,
                    1.777062511121499,
                    1.9991953250116865,
                    2.2213281389018737,
                    2.443460952792061,
                    2.6655937666822487,
                    2.887726580572436,
                    3.109859394462623,
                    3.3319922083528106,
                    3.554125022242998,
                    3.7762578361331856,
                    3.998390650023373,
                    4.22052346391356,
                    4.4426562778037475,
                    4.664789091693935,
                    4.886921905584122,
                    5.10905471947431,
                    5.331187533364497,
                    5.553320347254685,
                    5.775453161144872,
                    5.997585975035059,
                    6.219718788925246,
                    6.441851602815434,
                    6.663984416705621,
                    6.886117230595809,
                    7.108250044485996,
                    7.330382858376184,
                    7.552515672266371,
                    7.774648486156559,
                    7.996781300046746,
                    8.218914113936933,
                    8.44104692782712,
                    8.663179741717308,
                    8.885312555607495,
                    9.107445369497682,
                    9.32957818338787,
                    9.551710997278057,
                    9.773843811168245,
                    9.995976625058432,
                    10.21810943894862,
                    10.440242252838807,
                    10.662375066728995,
                    10.884507880619182,
                    11.10664069450937,
                    11.328773508399557,
                    11.550906322289745,
                    11.773039136179932,
                    11.995171950070118,
                    12.217304763960305,
                    12.439437577850493,
                    12.66157039174068,
                    12.883703205630868,
                    13.105836019521055,
                    13.327968833411242,
                    13.55010164730143,
                    13.772234461191617,
                    13.994367275081805,
                    14.216500088971992,
                    14.43863290286218,
                    14.660765716752367,
                    14.882898530642555,
                    15.105031344532742,
                    15.32716415842293,
                    15.549296972313117,
                    15.771429786203305,
                    15.993562600093492,
                    16.215695413983678,
                    16.437828227873865,
                    16.659961041764053,
                    16.88209385565424,
                    17.104226669544428,
                    17.326359483434615,
                    17.548492297324803,
                    17.77062511121499,
                    17.992757925105177,
                    18.214890738995365,
                    18.437023552885552,
                    18.65915636677574,
                    18.881289180665927,
                    19.103421994556115,
                    19.325554808446302,
                    19.54768762233649,
                    19.769820436226677,
                    19.991953250116865,
                    20.214086064007052,
                    20.43621887789724,
                    20.658351691787427,
                    20.880484505677614,
                    21.102617319567802,
                    21.32475013345799,
                    21.546882947348177,
                    21.769015761238364,
                    21.991148575128552
                  ],
                  "xaxis": "x",
                  "y": [
                    0,
                    0.2203105327865406,
                    0.4297949120891716,
                    0.6181589862206052,
                    0.7761464642917568,
                    0.8959937742913359,
                    0.9718115683235417,
                    0.9998741276738751,
                    0.9788024462147787,
                    0.9096319953545184,
                    0.7957618405308323,
                    0.6427876096865395,
                    0.4582265217274105,
                    0.2511479871810793,
                    0.0317279334980681,
                    -0.18925124436040983,
                    -0.4009305354066134,
                    -0.5929079290546403,
                    -0.7557495743542582,
                    -0.8814533634475817,
                    -0.9638421585599419,
                    -0.998867339183008,
                    -0.9848077530122081,
                    -0.9223542941045815,
                    -0.8145759520503358,
                    -0.6667690005162917,
                    -0.4861967361004688,
                    -0.2817325568414306,
                    -0.06342391965656541,
                    0.15800139597334908,
                    0.3716624556603268,
                    0.5670598638627702,
                    0.7345917086575329,
                    0.8660254037844384,
                    0.9549022414440738,
                    0.9968547759519423,
                    0.9898214418809328,
                    0.9341478602651071,
                    0.832569854634772,
                    0.6900790114821128,
                    0.5136773915734072,
                    0.312033445698488,
                    0.09505604330418356,
                    -0.12659245357374843,
                    -0.342020143325668,
                    -0.540640817455597,
                    -0.7126941713788624,
                    -0.849725429949514,
                    -0.9450008187146683,
                    -0.9938384644612541,
                    -0.9938384644612542,
                    -0.9450008187146686,
                    -0.8497254299495145,
                    -0.712694171378863,
                    -0.5406408174555992,
                    -0.3420201433256705,
                    -0.12659245357375104,
                    0.09505604330418094,
                    0.3120334456984855,
                    0.513677391573405,
                    0.6900790114821109,
                    0.8325698546347705,
                    0.9341478602651062,
                    0.9898214418809326,
                    0.9968547759519425,
                    0.9549022414440742,
                    0.8660254037844393,
                    0.734591708657534,
                    0.5670598638627716,
                    0.3716624556603284,
                    0.1580013959733508,
                    -0.06342391965656366,
                    -0.28173255684142895,
                    -0.4861967361004665,
                    -0.6667690005162898,
                    -0.8145759520503343,
                    -0.9223542941045805,
                    -0.9848077530122077,
                    -0.9988673391830081,
                    -0.9638421585599426,
                    -0.881453363447583,
                    -0.7557495743542596,
                    -0.5929079290546421,
                    -0.4009305354066154,
                    -0.18925124436041196,
                    0.031727933498065915,
                    0.25114798718107756,
                    0.45822652172740896,
                    0.6427876096865381,
                    0.7957618405308312,
                    0.9096319953545178,
                    0.9788024462147784,
                    0.9998741276738751,
                    0.971811568323542,
                    0.8959937742913364,
                    0.7761464642917575,
                    0.618158986220606,
                    0.4297949120891725,
                    0.22031053278654153,
                    8.572527594031472e-16
                  ],
                  "yaxis": "y"
                }
              ],
              "layout": {
                "height": 500,
                "legend": {
                  "tracegroupgap": 0
                },
                "template": {
                  "data": {
                    "bar": [
                      {
                        "error_x": {
                          "color": "#2a3f5f"
                        },
                        "error_y": {
                          "color": "#2a3f5f"
                        },
                        "marker": {
                          "line": {
                            "color": "#E5ECF6",
                            "width": 0.5
                          },
                          "pattern": {
                            "fillmode": "overlay",
                            "size": 10,
                            "solidity": 0.2
                          }
                        },
                        "type": "bar"
                      }
                    ],
                    "barpolar": [
                      {
                        "marker": {
                          "line": {
                            "color": "#E5ECF6",
                            "width": 0.5
                          },
                          "pattern": {
                            "fillmode": "overlay",
                            "size": 10,
                            "solidity": 0.2
                          }
                        },
                        "type": "barpolar"
                      }
                    ],
                    "carpet": [
                      {
                        "aaxis": {
                          "endlinecolor": "#2a3f5f",
                          "gridcolor": "white",
                          "linecolor": "white",
                          "minorgridcolor": "white",
                          "startlinecolor": "#2a3f5f"
                        },
                        "baxis": {
                          "endlinecolor": "#2a3f5f",
                          "gridcolor": "white",
                          "linecolor": "white",
                          "minorgridcolor": "white",
                          "startlinecolor": "#2a3f5f"
                        },
                        "type": "carpet"
                      }
                    ],
                    "choropleth": [
                      {
                        "colorbar": {
                          "outlinewidth": 0,
                          "ticks": ""
                        },
                        "type": "choropleth"
                      }
                    ],
                    "contour": [
                      {
                        "colorbar": {
                          "outlinewidth": 0,
                          "ticks": ""
                        },
                        "colorscale": [
                          [
                            0,
                            "#0d0887"
                          ],
                          [
                            0.1111111111111111,
                            "#46039f"
                          ],
                          [
                            0.2222222222222222,
                            "#7201a8"
                          ],
                          [
                            0.3333333333333333,
                            "#9c179e"
                          ],
                          [
                            0.4444444444444444,
                            "#bd3786"
                          ],
                          [
                            0.5555555555555556,
                            "#d8576b"
                          ],
                          [
                            0.6666666666666666,
                            "#ed7953"
                          ],
                          [
                            0.7777777777777778,
                            "#fb9f3a"
                          ],
                          [
                            0.8888888888888888,
                            "#fdca26"
                          ],
                          [
                            1,
                            "#f0f921"
                          ]
                        ],
                        "type": "contour"
                      }
                    ],
                    "contourcarpet": [
                      {
                        "colorbar": {
                          "outlinewidth": 0,
                          "ticks": ""
                        },
                        "type": "contourcarpet"
                      }
                    ],
                    "heatmap": [
                      {
                        "colorbar": {
                          "outlinewidth": 0,
                          "ticks": ""
                        },
                        "colorscale": [
                          [
                            0,
                            "#0d0887"
                          ],
                          [
                            0.1111111111111111,
                            "#46039f"
                          ],
                          [
                            0.2222222222222222,
                            "#7201a8"
                          ],
                          [
                            0.3333333333333333,
                            "#9c179e"
                          ],
                          [
                            0.4444444444444444,
                            "#bd3786"
                          ],
                          [
                            0.5555555555555556,
                            "#d8576b"
                          ],
                          [
                            0.6666666666666666,
                            "#ed7953"
                          ],
                          [
                            0.7777777777777778,
                            "#fb9f3a"
                          ],
                          [
                            0.8888888888888888,
                            "#fdca26"
                          ],
                          [
                            1,
                            "#f0f921"
                          ]
                        ],
                        "type": "heatmap"
                      }
                    ],
                    "heatmapgl": [
                      {
                        "colorbar": {
                          "outlinewidth": 0,
                          "ticks": ""
                        },
                        "colorscale": [
                          [
                            0,
                            "#0d0887"
                          ],
                          [
                            0.1111111111111111,
                            "#46039f"
                          ],
                          [
                            0.2222222222222222,
                            "#7201a8"
                          ],
                          [
                            0.3333333333333333,
                            "#9c179e"
                          ],
                          [
                            0.4444444444444444,
                            "#bd3786"
                          ],
                          [
                            0.5555555555555556,
                            "#d8576b"
                          ],
                          [
                            0.6666666666666666,
                            "#ed7953"
                          ],
                          [
                            0.7777777777777778,
                            "#fb9f3a"
                          ],
                          [
                            0.8888888888888888,
                            "#fdca26"
                          ],
                          [
                            1,
                            "#f0f921"
                          ]
                        ],
                        "type": "heatmapgl"
                      }
                    ],
                    "histogram": [
                      {
                        "marker": {
                          "pattern": {
                            "fillmode": "overlay",
                            "size": 10,
                            "solidity": 0.2
                          }
                        },
                        "type": "histogram"
                      }
                    ],
                    "histogram2d": [
                      {
                        "colorbar": {
                          "outlinewidth": 0,
                          "ticks": ""
                        },
                        "colorscale": [
                          [
                            0,
                            "#0d0887"
                          ],
                          [
                            0.1111111111111111,
                            "#46039f"
                          ],
                          [
                            0.2222222222222222,
                            "#7201a8"
                          ],
                          [
                            0.3333333333333333,
                            "#9c179e"
                          ],
                          [
                            0.4444444444444444,
                            "#bd3786"
                          ],
                          [
                            0.5555555555555556,
                            "#d8576b"
                          ],
                          [
                            0.6666666666666666,
                            "#ed7953"
                          ],
                          [
                            0.7777777777777778,
                            "#fb9f3a"
                          ],
                          [
                            0.8888888888888888,
                            "#fdca26"
                          ],
                          [
                            1,
                            "#f0f921"
                          ]
                        ],
                        "type": "histogram2d"
                      }
                    ],
                    "histogram2dcontour": [
                      {
                        "colorbar": {
                          "outlinewidth": 0,
                          "ticks": ""
                        },
                        "colorscale": [
                          [
                            0,
                            "#0d0887"
                          ],
                          [
                            0.1111111111111111,
                            "#46039f"
                          ],
                          [
                            0.2222222222222222,
                            "#7201a8"
                          ],
                          [
                            0.3333333333333333,
                            "#9c179e"
                          ],
                          [
                            0.4444444444444444,
                            "#bd3786"
                          ],
                          [
                            0.5555555555555556,
                            "#d8576b"
                          ],
                          [
                            0.6666666666666666,
                            "#ed7953"
                          ],
                          [
                            0.7777777777777778,
                            "#fb9f3a"
                          ],
                          [
                            0.8888888888888888,
                            "#fdca26"
                          ],
                          [
                            1,
                            "#f0f921"
                          ]
                        ],
                        "type": "histogram2dcontour"
                      }
                    ],
                    "mesh3d": [
                      {
                        "colorbar": {
                          "outlinewidth": 0,
                          "ticks": ""
                        },
                        "type": "mesh3d"
                      }
                    ],
                    "parcoords": [
                      {
                        "line": {
                          "colorbar": {
                            "outlinewidth": 0,
                            "ticks": ""
                          }
                        },
                        "type": "parcoords"
                      }
                    ],
                    "pie": [
                      {
                        "automargin": true,
                        "type": "pie"
                      }
                    ],
                    "scatter": [
                      {
                        "fillpattern": {
                          "fillmode": "overlay",
                          "size": 10,
                          "solidity": 0.2
                        },
                        "type": "scatter"
                      }
                    ],
                    "scatter3d": [
                      {
                        "line": {
                          "colorbar": {
                            "outlinewidth": 0,
                            "ticks": ""
                          }
                        },
                        "marker": {
                          "colorbar": {
                            "outlinewidth": 0,
                            "ticks": ""
                          }
                        },
                        "type": "scatter3d"
                      }
                    ],
                    "scattercarpet": [
                      {
                        "marker": {
                          "colorbar": {
                            "outlinewidth": 0,
                            "ticks": ""
                          }
                        },
                        "type": "scattercarpet"
                      }
                    ],
                    "scattergeo": [
                      {
                        "marker": {
                          "colorbar": {
                            "outlinewidth": 0,
                            "ticks": ""
                          }
                        },
                        "type": "scattergeo"
                      }
                    ],
                    "scattergl": [
                      {
                        "marker": {
                          "colorbar": {
                            "outlinewidth": 0,
                            "ticks": ""
                          }
                        },
                        "type": "scattergl"
                      }
                    ],
                    "scattermapbox": [
                      {
                        "marker": {
                          "colorbar": {
                            "outlinewidth": 0,
                            "ticks": ""
                          }
                        },
                        "type": "scattermapbox"
                      }
                    ],
                    "scatterpolar": [
                      {
                        "marker": {
                          "colorbar": {
                            "outlinewidth": 0,
                            "ticks": ""
                          }
                        },
                        "type": "scatterpolar"
                      }
                    ],
                    "scatterpolargl": [
                      {
                        "marker": {
                          "colorbar": {
                            "outlinewidth": 0,
                            "ticks": ""
                          }
                        },
                        "type": "scatterpolargl"
                      }
                    ],
                    "scatterternary": [
                      {
                        "marker": {
                          "colorbar": {
                            "outlinewidth": 0,
                            "ticks": ""
                          }
                        },
                        "type": "scatterternary"
                      }
                    ],
                    "surface": [
                      {
                        "colorbar": {
                          "outlinewidth": 0,
                          "ticks": ""
                        },
                        "colorscale": [
                          [
                            0,
                            "#0d0887"
                          ],
                          [
                            0.1111111111111111,
                            "#46039f"
                          ],
                          [
                            0.2222222222222222,
                            "#7201a8"
                          ],
                          [
                            0.3333333333333333,
                            "#9c179e"
                          ],
                          [
                            0.4444444444444444,
                            "#bd3786"
                          ],
                          [
                            0.5555555555555556,
                            "#d8576b"
                          ],
                          [
                            0.6666666666666666,
                            "#ed7953"
                          ],
                          [
                            0.7777777777777778,
                            "#fb9f3a"
                          ],
                          [
                            0.8888888888888888,
                            "#fdca26"
                          ],
                          [
                            1,
                            "#f0f921"
                          ]
                        ],
                        "type": "surface"
                      }
                    ],
                    "table": [
                      {
                        "cells": {
                          "fill": {
                            "color": "#EBF0F8"
                          },
                          "line": {
                            "color": "white"
                          }
                        },
                        "header": {
                          "fill": {
                            "color": "#C8D4E3"
                          },
                          "line": {
                            "color": "white"
                          }
                        },
                        "type": "table"
                      }
                    ]
                  },
                  "layout": {
                    "annotationdefaults": {
                      "arrowcolor": "#2a3f5f",
                      "arrowhead": 0,
                      "arrowwidth": 1
                    },
                    "autotypenumbers": "strict",
                    "coloraxis": {
                      "colorbar": {
                        "outlinewidth": 0,
                        "ticks": ""
                      }
                    },
                    "colorscale": {
                      "diverging": [
                        [
                          0,
                          "#8e0152"
                        ],
                        [
                          0.1,
                          "#c51b7d"
                        ],
                        [
                          0.2,
                          "#de77ae"
                        ],
                        [
                          0.3,
                          "#f1b6da"
                        ],
                        [
                          0.4,
                          "#fde0ef"
                        ],
                        [
                          0.5,
                          "#f7f7f7"
                        ],
                        [
                          0.6,
                          "#e6f5d0"
                        ],
                        [
                          0.7,
                          "#b8e186"
                        ],
                        [
                          0.8,
                          "#7fbc41"
                        ],
                        [
                          0.9,
                          "#4d9221"
                        ],
                        [
                          1,
                          "#276419"
                        ]
                      ],
                      "sequential": [
                        [
                          0,
                          "#0d0887"
                        ],
                        [
                          0.1111111111111111,
                          "#46039f"
                        ],
                        [
                          0.2222222222222222,
                          "#7201a8"
                        ],
                        [
                          0.3333333333333333,
                          "#9c179e"
                        ],
                        [
                          0.4444444444444444,
                          "#bd3786"
                        ],
                        [
                          0.5555555555555556,
                          "#d8576b"
                        ],
                        [
                          0.6666666666666666,
                          "#ed7953"
                        ],
                        [
                          0.7777777777777778,
                          "#fb9f3a"
                        ],
                        [
                          0.8888888888888888,
                          "#fdca26"
                        ],
                        [
                          1,
                          "#f0f921"
                        ]
                      ],
                      "sequentialminus": [
                        [
                          0,
                          "#0d0887"
                        ],
                        [
                          0.1111111111111111,
                          "#46039f"
                        ],
                        [
                          0.2222222222222222,
                          "#7201a8"
                        ],
                        [
                          0.3333333333333333,
                          "#9c179e"
                        ],
                        [
                          0.4444444444444444,
                          "#bd3786"
                        ],
                        [
                          0.5555555555555556,
                          "#d8576b"
                        ],
                        [
                          0.6666666666666666,
                          "#ed7953"
                        ],
                        [
                          0.7777777777777778,
                          "#fb9f3a"
                        ],
                        [
                          0.8888888888888888,
                          "#fdca26"
                        ],
                        [
                          1,
                          "#f0f921"
                        ]
                      ]
                    },
                    "colorway": [
                      "#636efa",
                      "#EF553B",
                      "#00cc96",
                      "#ab63fa",
                      "#FFA15A",
                      "#19d3f3",
                      "#FF6692",
                      "#B6E880",
                      "#FF97FF",
                      "#FECB52"
                    ],
                    "font": {
                      "color": "#2a3f5f"
                    },
                    "geo": {
                      "bgcolor": "white",
                      "lakecolor": "white",
                      "landcolor": "#E5ECF6",
                      "showlakes": true,
                      "showland": true,
                      "subunitcolor": "white"
                    },
                    "hoverlabel": {
                      "align": "left"
                    },
                    "hovermode": "closest",
                    "mapbox": {
                      "style": "light"
                    },
                    "paper_bgcolor": "white",
                    "plot_bgcolor": "#E5ECF6",
                    "polar": {
                      "angularaxis": {
                        "gridcolor": "white",
                        "linecolor": "white",
                        "ticks": ""
                      },
                      "bgcolor": "#E5ECF6",
                      "radialaxis": {
                        "gridcolor": "white",
                        "linecolor": "white",
                        "ticks": ""
                      }
                    },
                    "scene": {
                      "xaxis": {
                        "backgroundcolor": "#E5ECF6",
                        "gridcolor": "white",
                        "gridwidth": 2,
                        "linecolor": "white",
                        "showbackground": true,
                        "ticks": "",
                        "zerolinecolor": "white"
                      },
                      "yaxis": {
                        "backgroundcolor": "#E5ECF6",
                        "gridcolor": "white",
                        "gridwidth": 2,
                        "linecolor": "white",
                        "showbackground": true,
                        "ticks": "",
                        "zerolinecolor": "white"
                      },
                      "zaxis": {
                        "backgroundcolor": "#E5ECF6",
                        "gridcolor": "white",
                        "gridwidth": 2,
                        "linecolor": "white",
                        "showbackground": true,
                        "ticks": "",
                        "zerolinecolor": "white"
                      }
                    },
                    "shapedefaults": {
                      "line": {
                        "color": "#2a3f5f"
                      }
                    },
                    "ternary": {
                      "aaxis": {
                        "gridcolor": "white",
                        "linecolor": "white",
                        "ticks": ""
                      },
                      "baxis": {
                        "gridcolor": "white",
                        "linecolor": "white",
                        "ticks": ""
                      },
                      "bgcolor": "#E5ECF6",
                      "caxis": {
                        "gridcolor": "white",
                        "linecolor": "white",
                        "ticks": ""
                      }
                    },
                    "title": {
                      "x": 0.05
                    },
                    "xaxis": {
                      "automargin": true,
                      "gridcolor": "white",
                      "linecolor": "white",
                      "ticks": "",
                      "title": {
                        "standoff": 15
                      },
                      "zerolinecolor": "white",
                      "zerolinewidth": 2
                    },
                    "yaxis": {
                      "automargin": true,
                      "gridcolor": "white",
                      "linecolor": "white",
                      "ticks": "",
                      "title": {
                        "standoff": 15
                      },
                      "zerolinecolor": "white",
                      "zerolinewidth": 2
                    }
                  }
                },
                "title": {
                  "text": "$\\text{Wykres funkcji  } \\sin(x)$"
                },
                "width": 700,
                "xaxis": {
                  "anchor": "y",
                  "domain": [
                    0,
                    1
                  ],
                  "title": {
                    "text": "x"
                  }
                },
                "yaxis": {
                  "anchor": "x",
                  "domain": [
                    0,
                    1
                  ],
                  "title": {
                    "text": "y"
                  }
                }
              }
            }
          },
          "metadata": {},
          "output_type": "display_data"
        }
      ],
      "source": [
        "import plotly.express as px\n",
        "import numpy as np\n",
        "import pandas as pd\n",
        "\n",
        "x = np.linspace(0,7*np.pi, num=100)\n",
        "y = np.sin(x)\n",
        "\n",
        "fig = px.line(x=x, y=y, width=700, height=500, title=r\"$\\text{Wykres funkcji  } \\sin(x)$\")\n",
        "fig.show()"
      ]
    },
    {
      "cell_type": "code",
      "execution_count": 3,
      "metadata": {
        "colab": {
          "base_uri": "https://localhost:8080/",
          "height": 517
        },
        "id": "IPDoHFhxq3hj",
        "outputId": "2a57347b-f5d3-4c9c-9dfa-d33a2661cf2c"
      },
      "outputs": [
        {
          "data": {
            "application/vnd.plotly.v1+json": {
              "config": {
                "plotlyServerURL": "https://plot.ly"
              },
              "data": [
                {
                  "hovertemplate": "variable=sinx<br>x=%{x}<br>value=%{y}<extra></extra>",
                  "legendgroup": "sinx",
                  "line": {
                    "color": "#636efa",
                    "dash": "solid"
                  },
                  "marker": {
                    "symbol": "circle"
                  },
                  "mode": "lines",
                  "name": "sinx",
                  "orientation": "v",
                  "showlegend": true,
                  "type": "scatter",
                  "x": [
                    0,
                    0.22213281389018738,
                    0.44426562778037476,
                    0.6663984416705622,
                    0.8885312555607495,
                    1.1106640694509369,
                    1.3327968833411243,
                    1.5549296972313116,
                    1.777062511121499,
                    1.9991953250116865,
                    2.2213281389018737,
                    2.443460952792061,
                    2.6655937666822487,
                    2.887726580572436,
                    3.109859394462623,
                    3.3319922083528106,
                    3.554125022242998,
                    3.7762578361331856,
                    3.998390650023373,
                    4.22052346391356,
                    4.4426562778037475,
                    4.664789091693935,
                    4.886921905584122,
                    5.10905471947431,
                    5.331187533364497,
                    5.553320347254685,
                    5.775453161144872,
                    5.997585975035059,
                    6.219718788925246,
                    6.441851602815434,
                    6.663984416705621,
                    6.886117230595809,
                    7.108250044485996,
                    7.330382858376184,
                    7.552515672266371,
                    7.774648486156559,
                    7.996781300046746,
                    8.218914113936933,
                    8.44104692782712,
                    8.663179741717308,
                    8.885312555607495,
                    9.107445369497682,
                    9.32957818338787,
                    9.551710997278057,
                    9.773843811168245,
                    9.995976625058432,
                    10.21810943894862,
                    10.440242252838807,
                    10.662375066728995,
                    10.884507880619182,
                    11.10664069450937,
                    11.328773508399557,
                    11.550906322289745,
                    11.773039136179932,
                    11.995171950070118,
                    12.217304763960305,
                    12.439437577850493,
                    12.66157039174068,
                    12.883703205630868,
                    13.105836019521055,
                    13.327968833411242,
                    13.55010164730143,
                    13.772234461191617,
                    13.994367275081805,
                    14.216500088971992,
                    14.43863290286218,
                    14.660765716752367,
                    14.882898530642555,
                    15.105031344532742,
                    15.32716415842293,
                    15.549296972313117,
                    15.771429786203305,
                    15.993562600093492,
                    16.215695413983678,
                    16.437828227873865,
                    16.659961041764053,
                    16.88209385565424,
                    17.104226669544428,
                    17.326359483434615,
                    17.548492297324803,
                    17.77062511121499,
                    17.992757925105177,
                    18.214890738995365,
                    18.437023552885552,
                    18.65915636677574,
                    18.881289180665927,
                    19.103421994556115,
                    19.325554808446302,
                    19.54768762233649,
                    19.769820436226677,
                    19.991953250116865,
                    20.214086064007052,
                    20.43621887789724,
                    20.658351691787427,
                    20.880484505677614,
                    21.102617319567802,
                    21.32475013345799,
                    21.546882947348177,
                    21.769015761238364,
                    21.991148575128552
                  ],
                  "xaxis": "x",
                  "y": [
                    0,
                    0.2203105327865406,
                    0.4297949120891716,
                    0.6181589862206052,
                    0.7761464642917568,
                    0.8959937742913359,
                    0.9718115683235417,
                    0.9998741276738751,
                    0.9788024462147787,
                    0.9096319953545184,
                    0.7957618405308323,
                    0.6427876096865395,
                    0.4582265217274105,
                    0.2511479871810793,
                    0.0317279334980681,
                    -0.18925124436040983,
                    -0.4009305354066134,
                    -0.5929079290546403,
                    -0.7557495743542582,
                    -0.8814533634475817,
                    -0.9638421585599419,
                    -0.998867339183008,
                    -0.9848077530122081,
                    -0.9223542941045815,
                    -0.8145759520503358,
                    -0.6667690005162917,
                    -0.4861967361004688,
                    -0.2817325568414306,
                    -0.06342391965656541,
                    0.15800139597334908,
                    0.3716624556603268,
                    0.5670598638627702,
                    0.7345917086575329,
                    0.8660254037844384,
                    0.9549022414440738,
                    0.9968547759519423,
                    0.9898214418809328,
                    0.9341478602651071,
                    0.832569854634772,
                    0.6900790114821128,
                    0.5136773915734072,
                    0.312033445698488,
                    0.09505604330418356,
                    -0.12659245357374843,
                    -0.342020143325668,
                    -0.540640817455597,
                    -0.7126941713788624,
                    -0.849725429949514,
                    -0.9450008187146683,
                    -0.9938384644612541,
                    -0.9938384644612542,
                    -0.9450008187146686,
                    -0.8497254299495145,
                    -0.712694171378863,
                    -0.5406408174555992,
                    -0.3420201433256705,
                    -0.12659245357375104,
                    0.09505604330418094,
                    0.3120334456984855,
                    0.513677391573405,
                    0.6900790114821109,
                    0.8325698546347705,
                    0.9341478602651062,
                    0.9898214418809326,
                    0.9968547759519425,
                    0.9549022414440742,
                    0.8660254037844393,
                    0.734591708657534,
                    0.5670598638627716,
                    0.3716624556603284,
                    0.1580013959733508,
                    -0.06342391965656366,
                    -0.28173255684142895,
                    -0.4861967361004665,
                    -0.6667690005162898,
                    -0.8145759520503343,
                    -0.9223542941045805,
                    -0.9848077530122077,
                    -0.9988673391830081,
                    -0.9638421585599426,
                    -0.881453363447583,
                    -0.7557495743542596,
                    -0.5929079290546421,
                    -0.4009305354066154,
                    -0.18925124436041196,
                    0.031727933498065915,
                    0.25114798718107756,
                    0.45822652172740896,
                    0.6427876096865381,
                    0.7957618405308312,
                    0.9096319953545178,
                    0.9788024462147784,
                    0.9998741276738751,
                    0.971811568323542,
                    0.8959937742913364,
                    0.7761464642917575,
                    0.618158986220606,
                    0.4297949120891725,
                    0.22031053278654153,
                    8.572527594031472e-16
                  ],
                  "yaxis": "y"
                },
                {
                  "hovertemplate": "variable=cosx<br>x=%{x}<br>value=%{y}<extra></extra>",
                  "legendgroup": "cosx",
                  "line": {
                    "color": "#EF553B",
                    "dash": "solid"
                  },
                  "marker": {
                    "symbol": "circle"
                  },
                  "mode": "lines",
                  "name": "cosx",
                  "orientation": "v",
                  "showlegend": true,
                  "type": "scatter",
                  "x": [
                    0,
                    0.22213281389018738,
                    0.44426562778037476,
                    0.6663984416705622,
                    0.8885312555607495,
                    1.1106640694509369,
                    1.3327968833411243,
                    1.5549296972313116,
                    1.777062511121499,
                    1.9991953250116865,
                    2.2213281389018737,
                    2.443460952792061,
                    2.6655937666822487,
                    2.887726580572436,
                    3.109859394462623,
                    3.3319922083528106,
                    3.554125022242998,
                    3.7762578361331856,
                    3.998390650023373,
                    4.22052346391356,
                    4.4426562778037475,
                    4.664789091693935,
                    4.886921905584122,
                    5.10905471947431,
                    5.331187533364497,
                    5.553320347254685,
                    5.775453161144872,
                    5.997585975035059,
                    6.219718788925246,
                    6.441851602815434,
                    6.663984416705621,
                    6.886117230595809,
                    7.108250044485996,
                    7.330382858376184,
                    7.552515672266371,
                    7.774648486156559,
                    7.996781300046746,
                    8.218914113936933,
                    8.44104692782712,
                    8.663179741717308,
                    8.885312555607495,
                    9.107445369497682,
                    9.32957818338787,
                    9.551710997278057,
                    9.773843811168245,
                    9.995976625058432,
                    10.21810943894862,
                    10.440242252838807,
                    10.662375066728995,
                    10.884507880619182,
                    11.10664069450937,
                    11.328773508399557,
                    11.550906322289745,
                    11.773039136179932,
                    11.995171950070118,
                    12.217304763960305,
                    12.439437577850493,
                    12.66157039174068,
                    12.883703205630868,
                    13.105836019521055,
                    13.327968833411242,
                    13.55010164730143,
                    13.772234461191617,
                    13.994367275081805,
                    14.216500088971992,
                    14.43863290286218,
                    14.660765716752367,
                    14.882898530642555,
                    15.105031344532742,
                    15.32716415842293,
                    15.549296972313117,
                    15.771429786203305,
                    15.993562600093492,
                    16.215695413983678,
                    16.437828227873865,
                    16.659961041764053,
                    16.88209385565424,
                    17.104226669544428,
                    17.326359483434615,
                    17.548492297324803,
                    17.77062511121499,
                    17.992757925105177,
                    18.214890738995365,
                    18.437023552885552,
                    18.65915636677574,
                    18.881289180665927,
                    19.103421994556115,
                    19.325554808446302,
                    19.54768762233649,
                    19.769820436226677,
                    19.991953250116865,
                    20.214086064007052,
                    20.43621887789724,
                    20.658351691787427,
                    20.880484505677614,
                    21.102617319567802,
                    21.32475013345799,
                    21.546882947348177,
                    21.769015761238364,
                    21.991148575128552
                  ],
                  "xaxis": "x",
                  "y": [
                    1,
                    0.975429786885407,
                    0.9029265382866213,
                    0.7860530947427875,
                    0.6305526670845225,
                    0.44406661260577424,
                    0.23575893550942728,
                    0.015865963834808153,
                    -0.20480666806519052,
                    -0.4154150130018863,
                    -0.6056096871376665,
                    -0.7660444431189779,
                    -0.8888354486549234,
                    -0.9679487013963562,
                    -0.9994965423831851,
                    -0.9819286972627068,
                    -0.9161084574320697,
                    -0.8052702575310587,
                    -0.6548607339452852,
                    -0.4722710747726832,
                    -0.2664738136900355,
                    -0.04758191582374275,
                    0.17364817766692997,
                    0.38634512569312834,
                    0.5800569095711979,
                    0.7452644496757546,
                    0.8738493770697849,
                    0.9594929736144971,
                    0.9979866764718843,
                    0.9874388886763945,
                    0.9283679330160729,
                    0.8236765814298331,
                    0.6785094115571326,
                    0.5000000000000006,
                    0.29692037532827537,
                    0.07924995685678891,
                    -0.14231483827328475,
                    -0.3568862215918707,
                    -0.5539200638661093,
                    -0.7237340381050694,
                    -0.8579834132349765,
                    -0.9500711177409451,
                    -0.9954719225730845,
                    -0.9919548128307955,
                    -0.9396926207859086,
                    -0.8412535328311815,
                    -0.7014748877063217,
                    -0.5272254676105029,
                    -0.3270679633174221,
                    -0.11083819990101147,
                    0.11083819990101061,
                    0.32706796331742133,
                    0.5272254676105022,
                    0.7014748877063212,
                    0.8412535328311801,
                    0.9396926207859078,
                    0.9919548128307951,
                    0.9954719225730848,
                    0.9500711177409459,
                    0.8579834132349778,
                    0.7237340381050712,
                    0.5539200638661115,
                    0.35688622159187317,
                    0.14231483827328648,
                    -0.07924995685678717,
                    -0.2969203753282737,
                    -0.499999999999999,
                    -0.6785094115571314,
                    -0.8236765814298321,
                    -0.9283679330160722,
                    -0.9874388886763942,
                    -0.9979866764718844,
                    -0.9594929736144976,
                    -0.8738493770697862,
                    -0.7452644496757563,
                    -0.5800569095712002,
                    -0.3863451256931308,
                    -0.17364817766693255,
                    0.04758191582374012,
                    0.266473813690033,
                    0.4722710747726809,
                    0.6548607339452835,
                    0.8052702575310574,
                    0.9161084574320688,
                    0.9819286972627064,
                    0.9994965423831852,
                    0.9679487013963567,
                    0.8888354486549243,
                    0.766044443118979,
                    0.6056096871376678,
                    0.4154150130018877,
                    0.20480666806519202,
                    -0.01586596383480663,
                    -0.23575893550942603,
                    -0.44406661260577307,
                    -0.6305526670845216,
                    -0.7860530947427868,
                    -0.9029265382866208,
                    -0.9754297868854068,
                    -1
                  ],
                  "yaxis": "y"
                },
                {
                  "hovertemplate": "variable=sin(x/2)<br>x=%{x}<br>value=%{y}<extra></extra>",
                  "legendgroup": "sin(x/2)",
                  "line": {
                    "color": "#00cc96",
                    "dash": "solid"
                  },
                  "marker": {
                    "symbol": "circle"
                  },
                  "mode": "lines",
                  "name": "sin(x/2)",
                  "orientation": "v",
                  "showlegend": true,
                  "type": "scatter",
                  "x": [
                    0,
                    0.22213281389018738,
                    0.44426562778037476,
                    0.6663984416705622,
                    0.8885312555607495,
                    1.1106640694509369,
                    1.3327968833411243,
                    1.5549296972313116,
                    1.777062511121499,
                    1.9991953250116865,
                    2.2213281389018737,
                    2.443460952792061,
                    2.6655937666822487,
                    2.887726580572436,
                    3.109859394462623,
                    3.3319922083528106,
                    3.554125022242998,
                    3.7762578361331856,
                    3.998390650023373,
                    4.22052346391356,
                    4.4426562778037475,
                    4.664789091693935,
                    4.886921905584122,
                    5.10905471947431,
                    5.331187533364497,
                    5.553320347254685,
                    5.775453161144872,
                    5.997585975035059,
                    6.219718788925246,
                    6.441851602815434,
                    6.663984416705621,
                    6.886117230595809,
                    7.108250044485996,
                    7.330382858376184,
                    7.552515672266371,
                    7.774648486156559,
                    7.996781300046746,
                    8.218914113936933,
                    8.44104692782712,
                    8.663179741717308,
                    8.885312555607495,
                    9.107445369497682,
                    9.32957818338787,
                    9.551710997278057,
                    9.773843811168245,
                    9.995976625058432,
                    10.21810943894862,
                    10.440242252838807,
                    10.662375066728995,
                    10.884507880619182,
                    11.10664069450937,
                    11.328773508399557,
                    11.550906322289745,
                    11.773039136179932,
                    11.995171950070118,
                    12.217304763960305,
                    12.439437577850493,
                    12.66157039174068,
                    12.883703205630868,
                    13.105836019521055,
                    13.327968833411242,
                    13.55010164730143,
                    13.772234461191617,
                    13.994367275081805,
                    14.216500088971992,
                    14.43863290286218,
                    14.660765716752367,
                    14.882898530642555,
                    15.105031344532742,
                    15.32716415842293,
                    15.549296972313117,
                    15.771429786203305,
                    15.993562600093492,
                    16.215695413983678,
                    16.437828227873865,
                    16.659961041764053,
                    16.88209385565424,
                    17.104226669544428,
                    17.326359483434615,
                    17.548492297324803,
                    17.77062511121499,
                    17.992757925105177,
                    18.214890738995365,
                    18.437023552885552,
                    18.65915636677574,
                    18.881289180665927,
                    19.103421994556115,
                    19.325554808446302,
                    19.54768762233649,
                    19.769820436226677,
                    19.991953250116865,
                    20.214086064007052,
                    20.43621887789724,
                    20.658351691787427,
                    20.880484505677614,
                    21.102617319567802,
                    21.32475013345799,
                    21.546882947348177,
                    21.769015761238364,
                    21.991148575128552
                  ],
                  "xaxis": "x",
                  "y": [
                    0,
                    0.110838199901011,
                    0.2203105327865406,
                    0.3270679633174216,
                    0.4297949120891716,
                    0.5272254676105024,
                    0.6181589862206052,
                    0.7014748877063212,
                    0.7761464642917568,
                    0.8412535328311811,
                    0.8959937742913359,
                    0.9396926207859083,
                    0.9718115683235417,
                    0.9919548128307953,
                    0.9998741276738751,
                    0.9954719225730846,
                    0.9788024462147787,
                    0.9500711177409454,
                    0.9096319953545184,
                    0.8579834132349772,
                    0.7957618405308323,
                    0.7237340381050703,
                    0.6427876096865395,
                    0.5539200638661104,
                    0.4582265217274105,
                    0.35688622159187194,
                    0.2511479871810793,
                    0.14231483827328562,
                    0.0317279334980681,
                    -0.07924995685678804,
                    -0.18925124436040983,
                    -0.29692037532827453,
                    -0.4009305354066134,
                    -0.4999999999999997,
                    -0.5929079290546403,
                    -0.678509411557132,
                    -0.7557495743542582,
                    -0.8236765814298325,
                    -0.8814533634475817,
                    -0.9283679330160725,
                    -0.9638421585599419,
                    -0.9874388886763943,
                    -0.998867339183008,
                    -0.9979866764718844,
                    -0.9848077530122081,
                    -0.9594929736144975,
                    -0.9223542941045815,
                    -0.873849377069785,
                    -0.8145759520503358,
                    -0.7452644496757549,
                    -0.6667690005162917,
                    -0.5800569095711983,
                    -0.4861967361004688,
                    -0.38634512569312873,
                    -0.2817325568414306,
                    -0.17364817766693127,
                    -0.06342391965656541,
                    0.04758191582374143,
                    0.15800139597334908,
                    0.26647381369003426,
                    0.3716624556603268,
                    0.47227107477268204,
                    0.5670598638627702,
                    0.6548607339452845,
                    0.7345917086575329,
                    0.8052702575310582,
                    0.8660254037844384,
                    0.9161084574320694,
                    0.9549022414440738,
                    0.9819286972627066,
                    0.9968547759519423,
                    0.9994965423831852,
                    0.9898214418809328,
                    0.9679487013963566,
                    0.9341478602651071,
                    0.888835448654924,
                    0.832569854634772,
                    0.7660444431189788,
                    0.6900790114821128,
                    0.6056096871376675,
                    0.5136773915734072,
                    0.4154150130018873,
                    0.312033445698488,
                    0.2048066680651916,
                    0.09505604330418356,
                    -0.015865963834807057,
                    -0.12659245357374843,
                    -0.23575893550942645,
                    -0.342020143325668,
                    -0.44406661260577346,
                    -0.540640817455597,
                    -0.630552667084522,
                    -0.7126941713788624,
                    -0.7860530947427871,
                    -0.849725429949514,
                    -0.902926538286621,
                    -0.9450008187146683,
                    -0.9754297868854069,
                    -0.9938384644612541,
                    -1
                  ],
                  "yaxis": "y"
                }
              ],
              "layout": {
                "height": 500,
                "legend": {
                  "title": {
                    "text": "variable"
                  },
                  "tracegroupgap": 0
                },
                "template": {
                  "data": {
                    "bar": [
                      {
                        "error_x": {
                          "color": "#2a3f5f"
                        },
                        "error_y": {
                          "color": "#2a3f5f"
                        },
                        "marker": {
                          "line": {
                            "color": "#E5ECF6",
                            "width": 0.5
                          },
                          "pattern": {
                            "fillmode": "overlay",
                            "size": 10,
                            "solidity": 0.2
                          }
                        },
                        "type": "bar"
                      }
                    ],
                    "barpolar": [
                      {
                        "marker": {
                          "line": {
                            "color": "#E5ECF6",
                            "width": 0.5
                          },
                          "pattern": {
                            "fillmode": "overlay",
                            "size": 10,
                            "solidity": 0.2
                          }
                        },
                        "type": "barpolar"
                      }
                    ],
                    "carpet": [
                      {
                        "aaxis": {
                          "endlinecolor": "#2a3f5f",
                          "gridcolor": "white",
                          "linecolor": "white",
                          "minorgridcolor": "white",
                          "startlinecolor": "#2a3f5f"
                        },
                        "baxis": {
                          "endlinecolor": "#2a3f5f",
                          "gridcolor": "white",
                          "linecolor": "white",
                          "minorgridcolor": "white",
                          "startlinecolor": "#2a3f5f"
                        },
                        "type": "carpet"
                      }
                    ],
                    "choropleth": [
                      {
                        "colorbar": {
                          "outlinewidth": 0,
                          "ticks": ""
                        },
                        "type": "choropleth"
                      }
                    ],
                    "contour": [
                      {
                        "colorbar": {
                          "outlinewidth": 0,
                          "ticks": ""
                        },
                        "colorscale": [
                          [
                            0,
                            "#0d0887"
                          ],
                          [
                            0.1111111111111111,
                            "#46039f"
                          ],
                          [
                            0.2222222222222222,
                            "#7201a8"
                          ],
                          [
                            0.3333333333333333,
                            "#9c179e"
                          ],
                          [
                            0.4444444444444444,
                            "#bd3786"
                          ],
                          [
                            0.5555555555555556,
                            "#d8576b"
                          ],
                          [
                            0.6666666666666666,
                            "#ed7953"
                          ],
                          [
                            0.7777777777777778,
                            "#fb9f3a"
                          ],
                          [
                            0.8888888888888888,
                            "#fdca26"
                          ],
                          [
                            1,
                            "#f0f921"
                          ]
                        ],
                        "type": "contour"
                      }
                    ],
                    "contourcarpet": [
                      {
                        "colorbar": {
                          "outlinewidth": 0,
                          "ticks": ""
                        },
                        "type": "contourcarpet"
                      }
                    ],
                    "heatmap": [
                      {
                        "colorbar": {
                          "outlinewidth": 0,
                          "ticks": ""
                        },
                        "colorscale": [
                          [
                            0,
                            "#0d0887"
                          ],
                          [
                            0.1111111111111111,
                            "#46039f"
                          ],
                          [
                            0.2222222222222222,
                            "#7201a8"
                          ],
                          [
                            0.3333333333333333,
                            "#9c179e"
                          ],
                          [
                            0.4444444444444444,
                            "#bd3786"
                          ],
                          [
                            0.5555555555555556,
                            "#d8576b"
                          ],
                          [
                            0.6666666666666666,
                            "#ed7953"
                          ],
                          [
                            0.7777777777777778,
                            "#fb9f3a"
                          ],
                          [
                            0.8888888888888888,
                            "#fdca26"
                          ],
                          [
                            1,
                            "#f0f921"
                          ]
                        ],
                        "type": "heatmap"
                      }
                    ],
                    "heatmapgl": [
                      {
                        "colorbar": {
                          "outlinewidth": 0,
                          "ticks": ""
                        },
                        "colorscale": [
                          [
                            0,
                            "#0d0887"
                          ],
                          [
                            0.1111111111111111,
                            "#46039f"
                          ],
                          [
                            0.2222222222222222,
                            "#7201a8"
                          ],
                          [
                            0.3333333333333333,
                            "#9c179e"
                          ],
                          [
                            0.4444444444444444,
                            "#bd3786"
                          ],
                          [
                            0.5555555555555556,
                            "#d8576b"
                          ],
                          [
                            0.6666666666666666,
                            "#ed7953"
                          ],
                          [
                            0.7777777777777778,
                            "#fb9f3a"
                          ],
                          [
                            0.8888888888888888,
                            "#fdca26"
                          ],
                          [
                            1,
                            "#f0f921"
                          ]
                        ],
                        "type": "heatmapgl"
                      }
                    ],
                    "histogram": [
                      {
                        "marker": {
                          "pattern": {
                            "fillmode": "overlay",
                            "size": 10,
                            "solidity": 0.2
                          }
                        },
                        "type": "histogram"
                      }
                    ],
                    "histogram2d": [
                      {
                        "colorbar": {
                          "outlinewidth": 0,
                          "ticks": ""
                        },
                        "colorscale": [
                          [
                            0,
                            "#0d0887"
                          ],
                          [
                            0.1111111111111111,
                            "#46039f"
                          ],
                          [
                            0.2222222222222222,
                            "#7201a8"
                          ],
                          [
                            0.3333333333333333,
                            "#9c179e"
                          ],
                          [
                            0.4444444444444444,
                            "#bd3786"
                          ],
                          [
                            0.5555555555555556,
                            "#d8576b"
                          ],
                          [
                            0.6666666666666666,
                            "#ed7953"
                          ],
                          [
                            0.7777777777777778,
                            "#fb9f3a"
                          ],
                          [
                            0.8888888888888888,
                            "#fdca26"
                          ],
                          [
                            1,
                            "#f0f921"
                          ]
                        ],
                        "type": "histogram2d"
                      }
                    ],
                    "histogram2dcontour": [
                      {
                        "colorbar": {
                          "outlinewidth": 0,
                          "ticks": ""
                        },
                        "colorscale": [
                          [
                            0,
                            "#0d0887"
                          ],
                          [
                            0.1111111111111111,
                            "#46039f"
                          ],
                          [
                            0.2222222222222222,
                            "#7201a8"
                          ],
                          [
                            0.3333333333333333,
                            "#9c179e"
                          ],
                          [
                            0.4444444444444444,
                            "#bd3786"
                          ],
                          [
                            0.5555555555555556,
                            "#d8576b"
                          ],
                          [
                            0.6666666666666666,
                            "#ed7953"
                          ],
                          [
                            0.7777777777777778,
                            "#fb9f3a"
                          ],
                          [
                            0.8888888888888888,
                            "#fdca26"
                          ],
                          [
                            1,
                            "#f0f921"
                          ]
                        ],
                        "type": "histogram2dcontour"
                      }
                    ],
                    "mesh3d": [
                      {
                        "colorbar": {
                          "outlinewidth": 0,
                          "ticks": ""
                        },
                        "type": "mesh3d"
                      }
                    ],
                    "parcoords": [
                      {
                        "line": {
                          "colorbar": {
                            "outlinewidth": 0,
                            "ticks": ""
                          }
                        },
                        "type": "parcoords"
                      }
                    ],
                    "pie": [
                      {
                        "automargin": true,
                        "type": "pie"
                      }
                    ],
                    "scatter": [
                      {
                        "fillpattern": {
                          "fillmode": "overlay",
                          "size": 10,
                          "solidity": 0.2
                        },
                        "type": "scatter"
                      }
                    ],
                    "scatter3d": [
                      {
                        "line": {
                          "colorbar": {
                            "outlinewidth": 0,
                            "ticks": ""
                          }
                        },
                        "marker": {
                          "colorbar": {
                            "outlinewidth": 0,
                            "ticks": ""
                          }
                        },
                        "type": "scatter3d"
                      }
                    ],
                    "scattercarpet": [
                      {
                        "marker": {
                          "colorbar": {
                            "outlinewidth": 0,
                            "ticks": ""
                          }
                        },
                        "type": "scattercarpet"
                      }
                    ],
                    "scattergeo": [
                      {
                        "marker": {
                          "colorbar": {
                            "outlinewidth": 0,
                            "ticks": ""
                          }
                        },
                        "type": "scattergeo"
                      }
                    ],
                    "scattergl": [
                      {
                        "marker": {
                          "colorbar": {
                            "outlinewidth": 0,
                            "ticks": ""
                          }
                        },
                        "type": "scattergl"
                      }
                    ],
                    "scattermapbox": [
                      {
                        "marker": {
                          "colorbar": {
                            "outlinewidth": 0,
                            "ticks": ""
                          }
                        },
                        "type": "scattermapbox"
                      }
                    ],
                    "scatterpolar": [
                      {
                        "marker": {
                          "colorbar": {
                            "outlinewidth": 0,
                            "ticks": ""
                          }
                        },
                        "type": "scatterpolar"
                      }
                    ],
                    "scatterpolargl": [
                      {
                        "marker": {
                          "colorbar": {
                            "outlinewidth": 0,
                            "ticks": ""
                          }
                        },
                        "type": "scatterpolargl"
                      }
                    ],
                    "scatterternary": [
                      {
                        "marker": {
                          "colorbar": {
                            "outlinewidth": 0,
                            "ticks": ""
                          }
                        },
                        "type": "scatterternary"
                      }
                    ],
                    "surface": [
                      {
                        "colorbar": {
                          "outlinewidth": 0,
                          "ticks": ""
                        },
                        "colorscale": [
                          [
                            0,
                            "#0d0887"
                          ],
                          [
                            0.1111111111111111,
                            "#46039f"
                          ],
                          [
                            0.2222222222222222,
                            "#7201a8"
                          ],
                          [
                            0.3333333333333333,
                            "#9c179e"
                          ],
                          [
                            0.4444444444444444,
                            "#bd3786"
                          ],
                          [
                            0.5555555555555556,
                            "#d8576b"
                          ],
                          [
                            0.6666666666666666,
                            "#ed7953"
                          ],
                          [
                            0.7777777777777778,
                            "#fb9f3a"
                          ],
                          [
                            0.8888888888888888,
                            "#fdca26"
                          ],
                          [
                            1,
                            "#f0f921"
                          ]
                        ],
                        "type": "surface"
                      }
                    ],
                    "table": [
                      {
                        "cells": {
                          "fill": {
                            "color": "#EBF0F8"
                          },
                          "line": {
                            "color": "white"
                          }
                        },
                        "header": {
                          "fill": {
                            "color": "#C8D4E3"
                          },
                          "line": {
                            "color": "white"
                          }
                        },
                        "type": "table"
                      }
                    ]
                  },
                  "layout": {
                    "annotationdefaults": {
                      "arrowcolor": "#2a3f5f",
                      "arrowhead": 0,
                      "arrowwidth": 1
                    },
                    "autotypenumbers": "strict",
                    "coloraxis": {
                      "colorbar": {
                        "outlinewidth": 0,
                        "ticks": ""
                      }
                    },
                    "colorscale": {
                      "diverging": [
                        [
                          0,
                          "#8e0152"
                        ],
                        [
                          0.1,
                          "#c51b7d"
                        ],
                        [
                          0.2,
                          "#de77ae"
                        ],
                        [
                          0.3,
                          "#f1b6da"
                        ],
                        [
                          0.4,
                          "#fde0ef"
                        ],
                        [
                          0.5,
                          "#f7f7f7"
                        ],
                        [
                          0.6,
                          "#e6f5d0"
                        ],
                        [
                          0.7,
                          "#b8e186"
                        ],
                        [
                          0.8,
                          "#7fbc41"
                        ],
                        [
                          0.9,
                          "#4d9221"
                        ],
                        [
                          1,
                          "#276419"
                        ]
                      ],
                      "sequential": [
                        [
                          0,
                          "#0d0887"
                        ],
                        [
                          0.1111111111111111,
                          "#46039f"
                        ],
                        [
                          0.2222222222222222,
                          "#7201a8"
                        ],
                        [
                          0.3333333333333333,
                          "#9c179e"
                        ],
                        [
                          0.4444444444444444,
                          "#bd3786"
                        ],
                        [
                          0.5555555555555556,
                          "#d8576b"
                        ],
                        [
                          0.6666666666666666,
                          "#ed7953"
                        ],
                        [
                          0.7777777777777778,
                          "#fb9f3a"
                        ],
                        [
                          0.8888888888888888,
                          "#fdca26"
                        ],
                        [
                          1,
                          "#f0f921"
                        ]
                      ],
                      "sequentialminus": [
                        [
                          0,
                          "#0d0887"
                        ],
                        [
                          0.1111111111111111,
                          "#46039f"
                        ],
                        [
                          0.2222222222222222,
                          "#7201a8"
                        ],
                        [
                          0.3333333333333333,
                          "#9c179e"
                        ],
                        [
                          0.4444444444444444,
                          "#bd3786"
                        ],
                        [
                          0.5555555555555556,
                          "#d8576b"
                        ],
                        [
                          0.6666666666666666,
                          "#ed7953"
                        ],
                        [
                          0.7777777777777778,
                          "#fb9f3a"
                        ],
                        [
                          0.8888888888888888,
                          "#fdca26"
                        ],
                        [
                          1,
                          "#f0f921"
                        ]
                      ]
                    },
                    "colorway": [
                      "#636efa",
                      "#EF553B",
                      "#00cc96",
                      "#ab63fa",
                      "#FFA15A",
                      "#19d3f3",
                      "#FF6692",
                      "#B6E880",
                      "#FF97FF",
                      "#FECB52"
                    ],
                    "font": {
                      "color": "#2a3f5f"
                    },
                    "geo": {
                      "bgcolor": "white",
                      "lakecolor": "white",
                      "landcolor": "#E5ECF6",
                      "showlakes": true,
                      "showland": true,
                      "subunitcolor": "white"
                    },
                    "hoverlabel": {
                      "align": "left"
                    },
                    "hovermode": "closest",
                    "mapbox": {
                      "style": "light"
                    },
                    "paper_bgcolor": "white",
                    "plot_bgcolor": "#E5ECF6",
                    "polar": {
                      "angularaxis": {
                        "gridcolor": "white",
                        "linecolor": "white",
                        "ticks": ""
                      },
                      "bgcolor": "#E5ECF6",
                      "radialaxis": {
                        "gridcolor": "white",
                        "linecolor": "white",
                        "ticks": ""
                      }
                    },
                    "scene": {
                      "xaxis": {
                        "backgroundcolor": "#E5ECF6",
                        "gridcolor": "white",
                        "gridwidth": 2,
                        "linecolor": "white",
                        "showbackground": true,
                        "ticks": "",
                        "zerolinecolor": "white"
                      },
                      "yaxis": {
                        "backgroundcolor": "#E5ECF6",
                        "gridcolor": "white",
                        "gridwidth": 2,
                        "linecolor": "white",
                        "showbackground": true,
                        "ticks": "",
                        "zerolinecolor": "white"
                      },
                      "zaxis": {
                        "backgroundcolor": "#E5ECF6",
                        "gridcolor": "white",
                        "gridwidth": 2,
                        "linecolor": "white",
                        "showbackground": true,
                        "ticks": "",
                        "zerolinecolor": "white"
                      }
                    },
                    "shapedefaults": {
                      "line": {
                        "color": "#2a3f5f"
                      }
                    },
                    "ternary": {
                      "aaxis": {
                        "gridcolor": "white",
                        "linecolor": "white",
                        "ticks": ""
                      },
                      "baxis": {
                        "gridcolor": "white",
                        "linecolor": "white",
                        "ticks": ""
                      },
                      "bgcolor": "#E5ECF6",
                      "caxis": {
                        "gridcolor": "white",
                        "linecolor": "white",
                        "ticks": ""
                      }
                    },
                    "title": {
                      "x": 0.05
                    },
                    "xaxis": {
                      "automargin": true,
                      "gridcolor": "white",
                      "linecolor": "white",
                      "ticks": "",
                      "title": {
                        "standoff": 15
                      },
                      "zerolinecolor": "white",
                      "zerolinewidth": 2
                    },
                    "yaxis": {
                      "automargin": true,
                      "gridcolor": "white",
                      "linecolor": "white",
                      "ticks": "",
                      "title": {
                        "standoff": 15
                      },
                      "zerolinecolor": "white",
                      "zerolinewidth": 2
                    }
                  }
                },
                "title": {
                  "text": "Wykresy kilku sinusoid"
                },
                "width": 700,
                "xaxis": {
                  "anchor": "y",
                  "domain": [
                    0,
                    1
                  ],
                  "title": {
                    "text": "x"
                  }
                },
                "yaxis": {
                  "anchor": "x",
                  "domain": [
                    0,
                    1
                  ],
                  "title": {
                    "text": "value"
                  }
                }
              }
            }
          },
          "metadata": {},
          "output_type": "display_data"
        }
      ],
      "source": [
        "x = np.linspace(0,7*np.pi, num=100)\n",
        "y1 = np.sin(x)\n",
        "y2 = np.cos(x)\n",
        "y3 = np.sin(x/2)\n",
        "df = pd.DataFrame({'x' : x, \"sinx\": y1, \"cosx\": y2, \"sin(x/2)\": y3 })\n",
        "\n",
        "\n",
        "fig = px.line(df, x = 'x', y = [\"sinx\", \"cosx\", \"sin(x/2)\"], width=700, height=500, title=r\"Wykresy kilku sinusoid\")\n",
        "\n",
        "fig.show()"
      ]
    }
  ],
  "metadata": {
    "colab": {
      "include_colab_link": true,
      "name": "Untitled4.ipynb",
      "provenance": []
    },
    "kernelspec": {
      "display_name": "Python 3",
      "name": "python3"
    },
    "language_info": {
      "codemirror_mode": {
        "name": "ipython",
        "version": 3
      },
      "file_extension": ".py",
      "mimetype": "text/x-python",
      "name": "python",
      "nbconvert_exporter": "python",
      "pygments_lexer": "ipython3",
      "version": "3.10.8"
    }
  },
  "nbformat": 4,
  "nbformat_minor": 0
}
