{
 "cells": [
  {
   "cell_type": "markdown",
   "metadata": {
    "collapsed": true
   },
   "source": [
    "# PyFormat\n",
    "\n",
    "W Pythonie mamy dostępne zaawansowane metody wypisywania i formatowania ciągów znaków tj. Stringów.\n",
    "\n",
    "Np. aby wypisać liczby w postaci binarnej\n",
    "\n"
   ]
  },
  {
   "cell_type": "code",
   "execution_count": 1,
   "metadata": {},
   "outputs": [
    {
     "name": "stdout",
     "output_type": "stream",
     "text": [
      "0\n",
      "1\n",
      "10\n",
      "11\n",
      "100\n",
      "101\n",
      "110\n",
      "111\n",
      "1000\n",
      "1001\n"
     ]
    }
   ],
   "source": [
    "for i in range(10):\n",
    "    print(\"{0:b}\".format(i))"
   ]
  },
  {
   "cell_type": "markdown",
   "metadata": {},
   "source": [
    "Lub w postaci szestnastkowej (HEXy)"
   ]
  },
  {
   "cell_type": "code",
   "execution_count": 3,
   "metadata": {},
   "outputs": [
    {
     "name": "stdout",
     "output_type": "stream",
     "text": [
      "00\n",
      "01\n",
      "02\n",
      "03\n",
      "04\n",
      "05\n",
      "06\n",
      "07\n",
      "08\n",
      "09\n",
      "0A\n",
      "0B\n",
      "0C\n",
      "0D\n",
      "0E\n",
      "0F\n",
      "10\n",
      "11\n",
      "12\n",
      "13\n",
      "14\n",
      "15\n",
      "16\n",
      "17\n",
      "18\n",
      "19\n",
      "1A\n",
      "1B\n",
      "1C\n",
      "1D\n",
      "1E\n",
      "1F\n",
      "20\n",
      "21\n",
      "22\n",
      "23\n",
      "24\n",
      "25\n",
      "26\n",
      "27\n",
      "28\n",
      "29\n",
      "2A\n",
      "2B\n",
      "2C\n",
      "2D\n",
      "2E\n",
      "2F\n",
      "30\n",
      "31\n",
      "32\n",
      "33\n",
      "34\n",
      "35\n",
      "36\n",
      "37\n",
      "38\n",
      "39\n",
      "3A\n",
      "3B\n",
      "3C\n",
      "3D\n",
      "3E\n",
      "3F\n",
      "40\n",
      "41\n",
      "42\n",
      "43\n",
      "44\n",
      "45\n",
      "46\n",
      "47\n",
      "48\n",
      "49\n",
      "4A\n",
      "4B\n",
      "4C\n",
      "4D\n",
      "4E\n",
      "4F\n",
      "50\n",
      "51\n",
      "52\n",
      "53\n",
      "54\n",
      "55\n",
      "56\n",
      "57\n",
      "58\n",
      "59\n",
      "5A\n",
      "5B\n",
      "5C\n",
      "5D\n",
      "5E\n",
      "5F\n",
      "60\n",
      "61\n",
      "62\n",
      "63\n"
     ]
    }
   ],
   "source": [
    "for i in range(100):\n",
    "    print(\"{0:02X}\".format(i))"
   ]
  },
  {
   "cell_type": "markdown",
   "metadata": {},
   "source": [
    "Inne przykłady składania PyFormat"
   ]
  },
  {
   "cell_type": "code",
   "execution_count": 7,
   "metadata": {},
   "outputs": [
    {
     "name": "stdout",
     "output_type": "stream",
     "text": [
      "one two\n",
      "1 2\n",
      "two one\n",
      "      test\n",
      "test      \n",
      "test______\n",
      "   test   \n",
      " zip  \n",
      "xylop\n",
      "xylop     \n"
     ]
    }
   ],
   "source": [
    "print('{} {}'.format('one', 'two'))\n",
    "print('{} {}'.format(1, 2))\n",
    "print('{1} {0}'.format('one', 'two')) \n",
    "print('{:>10}'.format('test'))\n",
    "print('{:10}'.format('test'))\n",
    "print('{:_<10}'.format('test'))\n",
    "print('{:^10}'.format('test'))\n",
    "print('{:^6}'.format('zip'))\n",
    "print('{:.5}'.format('xylophone'))\n",
    "print('{:10.5}'.format('xylophone'))"
   ]
  },
  {
   "cell_type": "markdown",
   "metadata": {},
   "source": [
    "Dla liczb natomiast mamy jeszcze dostępne formatowania"
   ]
  },
  {
   "cell_type": "code",
   "execution_count": 9,
   "metadata": {},
   "outputs": [
    {
     "name": "stdout",
     "output_type": "stream",
     "text": [
      "42\n",
      "3.141593\n",
      "  42\n",
      "003.14\n",
      "0042\n",
      "+42\n",
      "-23\n",
      " 42\n",
      "+  23\n",
      "Hodor Hodor!\n",
      "Hodor Hodor!\n",
      "Jean-Luc Picard\n",
      "23 42\n",
      "2001-02-03 04:05\n"
     ]
    }
   ],
   "source": [
    "print('{:d}'.format(42))\n",
    "print('{:f}'.format(3.141592653589793))\n",
    "print('{:4d}'.format(42))\n",
    "print('{:06.2f}'.format(3.141592653589793))\n",
    "print('{:04d}'.format(42))\n",
    "print('{:+d}'.format(42))\n",
    "print('{: d}'.format((- 23)))\n",
    "print('{: d}'.format(42))\n",
    "print('{:=+5d}'.format(23))\n",
    "data = {'first': 'Hodor', 'last': 'Hodor!'}\n",
    "print('{first} {last}'.format(**data))\n",
    "print('{first} {last}'.format(first='Hodor', last='Hodor!'))\n",
    "person = {'first': 'Jean-Luc', 'last': 'Picard'}\n",
    "print('{p[first]} {p[last]}'.format(p=person))\n",
    "data = [4, 8, 15, 16, 23, 42]\n",
    "print('{d[4]} {d[5]}'.format(d=data))\n",
    "from datetime import datetime\n",
    "print('{:%Y-%m-%d %H:%M}'.format(datetime(2001, 2, 3, 4, 5)))"
   ]
  },
  {
   "cell_type": "markdown",
   "metadata": {},
   "source": [
    "Więcej przykładów na [stronie](https://pyformat.info/#conversion_flags)"
   ]
  },
  {
   "cell_type": "code",
   "execution_count": null,
   "metadata": {},
   "outputs": [],
   "source": []
  }
 ],
 "metadata": {
  "kernelspec": {
   "display_name": "Python 2",
   "language": "python",
   "name": "python2"
  },
  "language_info": {
   "codemirror_mode": {
    "name": "ipython",
    "version": 3
   },
   "file_extension": ".py",
   "mimetype": "text/x-python",
   "name": "python",
   "nbconvert_exporter": "python",
   "pygments_lexer": "ipython3",
   "version": "3.6.8"
  }
 },
 "nbformat": 4,
 "nbformat_minor": 1
}
